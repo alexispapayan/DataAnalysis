{
 "cells": [
  {
   "cell_type": "code",
   "execution_count": 55,
   "metadata": {
    "collapsed": false
   },
   "outputs": [],
   "source": [
    "from __future__ import print_function\n",
    "from torch import Tensor\n"
   ]
  },
  {
   "cell_type": "code",
   "execution_count": 57,
   "metadata": {
    "collapsed": false
   },
   "outputs": [
    {
     "data": {
      "text/plain": [
       "\n",
       " 1.1240\n",
       " 1.1240\n",
       " 1.1240\n",
       " 1.1240\n",
       " 1.1240\n",
       "[torch.FloatTensor of size 5]"
      ]
     },
     "execution_count": 57,
     "metadata": {},
     "output_type": "execute_result"
    }
   ],
   "source": [
    "x=Tensor(5)\n",
    "x.size()\n",
    "x.fill_(1.124)"
   ]
  },
  {
   "cell_type": "code",
   "execution_count": 101,
   "metadata": {
    "collapsed": false
   },
   "outputs": [
    {
     "data": {
      "text/plain": [
       "0.0"
      ]
     },
     "execution_count": 101,
     "metadata": {},
     "output_type": "execute_result"
    }
   ],
   "source": [
    "x.sum()\n",
    "x.mean()\n",
    "x.std()"
   ]
  },
  {
   "cell_type": "markdown",
   "metadata": {},
   "source": []
  },
  {
   "cell_type": "code",
   "execution_count": 103,
   "metadata": {
    "collapsed": false
   },
   "outputs": [
    {
     "data": {
      "text/plain": [
       "\n",
       " 0  0  1  1  0\n",
       " 0  0  1  1  0\n",
       " 0  0  1  1  0\n",
       " 0  0  1  1  0\n",
       "[torch.FloatTensor of size 4x5]"
      ]
     },
     "execution_count": 103,
     "metadata": {},
     "output_type": "execute_result"
    }
   ],
   "source": [
    "\n",
    "a=Tensor(4,5).zero_()\n",
    "a\n",
    "a.narrow(1,2,2).fill_(1.0)\n",
    "a"
   ]
  },
  {
   "cell_type": "code",
   "execution_count": 110,
   "metadata": {
    "collapsed": false
   },
   "outputs": [
    {
     "data": {
      "text/plain": [
       "\n",
       " 0.0503\n",
       " 0.4455\n",
       "-0.7804\n",
       "[torch.FloatTensor of size 3]"
      ]
     },
     "execution_count": 110,
     "metadata": {},
     "output_type": "execute_result"
    }
   ],
   "source": [
    "## Eigen decomposition ##\n",
    "y=Tensor(3).normal_()\n",
    "y"
   ]
  },
  {
   "cell_type": "code",
   "execution_count": 118,
   "metadata": {
    "collapsed": false
   },
   "outputs": [
    {
     "data": {
      "text/plain": [
       "\n",
       " 0.0503\n",
       " 0.4455\n",
       "-0.7804\n",
       "[torch.FloatTensor of size 3x1]"
      ]
     },
     "execution_count": 118,
     "metadata": {},
     "output_type": "execute_result"
    }
   ],
   "source": [
    "m=Tensor(3,3).normal_()\n",
    "\n",
    "q,_=torch.gels(y,m)## solve MQ-Y\n",
    "torch.mm(m,q)\n"
   ]
  },
  {
   "cell_type": "code",
   "execution_count": 78,
   "metadata": {
    "collapsed": false
   },
   "outputs": [
    {
     "data": {
      "text/plain": [
       "[<matplotlib.lines.Line2D at 0x17e0a6e5940>]"
      ]
     },
     "execution_count": 78,
     "metadata": {},
     "output_type": "execute_result"
    },
    {
     "data": {
      "image/png": "[encoded data removed]",
      "text/plain": [
       "<matplotlib.figure.Figure at 0x17e0a7fe908>"
      ]
     },
     "metadata": {},
     "output_type": "display_data"
    }
   ],
   "source": [
    "##linear regression##\n",
    "import torch,numpy\n",
    "from matplotlib import pyplot as plt\n",
    "%matplotlib inline\n",
    "nb_of_observations=100\n",
    "X_coords=numpy.linspace(2,1,nb_of_observations)\n",
    "Y_coords=numpy.random.normal(3,0.003,nb_of_observations)\n",
    "plt.scatter(X_coords,Y_coords)\n",
    "X,Y=torch.Tensor(len(X_coords),2),torch.Tensor(len(Y_coords))\n",
    "X[:,0]=torch.from_numpy(X_coords[:])\n",
    "X[:,1]=1\n",
    "Y[:]=torch.from_numpy(Y_coords[:])\n",
    "alpha,_=torch.gels(Y,X)\n",
    "a,b=alpha[0,0],alpha[1,0]\n",
    "plt.plot(X_coords,a*X_coords+b,'r')"
   ]
  },
  {
   "cell_type": "code",
   "execution_count": 236,
   "metadata": {
    "collapsed": false
   },
   "outputs": [],
   "source": [
    "from torch import Tensor\n",
    "\n",
    "y=torch.ByteTensor(10)\n",
    "u=y.new(3).fill_(343)\n",
    "z=torch.eye(4)\n"
   ]
  },
  {
   "cell_type": "code",
   "execution_count": 302,
   "metadata": {
    "collapsed": false
   },
   "outputs": [
    {
     "data": {
      "text/plain": [
       "\n",
       " 1  2\n",
       " 9  2\n",
       " 2  3\n",
       "[torch.LongTensor of size 3x2]"
      ]
     },
     "execution_count": 302,
     "metadata": {},
     "output_type": "execute_result"
    }
   ],
   "source": [
    "X=torch.LongTensor([[1,2,9],[2,2,3]])\n",
    "X\n",
    "X.view(3,-1)"
   ]
  },
  {
   "cell_type": "code",
   "execution_count": 79,
   "metadata": {
    "collapsed": false
   },
   "outputs": [
    {
     "name": "stdout",
     "output_type": "stream",
     "text": [
      "Files already downloaded and verified\n",
      "<class 'torch.ByteTensor'> torch.Size([50000, 3, 32, 32]) 0 255\n"
     ]
    }
   ],
   "source": [
    "\n",
    "filepath='S:\\\\'\n",
    "\n",
    "import  torch\n",
    "import  torchvision\n",
    "# Get the  CIFAR10  train  images , download  if  necessary\n",
    "cifar = torchvision.datasets.CIFAR10(filepath , train=True , download=True)\n",
    "# Converts  the  numpy  tensor  into a PyTorch  one\n",
    "x = torch.from_numpy(cifar.train_data).transpose (1, 3).transpose (2, 3)\n",
    "# Prints  out  some  info\n",
    "print(str(type(x)), x.size(), x.min(), x.max())"
   ]
  },
  {
   "cell_type": "code",
   "execution_count": 80,
   "metadata": {
    "collapsed": false
   },
   "outputs": [],
   "source": [
    "x=x.narrow(0,0,48).float().div(255)\n",
    "torchvision.utils.save_image(x,'images-cifar-4x12.png',nrow=12)\n"
   ]
  },
  {
   "cell_type": "code",
   "execution_count": 108,
   "metadata": {
    "collapsed": false
   },
   "outputs": [
    {
     "ename": "AttributeError",
     "evalue": "'torch.FloatTensor' object has no attribute 'normal'",
     "output_type": "error",
     "traceback": [
      "\u001b[0;31m---------------------------------------------------------------------------\u001b[0m",
      "\u001b[0;31mAttributeError\u001b[0m                            Traceback (most recent call last)",
      "\u001b[0;32m<ipython-input-108-503eae5bdf88>\u001b[0m in \u001b[0;36m<module>\u001b[0;34m()\u001b[0m\n\u001b[1;32m      1\u001b[0m \u001b[0mtorchvision\u001b[0m\u001b[1;33m.\u001b[0m\u001b[0mutils\u001b[0m\u001b[1;33m.\u001b[0m\u001b[0msave_image\u001b[0m\u001b[1;33m(\u001b[0m\u001b[0mx\u001b[0m\u001b[1;33m,\u001b[0m\u001b[1;34m'images-cifar-4x12.png'\u001b[0m\u001b[1;33m,\u001b[0m\u001b[0mnrow\u001b[0m\u001b[1;33m=\u001b[0m\u001b[1;36m12\u001b[0m\u001b[1;33m)\u001b[0m\u001b[1;33m\u001b[0m\u001b[0m\n\u001b[0;32m----> 2\u001b[0;31m \u001b[0mp\u001b[0m\u001b[1;33m=\u001b[0m\u001b[0mtorch\u001b[0m\u001b[1;33m.\u001b[0m\u001b[0mTensor\u001b[0m\u001b[1;33m(\u001b[0m\u001b[1;36m3\u001b[0m\u001b[1;33m,\u001b[0m\u001b[1;36m4\u001b[0m\u001b[1;33m)\u001b[0m\u001b[1;33m.\u001b[0m\u001b[0mnormal\u001b[0m\u001b[1;33m(\u001b[0m\u001b[1;33m)\u001b[0m\u001b[1;33m\u001b[0m\u001b[0m\n\u001b[0m",
      "\u001b[0;31mAttributeError\u001b[0m: 'torch.FloatTensor' object has no attribute 'normal'"
     ]
    }
   ],
   "source": [
    "torchvision.utils.save_image(x,'images-cifar-4x12.png',nrow=12)\n"
   ]
  },
  {
   "cell_type": "code",
   "execution_count": 122,
   "metadata": {
    "collapsed": false
   },
   "outputs": [
    {
     "name": "stdout",
     "output_type": "stream",
     "text": [
      "\n",
      "-1.0289  0.7040 -0.5979  1.5806\n",
      "-0.0314  0.1857  0.5200  1.9723\n",
      "-3.5661 -0.5836  0.4526 -0.3741\n",
      "[torch.FloatTensor of size 3x4]\n",
      "\n"
     ]
    }
   ],
   "source": [
    "p=torch.Tensor(3,4).normal_()\n",
    "print(p)\n"
   ]
  },
  {
   "cell_type": "code",
   "execution_count": 165,
   "metadata": {
    "collapsed": false
   },
   "outputs": [
    {
     "name": "stdout",
     "output_type": "stream",
     "text": [
      "Help on built-in function narrow:\n",
      "\n",
      "narrow(...) method of torch.FloatTensor instance\n",
      "    narrow(dimension, start, length) -> Tensor\n",
      "    \n",
      "    Returns a new tensor that is a narrowed version of this tensor. The dimension\n",
      "    :attr:`dim` is narrowed from :attr:`start` to :attr:`start + length`. The\n",
      "    returned tensor and this tensor share the same underlying storage.\n",
      "    \n",
      "    Args:\n",
      "        dimension (int): The dimension along which to narrow\n",
      "        start (int): The starting dimension\n",
      "        length (int):\n",
      "    \n",
      "    Example:\n",
      "        >>> x = torch.Tensor([[1, 2, 3], [4, 5, 6], [7, 8, 9]])\n",
      "        >>> x.narrow(0, 0, 2)\n",
      "         1  2  3\n",
      "         4  5  6\n",
      "        [torch.FloatTensor of size 2x3]\n",
      "        >>> x.narrow(1, 1, 2)\n",
      "         2  3\n",
      "         5  6\n",
      "         8  9\n",
      "        [torch.FloatTensor of size 3x2]\n",
      "\n"
     ]
    }
   ],
   "source": [
    "help(p.narrow)"
   ]
  },
  {
   "cell_type": "code",
   "execution_count": 3,
   "metadata": {
    "collapsed": false
   },
   "outputs": [
    {
     "data": {
      "text/plain": [
       "\n",
       " 2  3  4  5\n",
       " 3  4  5  6\n",
       " 4  5  6  7\n",
       " 5  6  7  8\n",
       "[torch.FloatTensor of size 4x4]"
      ]
     },
     "execution_count": 3,
     "metadata": {},
     "output_type": "execute_result"
    }
   ],
   "source": [
    "import torch\n",
    "from torch import Tensor\n",
    "a=torch.FloatTensor([[1],[2],[3],[4]])\n",
    "b=torch.FloatTensor([1,2,3,4])\n",
    "c=a+b\n",
    "c"
   ]
  },
  {
   "cell_type": "code",
   "execution_count": 6,
   "metadata": {
    "collapsed": false
   },
   "outputs": [],
   "source": [
    "## one perceptron##\n",
    "\n",
    "def train_perceptron(x,y,nb_epochs_max):\n",
    "    w=Tensor(x.size(1)).zero_()\n",
    "    \n",
    "    for e in range(nb_epochs_max):\n",
    "        nb_changes=0\n",
    "        for i in range(x.size(0)):\n",
    "            if x[i].dot(w)*y[i]<=0:\n",
    "                w=w+y[i]*x[i]\n",
    "                nb_changes+=1\n",
    "        if nb_changes==0:break\n",
    "    return w\n",
    "        \n",
    "        \n",
    "\n"
   ]
  },
  {
   "cell_type": "code",
   "execution_count": 86,
   "metadata": {
    "collapsed": false
   },
   "outputs": [
    {
     "data": {
      "text/plain": [
       "52.61581802368164"
      ]
     },
     "execution_count": 86,
     "metadata": {},
     "output_type": "execute_result"
    }
   ],
   "source": [
    "X=Tensor(32,2).normal_()\n",
    "Y=[1  if i[0]<=i[1] else -1 for  i in X]\n",
    "weights=train_perceptron(X,Y,1000)\n",
    "\n",
    "\n",
    "x_test=Tensor([12, 32])\n",
    "weights.dot(x_test)"
   ]
  },
  {
   "cell_type": "code",
   "execution_count": 107,
   "metadata": {
    "collapsed": false
   },
   "outputs": [
    {
     "data": {
      "text/plain": [
       "\n",
       "  5   6\n",
       "  7   8\n",
       "  9  10\n",
       " 11  12\n",
       "[torch.FloatTensor of size 4x2]"
      ]
     },
     "execution_count": 107,
     "metadata": {},
     "output_type": "execute_result"
    }
   ],
   "source": [
    "q=torch.arange(20).storage()\n",
    "q\n",
    "x = torch.Tensor ().set_(q, storage_offset = 5, size = (4, 2), stride = (2, 1))\n",
    "x"
   ]
  },
  {
   "cell_type": "code",
   "execution_count": 31,
   "metadata": {
    "collapsed": false
   },
   "outputs": [
    {
     "ename": "TypeError",
     "evalue": "add() missing 1 required positional argument: 'a'",
     "output_type": "error",
     "traceback": [
      "\u001b[0;31m---------------------------------------------------------------------------\u001b[0m",
      "\u001b[0;31mTypeError\u001b[0m                                 Traceback (most recent call last)",
      "\u001b[0;32m<ipython-input-31-587186cca1a0>\u001b[0m in \u001b[0;36m<module>\u001b[0;34m()\u001b[0m\n\u001b[1;32m     13\u001b[0m \u001b[1;33m\u001b[0m\u001b[0m\n\u001b[1;32m     14\u001b[0m \u001b[1;33m\u001b[0m\u001b[0m\n\u001b[0;32m---> 15\u001b[0;31m \u001b[0madd\u001b[0m\u001b[1;33m(\u001b[0m\u001b[1;33m)\u001b[0m\u001b[1;33m\u001b[0m\u001b[0m\n\u001b[0m",
      "\u001b[0;32m<ipython-input-31-587186cca1a0>\u001b[0m in \u001b[0;36mwrapper\u001b[0;34m(*args, **kwargs)\u001b[0m\n\u001b[1;32m      1\u001b[0m \u001b[1;32mdef\u001b[0m \u001b[0mmultiply\u001b[0m\u001b[1;33m(\u001b[0m\u001b[0mfunc\u001b[0m\u001b[1;33m)\u001b[0m\u001b[1;33m:\u001b[0m\u001b[1;33m\u001b[0m\u001b[0m\n\u001b[1;32m      2\u001b[0m     \u001b[1;32mdef\u001b[0m \u001b[0mwrapper\u001b[0m\u001b[1;33m(\u001b[0m\u001b[1;33m*\u001b[0m\u001b[0margs\u001b[0m\u001b[1;33m,\u001b[0m\u001b[1;33m**\u001b[0m\u001b[0mkwargs\u001b[0m\u001b[1;33m)\u001b[0m\u001b[1;33m:\u001b[0m\u001b[1;33m\u001b[0m\u001b[0m\n\u001b[0;32m----> 3\u001b[0;31m         \u001b[1;32mreturn\u001b[0m \u001b[1;36m2\u001b[0m\u001b[1;33m*\u001b[0m\u001b[0mfunc\u001b[0m\u001b[1;33m(\u001b[0m\u001b[1;33m*\u001b[0m\u001b[0margs\u001b[0m\u001b[1;33m,\u001b[0m\u001b[1;33m**\u001b[0m\u001b[0mkwargs\u001b[0m\u001b[1;33m)\u001b[0m\u001b[1;33m\u001b[0m\u001b[0m\n\u001b[0m\u001b[1;32m      4\u001b[0m     \u001b[1;32mreturn\u001b[0m \u001b[0mwrapper\u001b[0m\u001b[1;33m\u001b[0m\u001b[0m\n\u001b[1;32m      5\u001b[0m \u001b[1;33m\u001b[0m\u001b[0m\n",
      "\u001b[0;31mTypeError\u001b[0m: add() missing 1 required positional argument: 'a'"
     ]
    }
   ],
   "source": [
    "def multiply(func):\n",
    "    def wrapper(*args,**kwargs):\n",
    "        return 2*func(*args,**kwargs)\n",
    "    return wrapper\n",
    "\n",
    "\n",
    "@multiply\n",
    "def add(a):\n",
    "    return a+1\n",
    "\n",
    "def add2(a):\n",
    "    return a+2\n",
    "\n",
    "\n",
    "add()\n"
   ]
  }
 ],
 "metadata": {
  "kernelspec": {
   "display_name": "Python 3",
   "language": "python",
   "name": "python3"
  },
  "language_info": {
   "codemirror_mode": {
    "name": "ipython",
    "version": 3
   },
   "file_extension": ".py",
   "mimetype": "text/x-python",
   "name": "python",
   "nbconvert_exporter": "python",
   "pygments_lexer": "ipython3",
   "version": "3.6.1"
  }
 },
 "nbformat": 4,
 "nbformat_minor": 2
}
