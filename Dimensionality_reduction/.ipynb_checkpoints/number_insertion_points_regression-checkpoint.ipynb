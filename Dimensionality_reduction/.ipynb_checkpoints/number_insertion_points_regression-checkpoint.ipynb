{
 "cells": [
  {
   "cell_type": "code",
   "execution_count": 1,
   "metadata": {
    "collapsed": true
   },
   "outputs": [],
   "source": [
    "from matplotlib import pyplot as plt\n",
    "from matplotlib.pyplot import triplot\n",
    "from matplotlib.offsetbox import (TextArea ,DrawingArea, OffsetImage,\n",
    "                                  AnnotationBbox)\n",
    "\n",
    "from matplotlib.cbook import get_sample_data\n",
    "\n",
    "\n",
    "import numpy as np\n",
    "\n",
    "\n",
    "%matplotlib inline"
   ]
  },
  {
   "cell_type": "code",
   "execution_count": 11,
   "metadata": {
    "collapsed": true
   },
   "outputs": [],
   "source": [
    "P1=[0,0]\n",
    "triangle=np.array([[1,3],[3,2],[1,5]])"
   ]
  },
  {
   "cell_type": "code",
   "execution_count": 15,
   "metadata": {},
   "outputs": [
    {
     "data": {
      "text/plain": [
       "(-1, 1)"
      ]
     },
     "execution_count": 15,
     "metadata": {},
     "output_type": "execute_result"
    },
    {
     "data": {
      "image/png": "[encoded data removed]",
      "text/plain": [
       "<matplotlib.figure.Figure at 0x1c0cf4804a8>"
      ]
     },
     "metadata": {},
     "output_type": "display_data"
    }
   ],
   "source": [
    "fig=plot.figure()\n",
    "ax=fig.add_subplot(111)\n",
    "ax.scatter(P1[0],P1[1])\n",
    "\n",
    "\n",
    "\n",
    "\n",
    "\n",
    "\n",
    "\n",
    "a = plt.axes([0.44,0.25, .2, .2])\n",
    "a.triplot(triangle[:,0],triangle[:,1])\n",
    "plt.xticks([])\n",
    "plt.yticks([])\n",
    "\n",
    "\n",
    "ax.set_xlim(-1,1)\n",
    "ax.set_ylim(-1,1)"
   ]
  },
  {
   "cell_type": "markdown",
   "metadata": {},
   "source": [
    "\n",
    "\n",
    "da.add_artist(a)\n",
    "\n",
    "\n",
    "ab = AnnotationBbox(da, P1,\n",
    "                        xybox=(1.02, P1[1]),\n",
    "                        xycoords='data',\n",
    "                        boxcoords=(\"axes fraction\", \"data\"),\n",
    "                        box_alignment=(0., 0.3),\n",
    "                        arrowprops=dict(arrowstyle=\"->\"))\n",
    "ax.add_artist(ab)"
   ]
  },
  {
   "cell_type": "code",
   "execution_count": 28,
   "metadata": {},
   "outputs": [
    {
     "data": {
      "text/plain": [
       "array([3, 2, 5])"
      ]
     },
     "execution_count": 28,
     "metadata": {},
     "output_type": "execute_result"
    }
   ],
   "source": [
    "triangle[:,1]"
   ]
  },
  {
   "cell_type": "code",
   "execution_count": 246,
   "metadata": {},
   "outputs": [
    {
     "ename": "TypeError",
     "evalue": "append() missing 1 required positional argument: 'values'",
     "output_type": "error",
     "traceback": [
      "\u001b[0;31m---------------------------------------------------------------------------\u001b[0m",
      "\u001b[0;31mTypeError\u001b[0m                                 Traceback (most recent call last)",
      "\u001b[0;32m<ipython-input-246-4c23d3e6eda6>\u001b[0m in \u001b[0;36m<module>\u001b[0;34m()\u001b[0m\n\u001b[1;32m      2\u001b[0m \u001b[1;32mimport\u001b[0m \u001b[0mos\u001b[0m\u001b[1;33m\u001b[0m\u001b[0m\n\u001b[1;32m      3\u001b[0m \u001b[1;32mimport\u001b[0m \u001b[0mmatplotlib\u001b[0m\u001b[1;33m.\u001b[0m\u001b[0mpyplot\u001b[0m \u001b[1;32mas\u001b[0m \u001b[0mplt\u001b[0m\u001b[1;33m\u001b[0m\u001b[0m\n\u001b[0;32m----> 4\u001b[0;31m \u001b[0mdata\u001b[0m \u001b[1;33m=\u001b[0m\u001b[0mnp\u001b[0m\u001b[1;33m.\u001b[0m\u001b[0mappend\u001b[0m\u001b[1;33m(\u001b[0m\u001b[1;33m[\u001b[0m\u001b[0mi\u001b[0m\u001b[1;33m,\u001b[0m\u001b[1;36m3\u001b[0m\u001b[1;33m]\u001b[0m \u001b[1;32mfor\u001b[0m \u001b[0mi\u001b[0m \u001b[1;32min\u001b[0m \u001b[0mrange\u001b[0m\u001b[1;33m(\u001b[0m\u001b[1;36m53\u001b[0m\u001b[1;33m)\u001b[0m\u001b[1;33m)\u001b[0m\u001b[1;33m\u001b[0m\u001b[0m\n\u001b[0m\u001b[1;32m      5\u001b[0m \u001b[0md\u001b[0m\u001b[1;33m\u001b[0m\u001b[0m\n\u001b[1;32m      6\u001b[0m \u001b[1;31m#fig1 = plt.figure()\u001b[0m\u001b[1;33m\u001b[0m\u001b[1;33m\u001b[0m\u001b[0m\n",
      "\u001b[0;31mTypeError\u001b[0m: append() missing 1 required positional argument: 'values'"
     ]
    }
   ],
   "source": [
    "from numpy import *\n",
    "import os\n",
    "import matplotlib.pyplot as plt\n",
    "data=np.empty([number,of])\n",
    "data =np.append([i,3] for i in range(53)) \n",
    "d\n",
    "#fig1 = plt.figure()\n",
    "#ax1 = fig1.add_subplot(111)\n",
    "#ax1.semilogx(data[:,1],data[:,2])\n",
    "#\n",
    "#ax2 = plt.axes([.65, .6, .2, .2], axisbg='y')\n",
    "#ax2.semilogx(data[3:8,1],data[3:8,2])\n",
    "#plt.setp(ax2, xticks=[], yticks=[])\n",
    "#\n",
    "#plt.show()"
   ]
  },
  {
   "cell_type": "code",
   "execution_count": 249,
   "metadata": {},
   "outputs": [
    {
     "data": {
      "image/png": "[encoded data removed]",
      "text/plain": [
       "<matplotlib.figure.Figure at 0x20fcf2aa3c8>"
      ]
     },
     "metadata": {},
     "output_type": "display_data"
    }
   ],
   "source": [
    "from matplotlib.transforms import Bbox, TransformedBbox, \\\n",
    "    blended_transform_factory\n",
    "\n",
    "from mpl_toolkits.axes_grid1.inset_locator import BboxPatch, BboxConnector,\\\n",
    "    BboxConnectorPatch\n",
    "\n",
    "\n",
    "def connect_bbox(bbox1, bbox2,\n",
    "                 loc1a, loc2a, loc1b, loc2b,\n",
    "                 prop_lines, prop_patches=None):\n",
    "    if prop_patches is None:\n",
    "        prop_patches = prop_lines.copy()\n",
    "        prop_patches[\"alpha\"] = prop_patches.get(\"alpha\", 1)*0.2\n",
    "\n",
    "    c1 = BboxConnector(bbox1, bbox2, loc1=loc1a, loc2=loc2a, **prop_lines)\n",
    "    c1.set_clip_on(False)\n",
    "    c2 = BboxConnector(bbox1, bbox2, loc1=loc1b, loc2=loc2b, **prop_lines)\n",
    "    c2.set_clip_on(False)\n",
    "\n",
    "    bbox_patch1 = BboxPatch(bbox1, **prop_patches)\n",
    "    bbox_patch2 = BboxPatch(bbox2, **prop_patches)\n",
    "\n",
    "    p = BboxConnectorPatch(bbox1, bbox2,\n",
    "                           # loc1a=3, loc2a=2, loc1b=4, loc2b=1,\n",
    "                           loc1a=loc1a, loc2a=loc2a, loc1b=loc1b, loc2b=loc2b,\n",
    "                           **prop_patches)\n",
    "    p.set_clip_on(False)\n",
    "\n",
    "    return c1, c2, bbox_patch1, bbox_patch2, p\n",
    "\n",
    "\n",
    "def zoom_effect01(ax1, ax2, xmin, xmax, **kwargs):\n",
    "    \"\"\"\n",
    "    ax1 : the main axes\n",
    "    ax1 : the zoomed axes\n",
    "    (xmin,xmax) : the limits of the colored area in both plot axes.\n",
    "\n",
    "    connect ax1 & ax2. The x-range of (xmin, xmax) in both axes will\n",
    "    be marked.  The keywords parameters will be used ti create\n",
    "    patches.\n",
    "\n",
    "    \"\"\"\n",
    "\n",
    "    trans1 = blended_transform_factory(ax1.transData, ax1.transAxes)\n",
    "    trans2 = blended_transform_factory(ax2.transData, ax2.transAxes)\n",
    "\n",
    "    bbox = Bbox.from_extents(xmin, 0, xmax, 1)\n",
    "\n",
    "    mybbox1 = TransformedBbox(bbox, trans1)\n",
    "    mybbox2 = TransformedBbox(bbox, trans2)\n",
    "\n",
    "    prop_patches = kwargs.copy()\n",
    "    prop_patches[\"ec\"] = \"none\"\n",
    "    prop_patches[\"alpha\"] = 0.2\n",
    "\n",
    "    c1, c2, bbox_patch1, bbox_patch2, p = \\\n",
    "        connect_bbox(mybbox1, mybbox2,\n",
    "                     loc1a=3, loc2a=2, loc1b=4, loc2b=1,\n",
    "                     prop_lines=kwargs, prop_patches=prop_patches)\n",
    "\n",
    "    ax1.add_patch(bbox_patch1)\n",
    "    ax2.add_patch(bbox_patch2)\n",
    "    ax2.add_patch(c1)\n",
    "    ax2.add_patch(c2)\n",
    "    ax2.add_patch(p)\n",
    "\n",
    "    return c1, c2, bbox_patch1, bbox_patch2, p\n",
    "\n",
    "\n",
    "def zoom_effect02(ax1, ax2, **kwargs):\n",
    "    \"\"\"\n",
    "    ax1 : the main axes\n",
    "    ax1 : the zoomed axes\n",
    "\n",
    "    Similar to zoom_effect01.  The xmin & xmax will be taken from the\n",
    "    ax1.viewLim.\n",
    "    \"\"\"\n",
    "\n",
    "    tt = ax1.transScale + (ax1.transLimits + ax2.transAxes)\n",
    "    trans = blended_transform_factory(ax2.transData, tt)\n",
    "\n",
    "    mybbox1 = ax1.bbox\n",
    "    mybbox2 = TransformedBbox(ax1.viewLim, trans)\n",
    "\n",
    "    prop_patches = kwargs.copy()\n",
    "    prop_patches[\"ec\"] = \"none\"\n",
    "    prop_patches[\"alpha\"] = 0.2\n",
    "\n",
    "    c1, c2, bbox_patch1, bbox_patch2, p = \\\n",
    "        connect_bbox(mybbox1, mybbox2,\n",
    "                     loc1a=3, loc2a=2, loc1b=4, loc2b=1,\n",
    "                     prop_lines=kwargs, prop_patches=prop_patches)\n",
    "\n",
    "    ax1.add_patch(bbox_patch1)\n",
    "    ax2.add_patch(bbox_patch2)\n",
    "    ax2.add_patch(c1)\n",
    "    ax2.add_patch(c2)\n",
    "    ax2.add_patch(p)\n",
    "\n",
    "    return c1, c2, bbox_patch1, bbox_patch2, p\n",
    "\n",
    "\n",
    "import matplotlib.pyplot as plt\n",
    "\n",
    "plt.figure(1, figsize=(5, 5))\n",
    "ax1 = plt.subplot(221)\n",
    "ax2 = plt.subplot(212)\n",
    "ax2.set_xlim(0, 1)\n",
    "ax2.set_xlim(0, 5)\n",
    "zoom_effect01(ax1, ax2, 0.2, 0.8)\n",
    "#\n",
    "#\n",
    "#ax1 = plt.subplot(222)\n",
    "#ax1.set_xlim(2, 3)\n",
    "#ax2.set_xlim(0, 5)\n",
    "#zoom_effect02(ax1, ax2)\n",
    "\n",
    "plt.show()"
   ]
  },
  {
   "cell_type": "code",
   "execution_count": 4,
   "metadata": {
    "collapsed": true
   },
   "outputs": [],
   "source": [
    "from Triangulation import *\n"
   ]
  },
  {
   "cell_type": "code",
   "execution_count": 5,
   "metadata": {
    "collapsed": true
   },
   "outputs": [],
   "source": [
    "import pygmsh"
   ]
  },
  {
   "cell_type": "code",
   "execution_count": 6,
   "metadata": {
    "collapsed": true
   },
   "outputs": [],
   "source": [
    "contour=get_reference_polygon(4,True)"
   ]
  },
  {
   "cell_type": "code",
   "execution_count": 5,
   "metadata": {},
   "outputs": [
    {
     "data": {
      "text/plain": [
       "array([[  1.00000000e+00,   0.00000000e+00],\n",
       "       [  6.12323400e-17,   1.00000000e+00],\n",
       "       [ -1.00000000e+00,   1.22464680e-16],\n",
       "       [ -1.83697020e-16,  -1.00000000e+00]])"
      ]
     },
     "execution_count": 5,
     "metadata": {},
     "output_type": "execute_result"
    }
   ],
   "source": [
    "contour"
   ]
  },
  {
   "cell_type": "code",
   "execution_count": 7,
   "metadata": {},
   "outputs": [
    {
     "data": {
      "text/plain": [
       "array([[  1.00000000e+00,   0.00000000e+00,   0.00000000e+00],\n",
       "       [  6.12323400e-17,   1.00000000e+00,   0.00000000e+00],\n",
       "       [ -1.00000000e+00,   1.22464680e-16,   0.00000000e+00],\n",
       "       [ -1.83697020e-16,  -1.00000000e+00,   0.00000000e+00]])"
      ]
     },
     "execution_count": 7,
     "metadata": {},
     "output_type": "execute_result"
    }
   ],
   "source": [
    "contour=np.hstack([contour,[[0],[0],[0],[0]]])\n",
    "contour"
   ]
  },
  {
   "cell_type": "code",
   "execution_count": 8,
   "metadata": {
    "collapsed": true
   },
   "outputs": [],
   "source": [
    "geom=pygmsh.built_in.Geometry()\n",
    "poly=geom.add_polygon(contour,lcar=0.4)\n"
   ]
  },
  {
   "cell_type": "code",
   "execution_count": 10,
   "metadata": {},
   "outputs": [
    {
     "ename": "PermissionError",
     "evalue": "[WinError 5] Access is denied",
     "output_type": "error",
     "traceback": [
      "\u001b[0;31m---------------------------------------------------------------------------\u001b[0m",
      "\u001b[0;31mPermissionError\u001b[0m                           Traceback (most recent call last)",
      "\u001b[0;32m<ipython-input-10-db0d00c443d4>\u001b[0m in \u001b[0;36m<module>\u001b[0;34m()\u001b[0m\n\u001b[0;32m----> 1\u001b[0;31m \u001b[0mpoints\u001b[0m\u001b[1;33m,\u001b[0m \u001b[0mcells\u001b[0m\u001b[1;33m,\u001b[0m \u001b[0mpoint_data\u001b[0m\u001b[1;33m,\u001b[0m \u001b[0mcell_data\u001b[0m\u001b[1;33m,\u001b[0m \u001b[0mfield_data\u001b[0m \u001b[1;33m=\u001b[0m \u001b[0mpygmsh\u001b[0m\u001b[1;33m.\u001b[0m\u001b[0mhelpers\u001b[0m\u001b[1;33m.\u001b[0m\u001b[0mgenerate_mesh\u001b[0m\u001b[1;33m(\u001b[0m\u001b[0mgeom\u001b[0m\u001b[1;33m,\u001b[0m\u001b[0mgmsh_path\u001b[0m\u001b[1;33m=\u001b[0m\u001b[1;34m\"D:\\\\Users\\\\papagian\\\\gmsh-3.0.6-Windows64\"\u001b[0m\u001b[1;33m)\u001b[0m\u001b[1;33m\u001b[0m\u001b[0m\n\u001b[0m",
      "\u001b[0;32mD:\\Users\\papagian\\AppData\\Local\\Continuum\\Anaconda3\\lib\\site-packages\\pygmsh\\helpers.py\u001b[0m in \u001b[0;36mgenerate_mesh\u001b[0;34m(geo_object, verbose, dim, prune_vertices, remove_faces, gmsh_path, extra_gmsh_arguments, geo_filename, fast_conversion)\u001b[0m\n\u001b[1;32m    136\u001b[0m     p = subprocess.Popen(\n\u001b[1;32m    137\u001b[0m         \u001b[1;33m[\u001b[0m\u001b[0mgmsh_executable\u001b[0m\u001b[1;33m]\u001b[0m \u001b[1;33m+\u001b[0m \u001b[0margs\u001b[0m\u001b[1;33m,\u001b[0m\u001b[1;33m\u001b[0m\u001b[0m\n\u001b[0;32m--> 138\u001b[0;31m         \u001b[0mstdout\u001b[0m\u001b[1;33m=\u001b[0m\u001b[0msubprocess\u001b[0m\u001b[1;33m.\u001b[0m\u001b[0mPIPE\u001b[0m\u001b[1;33m,\u001b[0m \u001b[0mstderr\u001b[0m\u001b[1;33m=\u001b[0m\u001b[0msubprocess\u001b[0m\u001b[1;33m.\u001b[0m\u001b[0mSTDOUT\u001b[0m\u001b[1;33m\u001b[0m\u001b[0m\n\u001b[0m\u001b[1;32m    139\u001b[0m         )\n\u001b[1;32m    140\u001b[0m     \u001b[1;32mif\u001b[0m \u001b[0mverbose\u001b[0m\u001b[1;33m:\u001b[0m\u001b[1;33m\u001b[0m\u001b[0m\n",
      "\u001b[0;32mD:\\Users\\papagian\\AppData\\Local\\Continuum\\Anaconda3\\lib\\subprocess.py\u001b[0m in \u001b[0;36m__init__\u001b[0;34m(self, args, bufsize, executable, stdin, stdout, stderr, preexec_fn, close_fds, shell, cwd, env, universal_newlines, startupinfo, creationflags, restore_signals, start_new_session, pass_fds, encoding, errors)\u001b[0m\n\u001b[1;32m    705\u001b[0m                                 \u001b[0mc2pread\u001b[0m\u001b[1;33m,\u001b[0m \u001b[0mc2pwrite\u001b[0m\u001b[1;33m,\u001b[0m\u001b[1;33m\u001b[0m\u001b[0m\n\u001b[1;32m    706\u001b[0m                                 \u001b[0merrread\u001b[0m\u001b[1;33m,\u001b[0m \u001b[0merrwrite\u001b[0m\u001b[1;33m,\u001b[0m\u001b[1;33m\u001b[0m\u001b[0m\n\u001b[0;32m--> 707\u001b[0;31m                                 restore_signals, start_new_session)\n\u001b[0m\u001b[1;32m    708\u001b[0m         \u001b[1;32mexcept\u001b[0m\u001b[1;33m:\u001b[0m\u001b[1;33m\u001b[0m\u001b[0m\n\u001b[1;32m    709\u001b[0m             \u001b[1;31m# Cleanup if the child failed starting.\u001b[0m\u001b[1;33m\u001b[0m\u001b[1;33m\u001b[0m\u001b[0m\n",
      "\u001b[0;32mD:\\Users\\papagian\\AppData\\Local\\Continuum\\Anaconda3\\lib\\subprocess.py\u001b[0m in \u001b[0;36m_execute_child\u001b[0;34m(self, args, executable, preexec_fn, close_fds, pass_fds, cwd, env, startupinfo, creationflags, shell, p2cread, p2cwrite, c2pread, c2pwrite, errread, errwrite, unused_restore_signals, unused_start_new_session)\u001b[0m\n\u001b[1;32m    988\u001b[0m                                          \u001b[0menv\u001b[0m\u001b[1;33m,\u001b[0m\u001b[1;33m\u001b[0m\u001b[0m\n\u001b[1;32m    989\u001b[0m                                          \u001b[0mcwd\u001b[0m\u001b[1;33m,\u001b[0m\u001b[1;33m\u001b[0m\u001b[0m\n\u001b[0;32m--> 990\u001b[0;31m                                          startupinfo)\n\u001b[0m\u001b[1;32m    991\u001b[0m             \u001b[1;32mfinally\u001b[0m\u001b[1;33m:\u001b[0m\u001b[1;33m\u001b[0m\u001b[0m\n\u001b[1;32m    992\u001b[0m                 \u001b[1;31m# Child is launched. Close the parent's copy of those pipe\u001b[0m\u001b[1;33m\u001b[0m\u001b[1;33m\u001b[0m\u001b[0m\n",
      "\u001b[0;31mPermissionError\u001b[0m: [WinError 5] Access is denied"
     ]
    }
   ],
   "source": [
    "points, cells, point_data, cell_data, field_data = pygmsh.helpers.generate_mesh(geom,gmsh_path=\"D:\\\\Users\\\\papagian\\\\gmsh-3.0.6-Windows64\")"
   ]
  },
  {
   "cell_type": "code",
   "execution_count": null,
   "metadata": {
    "collapsed": true
   },
   "outputs": [],
   "source": []
  }
 ],
 "metadata": {
  "kernelspec": {
   "display_name": "Python 3",
   "language": "python",
   "name": "python3"
  },
  "language_info": {
   "codemirror_mode": {
    "name": "ipython",
    "version": 3
   },
   "file_extension": ".py",
   "mimetype": "text/x-python",
   "name": "python",
   "nbconvert_exporter": "python",
   "pygments_lexer": "ipython3",
   "version": "3.6.1"
  }
 },
 "nbformat": 4,
 "nbformat_minor": 2
}
