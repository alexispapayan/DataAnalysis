{
 "cells": [
  {
   "cell_type": "code",
   "execution_count": 272,
   "metadata": {
    "collapsed": false
   },
   "outputs": [],
   "source": [
    "\n",
    "import scipy.spatial\n",
    "from sklearn import manifold\n",
    "from sklearn.decomposition import PCA,KernelPCA\n",
    "from sklearn.preprocessing import StandardScaler\n",
    "\n",
    "import numpy as np\n",
    "\n",
    "import os\n",
    "\n",
    "from itertools import permutations\n",
    "from matplotlib import pyplot as plt\n",
    "from matplotlib.pyplot import triplot\n",
    "from numpy import pi,sin,cos,tan,sqrt\n",
    "from IPython.core.debugger import Tracer\n",
    "\n",
    "import triangle as tri\n",
    "import triangle\n",
    "import triangle.plot as plot\n",
    "\n",
    "\n",
    "from scipy.spatial import ConvexHull\n",
    "from matplotlib.path import Path\n",
    "\n",
    "import pickle\n",
    "\n",
    "\n",
    "\n",
    "import torch\n",
    "import torch.optim as optim\n",
    "\n",
    "import torch.nn as nn\n",
    "from torch.nn import init\n",
    "from torch.autograd import Variable\n",
    "import torch.nn.functional as F\n",
    "\n",
    "\n",
    "\n",
    "import cTimer as ctimer\n",
    "import time\n",
    "from timeit import default_timer as timer\n",
    "import pickle\n",
    "\n",
    "%matplotlib inline\n",
    "\n"
   ]
  },
  {
   "cell_type": "raw",
   "metadata": {},
   "source": [
    "  ======================================\n",
    "  Main idea of finding the connectivity:\n",
    "  ======================================\n",
    "  \n",
    "1) Build set of elements and edges\n",
    "2) Sort edges according to maximum quality\n",
    "3) for each pair of the edge put into set of edges  of the maximum quality\n",
    "4) Put also to the set of elements the element that is formed\n",
    "5) Proceed to the next edge and check if the edge formed from each pair already exist\n",
    "6) If a pair of edges already exists proceed to next edge\n",
    "7) If yes proceed to the next element\n",
    "\n",
    "(*) Add function computing the quality of the mesh given that every point of a contour is connected \n",
    "    to a point of the mesh -> normalize the qualities for each point -> Add as parameter to neural network"
   ]
  },
  {
   "cell_type": "raw",
   "metadata": {},
   "source": [
    "                                             Issues:\n",
    "\n",
    "(1) Avoiding the consideration of triangles that are invalid ( by setting quality to 0):\n",
    "     \n",
    "     1st Approach (Failed):\n",
    "     See if formed triangle contains points of the polygon\n",
    "     \n",
    "     2nd Approach :\n",
    "     Calculate the angles of the polygon. Once that is done, any edge departing from a point in the polygon\n",
    "     can have a greater angle from the departed edge greater than the edge has with the pre-existing edges\n",
    "     \n",
    "     \n",
    "(2) Avoiding interseactions when creating elements:\n",
    "\n",
    "    Here the main idea is whenever a new element is created to check if it includes a forabideen vertex. If it does \n",
    "    the new element can't be formed and we porceed to check the connection with the second smallest quality.\n",
    "    \n",
    "   ==========================================================================\n",
    "      How to check if the vertex is locked ( So no new connections with it.)\n",
    "   ==========================================================================\n",
    "    \n",
    "    \n",
    "    So the idea is that given  a vertex we check the edges and the elements that include those edges.\n",
    "    If start from an edge of the contour and end up to an edge of the contour again then the vertex\n",
    "    \n",
    "    \n",
    "    + For every vertex of the element that is to be created  and\n",
    "        \n",
    "        for vtx in element:\n",
    "        \n",
    "            if closed_ring(vtx,adj_vertices,elements):\n",
    "            \n",
    "                  don't created element\n",
    "                  proceed to connection with second most great quality\n",
    "                  if doesn't exist:\n",
    "                  proceeed  to next edge\n",
    "                  \n",
    "    + for the vtx and the adjacent v1 look for the element \n",
    "        (vtx,v1,v2) ->  (vtx, v2) -> (vtx,v3,v2) -> (vtx,v3)-> ... -> (vtx,vn) \n",
    "        Check if end is edge of contour if yes then vtx is forbidden -> insert to forbidden vertices\n",
    "                \n",
    "               \n",
    "     \n",
    "     "
   ]
  },
  {
   "cell_type": "code",
   "execution_count": 273,
   "metadata": {
    "collapsed": false
   },
   "outputs": [],
   "source": [
    "def BCE_accuracy(model,variable,labels):\n",
    "    net.eval()\n",
    "    predictions=model(variable).data.numpy()\n",
    "    predictions[np.where(predictions>0.5)]=1\n",
    "    predictions[np.where(predictions<=0.5)]=0\n",
    "    diff=labels-predictions\n",
    "    correct_prediction=0\n",
    "    for i in diff:\n",
    "        if (not i.any()):\n",
    "            correct_prediction+=1\n",
    "    net.train()\n",
    "    return  100*correct_prediction/variable.size()[0],diff\n",
    "\n",
    "\n",
    "\n",
    "\n",
    "def connectivity_information(triangulation,print_info=False):\n",
    "    \n",
    "    segments= tuple(triangulation['segments'].tolist())\n",
    "    triangles=tuple(triangulation['triangles'].tolist())\n",
    "    vertices=triangulation['vertices']   \n",
    "    \n",
    "    connect_info={str(r):[0 for i in range(len(vertices))] for r in tuple(triangulation['segments'].tolist())}\n",
    "    for segment in segments:\n",
    "        for triangle in triangles:\n",
    "            if set(segment).issubset(set(triangle)):\n",
    "                connection=set(triangle)-set(segment)\n",
    "                if print_info: print(\"segment:\",segment,\"is connected to:\",connection,\"to form triangle:\",triangle)\n",
    "                connect_info[str(segment)][tuple(connection)[0]]=1    \n",
    "    return connect_info\n",
    "\n",
    "\n",
    "\n",
    "def get_labels(triangulation,connect_info):\n",
    "    indices=[]\n",
    "    vertices=list(range(triangulation['vertices'].shape[0]))\n",
    "    for i in triangulation['segments']:\n",
    "           indices.append(set(vertices)-set(i)) \n",
    "    labels=[]\n",
    "    list_values=list(connect_info.values())\n",
    "    for i in range(len(list_values)):\n",
    "        for j in indices[i]:\n",
    "            labels.append(list_values[i][j])\n",
    "    return  labels\n"
   ]
  },
  {
   "cell_type": "code",
   "execution_count": 274,
   "metadata": {
    "collapsed": false
   },
   "outputs": [],
   "source": [
    "\n",
    "def rot(theta):\n",
    "    return np.array([[cos(theta),-sin(theta)],     \n",
    "                     [sin(theta),cos(theta)]])\n",
    "\n",
    "\n",
    "\n",
    "\n",
    "\n",
    "\n",
    "def get_reference_polygon(nb_of_points,plot=False):\n",
    "    angles=np.empty(nb_of_points)\n",
    "    points=np.empty([nb_of_points,2])\n",
    "    plot_coords=np.empty([nb_of_points,2])\n",
    "    indices=[]\n",
    "    angle_division=2*pi/nb_of_points\n",
    "   \n",
    "    for i in range(nb_of_points):\n",
    "        angle=i*angle_division\n",
    "        angles[i]=angle\n",
    "        point=np.array([1,0]) #pick edge length of 1\n",
    "        points[i]=np.dot(rot(angle),point.T)  #rotate it according to the  chosen angle\n",
    "        indices.append(i)\n",
    "   \n",
    "    if plot==True:\n",
    "        plot_coords=np.vstack([points,points[0]])\n",
    "        (s,t)=zip(*plot_coords)\n",
    "        plt.plot(s,t)\n",
    "        for index,i in enumerate(indices):\n",
    "            plt.annotate(str(i),(s[index],t[index]))\n",
    "    \n",
    "    return points\n",
    "\n",
    "\n",
    "\n",
    "def generate_contour(nb_of_points,plot=False):\n",
    "    \n",
    "    angles=np.empty(nb_of_points)\n",
    "    points=np.empty([nb_of_points,2])\n",
    "    plot_coords=np.empty([nb_of_points,2])\n",
    "    indices=[]\n",
    "    angle_division=2*pi/nb_of_points\n",
    "   \n",
    "    for i in range(nb_of_points):\n",
    "        angle=((i+1)*angle_division-i*angle_division)*np.random.random_sample()+i*angle_division\n",
    "        angles[i]=angle\n",
    "        point=np.array([np.random.uniform(0.3,1),0]) #pick random point at (1,0)\n",
    "       #point=np.array([1,0]) #pick edge length of 1\n",
    "\n",
    "        points[i]=np.dot(rot(angle),point.T)  #rotate it according to the  chosen angle\n",
    "        indices.append(i)\n",
    "   \n",
    "    if plot==True:\n",
    "        plot_coords=np.vstack([points,points[0]])\n",
    "        (s,t)=zip(*plot_coords)\n",
    "        plt.plot(s,t)\n",
    "        for index,i in enumerate(indices):\n",
    "            plt.annotate(str(i),(s[index],t[index]))\n",
    "    \n",
    "    return points\n",
    "\n",
    "\n",
    "\n",
    "def get_barycenter(contour):\n",
    "    return np.array([contour[:,0].sum()/contour.shape[0],contour[:,1].sum()/contour.shape[0]])\n",
    "\n",
    "\n",
    "def apply_procrustes(polygon_points,plot=False):  \n",
    "    \n",
    "    # Get reference polygona and adjust any random poygon to that\n",
    "    ref_polygon=get_reference_polygon(polygon_points.shape[0])\n",
    "    \n",
    "    \n",
    "    #Mean of each coordinate\n",
    "    mu_polygon = polygon_points.mean(0)\n",
    "    mu_ref_polygon = ref_polygon.mean(0)\n",
    "    \n",
    "    #Centralize data to the mean \n",
    "    centralised_ref_polygon_points = ref_polygon-mu_ref_polygon\n",
    "    centralised_polygon_points = polygon_points-mu_polygon\n",
    "    \n",
    "    #Squared sum of X-mean(X)\n",
    "    ss_ref_polygon_points = (centralised_ref_polygon_points**2.).sum()\n",
    "    ss_polygon_points = (centralised_polygon_points**2.).sum()\n",
    "\n",
    "       \n",
    "    #Frobenius norm of X\n",
    "    norm_ss_ref_polygon_points = np.sqrt(ss_ref_polygon_points)\n",
    "    norm_ss_polygon_points = np.sqrt(ss_polygon_points)\n",
    "\n",
    "    \n",
    "    # scale to equal (unit) norm\n",
    "    centralised_ref_polygon_points /=norm_ss_ref_polygon_points     \n",
    "    centralised_polygon_points /=norm_ss_polygon_points\n",
    "        \n",
    "    \n",
    "    #Finding best rotation to superimpose on regular triangle\n",
    "    #Applying SVD to the  matrix \n",
    "    A = np.dot(centralised_ref_polygon_points.T, centralised_polygon_points)\n",
    "    U,s,Vt = np.linalg.svd(A,full_matrices=False)\n",
    "    V=Vt.T\n",
    "    R = np.dot(V,U.T)\n",
    "    \n",
    "  \n",
    "    traceTA = s.sum()\n",
    "    d = 1 - traceTA**2\n",
    "    b = traceTA * norm_ss_ref_polygon_points / norm_ss_polygon_points    \n",
    "    indices=[i for i in range(polygon_points.shape[0])]\n",
    "    \n",
    "   \n",
    "\n",
    "    polygon_transformed =norm_ss_ref_polygon_points*traceTA*np.dot(centralised_polygon_points,R)+mu_ref_polygon\n",
    "\n",
    "    if plot==True:\n",
    "        plot_coords=np.vstack([polygon_transformed,polygon_transformed[0]])\n",
    "        (s,t)=zip(*plot_coords)\n",
    "        plt.plot(s,t)\n",
    "        for index,i in enumerate(indices):\n",
    "            plt.annotate(str(i),(s[index],t[index]))\n",
    "    \n",
    "    return polygon_transformed\n",
    "        \n",
    "    "
   ]
  },
  {
   "cell_type": "code",
   "execution_count": 275,
   "metadata": {
    "collapsed": false
   },
   "outputs": [],
   "source": [
    "\n",
    "def contains_points(triangle,polygon):\n",
    "    hull=ConvexHull(triangle)\n",
    "    hull_path=Path(triangle[hull.vertices])\n",
    "    set_polygon=set(tuple(i) for i in polygon)\n",
    "    set_triangle=set(tuple(i) for i in triangle)\n",
    "    #print(set_polygon,set_triangle)\n",
    "    difference=set_polygon-set_triangle\n",
    "    \n",
    "    if len(difference)==0:\n",
    "        return False\n",
    "\n",
    "    for i in difference:\n",
    "        if hull_path.contains_point(i):\n",
    "            return True\n",
    "            break\n",
    "    return False\n",
    "\n",
    "\n",
    "\n",
    "\n",
    "def compute_edge_lengths(pt1,pt2):\n",
    "    return np.linalg.norm(pt1-pt2)\n",
    "\n",
    "def compute_edge_lengths2(triangle):\n",
    "    edgelengths2=np.empty([2,3])\n",
    "    for i in range(2):\n",
    "        for j in range(i+1,3):\n",
    "            eij=triangle[j]-triangle[i]\n",
    "            edgelengths2[i][j]=np.dot(eij,eij)\n",
    "    return edgelengths2\n",
    "    \n",
    "\n",
    "\n",
    "def compute_triangle_normals(triangle):\n",
    "   \n",
    "    e01=triangle[1]-triangle[0]\n",
    "    e02=triangle[2]-triangle[0]\n",
    "    \n",
    "    e01_cross_e02=np.cross(e01,e02)\n",
    "    \n",
    "    return e01_cross_e02\n",
    "\n",
    "\n",
    "def compute_triangle_area(triangle):\n",
    "   \n",
    "    e01=triangle[1]-triangle[0]\n",
    "    e02=triangle[2]-triangle[0]\n",
    "    \n",
    "    e01_cross_e02=np.cross(e01,e02)\n",
    "    \n",
    "    # Omit triangles that are inverted (out of the domain)\n",
    "    if e01_cross_e02<0:\n",
    "        return 0\n",
    "        \n",
    "    \n",
    "    e01_cross_e02_norm=np.linalg.norm(e01_cross_e02)\n",
    "\n",
    "        \n",
    "    return e01_cross_e02_norm/2\n",
    "\n",
    "def compute_triangle_quality(triangle,polygon=None):\n",
    "    \n",
    "    if polygon is None:\n",
    "        polygon=triangle\n",
    "    \n",
    "    # The incoming triangle has edged [p0,p1] which is an edge and p2 is the connection\n",
    "    polygon_angles=get_polygon_angles(polygon)\n",
    "    \n",
    "    indices=[]\n",
    "\n",
    "\n",
    "    for point in triangle: \n",
    "        for index,point_in_polygon in enumerate(polygon):\n",
    "              if np.allclose(point,point_in_polygon):\n",
    "                    indices.append(index)\n",
    "                \n",
    "    p0,p1,p2=indices[0],indices[1],indices[2]\n",
    "    \n",
    "    neighbor_points=connection_indices(p2,get_contour_edges(polygon))\n",
    "    \n",
    "    # Checking if edges of connected poiints form an angle bigger than the polygon angles\n",
    "    if (polygon_angles[p0]<calculate_angle(polygon[p0],polygon[p1],polygon[p2]) \n",
    "        or polygon_angles[p1]<calculate_angle(polygon[p1],polygon[p0],polygon[p2])):\n",
    "        #print(\"Spotted inverted triangle: {}\".format([p0,p1,p2]))\n",
    "        return 0\n",
    "    \n",
    "    \n",
    "    if( polygon_angles[p2]<calculate_angle(polygon[p2],polygon[neighbor_points[0]],polygon[p0])\n",
    "        or polygon_angles[p2]<calculate_angle(polygon[p2],polygon[neighbor_points[0]],polygon[p1])\n",
    "    ):\n",
    "        #print(\"Spotted inverted triangle: {}\".format([p0,p1,p2]))\n",
    "        return 0\n",
    "    \n",
    "    if( polygon_angles[p2]<calculate_angle(polygon[p2],polygon[neighbor_points[1]],polygon[p0])\n",
    "        or polygon_angles[p2]<calculate_angle(polygon[p2],polygon[neighbor_points[1]],polygon[p1])):\n",
    "        #print(\"Spotted inverted triangle: {}\".format([p0,p1,p2]))\n",
    "        return 0\n",
    "    \n",
    "    factor=4/sqrt(3)\n",
    "    area=compute_triangle_area(triangle)\n",
    "   \n",
    "    if area==0:\n",
    "        return 0\n",
    "    \n",
    "    if contains_points(triangle,polygon):\n",
    "        return 0\n",
    "    \n",
    "    \n",
    "    \n",
    "    #edgelengths=np.empty([triangle.shape[0],1])\n",
    "    \n",
    "    #for i,_ in enumerate(triangle):\n",
    "     #   edgelengths[i]=compute_edge_length(triangle[i],triangle[(i+1)%3])\n",
    "    \n",
    "    #sum_edge_lengths=edgelengths.sum() \n",
    "    #factor=4/sqrt(3)*3/sum_edge_lengths\n",
    "    \n",
    "    sum_edge_lengths=0\n",
    "    edge_length2=compute_edge_lengths2(triangle)\n",
    "    for i in range(2):\n",
    "        for j in range(i+1,3):\n",
    "            sum_edge_lengths+=edge_length2[i][j]\n",
    "    \n",
    "    \n",
    "    \n",
    "    lrms=sqrt(sum_edge_lengths/3)\n",
    "    lrms2=lrms**2\n",
    "    quality=area/lrms2\n",
    "    \n",
    "    return quality*factor\n",
    "\n",
    "\n",
    "\n",
    "def compute_minimum_quality_triangle(triangle,polygon=None,get_mean=False):\n",
    "    if polygon is None:\n",
    "        polygon=triangle\n",
    "    \n",
    "    # The incoming triangle has edged [p0,p1] which is an edge and p2 is the connection\n",
    "    polygon_angles=get_polygon_angles(polygon)\n",
    "    \n",
    "    indices=[]\n",
    "\n",
    "\n",
    "    for point in triangle: \n",
    "        for index,point_in_polygon in enumerate(polygon):\n",
    "              if np.allclose(point,point_in_polygon):\n",
    "                    indices.append(index)\n",
    "                \n",
    "    p0,p1,p2=indices[0],indices[1],indices[2]\n",
    "    \n",
    "    neighbor_points=connection_indices(p2,get_contour_edges(polygon))\n",
    "    \n",
    "    # Checking if edges of connected poiints form an angle bigger than the polygon angles\n",
    "    if (polygon_angles[p0]<calculate_angle(polygon[p0],polygon[p1],polygon[p2]) \n",
    "        or polygon_angles[p1]<calculate_angle(polygon[p1],polygon[p0],polygon[p2])):\n",
    "        #print(\"Spotted inverted triangle: {}\".format([p0,p1,p2]))\n",
    "        return 0\n",
    "    \n",
    "    \n",
    "    if( polygon_angles[p2]<calculate_angle(polygon[p2],polygon[neighbor_points[0]],polygon[p0])\n",
    "        or polygon_angles[p2]<calculate_angle(polygon[p2],polygon[neighbor_points[0]],polygon[p1])\n",
    "    ):\n",
    "        #print(\"Spotted inverted triangle: {}\".format([p0,p1,p2]))\n",
    "        return 0\n",
    "    \n",
    "    if( polygon_angles[p2]<calculate_angle(polygon[p2],polygon[neighbor_points[1]],polygon[p0])\n",
    "        or polygon_angles[p2]<calculate_angle(polygon[p2],polygon[neighbor_points[1]],polygon[p1])):\n",
    "        #print(\"Spotted inverted triangle: {}\".format([p0,p1,p2]))\n",
    "        return 0\n",
    "    \n",
    "    area=compute_triangle_area(triangle)\n",
    "   \n",
    "    if area==0:\n",
    "        return 0\n",
    "    \n",
    "    if contains_points(triangle,polygon):\n",
    "        return 0\n",
    "    \n",
    "    triangles_in_mesh=[]\n",
    "    triangles_in_mesh.append(triangle)\n",
    "    contour_connectivity=get_contour_edges(polygon)\n",
    "    contour_connectivity=np.vstack([contour_connectivity,[p0,p2],[p1,p2]])\n",
    "    hole=np.array([(triangle.sum(0))/3])\n",
    "    shape=dict(holes=hole,vertices=polygon,segments=contour_connectivity)\n",
    "    t = tri.triangulate(shape, 'pq0')\n",
    "    \n",
    "    Invalid_triangulation=False\n",
    "\n",
    "    try:   \n",
    "        for triangle_index in t['triangles']:\n",
    "            triangles_in_mesh.append(polygon[np.asarray([triangle_index])])\n",
    "    except :\n",
    "        print(\"Invalid triangulation\",p0,p1,p2)\n",
    "        Invalid_triangulation=True\n",
    "        \n",
    "    triangle_qualities=[]\n",
    "    for triangle in triangles_in_mesh:\n",
    "        triangle.resize(3,2)\n",
    "        triangle_quality=compute_triangle_quality(triangle)\n",
    "        triangle_qualities.append(triangle_quality)\n",
    "    \n",
    "    if Invalid_triangulation:\n",
    "        mean_quality,minimum_quality=0,0\n",
    "    else:\n",
    "        triangle_qualities=np.array(triangle_qualities)\n",
    "        mean_quality=triangle_qualities.mean()\n",
    "        minimum_quality=triangle_qualities.min()\n",
    "\n",
    "    \n",
    "\n",
    "    if get_mean:\n",
    "        return mean_quality\n",
    "    else:\n",
    "        return minimum_quality\n",
    "\n",
    "\n",
    "\n",
    "\n",
    "\n",
    "# Quality of elements formed by connecting each edge with one of the other points of the contour\n",
    "\n",
    "def quality_matrix(polygon,compute_minimum=True ,normalize=False,mean=False):\n",
    "    polygon=apply_procrustes(polygon,False)\n",
    "\n",
    "    contour_connectivity=np.array(list(tuple(i) for i in get_contour_edges(polygon)))\n",
    "    \n",
    "    \n",
    "    \n",
    "    \n",
    "    quality_matrix=np.zeros([contour_connectivity.shape[0],polygon.shape[0]])\n",
    "    area_matrix=np.zeros([contour_connectivity.shape[0],polygon.shape[0]])\n",
    "    normals_matrix=np.zeros([contour_connectivity.shape[0],polygon.shape[0]])\n",
    "\n",
    "    list_of_triangles=[]\n",
    "    \n",
    "    for index,edge in enumerate(contour_connectivity):\n",
    "        # Not omitting non triangles because either way their quality is zero\n",
    "        triangles_to_edge_indices=[[*edge,i] for i in range(polygon.shape[0]) ]\n",
    "        \n",
    "        \n",
    "\n",
    "        #print(triangles_to_edge_indices)\n",
    "        triangles_to_edge_indices=np.asarray(triangles_to_edge_indices)\n",
    "        triangles=polygon[triangles_to_edge_indices]\n",
    "        list_of_triangles.append(triangles)\n",
    "        \n",
    "    \n",
    "    list_of_triangles=np.array(list_of_triangles)\n",
    "    \n",
    "    if compute_minimum:\n",
    "        for i,triangles in enumerate(list_of_triangles):\n",
    "            for j,triangle in enumerate(triangles):\n",
    "                quality_matrix[i,j]=compute_minimum_quality_triangle(triangle,polygon)\n",
    "    else:\n",
    "         for i,triangles in enumerate(list_of_triangles):\n",
    "            for j,triangle in enumerate(triangles):\n",
    "                if mean:\n",
    "                    quality_matrix[i,j]=compute_triangle_quality(triangle,polygon,get_mean=True)\n",
    "                else: \n",
    "                    quality_matrix[i,j]=compute_triangle_quality(triangle,polygon)\n",
    "    \n",
    "            #area_matrix[i,j]=compute_triangle_area(triangle)\n",
    "            #normals_matrix[i,j]=compute_triangle_normals(triangle)\n",
    "\n",
    "            \n",
    "    \n",
    "    sum_of_qualities=quality_matrix.sum(1)\n",
    "\n",
    "    if normalize is True:\n",
    "        for i,_ in enumerate(quality_matrix):\n",
    "            quality_matrix[i]/=sum_of_qualities[i]\n",
    "    \n",
    "    return quality_matrix,normals_matrix\n",
    "\n",
    "\n",
    "\n",
    "\n",
    "    \n",
    "    \n",
    "    "
   ]
  },
  {
   "cell_type": "code",
   "execution_count": 294,
   "metadata": {
    "collapsed": false
   },
   "outputs": [],
   "source": [
    "def check_edge_validity(edge,polygon,set_edges,interior_edges):        \n",
    "    # Check if new edges are already in the set\n",
    "    found_in_set=False\n",
    "    found_in_interior_set=False\n",
    "    for index in range(len(polygon)):\n",
    "        occuring_index=index\n",
    "\n",
    "        edge1,edge2=tuple(permutations((edge[0],index))),tuple(permutations((edge[1],index)))\n",
    "        condition1= edge1[0] in set_edges or edge1[1] in set_edges\n",
    "        condition2= edge2[0] in set_edges or edge2[1] in set_edges\n",
    "        condition3= edge1[0] in interior_edges or edge1[1] in interior_edges\n",
    "        condition4= edge2[0] in interior_edges or edge2[1] in interior_edges\n",
    "    \n",
    "        \n",
    "            # both edges are found in the list of set of edges (Invalid)\n",
    "        if (condition1 and condition2): \n",
    "            found_in_set=True\n",
    "            occuring_index=index\n",
    "            \n",
    "        \n",
    "        # both edges are found in the list of interior edges created\n",
    "        if (condition3 and condition4):\n",
    "            found_in_interior_set=True\n",
    "            occuring_index=index\n",
    "            \n",
    "        if found_in_interior_set or found_in_set:\n",
    "            break\n",
    "    return found_in_interior_set,found_in_set,occuring_index\n",
    "\n",
    "def triangulate(polygon,ordered_quality_matrix,recursive=True):\n",
    "    set_edges=set(tuple(i) for i in get_contour_edges(polygon))\n",
    "    interior_edges=set()\n",
    "    set_elements=set()\n",
    "    set_locked_vertices=set()\n",
    "    set_forbidden_intersections=set()\n",
    "    polygon_angles=get_polygon_angles(polygon)\n",
    "\n",
    "    print(\"initial set edges:\", set_edges)\n",
    "    \n",
    "\n",
    "\n",
    "    for edge in ordered_quality_matrix.keys():\n",
    "        \n",
    "        \n",
    "        \n",
    "        found_in_interior_set,found_in_set,index=check_edge_validity(edge,polygon,set_edges,interior_edges)\n",
    "\n",
    "        for qualities_with_edges in ordered_quality_matrix[edge][0]:\n",
    "            \n",
    "            element_created=False\n",
    "           \n",
    "            target_vtx=qualities_with_edges[1]\n",
    "            \n",
    "            if target_vtx==edge[0] or target_vtx==edge[1]:\n",
    "                continue\n",
    "           \n",
    "            print(\"Edge:\",edge,\"targeting:\",target_vtx)\n",
    "        \n",
    "            if found_in_interior_set:\n",
    "                element=(edge[0],edge[1],index)  \n",
    "                set_elements.add(element)\n",
    "                print(\"Element inserted:\",element)\n",
    "                continue\n",
    "        \n",
    "            if found_in_set and not found_in_interior_set:    \n",
    "                if(index != target_vtx):\n",
    "                    print('found',(edge[0],index),(edge[1],index),\"Canceling creation\")\n",
    "                    continue        \n",
    "        \n",
    "        \n",
    "        \n",
    "        \n",
    "            # Passed edges checking \n",
    "            # Proceed to check vertices\n",
    "            temp_element=(edge[0],edge[1],target_vtx)\n",
    "            \n",
    "            # Cehcking element normals to avoid inverted elements\n",
    "            element_indices=np.asarray([edge[0],edge[1],target_vtx])\n",
    "            if compute_triangle_normals(polygon[element_indices])<0:\n",
    "                continue\n",
    "            \n",
    "            # Checking if the element contains other points of the polygon inside\n",
    "            if contains_points(polygon[element_indices],polygon):\n",
    "                continue\n",
    "            \n",
    "                            \n",
    "            p0,p1,p2=edge[0],edge[1],target_vtx\n",
    "    \n",
    "            neighbor_points=connection_indices(p2,get_contour_edges(polygon))\n",
    "    \n",
    "            # Checking if edges of connected poiints form an angle bigger than the polygon angles\n",
    "            if (polygon_angles[p0]<calculate_angle(polygon[p0],polygon[p1],polygon[p2]) \n",
    "            or polygon_angles[p1]<calculate_angle(polygon[p1],polygon[p0],polygon[p2])):\n",
    "            #print(\"Spotted inverted triangle: {}\".format([p0,p1,p2]))\n",
    "                 continue\n",
    "    \n",
    "    \n",
    "            if( polygon_angles[p2]<calculate_angle(polygon[p2],polygon[neighbor_points[0]],polygon[p0])\n",
    "           or polygon_angles[p2]<calculate_angle(polygon[p2],polygon[neighbor_points[0]],polygon[p1])\n",
    "            ):\n",
    "                continue\n",
    "    \n",
    "            if( polygon_angles[p2]<calculate_angle(polygon[p2],polygon[neighbor_points[1]],polygon[p0])\n",
    "            or polygon_angles[p2]<calculate_angle(polygon[p2],polygon[neighbor_points[1]],polygon[p1])):\n",
    "            #print(\"Spotted inverted triangle: {}\".format([p0,p1,p2]))\n",
    "                continue\n",
    "         \n",
    "        \n",
    "        \n",
    "            quality=compute_minimum_quality_triangle(polygon[element_indices],polygon)\n",
    "            if quality==0 or quality<1e-2:\n",
    "                continue\n",
    "            \n",
    "            print(temp_element)\n",
    "            existing_element=False\n",
    "            for element in set_elements:\n",
    "                if set(temp_element)==set(element):\n",
    "                    print(\"Element {} already in set\".format(element))\n",
    "                    existing_element=True\n",
    "                    break\n",
    "            if existing_element:\n",
    "                break\n",
    "            \n",
    "            \n",
    "            \n",
    "            if target_vtx in set_locked_vertices:\n",
    "                print(\" Target vertex {} is locked\".format(target_vtx))\n",
    "                continue\n",
    "            set_elements.add(temp_element)\n",
    "\n",
    "        \n",
    "    \n",
    "            # Check if a locked vertex was created after the creation of the element\n",
    "            # If so, add it to the list\n",
    "            #Tracer()()\n",
    "            Found_locked_vertex=False\n",
    "            for vertex in temp_element:\n",
    "                _ ,isclosed = is_closed_ring(vertex,set_elements,*connection_indices(vertex,get_contour_edges(polygon)))\n",
    "                if isclosed and vertex not in set_locked_vertices:\n",
    "                    print(\"Vertex locked:\",vertex)\n",
    "                    Found_locked_vertex=True\n",
    "                    set_locked_vertices.add(vertex)\n",
    "            set_elements.remove(temp_element)\n",
    "            \n",
    "        \n",
    "        \n",
    "            # Locking the vertices and checking if the connection is with a locked vertex has been checked/\n",
    "            # Proceeding to check if both internal edges intersect with other internal edges\n",
    "            internal_edge1=(edge[0],target_vtx)\n",
    "            internal_edge2=(edge[1],target_vtx)\n",
    "            set_a,set_b=get_intermediate_indices(target_vtx,polygon,edge[0],edge[1])\n",
    "        \n",
    "            internal_condition1= internal_edge1 in set_forbidden_intersections or tuple(reversed(internal_edge1)) in set_forbidden_intersections\n",
    "                                                                        \n",
    "            internal_condition2=internal_edge2 in set_forbidden_intersections or tuple(reversed(internal_edge2)) in set_forbidden_intersections\n",
    "                                                                            \n",
    "    \n",
    "                                                                                   \n",
    "            internal_intersection=False\n",
    "            if internal_condition1 or  internal_condition2:\n",
    "                print(\"edges :\",internal_edge1, \"and\",internal_edge2,\"intersecting\")\n",
    "                print(\"Abandoning creation of element\",temp_element)\n",
    "                internal_intersection=True\n",
    "        \n",
    "     \n",
    "            if internal_intersection:\n",
    "                for vtx in temp_element:\n",
    "                    if Found_locked_vertex and vtx in set_locked_vertices:\n",
    "                        print(\"Unlocking vertex\",vtx)\n",
    "                        set_locked_vertices.remove(vtx)                    \n",
    "                continue\n",
    "        \n",
    "        \n",
    "        \n",
    "            # Create the element\n",
    "            element=temp_element\n",
    "        \n",
    "            # Add to set of edges all the forbidden intersections after the creation of the element\n",
    "            \n",
    "            for i in set_a:\n",
    "                for j in set_b:\n",
    "                    set_forbidden_intersections.add((i,j))\n",
    "            #print(\"set of forbidden inter section edges updated:\",set_forbidden_intersections)\n",
    "    \n",
    "                \n",
    "        \n",
    "        \n",
    "        # New edges after creation of the element\n",
    "   \n",
    "            new_edge1=(edge[0],target_vtx)\n",
    "            new_edge2=(edge[1],target_vtx)\n",
    "        \n",
    "            if new_edge1 not in set_edges and tuple(reversed(new_edge1)) not in set_edges:\n",
    "                set_edges.add(new_edge1)\n",
    "                interior_edges.add(new_edge1)\n",
    "                print(\"edges inserted:\",new_edge1)\n",
    "                print(\"set of interior edges updated:\",interior_edges)\n",
    "                print(\"set of edges updated:\",set_edges)\n",
    "            if new_edge2 not in set_edges and tuple(reversed(new_edge2)) not in set_edges:    \n",
    "                set_edges.add(new_edge2)\n",
    "                interior_edges.add(new_edge2)\n",
    "                print(\"edges inserted:\",new_edge2)\n",
    "                print(\"set of interior edges updated:\",interior_edges)\n",
    "                print(\"set of edges updated:\",set_edges)\n",
    "            \n",
    "        \n",
    "    \n",
    "    \n",
    "            # Checking list of elements to see whether the were created or were already there\n",
    "            #for element_permutation in tuple(permutations(element)):\n",
    "                #if element_permutation in set_elements:\n",
    "                 #   print(\"Element {} already in set\".format(element))\n",
    "                  #  break\n",
    "            #else:\n",
    "            set_elements.add(element)\n",
    "            indices=np.asarray(element)\n",
    "            print(\"element inserted:\",element)\n",
    "            element_created=True\n",
    "            break\n",
    "        if element_created:\n",
    "            continue\n",
    "        \n",
    "        \n",
    "            \n",
    "    \n",
    "    \n",
    "    triangulated={'segment_markers': np.ones([polygon.shape[0]]), 'segments':np.array(get_contour_edges(polygon)), 'triangles': np.array(list( list(i) for i in set_elements)),\n",
    "                  'vertex_markers': np.ones([polygon.shape[0]]), 'vertices': polygon}\n",
    "    plot.plot(plt.axes(), **triangulated)\n",
    "    print(\"Final edges:\",set_edges)\n",
    "    print(\"Elements created:\",set_elements)\n",
    "    print(\"Set of locked vertices:\", set_locked_vertices)\n",
    "    \n",
    "    \n",
    "    # find open vertices\n",
    "    for element in set_elements:\n",
    "        for vertex in  element:\n",
    "                    _ ,isclosed = is_closed_ring(vertex,set_elements,*connection_indices(vertex,get_contour_edges(polygon)))\n",
    "                    if isclosed and vertex not in set_locked_vertices:\n",
    "                        print(\"Vertex locked:\",vertex)\n",
    "                        Found_locked_vertex=True\n",
    "                        set_locked_vertices.add(vertex)\n",
    "    set_open_vertices=set(range(len(polygon)))-set_locked_vertices\n",
    "    print(\"Set of open vertices:\", set_open_vertices)\n",
    "    set_edges.clear(),set_locked_vertices.clear(),set_forbidden_intersections.clear\n",
    "    if recursive:\n",
    "        sub_polygon_list=check_for_sub_polygon(set_open_vertices,interior_edges,set_elements,polygon)\n",
    "\n",
    "        for sub_polygon_indices in sub_polygon_list:\n",
    "            if len(sub_polygon_indices)>=4:\n",
    "                polygon_copy=polygon.copy()\n",
    "                sub_polygon=np.array(polygon_copy[sub_polygon_indices])\n",
    "                sub_quality,_=quality_matrix(sub_polygon,compute_minimum=True,normalize=False)\n",
    "                sub_order_matrix=order_quality_matrix(sub_quality,sub_polygon)\n",
    "                print(sub_quality,sub_order_matrix)\n",
    "                triangulate(sub_polygon,sub_order_matrix)\n",
    "\n",
    "\n",
    "    \n",
    "\n",
    "    \n",
    "    \n",
    "def pure_triangulate(polygon,ordered_quality_matrix,recursive=True):\n",
    "    set_edges=set(tuple(i) for i in get_contour_edges(polygon))\n",
    "    interior_edges=set()\n",
    "    set_elements=set()\n",
    "    set_locked_vertices=set()\n",
    "    set_forbidden_intersections=set()\n",
    "    polygon_angles=get_polygon_angles(polygon)\n",
    "    check_edge_validity_time,check_for_existing_element=0,0\n",
    "    #print(\"initial set edges:\", set_edges)\n",
    "    \n",
    "\n",
    "   \n",
    "    for edge in ordered_quality_matrix.keys():\n",
    "        \n",
    "        start=timer()\n",
    "        found_in_interior_set,found_in_set,index=check_edge_validity(edge,polygon,set_edges,interior_edges)\n",
    "        stop=timer()\n",
    "        check_edge_validity_time+=stop-start\n",
    "        \n",
    "        for qualities_with_edges in ordered_quality_matrix[edge][0]:\n",
    "            \n",
    "            element_created=False\n",
    "           \n",
    "            target_vtx=qualities_with_edges[1]\n",
    "            \n",
    "\n",
    "        \n",
    "            if found_in_interior_set:\n",
    "                element=(edge[0],edge[1],index)  \n",
    "                set_elements.add(element)\n",
    "                #print(\"Element inserted:\",element)\n",
    "                continue\n",
    "        \n",
    "            if found_in_set and not found_in_interior_set:    \n",
    "                if(index != target_vtx):\n",
    "                    continue        \n",
    "        \n",
    "        \n",
    "        \n",
    "            # Passed edges checking \n",
    "            # Proceed to check vertices\n",
    "            temp_element=(edge[0],edge[1],target_vtx)\n",
    "\n",
    "            existing_element=False\n",
    "           \n",
    "            for element in set_elements:\n",
    "                if set(temp_element)==set(element):\n",
    "                    existing_element=True\n",
    "                    break\n",
    "            \n",
    "            if existing_element:\n",
    "                break\n",
    "        \n",
    "            \n",
    "            \n",
    "            \n",
    "            if target_vtx in set_locked_vertices:\n",
    "                #print(\" Target vertex {} is locked\".format(target_vtx))\n",
    "                continue\n",
    "            set_elements.add(temp_element)\n",
    "\n",
    "        \n",
    "    \n",
    "            # Check if a locked vertex was created after the creation of the element\n",
    "            # If so, add it to the list\n",
    "            #Tracer()()\n",
    "            \n",
    "            Found_locked_vertex=False\n",
    "#            timer1=timer()\n",
    "            for vertex in temp_element:\n",
    "                _ ,isclosed = is_closed_ring(vertex,set_elements,*connection_indices(vertex,get_contour_edges(polygon)))\n",
    "                if isclosed and vertex not in set_locked_vertices:\n",
    "                    #print(\"Vertex locked:\",vertex)\n",
    "                    Found_locked_vertex=True\n",
    "                    set_locked_vertices.add(vertex)\n",
    "  #          timer2=timer()\n",
    "            checking_locked_vertices=time2-time1\n",
    "            set_elements.remove(temp_element)\n",
    "\n",
    "            \n",
    "        \n",
    "        \n",
    "            # Locking the vertices and checking if the connection is with a locked vertex has been checked/\n",
    "            # Proceeding to check if both internal edges intersect with other internal edges\n",
    "            internal_edge1=(edge[0],target_vtx)\n",
    "            internal_edge2=(edge[1],target_vtx)\n",
    "            set_a,set_b=get_intermediate_indices(target_vtx,polygon,edge[0],edge[1])\n",
    "        \n",
    "            internal_condition1= internal_edge1 in set_forbidden_intersections or tuple(reversed(internal_edge1)) in set_forbidden_intersections\n",
    "                                                                        \n",
    "            internal_condition2=internal_edge2 in set_forbidden_intersections or tuple(reversed(internal_edge2)) in set_forbidden_intersections\n",
    "                                                                            \n",
    "    \n",
    "                                                                                   \n",
    "            internal_intersection=False\n",
    "            \n",
    "\n",
    "            if internal_condition1 or  internal_condition2:\n",
    "                #print(\"edges :\",internal_edge1, \"and\",internal_edge2,\"intersecting\")\n",
    "                #print(\"Abandoning creation of element\",temp_element)\n",
    "                internal_intersection=True\n",
    "        \n",
    "     \n",
    "            if internal_intersection:\n",
    "                for vtx in temp_element:\n",
    "                    if Found_locked_vertex and vtx in set_locked_vertices:\n",
    "                        #print(\"Unlocking vertex\",vtx)\n",
    "                        set_locked_vertices.remove(vtx)                    \n",
    "                continue\n",
    "\n",
    "        \n",
    "        \n",
    "        \n",
    "            # Create the element\n",
    "            element=temp_element\n",
    "        \n",
    "            # Add to set of edges all the forbidden intersections after the creation of the element\n",
    "            \n",
    "            for i in set_a:\n",
    "                for j in set_b:\n",
    "                    set_forbidden_intersections.add((i,j))\n",
    "            #print(\"set of forbidden inter section edges updated:\",set_forbidden_intersections)\n",
    "    \n",
    "                \n",
    "        \n",
    "        \n",
    "        # New edges after creation of the element\n",
    "   \n",
    "            new_edge1=(edge[0],target_vtx)\n",
    "            new_edge2=(edge[1],target_vtx)\n",
    "        \n",
    "            if new_edge1 not in set_edges and tuple(reversed(new_edge1)) not in set_edges:\n",
    "                set_edges.add(new_edge1)\n",
    "                interior_edges.add(new_edge1)\n",
    "                #print(\"edges inserted:\",new_edge1)\n",
    "                #print(\"set of interior edges updated:\",interior_edges)\n",
    "                #print(\"set of edges updated:\",set_edges)\n",
    "            if new_edge2 not in set_edges and tuple(reversed(new_edge2)) not in set_edges:    \n",
    "                set_edges.add(new_edge2)\n",
    "                interior_edges.add(new_edge2)\n",
    "                #print(\"edges inserted:\",new_edge2)\n",
    "                #print(\"set of interior edges updated:\",interior_edges)\n",
    "                #print(\"set of edges updated:\",set_edges)\n",
    "            \n",
    "        \n",
    "    \n",
    "    \n",
    "         \n",
    "            set_elements.add(element)\n",
    "            indices=np.asarray(element)\n",
    "                #print(\"element inserted:\",element)\n",
    "            element_created=True\n",
    "            break\n",
    "        if element_created:\n",
    "            continue\n",
    "        \n",
    "           \n",
    "    \n",
    "#    triangulated={'segment_markers': np.ones([polygon.shape[0]]), 'segments':np.array(get_contour_edges(polygon)), 'triangles': np.array(list( list(i) for i in set_elements)),\n",
    "#                  'vertex_markers': np.ones([polygon.shape[0]]), 'vertices': polygon}\n",
    "#    plot.plot(plt.axes(), **triangulated)\n",
    "    #print(\"Final edges:\",set_edges)\n",
    "    #print(\"Elements created:\",set_elements)\n",
    "    #print(\"Set of locked vertices:\", set_locked_vertices)\n",
    "    \n",
    "    \n",
    "    # find open vertices\n",
    "    for element in set_elements:\n",
    "        for vertex in  element:\n",
    "                _ ,isclosed = is_closed_ring(vertex,set_elements,*connection_indices(vertex,get_contour_edges(polygon)))\n",
    "                if isclosed and vertex not in set_locked_vertices:\n",
    "                        #print(\"Vertex locked:\",vertex)\n",
    "                        Found_locked_vertex=True\n",
    "                        set_locked_vertices.add(vertex)\n",
    "    set_open_vertices=set(range(len(polygon)))-set_locked_vertices\n",
    "    #print(\"Set of open vertices:\", set_open_vertices)\n",
    "    set_edges.clear(),set_locked_vertices.clear(),set_forbidden_intersections.clear\n",
    "    if recursive and len(set_open_vertices)>=4:\n",
    "        sub_polygon_list=check_for_sub_polygon(set_open_vertices,interior_edges,set_elements,polygon)\n",
    "#\n",
    "        for sub_polygon_indices in sub_polygon_list:\n",
    "            if len(sub_polygon_indices)>=4:\n",
    "                polygon_copy=polygon\n",
    "                sub_polygon=np.array(polygon_copy[sub_polygon_indices])\n",
    "                sub_quality,_=quality_matrix(sub_polygon,compute_minimum=True,normalize=False)\n",
    "                sub_order_matrix=order_quality_matrix(sub_quality,sub_polygon)\n",
    "                #print(sub_quality,sub_order_matrix)\n",
    "                pure_triangulate(sub_polygon,sub_order_matrix)\n",
    "#\n",
    "\n",
    "    \n",
    "def order_quality_matrix(_quality_matrix,_polygon):\n",
    "\n",
    "    #  Create the quality matrix in accordance with the edges\n",
    "    quality_board=[(q,index)  for qualities in _quality_matrix for index,q in enumerate(qualities)]\n",
    "    quality_board=np.array(quality_board)\n",
    "    #print(\"Quality board not resized:\",quality_board)\n",
    "\n",
    "    quality_board.resize(len(get_contour_edges(_polygon)),len(_polygon),2)\n",
    "    quality_board=dict(zip(list(tuple(i) for i in get_contour_edges(_polygon)),quality_board))\n",
    "    \n",
    "    \n",
    "    #sorted_quality_board={i[0]:i[1] for i in sorted(board.items(),key=lambda x: max(x[1]),reverse=True)}\n",
    "    #print(\"Quality board\")\n",
    "    #for keys,items in quality_board.items():\n",
    "    #    print(keys,items)\n",
    "    edge_quality=quality_board[(0,1)]\n",
    "    edge_quality=edge_quality[np.lexsort(np.fliplr(edge_quality).T)]\n",
    "\n",
    "\n",
    "\n",
    "\n",
    "    for i in quality_board.keys():\n",
    "        quality_board[i]=quality_board[i][np.lexsort(np.fliplr(quality_board[i]).T)]\n",
    "        quality_board[i]=quality_board[i][::-1]\n",
    "        quality_board[i][:,1]=quality_board[i][:,1].astype(int)\n",
    "    \n",
    "    edge=[]\n",
    "    max_quality=[]\n",
    "    listing=[]\n",
    "    for keys,values in quality_board.items():\n",
    "        listing.append([keys,max(values[:,0])])\n",
    "    \n",
    "    listing=np.array(listing)\n",
    "    listing=listing[np.lexsort(np.transpose(listing)[::-3]).T]\n",
    "    listing=listing[::-1]\n",
    "    ordered_indices=listing[:,0]\n",
    "\n",
    "    ordered_quality_matrix={}\n",
    "\n",
    "    for i in ordered_indices:\n",
    "        ordered_quality_matrix[i]=[tuple(zip(quality_board[i][:,0],quality_board[i][:,1].astype(int)))]\n",
    "    \n",
    "    return ordered_quality_matrix    \n",
    "    \n",
    "    \n",
    "    "
   ]
  },
  {
   "cell_type": "code",
   "execution_count": 277,
   "metadata": {
    "collapsed": false
   },
   "outputs": [],
   "source": [
    "# Function to get the list of edges of a polygon\n",
    "def get_contour_edges(polygon):\n",
    "    contour_connectivity=np.array([[i,(i+1)%polygon.shape[0]] for i in range(polygon.shape[0])])\n",
    "    return contour_connectivity\n",
    "\n",
    "\n",
    "\n",
    "# Function to return indices that are connected to a vertex\n",
    "def connection_indices(vertex,edges):   \n",
    "    indices=[]\n",
    "    for edge in edges:\n",
    "        if vertex in edge:\n",
    "\n",
    "            if edge[0] == vertex:\n",
    "                indices.append(edge[1])\n",
    "            else:\n",
    "                indices.append(edge[0])\n",
    "\n",
    "    return indices\n",
    "\n",
    "# Function to calculate and angle:\n",
    "def calculate_angle(p0,p1,p2):\n",
    "    v0 = p1 - p0\n",
    "    v1 = p2 - p0\n",
    "    \n",
    "    \n",
    "    normal=compute_triangle_normals([p0,p1,p2])\n",
    "    angle = np.math.atan2(np.linalg.det([v0,v1]),np.dot(v0,v1))\n",
    "    angle=abs(angle)\n",
    "    #unit_v0=v0 / np.linalg.norm(v0)\n",
    "    #unit_v1=v1 / np.linalg.norm(v1)\n",
    "    #angle=np.arccos(np.clip(np.dot(unit_v0, unit_v1), -1.0, 1.0))\n",
    "    \n",
    "    return np.degrees(angle)\n",
    "\n",
    "\n",
    "\n",
    "# Function to calculate the angles of a polygon\n",
    "def get_polygon_angles(polygon):\n",
    "    angles=[]\n",
    "    for index,point in enumerate(polygon):\n",
    "        p0=point        \n",
    "        neighbor_points=connection_indices(index,get_contour_edges(polygon))\n",
    "        #print(\"neighbor points\",neighbor_points)\n",
    "        indices=np.asarray(neighbor_points)\n",
    "        p1,p2=polygon[indices]\n",
    "        angle=calculate_angle(p0,p1,p2)\n",
    "        if index !=0:\n",
    "            triangle_normal=compute_triangle_normals([p0,p1,p2])\n",
    "        else:\n",
    "            triangle_normal=compute_triangle_normals([p1,p0,p2])\n",
    "\n",
    "            \n",
    "        if triangle_normal>0:\n",
    "            angle=360-angle\n",
    "        \n",
    "        angles.append(angle)\n",
    "    return angles\n",
    "    \n",
    "\n",
    "\n",
    "\n",
    "def is_closed_ring(vtx,set_of_elements,*adj_vtx):\n",
    "    contour_edge1=(vtx,adj_vtx[0])\n",
    "    contour_edge2=(vtx,adj_vtx[1])\n",
    "    visited_elements=set_of_elements.copy()\n",
    "    \n",
    "    target_edge=contour_edge1\n",
    "    \n",
    "    edges_found=[]\n",
    "    edges_found.append(contour_edge1)\n",
    "\n",
    "    proceed=True\n",
    "    \n",
    "    while proceed:\n",
    "        \n",
    "        if not visited_elements:\n",
    "            break\n",
    "        \n",
    "        remaining_edge,found_element=edge2elem(target_edge,visited_elements)\n",
    "        \n",
    "        if found_element is None:\n",
    "            #print(\"stopped\")\n",
    "            proceed=False\n",
    "            break\n",
    "            \n",
    "        visited_elements.remove(found_element)\n",
    "        edges_found.append(remaining_edge)\n",
    "        target_edge=remaining_edge\n",
    "    \n",
    "    \n",
    "                \n",
    "    #print(set(edges_found))\n",
    "    found_contour_edge1,found_contour_edge2=False,False\n",
    "    found_contour_edges=False\n",
    "\n",
    "    # Checking if both contour edges area contained in the set of edges acquired\n",
    "    \n",
    "    for edge in edges_found:\n",
    "        condition1= contour_edge1[0] in set(edge) and contour_edge1[1] in set((edge))\n",
    "        condition2= contour_edge2[0] in set(edge) and contour_edge2[1] in set((edge))\n",
    "        if condition1:\n",
    "            #print(\"found \",contour_edge1)\n",
    "            found_contour_edge1=True\n",
    "        if condition2:\n",
    "            #print(\"found\",contour_edge2)\n",
    "            found_contour_edge2=True\n",
    "            \n",
    "    if found_contour_edge1 and found_contour_edge2:\n",
    "        found_contour_edges=True\n",
    "        #print(\"found both of contour edges in set\")\n",
    "    \n",
    "    visited_elements.clear()\n",
    "    return edges_found,found_contour_edges\n",
    "    \n",
    "    \n",
    "    \n",
    "# Finds element containing the edge and exits (does not give the full list of elements)   \n",
    "# Serve is_one_ring function\n",
    "def edge2elem(edge,set_of_elements):\n",
    "    found=False\n",
    "    Found_element=()\n",
    "    Remaining_edge=()\n",
    "  \n",
    "    for element in set_of_elements.copy():\n",
    "        \n",
    "        if edge[0] in  set(element) and edge[1] in set(element): \n",
    "            #print(\"Edge {} is part of element {}\".format(edge,element))\n",
    "            Found_element=element\n",
    "            Remaining_index=set(element)-set(edge)\n",
    "            Remaining_index=list(Remaining_index)\n",
    "            Remaining_edge=(edge[0],Remaining_index[0])\n",
    "            #print(\" Remaining edge is {}\".format(Remaining_edge))\n",
    "            break \n",
    "        else:\n",
    "            Found_element=None\n",
    "            Remaining_edge=None\n",
    "    return  Remaining_edge,Found_element \n",
    "\n",
    "# Departing from a target vertex connected with and edge get all intermediate  indices from one side and other\n",
    "def get_intermediate_indices(target_vtx,polygon,*edge):\n",
    "    \n",
    "    set_1=set()\n",
    "    set_2=set()\n",
    "    \n",
    "    \n",
    "    contour_edges=get_contour_edges(polygon)\n",
    "    \n",
    "    \n",
    "    # Depart from target vertex and get neighbor indices\n",
    "    neighbors=connection_indices(target_vtx,contour_edges)\n",
    "    found_vertex1,found_vertex2=neighbors[0],neighbors[1]\n",
    "    #print(\"found vertices:\",found_vertex1,found_vertex2)\n",
    "\n",
    "    \n",
    "    # Include them into seperate lists\n",
    "    set_1.add(found_vertex1)\n",
    "    set_2.add(found_vertex2)\n",
    "    \n",
    "    visited_vertex=target_vtx\n",
    "      \n",
    "    \n",
    "    while found_vertex1!=edge[0] and found_vertex1!=edge[1]:\n",
    "        visiting_vertex=found_vertex1\n",
    "        neighbors=connection_indices(visiting_vertex,contour_edges)\n",
    "        for index in neighbors:\n",
    "            if index !=  visited_vertex:\n",
    "                set_1.add(index)\n",
    "                found_vertex1=index\n",
    "                #print(\"Found vertex:\",found_vertex1)     \n",
    "        visited_vertex=visiting_vertex\n",
    "        \n",
    "    #print(\"Start  looking the other way\")\n",
    "    \n",
    "    # Resetting to go the other way\n",
    "    visited_vertex=target_vtx\n",
    "\n",
    "    while found_vertex2!=edge[0] and found_vertex2!=edge[1]:\n",
    "        visiting_vertex=found_vertex2\n",
    "        neighbors=connection_indices(visiting_vertex,contour_edges)\n",
    "        for index in neighbors:\n",
    "            if index !=  visited_vertex:\n",
    "                set_2.add(index)\n",
    "                found_vertex2=index\n",
    "                #print(\"Found vertex:\",found_vertex2)     \n",
    "        visited_vertex=visiting_vertex\n",
    "    \n",
    "                \n",
    "                \n",
    "                \n",
    "  \n",
    "    return set_1,set_2\n",
    "                \n",
    "            \n",
    "        \n",
    "    \n",
    "    "
   ]
  },
  {
   "cell_type": "code",
   "execution_count": 172,
   "metadata": {
    "collapsed": false
   },
   "outputs": [],
   "source": [
    "def polygon_2_vtx(starting_vertex,edges_to_visit):\n",
    "    from  more_itertools import unique_everseen\n",
    "    \n",
    "    if not edges_to_visit:\n",
    "        return\n",
    "    \n",
    "    \n",
    "    closed=False\n",
    "\n",
    "                \n",
    "    #print(\"Edges to visit:\",edges_to_visit)\n",
    "    subpolygon=[]\n",
    "    \n",
    "                \n",
    "    found_vertex=starting_vertex\n",
    "    \n",
    "    while not closed:\n",
    "        for index,edge in enumerate(edges_to_visit.copy()):\n",
    "            visiting_vertex=found_vertex\n",
    "            \n",
    "           \n",
    "            #if visiting_vertex not in set(edge) and index==len(edges_to_visit.copy()):\n",
    "               # Tracer()()\n",
    "                #print(\"Not found in list of edges\")\n",
    "                #closed=True\n",
    "                #break\n",
    "            if visiting_vertex not in set(edge):\n",
    "                continue\n",
    "            subpolygon.append(visiting_vertex)\n",
    "                \n",
    "                                \n",
    "            #print(\"Visiting vertex\",visiting_vertex)\n",
    "            \n",
    "            found_starting_vtx=False\n",
    "            subpolygon.append(found_vertex)\n",
    "            \n",
    "            \n",
    "            #print(visiting_vertex,\" in \", edge)\n",
    "                \n",
    "                \n",
    "            for index in set(edge):\n",
    "                if visiting_vertex!= index:\n",
    "                    found_vertex=index\n",
    "                    #print(\"Found vertex:\",found_vertex)\n",
    "                    subpolygon.append(found_vertex)\n",
    "                    \n",
    "                    \n",
    "            #print(\"Removing edge\",edge)\n",
    "            edges_to_visit.discard(edge)\n",
    "            #print(edges_to_visit)\n",
    "            if found_vertex==starting_vertex:\n",
    "                subpolygon=list(unique_everseen(subpolygon))\n",
    "                #print(\"Back to starting vertex\")    \n",
    "                closed=True\n",
    "                break\n",
    "                \n",
    "    if  len(subpolygon)<=3:\n",
    "        return \n",
    "    else:\n",
    "        return subpolygon\n",
    "     \n",
    "\n",
    "                       \n",
    "\n",
    "def check_for_sub_polygon(set_of_open_vertices,set_of_interior_edges,set_of_elements,polygon):\n",
    "\n",
    "    \n",
    "    \n",
    "    if not set_of_open_vertices or  len(set_of_open_vertices)<3:\n",
    "        return []\n",
    "    \n",
    "\n",
    "    sub_polygon_list=[]\n",
    "    modified_interior_edge_set=set_of_interior_edges.copy()\n",
    "    \n",
    " \n",
    "    \n",
    "    \n",
    "    polygon_connectivity=[tuple(i) for i in get_contour_edges(polygon)]\n",
    "    \n",
    "    for edge in modified_interior_edge_set.copy():\n",
    "        if edge[0] not in set_of_open_vertices or edge[1] not in set_of_open_vertices:\n",
    "            modified_interior_edge_set.discard(edge)\n",
    "   \n",
    "\n",
    "\n",
    "\n",
    "    # Taking care of vertices that are locked but the element is not seen\n",
    "    \n",
    "    set_of_unfound_locked_vertices=set()\n",
    "    continue_looking=True\n",
    "\n",
    "    \n",
    "    while continue_looking:\n",
    "        \n",
    "        if not set_of_open_vertices:\n",
    "            continue_looking=False\n",
    "            \n",
    "        for vtx in set_of_open_vertices.copy():\n",
    "                vtx1,vtx2 =connection_indices(vtx,get_contour_edges(polygon))\n",
    "                found_edges1,isclosed1=is_closed_ring(vtx,set_of_elements,vtx2,vtx1)\n",
    "                found_edges2,isclosed2=is_closed_ring(vtx,set_of_elements,vtx1,vtx2)\n",
    "                #print(\"Examining if vtx {} is locked\".format(vtx))\n",
    "                \n",
    "                if isclosed1 or isclosed2:\n",
    "                    #print(vtx,\"locked after all\")\n",
    "                    set_of_open_vertices.discard(vtx)\n",
    "                    for edge in modified_interior_edge_set.copy():\n",
    "                        if vtx in edge:\n",
    "                            modified_interior_edge_set.discard(edge)\n",
    "                    break\n",
    "                \n",
    "                for edge in found_edges1:\n",
    "                    if edge in polygon_connectivity or edge[::-1] in polygon_connectivity:\n",
    "                        found_edges1.remove(edge)\n",
    "                for edge in found_edges2:\n",
    "                    if edge in polygon_connectivity or edge[::-1] in polygon_connectivity:\n",
    "                        found_edges2.remove(edge)\n",
    "                between_edges=[]\n",
    "                for edge in found_edges1:\n",
    "                    for indices in edge:\n",
    "                        if indices==vtx:\n",
    "                            continue\n",
    "                    between_edges.append(indices)\n",
    "                for edge in found_edges2:\n",
    "                    for indices in edge:\n",
    "                        if indices==vtx:\n",
    "                            continue\n",
    "                    between_edges.append(indices)\n",
    "                for edge in set_of_interior_edges.copy():\n",
    "                    found_locked_vtx=False\n",
    "                    if set(between_edges)==set(edge):\n",
    "                       # print(vtx,\"locked after all\")\n",
    "                        found_locked_vtx=True\n",
    "                        set_of_unfound_locked_vertices.add(vtx)\n",
    "                        #Tracer()()\n",
    "                        if edge in set_of_interior_edges or edge[::-1] in set_of_interior_edges:                 \n",
    "                            #modified_interior_edge_set.discard(edge)\n",
    "                            #print(edge,\"removed\")               \n",
    "                            #modified_interior_edge_set.discard(edge[::-1])\n",
    "                            modified_interior_edge_set.discard((vtx,between_edges[0]))\n",
    "                            modified_interior_edge_set.discard((between_edges[0],vtx))\n",
    "                        \n",
    "    \n",
    "                            modified_interior_edge_set.discard((vtx,between_edges[1]))\n",
    "                            modified_interior_edge_set.discard((between_edges[1],vtx))\n",
    "                            element=(vtx,between_edges[0],between_edges[1])\n",
    "                            #print(\"Removed:\",(vtx),\"from set of open vertices\")\n",
    "    \n",
    "                            #print(\"Added new element:\",element)\n",
    "                            #print(\"Removed:\",(vtx,between_edges[0]),\"from set of edges\")\n",
    "                            #print(\"Removed:\",(vtx,between_edges[1]),\"from set of edges\")\n",
    "    \n",
    "                            set_of_elements.add(element) \n",
    "                            #print(\"New set of elements\",set_of_elements)\n",
    "                            set_of_open_vertices.discard(vtx)\n",
    "                            \n",
    "                    if found_locked_vtx:\n",
    "                        #Tracer()()\n",
    "                        continue_looking=True\n",
    "                        #print(\"Re-evaluting set of open vertices\")\n",
    "                        break\n",
    "                        \n",
    "                    else: continue_looking=False\n",
    "                        \n",
    "                        \n",
    "    #    for edge in modified_interior_edge_set.copy():\n",
    "    #        if set(edge).issubset(set_of_unfound_locked_vertices):\n",
    "    #            modified_interior_edge_set.discard(edge)\n",
    "#            modified_interior_edge_set.discard(edge[::-1])\n",
    "#            print(\"removed\",edge)\n",
    "            \n",
    "            #print(\"inbetween\",between_edges)\n",
    "                \n",
    "    #print(\"set of open vertices\",set_of_open_vertices)\n",
    "    \n",
    "    if not set_of_open_vertices or  len(set_of_open_vertices)<3:\n",
    "        return []\n",
    "    \n",
    "    # In the set of open vertices there may be vertices that are part of  of multiple polygon\n",
    "    found_common_vertex=False\n",
    "    set_of_common_vertices=set()\n",
    "    nb_of_polygon=0\n",
    "    for vertex in set_of_open_vertices:\n",
    "        count=0\n",
    "        for edge in modified_interior_edge_set.copy():\n",
    "            if vertex in set(edge):\n",
    "                count+=1\n",
    "        if count>=3:\n",
    "            nb_of_polygon=count-2\n",
    "            #print(\"Vertex {} is a common vtx of multiple polygons\".format(vertex))\n",
    "            set_of_common_vertices.add(vertex)\n",
    "        found_common_vertex=True\n",
    "        \n",
    "    # An edge could be part of more than one polygons. This means that the vertices of this edge\n",
    "    # are already in the set of common vertices and the edges is inside the set of the of modi\n",
    "    # fied interior edges\n",
    "    set_of_common_edges=set()\n",
    "    for vtx1 in  set_of_common_vertices:\n",
    "        for vtx2 in set_of_common_vertices:\n",
    "            pass\n",
    "    \n",
    "    \n",
    "    \n",
    "    \n",
    "    \n",
    "    # if the set found is les than 4 then now polygon is formed\n",
    "    if len(set_of_open_vertices)<4:\n",
    "        return []\n",
    "    \n",
    "    edges_to_visit=modified_interior_edge_set\n",
    "\n",
    "    \n",
    "    sub_polygon_list=[]\n",
    "    if len(edges_to_visit)<3:\n",
    "        return sub_polygon_list\n",
    "    if set_of_common_vertices:\n",
    "        while edges_to_visit:  \n",
    "            for vtx in set_of_common_vertices:\n",
    "                subpolygon=polygon_2_vtx(vtx,edges_to_visit)\n",
    "                if subpolygon is not None:\n",
    "                    sub_polygon_list.append(subpolygon)\n",
    "                    #print(sub_polygon_list)\n",
    "    \n",
    "    \n",
    "    \n",
    "    # Removing eges where one vertex is locked and the other is not:\n",
    "    for edge in edges_to_visit.copy():\n",
    "        if (edge[0] in set_of_open_vertices and edge[1] not in set_of_open_vertices) or (edge[1] in set_of_open_vertices and edge[0] not in set_of_open_vertices):\n",
    "            edges_to_visit.discard(edge)\n",
    "            #print(\"Removing\",edge,\"from edges to visit\")\n",
    "            #print(\"Edges to visit are now\",edges_to_visit)\n",
    "    \n",
    "    \n",
    "    while edges_to_visit:          \n",
    "        for vtx in set_of_open_vertices.copy():\n",
    "            #print(\"Starting with vertex\",vtx)\n",
    "            subpolygon=polygon_2_vtx(vtx,edges_to_visit)\n",
    "\n",
    "            if subpolygon is not None:\n",
    "                sub_polygon_list.append(subpolygon)\n",
    "                print(sub_polygon_list)\n",
    "        \n",
    "                                    \n",
    "    for sub_polygon in sub_polygon_list:\n",
    "        if len(sub_polygon)>3:\n",
    "            pass\n",
    "            #print(\"found polygon\",sub_polygon)\n",
    "        else:\n",
    "            pass\n",
    "            #print(\"found element\",sub_polygon)\n",
    "    return sub_polygon_list"
   ]
  },
  {
   "cell_type": "code",
   "execution_count": 173,
   "metadata": {
    "collapsed": false
   },
   "outputs": [],
   "source": [
    "def export_contour(filename,contour):\n",
    "    path=os.path.join('contour_cases',filename+'.txt')\n",
    "    file=open(path,'w')\n",
    "    for i in contour:\n",
    "        file.write(np.array2string(i)+\"\\n\")\n",
    "    file.close()\n",
    "\n",
    "    \n",
    "def read_contour(filename):\n",
    "    path=os.path.join('contour_cases',filename+'.txt')\n",
    "    contour=[]\n",
    "    file=open(path,'r')\n",
    "    for line in file:\n",
    "        coord=np.fromstring(line.strip('[\\n]'), dtype=float, sep=' ')\n",
    "        contour.append(coord)\n",
    "    file.close()\n",
    "    return np.array(contour)\n"
   ]
  },
  {
   "cell_type": "code",
   "execution_count": 174,
   "metadata": {
    "collapsed": false
   },
   "outputs": [],
   "source": [
    "def create_dataset(nb_of_contours,nb_of_points):\n",
    "    Polygons=np.empty([nb_of_contours,nb_of_points,2])\n",
    "    Labels_min=np.empty([nb_of_contours,nb_of_points,nb_of_points]) # Labels for polygons\n",
    "    Labels_mean=np.empty([nb_of_contours,nb_of_points,nb_of_points]) # Labels for polygons\n",
    "\n",
    "    count=0\n",
    "    for i in range(nb_of_contours):\n",
    "        Polygons[i] = apply_procrustes(generate_contour(nb_of_points,False),False)\n",
    "        Labels_min[i]=quality_matrix( Polygons[i],compute_minimum=True,mean=False)[0]\n",
    "        Labels_mean[i]=quality_matrix( Polygons[i],compute_minimum=True,mean=True)[0]\n",
    "\n",
    "        count+=1\n",
    "        print(count, \" out of \", nb_of_contours, \"calculated\",nb_of_points)\n",
    "    return Polygons,Labels_min,Labels_mean\n",
    "    \n"
   ]
  },
  {
   "cell_type": "code",
   "execution_count": 175,
   "metadata": {
    "collapsed": false
   },
   "outputs": [],
   "source": [
    "def save_dataset(filename,dataset):\n",
    "    path=os.path.join('datasets',filename)\n",
    "    \n",
    "    with open(path,'wb') as output:\n",
    "        pickle.dump(dataset,output)\n",
    "        \n",
    "def load_dataset(filename):\n",
    "    path=os.path.join('datasets',filename)\n",
    "\n",
    "    with open(path,'rb') as input:\n",
    "        dataset=pickle.load(input)\n",
    "    return dataset"
   ]
  },
  {
   "cell_type": "code",
   "execution_count": 176,
   "metadata": {
    "collapsed": true
   },
   "outputs": [],
   "source": [
    "def save_network(filename,net):\n",
    "    net.eval()\n",
    "    path=os.path.join('networks',filename)\n",
    "\n",
    "    with open(path,'wb') as output:\n",
    "        pickle.dump(net,output)\n",
    "        \n",
    "def load_network(filename):\n",
    "    path=os.path.join('networks',filename)\n",
    "\n",
    "    with open(path,'rb') as input:\n",
    "        net=pickle.load(input)\n",
    "    return net"
   ]
  },
  {
   "cell_type": "markdown",
   "metadata": {
    "collapsed": false,
    "scrolled": true
   },
   "source": [
    "############### Create dataset ##################################\n",
    "nb_of_points=[7,8,9,10,11,12,13,14,15,16,17,18,19,20]\n",
    "#nb_of_points=[6]\n",
    "nb_of_data=120000\n",
    "\n",
    "\n",
    "for i in nb_of_points[::-1]:\n",
    "    Polygons,qualities_min,qualities_mean= create_dataset(nb_of_data,i)\n",
    "    save_dataset(str(i)+'_polygons.pkl',Polygons)\n",
    "    save_dataset(str(i)+'_polygons_qualities_min.pkl',qualities_min)\n",
    "    save_dataset(str(i)+'_polygons_qualities_mean.pkl',qualities_mean)\n",
    "\n",
    "\n"
   ]
  },
  {
   "cell_type": "code",
   "execution_count": 163,
   "metadata": {
    "collapsed": false,
    "scrolled": true
   },
   "outputs": [],
   "source": [
    "# load the datasets\n",
    "#Polygons,quality_matrices=load_dataset('nine_polygons.pkl'),load_dataset('9_polygons_quality.pkl')\n",
    "Polygons,quality_matrices=load_dataset('4_polygons.pkl'),load_dataset('4_polygons_qualities_min.pkl')"
   ]
  },
  {
   "cell_type": "code",
   "execution_count": 62,
   "metadata": {
    "collapsed": false
   },
   "outputs": [
    {
     "ename": "NameError",
     "evalue": "name 'Polygons' is not defined",
     "output_type": "error",
     "traceback": [
      "\u001b[0;31m---------------------------------------------------------------------------\u001b[0m",
      "\u001b[0;31mNameError\u001b[0m                                 Traceback (most recent call last)",
      "\u001b[0;32m<ipython-input-62-ba24c9d530ad>\u001b[0m in \u001b[0;36m<module>\u001b[0;34m()\u001b[0m\n\u001b[1;32m      2\u001b[0m \u001b[1;33m\u001b[0m\u001b[0m\n\u001b[1;32m      3\u001b[0m \u001b[0mnb_of_points\u001b[0m\u001b[1;33m=\u001b[0m\u001b[1;36m4\u001b[0m\u001b[1;33m\u001b[0m\u001b[0m\n\u001b[0;32m----> 4\u001b[0;31m \u001b[0mnb_of_contours\u001b[0m\u001b[1;33m=\u001b[0m\u001b[0mint\u001b[0m\u001b[1;33m(\u001b[0m\u001b[0mPolygons\u001b[0m\u001b[1;33m.\u001b[0m\u001b[0mshape\u001b[0m\u001b[1;33m[\u001b[0m\u001b[1;36m0\u001b[0m\u001b[1;33m]\u001b[0m\u001b[1;33m)\u001b[0m\u001b[1;33m\u001b[0m\u001b[0m\n\u001b[0m\u001b[1;32m      5\u001b[0m \u001b[1;33m\u001b[0m\u001b[0m\n\u001b[1;32m      6\u001b[0m \u001b[0mnb_test_data\u001b[0m\u001b[1;33m=\u001b[0m\u001b[0mint\u001b[0m\u001b[1;33m(\u001b[0m\u001b[1;36m0.2\u001b[0m\u001b[1;33m*\u001b[0m\u001b[0mPolygons\u001b[0m\u001b[1;33m.\u001b[0m\u001b[0mshape\u001b[0m\u001b[1;33m[\u001b[0m\u001b[1;36m0\u001b[0m\u001b[1;33m]\u001b[0m\u001b[1;33m)\u001b[0m\u001b[1;33m\u001b[0m\u001b[0m\n",
      "\u001b[0;31mNameError\u001b[0m: name 'Polygons' is not defined"
     ]
    }
   ],
   "source": [
    "# Testing data are usually 20 percent of the whole\n",
    "\n",
    "nb_of_points=4\n",
    "nb_of_contours=int(Polygons.shape[0])\n",
    "\n",
    "nb_test_data=int(0.2*Polygons.shape[0])\n",
    "nb_training_data=int(Polygons.shape[0])-nb_test_data\n",
    "Polygons.shape[0]"
   ]
  },
  {
   "cell_type": "code",
   "execution_count": 63,
   "metadata": {
    "collapsed": false,
    "scrolled": true
   },
   "outputs": [
    {
     "ename": "NameError",
     "evalue": "name 'nb_of_contours' is not defined",
     "output_type": "error",
     "traceback": [
      "\u001b[0;31m---------------------------------------------------------------------------\u001b[0m",
      "\u001b[0;31mNameError\u001b[0m                                 Traceback (most recent call last)",
      "\u001b[0;32m<ipython-input-63-3e132e9d062d>\u001b[0m in \u001b[0;36m<module>\u001b[0;34m()\u001b[0m\n\u001b[1;32m      7\u001b[0m \u001b[1;33m\u001b[0m\u001b[0m\n\u001b[1;32m      8\u001b[0m \u001b[1;33m\u001b[0m\u001b[0m\n\u001b[0;32m----> 9\u001b[0;31m \u001b[1;32mfor\u001b[0m \u001b[0mi\u001b[0m \u001b[1;32min\u001b[0m \u001b[0mrange\u001b[0m\u001b[1;33m(\u001b[0m\u001b[0mnb_of_contours\u001b[0m\u001b[1;33m)\u001b[0m\u001b[1;33m:\u001b[0m\u001b[1;33m\u001b[0m\u001b[0m\n\u001b[0m\u001b[1;32m     10\u001b[0m     \u001b[0mPolygons_reshaped\u001b[0m\u001b[1;33m.\u001b[0m\u001b[0mappend\u001b[0m\u001b[1;33m(\u001b[0m\u001b[0mPolygons\u001b[0m\u001b[1;33m[\u001b[0m\u001b[0mi\u001b[0m\u001b[1;33m]\u001b[0m\u001b[1;33m.\u001b[0m\u001b[0mreshape\u001b[0m\u001b[1;33m(\u001b[0m\u001b[1;36m2\u001b[0m\u001b[1;33m*\u001b[0m\u001b[0mnb_of_points\u001b[0m\u001b[1;33m)\u001b[0m\u001b[1;33m)\u001b[0m\u001b[1;33m\u001b[0m\u001b[0m\n\u001b[1;32m     11\u001b[0m \u001b[1;33m\u001b[0m\u001b[0m\n",
      "\u001b[0;31mNameError\u001b[0m: name 'nb_of_contours' is not defined"
     ]
    }
   ],
   "source": [
    "# Project set of polygons in 2d and 3d space #\n",
    "# Dimensionality reduction using Isomap, PCA, kernel PCA ... #\n",
    "\n",
    "\n",
    "Polygons_reshaped=[]\n",
    "\n",
    "\n",
    "\n",
    "for i in range(nb_of_contours):\n",
    "    Polygons_reshaped.append(Polygons[i].reshape(2*nb_of_points))\n",
    "\n",
    "Polygons_reshaped=np.array(Polygons_reshaped) \n",
    "\n",
    "\n",
    "\n",
    "\n",
    "\n",
    "                        # Isomap #\n",
    "#nb_components=8\n",
    "#iso=manifold.Isomap(n_neighbors=8,n_components=nb_components,n_jobs=-1)\n",
    "#iso.fit(Polygons_reshaped)\n",
    "#Polygons_projected=iso.transform(Polygons_reshaped)\n",
    "\n",
    "\n",
    "                        # PCA   #\n",
    "pca=PCA(.999)\n",
    "pca.fit(Polygons_reshaped)\n",
    "Polygons_projected=pca.transform(Polygons_reshaped)\n",
    "nb_components=int(pca.n_components_)\n",
    "print(nb_components)\n",
    "# Fitting into lesser dimension\n",
    "\n",
    "#Polygons_projected=iso.fit_transform(Polygons_reshaped)\n",
    "#Polygons_projected=iso.transform(Polygons_reshaped)\n",
    "\n",
    "#iso = KernelPCA(n_components=2,kernel=\"rbf\", fit_inverse_transform=True, gamma=1e-1)\n",
    "\n"
   ]
  },
  {
   "cell_type": "code",
   "execution_count": null,
   "metadata": {
    "collapsed": false
   },
   "outputs": [],
   "source": []
  },
  {
   "cell_type": "code",
   "execution_count": 139,
   "metadata": {
    "collapsed": false
   },
   "outputs": [
    {
     "ename": "NameError",
     "evalue": "name 'nb_of_points' is not defined",
     "output_type": "error",
     "traceback": [
      "\u001b[0;31m---------------------------------------------------------------------------\u001b[0m",
      "\u001b[0;31mNameError\u001b[0m                                 Traceback (most recent call last)",
      "\u001b[0;32m<ipython-input-139-dfadf673fd60>\u001b[0m in \u001b[0;36m<module>\u001b[0;34m()\u001b[0m\n\u001b[0;32m----> 1\u001b[0;31m \u001b[0mcontour\u001b[0m\u001b[1;33m=\u001b[0m\u001b[0mapply_procrustes\u001b[0m\u001b[1;33m(\u001b[0m\u001b[0mgenerate_contour\u001b[0m\u001b[1;33m(\u001b[0m\u001b[0mnb_of_points\u001b[0m\u001b[1;33m,\u001b[0m\u001b[1;32mFalse\u001b[0m\u001b[1;33m)\u001b[0m\u001b[1;33m,\u001b[0m\u001b[1;32mFalse\u001b[0m\u001b[1;33m)\u001b[0m\u001b[1;33m\u001b[0m\u001b[0m\n\u001b[0m\u001b[1;32m      2\u001b[0m \u001b[0mcontour\u001b[0m\u001b[1;33m=\u001b[0m\u001b[0mcontour\u001b[0m\u001b[1;33m.\u001b[0m\u001b[0mreshape\u001b[0m\u001b[1;33m(\u001b[0m\u001b[1;36m2\u001b[0m\u001b[1;33m*\u001b[0m\u001b[0mcontour\u001b[0m\u001b[1;33m.\u001b[0m\u001b[0mshape\u001b[0m\u001b[1;33m[\u001b[0m\u001b[1;36m0\u001b[0m\u001b[1;33m]\u001b[0m\u001b[1;33m)\u001b[0m\u001b[1;33m.\u001b[0m\u001b[0mreshape\u001b[0m\u001b[1;33m(\u001b[0m\u001b[1;36m1\u001b[0m\u001b[1;33m,\u001b[0m\u001b[1;33m-\u001b[0m\u001b[1;36m1\u001b[0m\u001b[1;33m)\u001b[0m\u001b[1;33m\u001b[0m\u001b[0m\n\u001b[1;32m      3\u001b[0m \u001b[0mprint\u001b[0m\u001b[1;33m(\u001b[0m\u001b[0mcontour\u001b[0m\u001b[1;33m)\u001b[0m\u001b[1;33m\u001b[0m\u001b[0m\n\u001b[1;32m      4\u001b[0m \u001b[0mcontour_tranformed\u001b[0m\u001b[1;33m=\u001b[0m\u001b[0mpca\u001b[0m\u001b[1;33m.\u001b[0m\u001b[0mtransform\u001b[0m\u001b[1;33m(\u001b[0m\u001b[0mcontour\u001b[0m\u001b[1;33m)\u001b[0m\u001b[1;33m\u001b[0m\u001b[0m\n\u001b[1;32m      5\u001b[0m \u001b[0mprint\u001b[0m\u001b[1;33m(\u001b[0m\u001b[0mpca\u001b[0m\u001b[1;33m.\u001b[0m\u001b[0minverse_transform\u001b[0m\u001b[1;33m(\u001b[0m\u001b[0mcontour_tranformed\u001b[0m\u001b[1;33m)\u001b[0m\u001b[1;33m)\u001b[0m\u001b[1;33m\u001b[0m\u001b[0m\n",
      "\u001b[0;31mNameError\u001b[0m: name 'nb_of_points' is not defined"
     ]
    }
   ],
   "source": [
    "contour=apply_procrustes(generate_contour(nb_of_points,False),False)\n",
    "contour=contour.reshape(2*contour.shape[0]).reshape(1,-1)\n",
    "print(contour)\n",
    "contour_tranformed=pca.transform(contour)\n",
    "print(pca.inverse_transform(contour_tranformed))"
   ]
  },
  {
   "cell_type": "code",
   "execution_count": 21,
   "metadata": {
    "collapsed": false
   },
   "outputs": [],
   "source": [
    "# Organizing data \n",
    "training_data = Polygons_projected[:nb_training_data]\n",
    "testing_data  = Polygons_projected[nb_training_data:]\n",
    "\n",
    "training_labels=quality_matrices[:nb_training_data]\n",
    "testing_labels=quality_matrices[nb_training_data:]\n",
    "\n"
   ]
  },
  {
   "cell_type": "code",
   "execution_count": 22,
   "metadata": {
    "collapsed": false,
    "scrolled": false
   },
   "outputs": [],
   "source": [
    "# Convert to pytorch tennsors\n",
    "\n",
    "x_tensor=torch.from_numpy(training_data).type(torch.FloatTensor)\n",
    "x_tensor_test=torch.from_numpy(testing_data).type(torch.FloatTensor)\n",
    "\n",
    "\n",
    "y_tensor=torch.from_numpy(training_labels).type(torch.FloatTensor)\n",
    "y_tensor_test=torch.from_numpy(testing_labels).type(torch.FloatTensor)\n",
    "\n",
    "\n",
    "# Convert to pytorch variables\n",
    "x_variable=Variable(x_tensor)\n",
    "x_variable_test=Variable(x_tensor_test)\n",
    "\n",
    "\n",
    "\n",
    "y_variable=Variable(y_tensor)\n",
    "y_variable=y_variable.resize(nb_training_data,nb_of_points*nb_of_points)\n",
    "\n",
    "\n",
    "y_variable_test=Variable(y_tensor_test)\n",
    "y_variable_test=y_variable_test.resize(nb_test_data,nb_of_points*nb_of_points)\n"
   ]
  },
  {
   "cell_type": "code",
   "execution_count": 177,
   "metadata": {
    "collapsed": false,
    "scrolled": true
   },
   "outputs": [],
   "source": [
    "B_INIT = -0.2 # use a bad bias constant initializer\n",
    "\n",
    "\n",
    "class Net(nn.Module):\n",
    "    \n",
    "    def __init__(self,in_features_dimension,out_features_dimension,nb_of_hidden_layers,nb_of_hidden_nodes,\n",
    "                 batch_normalization=False):\n",
    "        \n",
    "        super(Net,self).__init__()\n",
    "        \n",
    "        self.nb_hidden_layers=nb_of_hidden_layers\n",
    "        self.do_bn=batch_normalization\n",
    "        self.fcs=[]\n",
    "        self.bns=[]\n",
    "        self.bn_input=nn.BatchNorm1d(in_features_dimension,momentum=0.5) #for input data\n",
    "        \n",
    "        for i in range(nb_of_hidden_layers):                              # build hidden layers and BN layers\n",
    "            \n",
    "            input_size=in_features_dimension if i==0 else nb_of_hidden_nodes\n",
    "            fc=nn.Linear(input_size,nb_of_hidden_nodes)\n",
    "            setattr(self, 'fc%i' % i, fc)       # IMPORTANT set layer to the Module\n",
    "            self._set_init(fc)                  # parameters initialization\n",
    "            self.fcs.append(fc)\n",
    "            \n",
    "            if self.do_bn:\n",
    "                bn = nn.BatchNorm1d(nb_of_hidden_nodes, momentum=0.5)\n",
    "                setattr(self, 'bn%i' % i, bn)                         # IMPORTANT set layer to the Module\n",
    "                self.bns.append(bn)\n",
    "    \n",
    "            self.predict = nn.Linear(nb_of_hidden_nodes,out_features_dimension)         # output layer\n",
    "            self._set_init(self.predict)                                              # parameters initialization\n",
    "    \n",
    "    \n",
    "    def _set_init(self, layer):\n",
    "            init.normal(layer.weight, mean=0., std=.1)\n",
    "            init.constant(layer.bias, B_INIT)\n",
    "\n",
    "    \n",
    "    \n",
    "    \n",
    "    def forward(self, x):\n",
    "        ACTIVATION=F.relu\n",
    "        pre_activation = [x]\n",
    "        if self.do_bn: x = self.bn_input(x)     # input batch normalization\n",
    "        layer_input = [x]\n",
    "        for i in range(self.nb_hidden_layers):\n",
    "            x = self.fcs[i](x)\n",
    "            pre_activation.append(x)\n",
    "            if self.do_bn: x = self.bns[i](x)   # batch normalization\n",
    "            x = ACTIVATION(x)\n",
    "            layer_input.append(x)\n",
    "        out = self.predict(x)\n",
    "        return out\n",
    "        \n",
    "    "
   ]
  },
  {
   "cell_type": "code",
   "execution_count": 178,
   "metadata": {
    "collapsed": false
   },
   "outputs": [
    {
     "ename": "NameError",
     "evalue": "name 'nb_components' is not defined",
     "output_type": "error",
     "traceback": [
      "\u001b[0;31m---------------------------------------------------------------------------\u001b[0m",
      "\u001b[0;31mNameError\u001b[0m                                 Traceback (most recent call last)",
      "\u001b[0;32m<ipython-input-178-dc194a57a79f>\u001b[0m in \u001b[0;36m<module>\u001b[0;34m()\u001b[0m\n\u001b[1;32m      1\u001b[0m \u001b[1;33m\u001b[0m\u001b[0m\n\u001b[0;32m----> 2\u001b[0;31m my_net=Net(nb_components,nb_of_points*nb_of_points,nb_of_hidden_layers=1,\n\u001b[0m\u001b[1;32m      3\u001b[0m            nb_of_hidden_nodes=15,batch_normalization=True)\n\u001b[1;32m      4\u001b[0m \u001b[1;33m\u001b[0m\u001b[0m\n",
      "\u001b[0;31mNameError\u001b[0m: name 'nb_components' is not defined"
     ]
    }
   ],
   "source": [
    "\n",
    "my_net=Net(nb_components,nb_of_points*nb_of_points,nb_of_hidden_layers=1,\n",
    "           nb_of_hidden_nodes=15,batch_normalization=True)\n",
    "\n"
   ]
  },
  {
   "cell_type": "code",
   "execution_count": 179,
   "metadata": {
    "collapsed": false
   },
   "outputs": [
    {
     "ename": "NameError",
     "evalue": "name 'my_net' is not defined",
     "output_type": "error",
     "traceback": [
      "\u001b[0;31m---------------------------------------------------------------------------\u001b[0m",
      "\u001b[0;31mNameError\u001b[0m                                 Traceback (most recent call last)",
      "\u001b[0;32m<ipython-input-179-201698fe3687>\u001b[0m in \u001b[0;36m<module>\u001b[0;34m()\u001b[0m\n\u001b[0;32m----> 1\u001b[0;31m \u001b[0moptimizer\u001b[0m \u001b[1;33m=\u001b[0m \u001b[0mtorch\u001b[0m\u001b[1;33m.\u001b[0m\u001b[0moptim\u001b[0m\u001b[1;33m.\u001b[0m\u001b[0mAdam\u001b[0m\u001b[1;33m(\u001b[0m\u001b[0mmy_net\u001b[0m\u001b[1;33m.\u001b[0m\u001b[0mparameters\u001b[0m\u001b[1;33m(\u001b[0m\u001b[1;33m)\u001b[0m\u001b[1;33m,\u001b[0m \u001b[0mlr\u001b[0m\u001b[1;33m=\u001b[0m\u001b[1;36m1e-4\u001b[0m\u001b[1;33m,\u001b[0m\u001b[0mweight_decay\u001b[0m\u001b[1;33m=\u001b[0m\u001b[1;36m.5\u001b[0m\u001b[1;33m)\u001b[0m\u001b[1;33m\u001b[0m\u001b[0m\n\u001b[0m\u001b[1;32m      2\u001b[0m \u001b[1;31m#optimizer = torch.optim.SGD(my_net.parameters(), lr=1e-5,weight_decay=.5,momentum=0.9)\u001b[0m\u001b[1;33m\u001b[0m\u001b[1;33m\u001b[0m\u001b[0m\n\u001b[1;32m      3\u001b[0m \u001b[1;33m\u001b[0m\u001b[0m\n\u001b[1;32m      4\u001b[0m \u001b[0mloss_func\u001b[0m \u001b[1;33m=\u001b[0m \u001b[0mtorch\u001b[0m\u001b[1;33m.\u001b[0m\u001b[0mnn\u001b[0m\u001b[1;33m.\u001b[0m\u001b[0mMSELoss\u001b[0m\u001b[1;33m(\u001b[0m\u001b[0msize_average\u001b[0m\u001b[1;33m=\u001b[0m\u001b[1;32mFalse\u001b[0m\u001b[1;33m)\u001b[0m\u001b[1;33m\u001b[0m\u001b[0m\n",
      "\u001b[0;31mNameError\u001b[0m: name 'my_net' is not defined"
     ]
    }
   ],
   "source": [
    "optimizer = torch.optim.Adam(my_net.parameters(), lr=1e-4,weight_decay=.5)\n",
    "#optimizer = torch.optim.SGD(my_net.parameters(), lr=1e-5,weight_decay=.5,momentum=0.9)\n",
    "\n",
    "loss_func = torch.nn.MSELoss(size_average=False)  "
   ]
  },
  {
   "cell_type": "code",
   "execution_count": 180,
   "metadata": {
    "collapsed": false,
    "scrolled": true
   },
   "outputs": [
    {
     "ename": "NameError",
     "evalue": "name 'my_net' is not defined",
     "output_type": "error",
     "traceback": [
      "\u001b[0;31m---------------------------------------------------------------------------\u001b[0m",
      "\u001b[0;31mNameError\u001b[0m                                 Traceback (most recent call last)",
      "\u001b[0;32m<ipython-input-180-139a64cc06c2>\u001b[0m in \u001b[0;36m<module>\u001b[0;34m()\u001b[0m\n\u001b[1;32m      1\u001b[0m \u001b[1;32mif\u001b[0m  \u001b[0mtorch\u001b[0m\u001b[1;33m.\u001b[0m\u001b[0mcuda\u001b[0m\u001b[1;33m.\u001b[0m\u001b[0mis_available\u001b[0m\u001b[1;33m(\u001b[0m\u001b[1;33m)\u001b[0m\u001b[1;33m:\u001b[0m\u001b[1;33m\u001b[0m\u001b[0m\n\u001b[0;32m----> 2\u001b[0;31m     \u001b[0mmy_net\u001b[0m\u001b[1;33m.\u001b[0m\u001b[0mcuda\u001b[0m\u001b[1;33m(\u001b[0m\u001b[1;33m)\u001b[0m\u001b[1;33m\u001b[0m\u001b[0m\n\u001b[0m\u001b[1;32m      3\u001b[0m     \u001b[0mloss_func\u001b[0m\u001b[1;33m.\u001b[0m\u001b[0mcuda\u001b[0m\u001b[1;33m(\u001b[0m\u001b[1;33m)\u001b[0m\u001b[1;33m\u001b[0m\u001b[0m\n\u001b[1;32m      4\u001b[0m     \u001b[0mx_variable\u001b[0m \u001b[1;33m,\u001b[0m \u001b[0my_variable\u001b[0m \u001b[1;33m=\u001b[0m \u001b[0mx_variable\u001b[0m\u001b[1;33m.\u001b[0m\u001b[0mcuda\u001b[0m\u001b[1;33m(\u001b[0m\u001b[1;33m)\u001b[0m\u001b[1;33m,\u001b[0m \u001b[0my_variable\u001b[0m\u001b[1;33m.\u001b[0m\u001b[0mcuda\u001b[0m\u001b[1;33m(\u001b[0m\u001b[1;33m)\u001b[0m\u001b[1;33m\u001b[0m\u001b[0m\n\u001b[1;32m      5\u001b[0m     \u001b[0mx_variable_test\u001b[0m \u001b[1;33m,\u001b[0m \u001b[0my_variable_test\u001b[0m \u001b[1;33m=\u001b[0m \u001b[0mx_variable_test\u001b[0m\u001b[1;33m.\u001b[0m\u001b[0mcuda\u001b[0m\u001b[1;33m(\u001b[0m\u001b[1;33m)\u001b[0m\u001b[1;33m,\u001b[0m \u001b[0my_variable_test\u001b[0m\u001b[1;33m.\u001b[0m\u001b[0mcuda\u001b[0m\u001b[1;33m(\u001b[0m\u001b[1;33m)\u001b[0m\u001b[1;33m\u001b[0m\u001b[0m\n",
      "\u001b[0;31mNameError\u001b[0m: name 'my_net' is not defined"
     ]
    }
   ],
   "source": [
    "if  torch.cuda.is_available():\n",
    "    my_net.cuda()\n",
    "    loss_func.cuda()\n",
    "    x_variable , y_variable = x_variable.cuda(), y_variable.cuda()\n",
    "    x_variable_test , y_variable_test = x_variable_test.cuda(), y_variable_test.cuda()\n",
    "    print(\"cuda activated\")"
   ]
  },
  {
   "cell_type": "code",
   "execution_count": null,
   "metadata": {
    "collapsed": true
   },
   "outputs": [],
   "source": []
  },
  {
   "cell_type": "code",
   "execution_count": 181,
   "metadata": {
    "collapsed": false
   },
   "outputs": [
    {
     "ename": "NameError",
     "evalue": "name 'x_variable' is not defined",
     "output_type": "error",
     "traceback": [
      "\u001b[0;31m---------------------------------------------------------------------------\u001b[0m",
      "\u001b[0;31mNameError\u001b[0m                                 Traceback (most recent call last)",
      "\u001b[0;32m<ipython-input-181-441615543199>\u001b[0m in \u001b[0;36m<module>\u001b[0;34m()\u001b[0m\n\u001b[1;32m      1\u001b[0m \u001b[0mnb_of_epochs\u001b[0m\u001b[1;33m=\u001b[0m\u001b[1;36m15000\u001b[0m\u001b[1;33m\u001b[0m\u001b[0m\n\u001b[0;32m----> 2\u001b[0;31m \u001b[0mbatch_size\u001b[0m\u001b[1;33m=\u001b[0m\u001b[0mint\u001b[0m\u001b[1;33m(\u001b[0m\u001b[0mx_variable\u001b[0m\u001b[1;33m.\u001b[0m\u001b[0mshape\u001b[0m\u001b[1;33m[\u001b[0m\u001b[1;36m0\u001b[0m\u001b[1;33m]\u001b[0m\u001b[1;33m/\u001b[0m\u001b[1;36m10\u001b[0m\u001b[1;33m)\u001b[0m\u001b[1;33m\u001b[0m\u001b[0m\n\u001b[0m\u001b[1;32m      3\u001b[0m \u001b[1;31m# Train the network #\u001b[0m\u001b[1;33m\u001b[0m\u001b[1;33m\u001b[0m\u001b[0m\n\u001b[1;32m      4\u001b[0m \u001b[1;32mfor\u001b[0m \u001b[0mt\u001b[0m \u001b[1;32min\u001b[0m \u001b[0mrange\u001b[0m\u001b[1;33m(\u001b[0m\u001b[0mnb_of_epochs\u001b[0m\u001b[1;33m)\u001b[0m\u001b[1;33m:\u001b[0m\u001b[1;33m\u001b[0m\u001b[0m\n\u001b[1;32m      5\u001b[0m     \u001b[0msum_loss\u001b[0m\u001b[1;33m=\u001b[0m\u001b[1;36m0\u001b[0m\u001b[1;33m\u001b[0m\u001b[0m\n",
      "\u001b[0;31mNameError\u001b[0m: name 'x_variable' is not defined"
     ]
    }
   ],
   "source": [
    "nb_of_epochs=15000\n",
    "batch_size=int(x_variable.shape[0]/10)\n",
    "# Train the network #\n",
    "for t in range(nb_of_epochs):\n",
    "    sum_loss=0\n",
    "    for b in range(0,x_variable.size(0),batch_size):\n",
    "        out = my_net(x_variable.narrow(0,b,batch_size))                 # input x and predict based on x\n",
    "        loss = loss_func(out, y_variable.narrow(0,b,batch_size))     # must be (1. nn output, 2. target), the target label is NOT one-hotted\n",
    "        sum_loss+=loss.data[0]\n",
    "        optimizer.zero_grad()   # clear gradients for next train\n",
    "        loss.backward()         # backpropagation, compute gradients\n",
    "        #print(t,loss.data[0])\n",
    "        optimizer.step()        # apply gradients\n",
    "    \n",
    "    my_net.eval()\n",
    "    test_loss=loss_func(my_net(x_variable_test),y_variable_test).data[0]\n",
    "    my_net.train()\n",
    "    print(\"Epoch:\",t,\"Training Loss:\",sum_loss/x_variable.size(0),\"Test Loss:\",test_loss/x_variable_test.size(0))"
   ]
  },
  {
   "cell_type": "code",
   "execution_count": 156,
   "metadata": {
    "collapsed": false
   },
   "outputs": [],
   "source": [
    "save_network('4_neural_net.pkl',my_net)"
   ]
  },
  {
   "cell_type": "code",
   "execution_count": null,
   "metadata": {
    "collapsed": false,
    "scrolled": true
   },
   "outputs": [],
   "source": [
    "network9=load_network('9_neural_net.pkl')"
   ]
  },
  {
   "cell_type": "code",
   "execution_count": null,
   "metadata": {
    "collapsed": false,
    "scrolled": false
   },
   "outputs": [],
   "source": [
    "network9"
   ]
  },
  {
   "cell_type": "code",
   "execution_count": null,
   "metadata": {
    "collapsed": false,
    "scrolled": true
   },
   "outputs": [],
   "source": []
  },
  {
   "cell_type": "code",
   "execution_count": null,
   "metadata": {
    "collapsed": false,
    "scrolled": true
   },
   "outputs": [],
   "source": []
  },
  {
   "cell_type": "code",
   "execution_count": null,
   "metadata": {
    "collapsed": true
   },
   "outputs": [],
   "source": [
    "contour=generate_contour(9)"
   ]
  },
  {
   "cell_type": "code",
   "execution_count": 144,
   "metadata": {
    "collapsed": false,
    "scrolled": true
   },
   "outputs": [
    {
     "name": "stdout",
     "output_type": "stream",
     "text": [
      "Elapsed time for applying procrustes --- 0.0005006790161132812 seconds ---\n"
     ]
    },
    {
     "ename": "NameError",
     "evalue": "name 'pca' is not defined",
     "output_type": "error",
     "traceback": [
      "\u001b[0;31m---------------------------------------------------------------------------\u001b[0m",
      "\u001b[0;31mNameError\u001b[0m                                 Traceback (most recent call last)",
      "\u001b[0;32m<ipython-input-144-2f39c1d7673c>\u001b[0m in \u001b[0;36m<module>\u001b[0;34m()\u001b[0m\n\u001b[1;32m     13\u001b[0m \u001b[1;31m# Project to space\u001b[0m\u001b[1;33m\u001b[0m\u001b[1;33m\u001b[0m\u001b[0m\n\u001b[1;32m     14\u001b[0m \u001b[0mtime2\u001b[0m\u001b[1;33m=\u001b[0m\u001b[0mtime\u001b[0m\u001b[1;33m.\u001b[0m\u001b[0mtime\u001b[0m\u001b[1;33m(\u001b[0m\u001b[1;33m)\u001b[0m\u001b[1;33m\u001b[0m\u001b[0m\n\u001b[0;32m---> 15\u001b[0;31m \u001b[0mcontour_transformed\u001b[0m\u001b[1;33m=\u001b[0m\u001b[0mpca\u001b[0m\u001b[1;33m.\u001b[0m\u001b[0mtransform\u001b[0m\u001b[1;33m(\u001b[0m\u001b[0mprocrustes_contour\u001b[0m\u001b[1;33m)\u001b[0m\u001b[1;33m\u001b[0m\u001b[0m\n\u001b[0m\u001b[1;32m     16\u001b[0m \u001b[0mprojection_time\u001b[0m\u001b[1;33m=\u001b[0m\u001b[0mtime\u001b[0m\u001b[1;33m.\u001b[0m\u001b[0mtime\u001b[0m\u001b[1;33m(\u001b[0m\u001b[1;33m)\u001b[0m \u001b[1;33m-\u001b[0m \u001b[0mtime2\u001b[0m\u001b[1;33m\u001b[0m\u001b[0m\n\u001b[1;32m     17\u001b[0m \u001b[0mprint\u001b[0m\u001b[1;33m(\u001b[0m\u001b[1;34m\"Elapsed time for projection --- %s seconds ---\"\u001b[0m \u001b[1;33m%\u001b[0m \u001b[1;33m(\u001b[0m\u001b[0mprojection_time\u001b[0m\u001b[1;33m)\u001b[0m\u001b[1;33m)\u001b[0m\u001b[1;33m\u001b[0m\u001b[0m\n",
      "\u001b[0;31mNameError\u001b[0m: name 'pca' is not defined"
     ]
    }
   ],
   "source": [
    "start_time=time.time()\n",
    "# Perform procrustes\n",
    "time1=time.time()\n",
    "procrustes_contour=apply_procrustes(contour)\n",
    "procrustes_time=time.time() - time1\n",
    "print(\"Elapsed time for applying procrustes --- %s seconds ---\" % (procrustes_time))\n",
    "\n",
    "\n",
    "procrustes_contour=procrustes_contour.reshape(2*contour.shape[0]).reshape(1,-1)\n",
    "\n",
    "\n",
    "\n",
    "# Project to space \n",
    "time2=time.time()\n",
    "contour_transformed=pca.transform(procrustes_contour)\n",
    "projection_time=time.time() - time2\n",
    "print(\"Elapsed time for projection --- %s seconds ---\" % (projection_time))\n",
    "\n",
    "\n",
    "# Fire to network\n",
    "time3=time.time()\n",
    "input_contour=Variable(torch.from_numpy(contour_transformed).type(torch.FloatTensor)).cuda()\n",
    "predicted_quality_matrix=network9(input_contour)\n",
    "network_time=time.time() - time3\n",
    "print(\"Elapsed time for getting quality matrix from neural net --- %s seconds ---\" % (network_time))\n",
    "\n",
    "predicted_quality_matrix=predicted_quality_matrix.cpu()\n",
    "predicted_quality_matrix=predicted_quality_matrix.data[0].numpy().reshape(9,9)\n",
    "procrustes_contour=procrustes_contour.reshape(9,2)\n",
    "\n",
    "\n",
    "# Calculating quality matrix\n",
    "time4=time.time()\n",
    "original_quality_matrix,_=quality_matrix(procrustes_contour)\n",
    "calculation_quality_matrix_time=time.time() - time4\n",
    "print(\"Elapsed time for calculating original quality matrix  --- %s seconds ---\" % (calculation_quality_matrix_time))\n",
    "\n",
    "\n",
    "# Ordering quality matrix\n",
    "time5=time.time()\n",
    "ordered_matrix=order_quality_matrix(original_quality_matrix,procrustes_contour)\n",
    "ordering_matrix_time=time.time() - time5\n",
    "print(\"Elapsed time for ordering the quality matrix  --- %s seconds ---\" % (ordering_matrix_time))\n",
    "\n",
    "\n",
    "# Triangulation\n",
    "time6=time.time()\n",
    "triangulate(procrustes_contour,ordered_matrix)\n",
    "triangulation_time=time.time() - time6\n",
    "print(\"Elapsed time to triangulate according to matrix   --- %s seconds ---\" % (triangulation_time))\n",
    "\n",
    "\n",
    "\n",
    "\n",
    "print(\"Total time  of triangulation with calculation of matrix :   --- %s seconds ---\" % ( (procrustes_time+calculation_quality_matrix_time\n",
    "                                                                                      +ordering_matrix_time+triangulation_time)))\n",
    "\n",
    "print(\"Total time  of triangulation using neural network :   --- %s seconds ---\" % ( (procrustes_time+projection_time\n",
    "                                                                                      +network_time+triangulation_time)))\n",
    "\n"
   ]
  },
  {
   "cell_type": "code",
   "execution_count": 256,
   "metadata": {
    "collapsed": false
   },
   "outputs": [
    {
     "ename": "ValueError",
     "evalue": "Input must have at least three input vertices.",
     "output_type": "error",
     "traceback": [
      "\u001b[0;31m---------------------------------------------------------------------------\u001b[0m",
      "\u001b[0;31mValueError\u001b[0m                                Traceback (most recent call last)",
      "\u001b[0;32m<ipython-input-256-fbe4ed1d88c9>\u001b[0m in \u001b[0;36m<module>\u001b[0;34m()\u001b[0m\n\u001b[1;32m      2\u001b[0m \u001b[0mtime7\u001b[0m\u001b[1;33m=\u001b[0m\u001b[0mtime\u001b[0m\u001b[1;33m.\u001b[0m\u001b[0mtime\u001b[0m\u001b[1;33m(\u001b[0m\u001b[1;33m)\u001b[0m\u001b[1;33m\u001b[0m\u001b[0m\n\u001b[1;32m      3\u001b[0m \u001b[0mshape\u001b[0m\u001b[1;33m=\u001b[0m\u001b[0mdict\u001b[0m\u001b[1;33m(\u001b[0m\u001b[0mvertices\u001b[0m\u001b[1;33m=\u001b[0m\u001b[0mprocrustes_contour\u001b[0m\u001b[1;33m,\u001b[0m\u001b[0msegments\u001b[0m\u001b[1;33m=\u001b[0m\u001b[0mget_contour_edges\u001b[0m\u001b[1;33m(\u001b[0m\u001b[0mprocrustes_contour\u001b[0m\u001b[1;33m)\u001b[0m\u001b[1;33m)\u001b[0m\u001b[1;33m\u001b[0m\u001b[0m\n\u001b[0;32m----> 4\u001b[0;31m \u001b[0mt\u001b[0m \u001b[1;33m=\u001b[0m \u001b[0mtriangle\u001b[0m\u001b[1;33m.\u001b[0m\u001b[0mtriangulate\u001b[0m\u001b[1;33m(\u001b[0m\u001b[0mshape\u001b[0m\u001b[1;33m,\u001b[0m \u001b[1;34m'pq0'\u001b[0m\u001b[1;33m)\u001b[0m\u001b[1;33m\u001b[0m\u001b[0m\n\u001b[0m\u001b[1;32m      5\u001b[0m \u001b[0mplot\u001b[0m\u001b[1;33m.\u001b[0m\u001b[0mplot\u001b[0m\u001b[1;33m(\u001b[0m\u001b[0mplt\u001b[0m\u001b[1;33m.\u001b[0m\u001b[0maxes\u001b[0m\u001b[1;33m(\u001b[0m\u001b[1;33m)\u001b[0m\u001b[1;33m,\u001b[0m \u001b[1;33m**\u001b[0m\u001b[0mt\u001b[0m\u001b[1;33m)\u001b[0m\u001b[1;33m\u001b[0m\u001b[0m\n\u001b[1;32m      6\u001b[0m \u001b[0mprint\u001b[0m\u001b[1;33m(\u001b[0m\u001b[1;34m\"Elapsed time to triangulate using triangle module   --- %s seconds ---\"\u001b[0m \u001b[1;33m%\u001b[0m \u001b[1;33m(\u001b[0m\u001b[0mtime\u001b[0m\u001b[1;33m.\u001b[0m\u001b[0mtime\u001b[0m\u001b[1;33m(\u001b[0m\u001b[1;33m)\u001b[0m \u001b[1;33m-\u001b[0m \u001b[0mtime7\u001b[0m\u001b[1;33m)\u001b[0m\u001b[1;33m)\u001b[0m\u001b[1;33m\u001b[0m\u001b[0m\n",
      "\u001b[0;32mD:\\Users\\papagian\\AppData\\Local\\Continuum\\Anaconda3\\lib\\site-packages\\triangle\\__init__.py\u001b[0m in \u001b[0;36mtriangulate\u001b[0;34m(tri, opts)\u001b[0m\n\u001b[1;32m     45\u001b[0m \u001b[1;33m\u001b[0m\u001b[0m\n\u001b[1;32m     46\u001b[0m     \u001b[1;32mif\u001b[0m \u001b[1;33m(\u001b[0m\u001b[1;34m'vertices'\u001b[0m \u001b[1;32mnot\u001b[0m \u001b[1;32min\u001b[0m \u001b[0mtri\u001b[0m\u001b[1;33m)\u001b[0m \u001b[1;32mor\u001b[0m \u001b[1;33m(\u001b[0m\u001b[0mlen\u001b[0m\u001b[1;33m(\u001b[0m\u001b[0mtri\u001b[0m\u001b[1;33m[\u001b[0m\u001b[1;34m'vertices'\u001b[0m\u001b[1;33m]\u001b[0m\u001b[1;33m)\u001b[0m \u001b[1;33m<\u001b[0m \u001b[1;36m3\u001b[0m\u001b[1;33m)\u001b[0m\u001b[1;33m:\u001b[0m\u001b[1;33m\u001b[0m\u001b[0m\n\u001b[0;32m---> 47\u001b[0;31m         \u001b[1;32mraise\u001b[0m \u001b[0mValueError\u001b[0m\u001b[1;33m(\u001b[0m\u001b[1;34m'Input must have at least three input vertices.'\u001b[0m\u001b[1;33m)\u001b[0m\u001b[1;33m\u001b[0m\u001b[0m\n\u001b[0m\u001b[1;32m     48\u001b[0m \u001b[1;33m\u001b[0m\u001b[0m\n\u001b[1;32m     49\u001b[0m     \u001b[0ma\u001b[0m \u001b[1;33m=\u001b[0m \u001b[0mcore\u001b[0m\u001b[1;33m.\u001b[0m\u001b[0mTriangulateIO\u001b[0m\u001b[1;33m(\u001b[0m\u001b[1;33m)\u001b[0m\u001b[1;33m\u001b[0m\u001b[0m\n",
      "\u001b[0;31mValueError\u001b[0m: Input must have at least three input vertices."
     ]
    }
   ],
   "source": [
    "# Triangulate using the library \n",
    "time7=time.time()\n",
    "shape=dict(vertices=procrustes_contour,segments=get_contour_edges(procrustes_contour))\n",
    "t = triangle.triangulate(shape, 'pq0')\n",
    "plot.plot(plt.axes(), **t)\n",
    "print(\"Elapsed time to triangulate using triangle module   --- %s seconds ---\" % (time.time() - time7))\n"
   ]
  },
  {
   "cell_type": "code",
   "execution_count": 146,
   "metadata": {
    "collapsed": false
   },
   "outputs": [],
   "source": [
    "def run_time_test(start,finish):\n",
    "    \n",
    "    times=np.empty([int(((finish+1)-start)),9])\n",
    "\n",
    "    for index,i in enumerate(range(start,finish+1)):\n",
    "        \n",
    "        # train to project with pca\n",
    "        Polygons=load_dataset(str(i)+'_polygons.pkl')\n",
    "    \n",
    "        Polygons_reshaped=[]\n",
    "        for j in range(Polygons.shape[0]):\n",
    "            Polygons_reshaped.append(Polygons[j].reshape(2*i))\n",
    "\n",
    "        Polygons_reshaped=np.array(Polygons_reshaped) \n",
    "        \n",
    "                        # PCA   #\n",
    "        pca=PCA(.999)\n",
    "        pca.fit(Polygons_reshaped)\n",
    "        Polygons_projected=pca.transform(Polygons_reshaped)\n",
    "\n",
    "        \n",
    "        contour=generate_contour(i)\n",
    "        \n",
    "        network=load_network(str(i)+'_neural_net.pkl')\n",
    "        start_time=time.time()\n",
    "        \n",
    "        \n",
    "        \n",
    "        \n",
    "        \n",
    "        \n",
    "        # Perform procrustes\n",
    "        time1=timer()\n",
    "        procrustes_contour=apply_procrustes(contour)\n",
    "        procrustes_time=timer() - time1\n",
    "        print(\"Elapsed time for applying procrustes --- %s seconds ---\" % (procrustes_time))\n",
    "        \n",
    "        \n",
    "        procrustes_contour=procrustes_contour.reshape(2*contour.shape[0]).reshape(1,-1)\n",
    "        \n",
    "        \n",
    "        \n",
    "        # Project to space \n",
    "        time2=timer()\n",
    "        contour_transformed=pca.transform(procrustes_contour)\n",
    "        projection_time=timer() - time2\n",
    "        print(\"Elapsed time for projection --- %s seconds ---\" % (projection_time))\n",
    "        \n",
    "        \n",
    "        # Fire to network\n",
    "        time3=timer()\n",
    "        input_contour=Variable(torch.from_numpy(contour_transformed).type(torch.FloatTensor)).cuda()\n",
    "        predicted_quality_matrix=network(input_contour)\n",
    "        network_time=timer() - time3\n",
    "        print(\"Elapsed time for getting quality matrix from neural net --- %s seconds ---\" % (network_time))\n",
    "        \n",
    "        predicted_quality_matrix=predicted_quality_matrix.cpu()\n",
    "        predicted_quality_matrix=predicted_quality_matrix.data[0].numpy().reshape(i,i)\n",
    "        procrustes_contour=procrustes_contour.reshape(i,2)\n",
    "        \n",
    "        \n",
    "        # Calculating quality matrix\n",
    "        time4=timer()\n",
    "        original_quality_matrix,_=quality_matrix(procrustes_contour)\n",
    "        calculation_quality_matrix_time=timer() - time4\n",
    "        print(\"Elapsed time for calculating original quality matrix  --- %s seconds ---\" % (calculation_quality_matrix_time))\n",
    "        \n",
    "        \n",
    "        # Ordering quality matrix\n",
    "        time5=timer()\n",
    "        ordered_matrix=order_quality_matrix(original_quality_matrix,procrustes_contour)\n",
    "        ordering_matrix_time=timer() - time5\n",
    "        print(\"Elapsed time for ordering the quality matrix  --- %s seconds ---\" % (ordering_matrix_time))\n",
    "        \n",
    "        \n",
    "        # Triangulation\n",
    "        time6=timer()\n",
    "        pure_triangulate(procrustes_contour,ordered_matrix,recursive=True)\n",
    "        triangulation_time=timer() - time6\n",
    "        print(\"Elapsed time to triangulate according to matrix   --- %s seconds ---\" % (triangulation_time))\n",
    "        \n",
    "        \n",
    "        total_time_with_calculation=(procrustes_time+calculation_quality_matrix_time+ordering_matrix_time+triangulation_time)\n",
    "        print(\"Total time  of triangulation with calculation of matrix :   --- %s seconds ---\" % (total_time_with_calculation ))\n",
    "        total_time_with_NN=(procrustes_time+projection_time+network_time+triangulation_time)\n",
    "        print(\"Total time  of triangulation using neural network :   --- %s seconds ---\" % ( total_time_with_NN))\n",
    "\n",
    "\n",
    "        \n",
    "        # Triangulate using the library \n",
    "        shape=dict(vertices=procrustes_contour,segments=get_contour_edges(procrustes_contour))\n",
    "        time7=timer()\n",
    "        for i in range(10000):\n",
    "            t = triangle.triangulate(shape, 'pq0')\n",
    "        remeshing_time=timer()-time7\n",
    "        remeshing_time/=10000\n",
    "\n",
    "        #plot.plot(plt.axes(), **t) \n",
    "        print(\"Elapsed time to triangulate using triangle module   --- %s seconds ---\" % (remeshing_time))\n",
    "        times[index]=[procrustes_time,projection_time,network_time,calculation_quality_matrix_time,ordering_matrix_time,triangulation_time,total_time_with_calculation,total_time_with_NN,remeshing_time]\n",
    "    return times"
   ]
  },
  {
   "cell_type": "code",
   "execution_count": null,
   "metadata": {
    "collapsed": false
   },
   "outputs": [],
   "source": []
  },
  {
   "cell_type": "code",
   "execution_count": 147,
   "metadata": {
    "collapsed": false
   },
   "outputs": [
    {
     "name": "stdout",
     "output_type": "stream",
     "text": [
      "Elapsed time for applying procrustes --- 0.00032223501011685585 seconds ---\n",
      "Elapsed time for projection --- 0.0001631666941648291 seconds ---\n",
      "Elapsed time for getting quality matrix from neural net --- 0.0006677795472569414 seconds ---\n",
      "Elapsed time for calculating original quality matrix  --- 0.13363634011739123 seconds ---\n",
      "Elapsed time for ordering the quality matrix  --- 0.0003150628472212702 seconds ---\n",
      "Elapsed time to triangulate according to matrix   --- 0.0010122994899575133 seconds ---\n",
      "Total time  of triangulation with calculation of matrix :   --- 0.13528593746468687 seconds ---\n",
      "Total time  of triangulation using neural network :   --- 0.0021654807414961397 seconds ---\n",
      "Elapsed time to triangulate using triangle module   --- 5.345530449285434e-05 seconds ---\n",
      "Elapsed time for applying procrustes --- 0.00037115940313015017 seconds ---\n",
      "Elapsed time for projection --- 0.0001813532489904901 seconds ---\n",
      "Elapsed time for getting quality matrix from neural net --- 0.0007092756295605795 seconds ---\n",
      "Elapsed time for calculating original quality matrix  --- 0.0481077914528214 seconds ---\n",
      "Elapsed time for ordering the quality matrix  --- 0.0002730544679252489 seconds ---\n",
      "Elapsed time to triangulate according to matrix   --- 0.00127254652488773 seconds ---\n",
      "Total time  of triangulation with calculation of matrix :   --- 0.05002455184876453 seconds ---\n",
      "Total time  of triangulation using neural network :   --- 0.0025343348065689497 seconds ---\n",
      "Elapsed time to triangulate using triangle module   --- 5.4032637949512715e-05 seconds ---\n",
      "Elapsed time for applying procrustes --- 0.00030865913095112774 seconds ---\n",
      "Elapsed time for projection --- 0.00012038986869811197 seconds ---\n",
      "Elapsed time for getting quality matrix from neural net --- 0.0006652180609307834 seconds ---\n",
      "Elapsed time for calculating original quality matrix  --- 0.08299190851994354 seconds ---\n",
      "Elapsed time for ordering the quality matrix  --- 0.00028048277908965247 seconds ---\n",
      "Elapsed time to triangulate according to matrix   --- 0.0013066142960269644 seconds ---\n",
      "Total time  of triangulation with calculation of matrix :   --- 0.08488766472601128 seconds ---\n",
      "Total time  of triangulation using neural network :   --- 0.0024008813566069875 seconds ---\n",
      "Elapsed time to triangulate using triangle module   --- 5.3824798929690584e-05 seconds ---\n",
      "Elapsed time for applying procrustes --- 0.00028458115684770746 seconds ---\n",
      "Elapsed time for projection --- 0.00017136345104518114 seconds ---\n",
      "Elapsed time for getting quality matrix from neural net --- 0.0006183428563417692 seconds ---\n",
      "Elapsed time for calculating original quality matrix  --- 0.0765518190014518 seconds ---\n",
      "Elapsed time for ordering the quality matrix  --- 0.0003160874421155313 seconds ---\n",
      "Elapsed time to triangulate according to matrix   --- 0.0010327913828405144 seconds ---\n",
      "Total time  of triangulation with calculation of matrix :   --- 0.07818527898325556 seconds ---\n",
      "Total time  of triangulation using neural network :   --- 0.0021070788470751722 seconds ---\n",
      "Elapsed time to triangulate using triangle module   --- 4.9365225207202455e-05 seconds ---\n",
      "Elapsed time for applying procrustes --- 0.00027843358930113027 seconds ---\n",
      "Elapsed time for projection --- 0.000162142099270568 seconds ---\n",
      "Elapsed time for getting quality matrix from neural net --- 0.0006670111010862456 seconds ---\n",
      "Elapsed time for calculating original quality matrix  --- 0.08030644600648884 seconds ---\n",
      "Elapsed time for ordering the quality matrix  --- 0.00037013480823588907 seconds ---\n",
      "Elapsed time to triangulate according to matrix   --- 0.0012927822690471658 seconds ---\n",
      "Total time  of triangulation with calculation of matrix :   --- 0.08224779667307303 seconds ---\n",
      "Total time  of triangulation using neural network :   --- 0.0024003690587051096 seconds ---\n",
      "Elapsed time to triangulate using triangle module   --- 4.7894829460074104e-05 seconds ---\n",
      "Elapsed time for applying procrustes --- 0.0002966201441267913 seconds ---\n",
      "Elapsed time for projection --- 0.00017136345104518114 seconds ---\n",
      "Elapsed time for getting quality matrix from neural net --- 0.000616549816186307 seconds ---\n",
      "Elapsed time for calculating original quality matrix  --- 0.08400446415862461 seconds ---\n",
      "Elapsed time for ordering the quality matrix  --- 0.0003268456853220414 seconds ---\n",
      "Elapsed time to triangulate according to matrix   --- 0.0013458050402732624 seconds ---\n",
      "Total time  of triangulation with calculation of matrix :   --- 0.08597373502834671 seconds ---\n",
      "Total time  of triangulation using neural network :   --- 0.002430338451631542 seconds ---\n"
     ]
    },
    {
     "ename": "KeyboardInterrupt",
     "evalue": "",
     "output_type": "error",
     "traceback": [
      "\u001b[0;31m---------------------------------------------------------------------------\u001b[0m",
      "\u001b[0;31mKeyboardInterrupt\u001b[0m                         Traceback (most recent call last)",
      "\u001b[0;32m<ipython-input-147-4263ba5acd95>\u001b[0m in \u001b[0;36m<module>\u001b[0;34m()\u001b[0m\n\u001b[1;32m      1\u001b[0m \u001b[0mtimes4\u001b[0m\u001b[1;33m=\u001b[0m\u001b[0mnp\u001b[0m\u001b[1;33m.\u001b[0m\u001b[0mempty\u001b[0m\u001b[1;33m(\u001b[0m\u001b[1;33m[\u001b[0m\u001b[1;36m20\u001b[0m\u001b[1;33m,\u001b[0m\u001b[1;36m9\u001b[0m\u001b[1;33m]\u001b[0m\u001b[1;33m)\u001b[0m\u001b[1;33m\u001b[0m\u001b[0m\n\u001b[1;32m      2\u001b[0m \u001b[1;32mfor\u001b[0m \u001b[0mj\u001b[0m \u001b[1;32min\u001b[0m \u001b[0mrange\u001b[0m\u001b[1;33m(\u001b[0m\u001b[1;36m20\u001b[0m\u001b[1;33m)\u001b[0m\u001b[1;33m:\u001b[0m\u001b[1;33m\u001b[0m\u001b[0m\n\u001b[0;32m----> 3\u001b[0;31m     \u001b[0mtime_elapsed\u001b[0m\u001b[1;33m=\u001b[0m\u001b[0mrun_time_test\u001b[0m\u001b[1;33m(\u001b[0m\u001b[1;36m4\u001b[0m\u001b[1;33m,\u001b[0m\u001b[1;36m4\u001b[0m\u001b[1;33m)\u001b[0m\u001b[1;33m\u001b[0m\u001b[0m\n\u001b[0m\u001b[1;32m      4\u001b[0m     \u001b[0mtimes4\u001b[0m\u001b[1;33m[\u001b[0m\u001b[0mj\u001b[0m\u001b[1;33m]\u001b[0m\u001b[1;33m=\u001b[0m\u001b[0mtime_elapsed\u001b[0m\u001b[1;33m\u001b[0m\u001b[0m\n\u001b[1;32m      5\u001b[0m \u001b[0mtimes5\u001b[0m\u001b[1;33m=\u001b[0m\u001b[0mnp\u001b[0m\u001b[1;33m.\u001b[0m\u001b[0mempty\u001b[0m\u001b[1;33m(\u001b[0m\u001b[1;33m[\u001b[0m\u001b[1;36m20\u001b[0m\u001b[1;33m,\u001b[0m\u001b[1;36m9\u001b[0m\u001b[1;33m]\u001b[0m\u001b[1;33m)\u001b[0m\u001b[1;33m\u001b[0m\u001b[0m\n",
      "\u001b[0;32m<ipython-input-146-e3d194d7e1a9>\u001b[0m in \u001b[0;36mrun_time_test\u001b[0;34m(start, finish)\u001b[0m\n\u001b[1;32m     92\u001b[0m         \u001b[0mtime7\u001b[0m\u001b[1;33m=\u001b[0m\u001b[0mtimer\u001b[0m\u001b[1;33m(\u001b[0m\u001b[1;33m)\u001b[0m\u001b[1;33m\u001b[0m\u001b[0m\n\u001b[1;32m     93\u001b[0m         \u001b[1;32mfor\u001b[0m \u001b[0mi\u001b[0m \u001b[1;32min\u001b[0m \u001b[0mrange\u001b[0m\u001b[1;33m(\u001b[0m\u001b[1;36m10000\u001b[0m\u001b[1;33m)\u001b[0m\u001b[1;33m:\u001b[0m\u001b[1;33m\u001b[0m\u001b[0m\n\u001b[0;32m---> 94\u001b[0;31m             \u001b[0mt\u001b[0m \u001b[1;33m=\u001b[0m \u001b[0mtriangle\u001b[0m\u001b[1;33m.\u001b[0m\u001b[0mtriangulate\u001b[0m\u001b[1;33m(\u001b[0m\u001b[0mshape\u001b[0m\u001b[1;33m,\u001b[0m \u001b[1;34m'pq0'\u001b[0m\u001b[1;33m)\u001b[0m\u001b[1;33m\u001b[0m\u001b[0m\n\u001b[0m\u001b[1;32m     95\u001b[0m         \u001b[0mremeshing_time\u001b[0m\u001b[1;33m=\u001b[0m\u001b[0mtimer\u001b[0m\u001b[1;33m(\u001b[0m\u001b[1;33m)\u001b[0m\u001b[1;33m-\u001b[0m\u001b[0mtime7\u001b[0m\u001b[1;33m\u001b[0m\u001b[0m\n\u001b[1;32m     96\u001b[0m         \u001b[0mremeshing_time\u001b[0m\u001b[1;33m/=\u001b[0m\u001b[1;36m10000\u001b[0m\u001b[1;33m\u001b[0m\u001b[0m\n",
      "\u001b[0;32mD:\\Users\\papagian\\AppData\\Local\\Continuum\\Anaconda3\\lib\\site-packages\\triangle\\__init__.py\u001b[0m in \u001b[0;36mtriangulate\u001b[0;34m(tri, opts)\u001b[0m\n\u001b[1;32m     51\u001b[0m         \u001b[1;32mif\u001b[0m \u001b[0mn1\u001b[0m \u001b[1;32mnot\u001b[0m \u001b[1;32min\u001b[0m \u001b[0mtri\u001b[0m\u001b[1;33m:\u001b[0m\u001b[1;33m\u001b[0m\u001b[0m\n\u001b[1;32m     52\u001b[0m             \u001b[1;32mcontinue\u001b[0m\u001b[1;33m\u001b[0m\u001b[0m\n\u001b[0;32m---> 53\u001b[0;31m         \u001b[0mvalue\u001b[0m \u001b[1;33m=\u001b[0m \u001b[0mnp\u001b[0m\u001b[1;33m.\u001b[0m\u001b[0marray\u001b[0m\u001b[1;33m(\u001b[0m\u001b[0mtri\u001b[0m\u001b[1;33m[\u001b[0m\u001b[0mn1\u001b[0m\u001b[1;33m]\u001b[0m\u001b[1;33m,\u001b[0m \u001b[0mdtype\u001b[0m\u001b[1;33m=\u001b[0m\u001b[0mt\u001b[0m\u001b[1;33m)\u001b[0m\u001b[1;33m.\u001b[0m\u001b[0mflatten\u001b[0m\u001b[1;33m(\u001b[0m\u001b[1;33m)\u001b[0m\u001b[1;33m\u001b[0m\u001b[0m\n\u001b[0m\u001b[1;32m     54\u001b[0m         \u001b[0msetattr\u001b[0m\u001b[1;33m(\u001b[0m\u001b[0ma\u001b[0m\u001b[1;33m,\u001b[0m \u001b[0mn0\u001b[0m\u001b[1;33m,\u001b[0m \u001b[0mvalue\u001b[0m\u001b[1;33m)\u001b[0m\u001b[1;33m\u001b[0m\u001b[0m\n\u001b[1;32m     55\u001b[0m \u001b[1;33m\u001b[0m\u001b[0m\n",
      "\u001b[0;31mKeyboardInterrupt\u001b[0m: "
     ]
    }
   ],
   "source": [
    "times4=np.empty([20,9])\n",
    "for j in range(20):\n",
    "    time_elapsed=run_time_test(4,4)\n",
    "    times4[j]=time_elapsed\n",
    "times5=np.empty([20,9])\n",
    "for j in range(20):\n",
    "    time_elapsed=run_time_test(5,5)\n",
    "    times5[j]=time_elapsed\n",
    "    \n",
    "times6=np.empty([20,9])\n",
    "for j in range(20):\n",
    "    time_elapsed=run_time_test(6,6)\n",
    "    times6[j]=time_elapsed\n",
    "    \n",
    "times7=np.empty([20,9])\n",
    "for j in range(20):\n",
    "    time_elapsed=run_time_test(7,7)\n",
    "    times7[j]=time_elapsed\n",
    "    \n",
    "times8=np.empty([20,9])\n",
    "for j in range(20):\n",
    "    time_elapsed=run_time_test(8,8)\n",
    "    times8[j]=time_elapsed\n",
    "    \n",
    "times9=np.empty([20,9])\n",
    "for j in range(20):\n",
    "    time_elapsed=run_time_test(9,9)\n",
    "    times9[j]=time_elapsed\n",
    "    "
   ]
  },
  {
   "cell_type": "code",
   "execution_count": 142,
   "metadata": {
    "collapsed": false
   },
   "outputs": [],
   "source": [
    "times_elapsed_mean=np.array([times4.mean(0),times5.mean(0),times6.mean(0),times7.mean(0),times8.mean(0),times9.mean(0)])\n",
    "times_elapsed_std=np.array([times4.std(0),times5.std(0),times6.std(0),times7.std(0),times8.std(0),times9.std(0)])"
   ]
  },
  {
   "cell_type": "code",
   "execution_count": 143,
   "metadata": {
    "collapsed": false
   },
   "outputs": [
    {
     "data": {
      "text/plain": [
       "<matplotlib.text.Text at 0x1c1f549f780>"
      ]
     },
     "execution_count": 143,
     "metadata": {},
     "output_type": "execute_result"
    },
    {
     "data": {
      "image/png": "[encoded data removed]",
      "text/plain": [
       "<matplotlib.figure.Figure at 0x1c1f5259b38>"
      ]
     },
     "metadata": {},
     "output_type": "display_data"
    }
   ],
   "source": [
    "procrustes_time_graph=plt.plot(np.array([4,5,6,7,8,9]),times_elapsed_mean[:,0],marker='o')\n",
    "plt.fill_between(np.array([4,5,6,7,8,9]),times_elapsed_mean[:,0]-times_elapsed_std[:,0],times_elapsed_mean[:,0]+times_elapsed_std[:,0],alpha=.1)\n",
    "plt.title(' Procrustes')\n",
    "plt.xlabel('number of points')\n",
    "plt.ylabel('time (seconds)')"
   ]
  },
  {
   "cell_type": "code",
   "execution_count": 536,
   "metadata": {
    "collapsed": false
   },
   "outputs": [
    {
     "data": {
      "text/plain": [
       "<matplotlib.text.Text at 0x22332076c88>"
      ]
     },
     "execution_count": 536,
     "metadata": {},
     "output_type": "execute_result"
    },
    {
     "data": {
      "image/png": "[encoded data removed]",
      "text/plain": [
       "<matplotlib.figure.Figure at 0x22333242748>"
      ]
     },
     "metadata": {},
     "output_type": "display_data"
    }
   ],
   "source": [
    "projection_time_graph=plt.plot(np.array([4,5,6,7,8,9]),times_elapsed_mean[:,1],marker='o')\n",
    "plt.fill_between(np.array([4,5,6,7,8,9]),times_elapsed_mean[:,1]-times_elapsed_std[:,1],times_elapsed_mean[:,1]+times_elapsed_std[:,1],alpha=.1)\n",
    "\n",
    "plt.title(' Projection')\n",
    "plt.xlabel('number of points')\n",
    "plt.ylabel('time (seconds)')"
   ]
  },
  {
   "cell_type": "code",
   "execution_count": 537,
   "metadata": {
    "collapsed": false
   },
   "outputs": [
    {
     "data": {
      "text/plain": [
       "<matplotlib.text.Text at 0x22332097208>"
      ]
     },
     "execution_count": 537,
     "metadata": {},
     "output_type": "execute_result"
    },
    {
     "data": {
      "image/png": "[encoded data removed]",
      "text/plain": [
       "<matplotlib.figure.Figure at 0x22333155400>"
      ]
     },
     "metadata": {},
     "output_type": "display_data"
    }
   ],
   "source": [
    "network_time_graph=plt.plot(np.array([4,5,6,7,8,9]),times_elapsed_mean[:,2],marker='o')\n",
    "plt.fill_between(np.array([4,5,6,7,8,9]),times_elapsed_mean[:,2]-times_elapsed_std[:,2],times_elapsed_mean[:,2]+times_elapsed_std[:,2],alpha=.1)\n",
    "\n",
    "plt.title(' Network output')\n",
    "plt.xlabel('number of points')\n",
    "plt.ylabel('time (seconds)')"
   ]
  },
  {
   "cell_type": "code",
   "execution_count": 538,
   "metadata": {
    "collapsed": false
   },
   "outputs": [
    {
     "data": {
      "text/plain": [
       "<matplotlib.text.Text at 0x223331cb8d0>"
      ]
     },
     "execution_count": 538,
     "metadata": {},
     "output_type": "execute_result"
    },
    {
     "data": {
      "image/png": "[encoded data removed]",
      "text/plain": [
       "<matplotlib.figure.Figure at 0x223320764e0>"
      ]
     },
     "metadata": {},
     "output_type": "display_data"
    }
   ],
   "source": [
    "calculation_matrix_graph=plt.plot(np.array([4,5,6,7,8,9]),times_elapsed_mean[:,3],marker='o')\n",
    "plt.fill_between(np.array([4,5,6,7,8,9]),times_elapsed_mean[:,3]-times_elapsed_std[:,3],times_elapsed_mean[:,3]+times_elapsed_std[:,3],alpha=.1)\n",
    "\n",
    "plt.title(' calculation of matrix')\n",
    "plt.xlabel('number of points')\n",
    "plt.ylabel('time (seconds)')"
   ]
  },
  {
   "cell_type": "code",
   "execution_count": 593,
   "metadata": {
    "collapsed": false
   },
   "outputs": [
    {
     "data": {
      "text/plain": [
       "<matplotlib.text.Text at 0x2232e27ed68>"
      ]
     },
     "execution_count": 593,
     "metadata": {},
     "output_type": "execute_result"
    },
    {
     "data": {
      "image/png": "[encoded data removed]",
      "text/plain": [
       "<matplotlib.figure.Figure at 0x2232e1f50f0>"
      ]
     },
     "metadata": {},
     "output_type": "display_data"
    }
   ],
   "source": [
    "#triangulation_graph_with_calculation=plt.plot(np.array([4,5,6,7,8,9]),times_elapsed_mean[:,6],marker='o',label='Calculation of matrix')\n",
    "#triangulation_graph_with_NN=plt.plot(np.array([4,5,6,7,8,9]),times_elapsed_mean[:,5],marker='o',label='Our method')\n",
    "#plt.fill_between(np.array([4,5,6,7,8,9]),times_elapsed_mean[:,5]-times_elapsed_std[:,5],times_elapsed_mean[:,5]+times_elapsed_std[:,5],alpha=.1)\n",
    "\n",
    "triangulation_graph_with_library=plt.plot(np.array([4,5,6,7,8,9]),times_elapsed_mean[:,8],marker='o',label='Using library')\n",
    "plt.fill_between(np.array([4,5,6,7,8,9]),times_elapsed_mean[:,8]-times_elapsed_std[:,8],times_elapsed_mean[:,8]+times_elapsed_std[:,8],alpha=.1)\n",
    "\n",
    "plt.legend()\n",
    "plt.title(' Triangulations')\n",
    "plt.xlabel('number of points')\n",
    "plt.ylabel('time (seconds)')\n",
    "\n",
    "\n",
    "\n"
   ]
  },
  {
   "cell_type": "code",
   "execution_count": null,
   "metadata": {
    "collapsed": false,
    "scrolled": false
   },
   "outputs": [],
   "source": [
    "\n"
   ]
  },
  {
   "cell_type": "code",
   "execution_count": null,
   "metadata": {
    "collapsed": false
   },
   "outputs": [],
   "source": []
  },
  {
   "cell_type": "code",
   "execution_count": null,
   "metadata": {
    "collapsed": false
   },
   "outputs": [],
   "source": []
  },
  {
   "cell_type": "code",
   "execution_count": null,
   "metadata": {
    "collapsed": false
   },
   "outputs": [],
   "source": []
  },
  {
   "cell_type": "code",
   "execution_count": null,
   "metadata": {
    "collapsed": false
   },
   "outputs": [],
   "source": []
  },
  {
   "cell_type": "code",
   "execution_count": null,
   "metadata": {
    "collapsed": false
   },
   "outputs": [],
   "source": []
  },
  {
   "cell_type": "code",
   "execution_count": null,
   "metadata": {
    "collapsed": false
   },
   "outputs": [],
   "source": []
  },
  {
   "cell_type": "code",
   "execution_count": null,
   "metadata": {
    "collapsed": true
   },
   "outputs": [],
   "source": []
  },
  {
   "cell_type": "code",
   "execution_count": null,
   "metadata": {
    "collapsed": false
   },
   "outputs": [],
   "source": []
  },
  {
   "cell_type": "code",
   "execution_count": null,
   "metadata": {
    "collapsed": false
   },
   "outputs": [],
   "source": []
  },
  {
   "cell_type": "code",
   "execution_count": null,
   "metadata": {
    "collapsed": true
   },
   "outputs": [],
   "source": []
  },
  {
   "cell_type": "code",
   "execution_count": null,
   "metadata": {
    "collapsed": false
   },
   "outputs": [],
   "source": []
  },
  {
   "cell_type": "code",
   "execution_count": null,
   "metadata": {
    "collapsed": false
   },
   "outputs": [],
   "source": []
  },
  {
   "cell_type": "code",
   "execution_count": null,
   "metadata": {
    "collapsed": false
   },
   "outputs": [],
   "source": []
  },
  {
   "cell_type": "code",
   "execution_count": null,
   "metadata": {
    "collapsed": false
   },
   "outputs": [],
   "source": []
  },
  {
   "cell_type": "code",
   "execution_count": null,
   "metadata": {
    "collapsed": false
   },
   "outputs": [],
   "source": []
  },
  {
   "cell_type": "code",
   "execution_count": null,
   "metadata": {
    "collapsed": true
   },
   "outputs": [],
   "source": []
  },
  {
   "cell_type": "code",
   "execution_count": null,
   "metadata": {
    "collapsed": false
   },
   "outputs": [],
   "source": []
  },
  {
   "cell_type": "code",
   "execution_count": null,
   "metadata": {
    "collapsed": false
   },
   "outputs": [],
   "source": []
  },
  {
   "cell_type": "code",
   "execution_count": null,
   "metadata": {
    "collapsed": false
   },
   "outputs": [],
   "source": []
  },
  {
   "cell_type": "code",
   "execution_count": null,
   "metadata": {
    "collapsed": false
   },
   "outputs": [],
   "source": []
  },
  {
   "cell_type": "code",
   "execution_count": null,
   "metadata": {
    "collapsed": false
   },
   "outputs": [],
   "source": []
  },
  {
   "cell_type": "code",
   "execution_count": null,
   "metadata": {
    "collapsed": false
   },
   "outputs": [],
   "source": []
  },
  {
   "cell_type": "code",
   "execution_count": null,
   "metadata": {
    "collapsed": false
   },
   "outputs": [],
   "source": []
  },
  {
   "cell_type": "code",
   "execution_count": null,
   "metadata": {
    "collapsed": false
   },
   "outputs": [],
   "source": []
  },
  {
   "cell_type": "code",
   "execution_count": null,
   "metadata": {
    "collapsed": false
   },
   "outputs": [],
   "source": []
  },
  {
   "cell_type": "code",
   "execution_count": null,
   "metadata": {
    "collapsed": false
   },
   "outputs": [],
   "source": []
  },
  {
   "cell_type": "code",
   "execution_count": null,
   "metadata": {
    "collapsed": true
   },
   "outputs": [],
   "source": [
    "\n",
    "        "
   ]
  },
  {
   "cell_type": "code",
   "execution_count": null,
   "metadata": {
    "collapsed": false
   },
   "outputs": [],
   "source": [
    "\n"
   ]
  },
  {
   "cell_type": "code",
   "execution_count": 25,
   "metadata": {
    "collapsed": false
   },
   "outputs": [],
   "source": [
    "\n"
   ]
  },
  {
   "cell_type": "code",
   "execution_count": null,
   "metadata": {
    "collapsed": false
   },
   "outputs": [],
   "source": []
  },
  {
   "cell_type": "code",
   "execution_count": 18,
   "metadata": {
    "collapsed": true
   },
   "outputs": [],
   "source": []
  },
  {
   "cell_type": "code",
   "execution_count": 65,
   "metadata": {
    "collapsed": false
   },
   "outputs": [],
   "source": []
  },
  {
   "cell_type": "code",
   "execution_count": 66,
   "metadata": {
    "collapsed": false
   },
   "outputs": [],
   "source": []
  },
  {
   "cell_type": "code",
   "execution_count": null,
   "metadata": {
    "collapsed": false,
    "scrolled": false
   },
   "outputs": [],
   "source": [
    "\n"
   ]
  },
  {
   "cell_type": "code",
   "execution_count": 182,
   "metadata": {
    "collapsed": false
   },
   "outputs": [],
   "source": [
    "nb_of_contours=100\n",
    "contours=[generate_contour(i) for i in range(4,nb_of_contours) ]\n",
    "processing_ctimes=np.empty([int(nb_of_contours-4)])\n",
    "processing_timer=np.empty([int(nb_of_contours-4)])\n",
    "processing_time=np.empty([int(nb_of_contours-4)])"
   ]
  },
  {
   "cell_type": "code",
   "execution_count": 183,
   "metadata": {
    "collapsed": false
   },
   "outputs": [],
   "source": [
    "\n",
    "\n",
    "for index,j in enumerate(range(4,nb_of_contours)):\n",
    "    contour=contours[index]\n",
    "    shape=dict(vertices=contour,segments=get_contour_edges(contour))\n",
    "    \n",
    "    time1=ctimer.start()\n",
    "    for i in range(1000):\n",
    "        triangulated=triangle.triangulate(shape,'pq0')  \n",
    "    time2=ctimer.stop()\n",
    "    remeshing_time=(ctimer.diff(time2,time1))*10**(-9)\n",
    "    \n",
    "    processing_ctimes[index]=remeshing_time\n"
   ]
  },
  {
   "cell_type": "code",
   "execution_count": 184,
   "metadata": {
    "collapsed": false
   },
   "outputs": [],
   "source": [
    "\n",
    "for index,j in enumerate(range(4,nb_of_contours)):\n",
    "    contour=contours[index]\n",
    "\n",
    "    shape=dict(vertices=contour,segments=get_contour_edges(contour))\n",
    "    \n",
    "    time1=timer()\n",
    "    for i in range(1000):\n",
    "        triangulated=triangle.triangulate(shape,'pq0')  \n",
    "    time2=timer()\n",
    "    remeshing_time=time2-time1\n",
    "    \n",
    "    processing_timer[index]=remeshing_time\n",
    "    "
   ]
  },
  {
   "cell_type": "code",
   "execution_count": 185,
   "metadata": {
    "collapsed": false
   },
   "outputs": [],
   "source": [
    "for index,j in enumerate(range(4,nb_of_contours)):\n",
    "    contour=contours[index]\n",
    "\n",
    "    \n",
    "    shape=dict(vertices=contour,segments=get_contour_edges(contour))\n",
    "    \n",
    "    time1=time.time()\n",
    "    for i in range(1000):\n",
    "        triangulated=triangle.triangulate(shape,'pq0')  \n",
    "    time2=time.time()\n",
    "    remeshing_time=time2-time1\n",
    "    \n",
    "    processing_time[index]=remeshing_time"
   ]
  },
  {
   "cell_type": "code",
   "execution_count": 186,
   "metadata": {
    "collapsed": false
   },
   "outputs": [
    {
     "data": {
      "text/plain": [
       "(array([ 0.06760359,  0.05959082,  0.05308127,  0.05258083,  0.05258036,\n",
       "         0.04657149,  0.05558467,  0.05308199,  0.05758834,  0.05458331,\n",
       "         0.06159472,  0.05308104,  0.05308199,  0.0565865 ,  0.04506946,\n",
       "         0.06059241,  0.05308175,  0.05108547,  0.06309676,  0.06059265,\n",
       "         0.06309676,  0.063097  ,  0.06359696,  0.06710291,  0.07211065,\n",
       "         0.06810474,  0.08412838,  0.07261181,  0.0751152 ,  0.08112407,\n",
       "         0.07862043,  0.08863616,  0.1011548 ,  0.10365868,  0.07561564,\n",
       "         0.07811999,  0.07862091,  0.07361293,  0.07711792,  0.07962227,\n",
       "         0.076617  ,  0.07661748,  0.07661724,  0.0560863 ,  0.05458379,\n",
       "         0.08563089,  0.08563137,  0.08763433,  0.08162498,  0.07862115,\n",
       "         0.0826261 ,  0.08663273,  0.09564686,  0.08412933,  0.0906384 ,\n",
       "         0.0951457 ,  0.10365939,  0.09814978,  0.11016965,  0.10466003,\n",
       "         0.1076653 ,  0.11066961,  0.11016917,  0.12018418,  0.11116982,\n",
       "         0.10516119,  0.11317372,  0.11317348,  0.13070011,  0.12268806,\n",
       "         0.12018442,  0.13771081,  0.1266942 ,  0.13170171,  0.13270402,\n",
       "         0.13570738,  0.13570809,  0.14572358,  0.14872813,  0.14572334,\n",
       "         0.1477263 ,  0.14772654,  0.14922833,  0.1532352 ,  0.15123177,\n",
       "         0.14271879,  0.13821149,  0.15173316,  0.15173268,  0.13821149,\n",
       "         0.14371991,  0.1592443 ,  0.15673995,  0.16174793,  0.1657548 ,\n",
       "         0.1807766 ]),\n",
       " array([ 0.07337993,  0.0711271 ,  0.0560069 ,  0.0531447 ,  0.05541341,\n",
       "         0.0536196 ,  0.05326278,  0.04559728,  0.05776895,  0.05497949,\n",
       "         0.04778684,  0.05893494,  0.06098976,  0.05976537,  0.05792008,\n",
       "         0.05365264,  0.05507939,  0.05509578,  0.06265396,  0.06037706,\n",
       "         0.05214085,  0.06301052,  0.06427385,  0.06282456,  0.05809375,\n",
       "         0.0606227 ,  0.06911531,  0.06448081,  0.06504588,  0.06537452,\n",
       "         0.06130764,  0.06633405,  0.07603875,  0.06728718,  0.07121009,\n",
       "         0.07282178,  0.07420652,  0.0842204 ,  0.07689788,  0.08232823,\n",
       "         0.07738328,  0.07925239,  0.08792764,  0.08585309,  0.09093021,\n",
       "         0.08192095,  0.08860822,  0.09088667,  0.08970531,  0.09470072,\n",
       "         0.09944331,  0.1035358 ,  0.09803552,  0.09820637,  0.09040562,\n",
       "         0.10554938,  0.09366793,  0.09388847,  0.09877989,  0.10523355,\n",
       "         0.10140567,  0.10796154,  0.10666004,  0.11220515,  0.11306274,\n",
       "         0.09497044,  0.09183442,  0.11717239,  0.10019383,  0.11863935,\n",
       "         0.11420516,  0.11802946,  0.10938342,  0.12136246,  0.13039504,\n",
       "         0.12025129,  0.12055585,  0.13675213,  0.14345144,  0.1347575 ,\n",
       "         0.1480009 ,  0.14563511,  0.15072376,  0.14487384,  0.14721299,\n",
       "         0.15058903,  0.14279724,  0.14881187,  0.14136306,  0.14817303,\n",
       "         0.15477117,  0.16227709,  0.16143948,  0.15963876,  0.16323227,\n",
       "         0.16234984]),\n",
       " array([  5.60000000e-08,   8.57247520e-02,   8.93975040e-02,\n",
       "          8.93967840e-02,   8.93970720e-02,   9.42136800e-02,\n",
       "          8.94237280e-02,   8.94240880e-02,   8.94239440e-02,\n",
       "          8.94243760e-02,   8.94248080e-02,   8.94271120e-02,\n",
       "          8.94266800e-02,   8.94238720e-02,   8.94255280e-02,\n",
       "          8.94267520e-02,   8.94269680e-02,   8.94247360e-02,\n",
       "          8.94248800e-02,   8.94265360e-02,   8.94272560e-02,\n",
       "          8.94235840e-02,   8.94251680e-02,   8.94236560e-02,\n",
       "          8.94243040e-02,   8.93562560e-02,   8.93553920e-02,\n",
       "          8.93565440e-02,   8.93542400e-02,   8.93564000e-02,\n",
       "          8.93569040e-02,   8.93549600e-02,   8.93552480e-02,\n",
       "          8.93566880e-02,   8.93559680e-02,   8.93568320e-02,\n",
       "          8.93569760e-02,   8.93548880e-02,   8.93567600e-02,\n",
       "          8.93550320e-02,   8.93574080e-02,   8.93556800e-02,\n",
       "          8.93554640e-02,   8.93571920e-02,   8.93540240e-02,\n",
       "          8.93544560e-02,   8.93536640e-02,   8.93556080e-02,\n",
       "          8.93555360e-02,   8.93538080e-02,   8.93558960e-02,\n",
       "          8.93545280e-02,   8.93551040e-02,   8.93546000e-02,\n",
       "          8.93576240e-02,   8.93557520e-02,   8.93558240e-02,\n",
       "          8.93573360e-02,   8.93570480e-02,   8.93575520e-02,\n",
       "          8.93543120e-02,   8.93564720e-02,   8.93574800e-02,\n",
       "          8.93560400e-02,   8.93537360e-02,   8.93571200e-02,\n",
       "          8.93571200e-02,   8.93571200e-02,   8.93571200e-02,\n",
       "          8.93571200e-02,   8.93571200e-02,   8.93571200e-02,\n",
       "          8.93571200e-02,   8.93571200e-02,   8.93571200e-02,\n",
       "          8.93571200e-02,   8.93571200e-02,   8.93571200e-02,\n",
       "          8.93571200e-02,   8.93571200e-02,   8.93571200e-02,\n",
       "          8.93571200e-02,   8.93571200e-02,   8.93571200e-02,\n",
       "          8.93571200e-02,   8.93571200e-02,   8.93571200e-02,\n",
       "          8.93571200e-02,   8.93571200e-02,   8.93571200e-02,\n",
       "          8.93571200e-02,   8.93571200e-02,   8.93571200e-02,\n",
       "          8.93571200e-02,   8.93571200e-02,   8.93571200e-02]))"
      ]
     },
     "execution_count": 186,
     "metadata": {},
     "output_type": "execute_result"
    },
    {
     "data": {
      "image/png": "[encoded data removed]",
      "text/plain": [
       "<matplotlib.figure.Figure at 0x1c1f562fef0>"
      ]
     },
     "metadata": {},
     "output_type": "display_data"
    }
   ],
   "source": [
    "plt.plot(processing_time,marker='o',label='time')\n",
    "#plt.plot(processing_ctimes,marker='x')\n",
    "plt.plot(processing_timer,marker='o',label='time_clock')\n",
    "plt.legend()\n",
    "processing_time,processing_timer,processing_ctimes"
   ]
  },
  {
   "cell_type": "markdown",
   "metadata": {
    "collapsed": false
   },
   "source": [
    "# "
   ]
  },
  {
   "cell_type": "code",
   "execution_count": 261,
   "metadata": {
    "collapsed": false,
    "scrolled": true
   },
   "outputs": [
    {
     "name": "stdout",
     "output_type": "stream",
     "text": [
      "remeshing time : 0.0019116374\n"
     ]
    },
    {
     "data": {
      "image/png": "[encoded data removed]",
      "text/plain": [
       "<matplotlib.figure.Figure at 0x1c20b920240>"
      ]
     },
     "metadata": {},
     "output_type": "display_data"
    }
   ],
   "source": [
    "shape=dict(vertices=contour,segments=get_contour_edges(contour))\n",
    "\n",
    "time1=timer()\n",
    "Delaunay(contour)\n",
    "\n",
    "time2=timer()\n",
    "\n",
    "print(\"remeshing time : %.10f\"%((time2-time1)))\n",
    "plot.plot(plt.axes(), **triangulated)\n"
   ]
  },
  {
   "cell_type": "code",
   "execution_count": 279,
   "metadata": {
    "collapsed": false
   },
   "outputs": [
    {
     "name": "stdout",
     "output_type": "stream",
     "text": [
      "4\n",
      "5\n",
      "6\n",
      "7\n",
      "8\n",
      "9\n"
     ]
    }
   ],
   "source": [
    "from Delaunay_2d import Delaunay2d\n",
    "from scipy.spatial import Delaunay\n",
    "\n",
    "\n",
    "qualities=[]\n",
    "for j in range(4,10):\n",
    "    print(j)\n",
    "    contour=get_reference_polygon(j)\n",
    "    quality,_=quality_matrix(contour)\n",
    "    qualities.append(quality)\n",
    "\n",
    "\n"
   ]
  },
  {
   "cell_type": "code",
   "execution_count": 292,
   "metadata": {
    "collapsed": false,
    "scrolled": true
   },
   "outputs": [
    {
     "name": "stdout",
     "output_type": "stream",
     "text": [
      "4 point polygon\n",
      "Elapsed time using Delaunay: 0.000221\n",
      "Elapsed time using my method: 0.001360\n",
      "5 point polygon\n",
      "Elapsed time using Delaunay: 0.000300\n",
      "Elapsed time using my method: 0.001029\n",
      "6 point polygon\n",
      "Elapsed time using Delaunay: 0.000441\n",
      "Elapsed time using my method: 0.001063\n",
      "7 point polygon\n",
      "Elapsed time using Delaunay: 0.000483\n",
      "Elapsed time using my method: 0.001356\n",
      "8 point polygon\n",
      "Elapsed time using Delaunay: 0.000810\n",
      "Elapsed time using my method: 0.001409\n",
      "9 point polygon\n",
      "Elapsed time using Delaunay: 0.000526\n",
      "Elapsed time using my method: 0.002517\n"
     ]
    }
   ],
   "source": [
    "time_delaunay=[]\n",
    "time_triangulation=[]\n",
    "\n",
    "\n",
    "for index,j in enumerate(range(4,10)):\n",
    "    nb_of_repetitions=1\n",
    "    print(\"{} point polygon\".format(j))\n",
    "    contour = [np.array([i[0],i[1]]) for i in get_reference_polygon(j)]\n",
    "    start=timer()\n",
    "    for i in range(nb_of_repetitions):\n",
    "        delaunay = Delaunay2d(contour)\n",
    "    stop=timer()\n",
    "    delaunay_remeshing_time=(stop-start)/nb_of_repetitions\n",
    "    print(\"Elapsed time using Delaunay: %f\"%(delaunay_remeshing_time))\n",
    "    time_delaunay.append(delaunay_remeshing_time)\n",
    "    \n",
    "    \n",
    "    contour=get_reference_polygon(j)\n",
    "    quality=qualities[index]\n",
    "    ordered_matrix=order_quality_matrix(quality,contour)\n",
    "    start=timer()\n",
    "    for i in range(nb_of_repetitions):\n",
    "        pure_triangulate(contour,ordered_matrix,recursive=False)\n",
    "    stop=timer()\n",
    "    construction_from_matrix_time=(stop-start)/nb_of_repetitions\n",
    "    print(\"Elapsed time using my method: %f\"%(construction_from_matrix_time))\n",
    "    time_triangulation.append(construction_from_matrix_time)\n",
    "    \n"
   ]
  },
  {
   "cell_type": "code",
   "execution_count": 293,
   "metadata": {
    "collapsed": false
   },
   "outputs": [
    {
     "data": {
      "text/plain": [
       "<matplotlib.legend.Legend at 0x1c212754898>"
      ]
     },
     "execution_count": 293,
     "metadata": {},
     "output_type": "execute_result"
    },
    {
     "data": {
      "image/png": "[encoded data removed]",
      "text/plain": [
       "<matplotlib.figure.Figure at 0x1c212742588>"
      ]
     },
     "metadata": {},
     "output_type": "display_data"
    }
   ],
   "source": [
    "plt.plot(time_delaunay[:],label='Delaunay') \n",
    "#plt.plot(time_scipy_triangulation[:],label='Scipy  Delaunay')\n",
    "plt.plot(time_triangulation[:],label='Construction from matrix')\n",
    "\n",
    "plt.legend()"
   ]
  },
  {
   "cell_type": "code",
   "execution_count": 266,
   "metadata": {
    "collapsed": false
   },
   "outputs": [
    {
     "data": {
      "text/plain": [
       "[<matplotlib.lines.Line2D at 0x1c209819e48>]"
      ]
     },
     "execution_count": 266,
     "metadata": {},
     "output_type": "execute_result"
    },
    {
     "data": {
      "image/png": "[encoded data removed]",
      "text/plain": [
       "<matplotlib.figure.Figure at 0x1c209bdd438>"
      ]
     },
     "metadata": {},
     "output_type": "display_data"
    }
   ],
   "source": [
    "plt.plot(np.array(time_delaunay)/np.array(time_triangulation))"
   ]
  },
  {
   "cell_type": "code",
   "execution_count": 84,
   "metadata": {
    "collapsed": false
   },
   "outputs": [
    {
     "data": {
      "text/plain": [
       "array([[ 1.        ,  0.        ],\n",
       "       [ 0.9819287 ,  0.18925124],\n",
       "       [ 0.92836793,  0.37166246],\n",
       "       [ 0.84125353,  0.54064082],\n",
       "       [ 0.72373404,  0.69007901],\n",
       "       [ 0.58005691,  0.81457595],\n",
       "       [ 0.41541501,  0.909632  ],\n",
       "       [ 0.23575894,  0.97181157],\n",
       "       [ 0.04758192,  0.99886734],\n",
       "       [-0.14231484,  0.98982144],\n",
       "       [-0.32706796,  0.94500082],\n",
       "       [-0.5       ,  0.8660254 ],\n",
       "       [-0.65486073,  0.75574957],\n",
       "       [-0.78605309,  0.61815899],\n",
       "       [-0.88883545,  0.45822652],\n",
       "       [-0.95949297,  0.28173256],\n",
       "       [-0.99547192,  0.09505604],\n",
       "       [-0.99547192, -0.09505604],\n",
       "       [-0.95949297, -0.28173256],\n",
       "       [-0.88883545, -0.45822652],\n",
       "       [-0.78605309, -0.61815899],\n",
       "       [-0.65486073, -0.75574957],\n",
       "       [-0.5       , -0.8660254 ],\n",
       "       [-0.32706796, -0.94500082],\n",
       "       [-0.14231484, -0.98982144],\n",
       "       [ 0.04758192, -0.99886734],\n",
       "       [ 0.23575894, -0.97181157],\n",
       "       [ 0.41541501, -0.909632  ],\n",
       "       [ 0.58005691, -0.81457595],\n",
       "       [ 0.72373404, -0.69007901],\n",
       "       [ 0.84125353, -0.54064082],\n",
       "       [ 0.92836793, -0.37166246],\n",
       "       [ 0.9819287 , -0.18925124]])"
      ]
     },
     "execution_count": 84,
     "metadata": {},
     "output_type": "execute_result"
    }
   ],
   "source": [
    "\n",
    "\n",
    "tri=Delaunay(contour)\n"
   ]
  },
  {
   "cell_type": "code",
   "execution_count": 40,
   "metadata": {
    "collapsed": false
   },
   "outputs": [],
   "source": [
    "from Triangulation import check_ordered_matrix\n",
    "\n"
   ]
  },
  {
   "cell_type": "code",
   "execution_count": 41,
   "metadata": {
    "collapsed": false
   },
   "outputs": [
    {
     "ename": "NameError",
     "evalue": "name 'get_contour_edges' is not defined",
     "output_type": "error",
     "traceback": [
      "\u001b[0;31m---------------------------------------------------------------------------\u001b[0m",
      "\u001b[0;31mNameError\u001b[0m                                 Traceback (most recent call last)",
      "\u001b[0;32m<ipython-input-41-b244250e9743>\u001b[0m in \u001b[0;36m<module>\u001b[0;34m()\u001b[0m\n\u001b[1;32m      1\u001b[0m \u001b[0mcontour\u001b[0m\u001b[1;33m=\u001b[0m\u001b[0mread_contour\u001b[0m\u001b[1;33m(\u001b[0m\u001b[1;34m'23_polygon'\u001b[0m\u001b[1;33m)\u001b[0m\u001b[1;33m\u001b[0m\u001b[0m\n\u001b[0;32m----> 2\u001b[0;31m \u001b[0mtriangulate\u001b[0m\u001b[1;33m(\u001b[0m\u001b[0mcontour\u001b[0m\u001b[1;33m,\u001b[0m\u001b[0mcheck_ordered_matrix\u001b[0m\u001b[1;33m(\u001b[0m\u001b[0morder_quality_matrix\u001b[0m\u001b[1;33m(\u001b[0m\u001b[0mquality_matrix\u001b[0m\u001b[1;33m(\u001b[0m\u001b[0mcontour\u001b[0m\u001b[1;33m)\u001b[0m\u001b[1;33m[\u001b[0m\u001b[1;36m0\u001b[0m\u001b[1;33m]\u001b[0m\u001b[1;33m,\u001b[0m\u001b[0mcontour\u001b[0m\u001b[1;33m)\u001b[0m\u001b[1;33m,\u001b[0m\u001b[0mcontour\u001b[0m\u001b[1;33m)\u001b[0m\u001b[1;33m,\u001b[0m\u001b[0mrecursive\u001b[0m\u001b[1;33m=\u001b[0m\u001b[1;32mTrue\u001b[0m\u001b[1;33m)\u001b[0m\u001b[1;33m\u001b[0m\u001b[0m\n\u001b[0m",
      "\u001b[0;32m<ipython-input-32-b1763b8256f3>\u001b[0m in \u001b[0;36mquality_matrix\u001b[0;34m(polygon, compute_minimum, normalize, mean)\u001b[0m\n\u001b[1;32m    224\u001b[0m     \u001b[0mpolygon\u001b[0m\u001b[1;33m=\u001b[0m\u001b[0mapply_procrustes\u001b[0m\u001b[1;33m(\u001b[0m\u001b[0mpolygon\u001b[0m\u001b[1;33m,\u001b[0m\u001b[1;32mFalse\u001b[0m\u001b[1;33m)\u001b[0m\u001b[1;33m\u001b[0m\u001b[0m\n\u001b[1;32m    225\u001b[0m \u001b[1;33m\u001b[0m\u001b[0m\n\u001b[0;32m--> 226\u001b[0;31m     \u001b[0mcontour_connectivity\u001b[0m\u001b[1;33m=\u001b[0m\u001b[0mnp\u001b[0m\u001b[1;33m.\u001b[0m\u001b[0marray\u001b[0m\u001b[1;33m(\u001b[0m\u001b[0mlist\u001b[0m\u001b[1;33m(\u001b[0m\u001b[0mtuple\u001b[0m\u001b[1;33m(\u001b[0m\u001b[0mi\u001b[0m\u001b[1;33m)\u001b[0m \u001b[1;32mfor\u001b[0m \u001b[0mi\u001b[0m \u001b[1;32min\u001b[0m \u001b[0mget_contour_edges\u001b[0m\u001b[1;33m(\u001b[0m\u001b[0mpolygon\u001b[0m\u001b[1;33m)\u001b[0m\u001b[1;33m)\u001b[0m\u001b[1;33m)\u001b[0m\u001b[1;33m\u001b[0m\u001b[0m\n\u001b[0m\u001b[1;32m    227\u001b[0m \u001b[1;33m\u001b[0m\u001b[0m\n\u001b[1;32m    228\u001b[0m \u001b[1;33m\u001b[0m\u001b[0m\n",
      "\u001b[0;31mNameError\u001b[0m: name 'get_contour_edges' is not defined"
     ]
    }
   ],
   "source": [
    "contour=read_contour('23_polygon')\n",
    "triangulate(contour,check_ordered_matrix(order_quality_matrix(quality_matrix(contour)[0],contour),contour),recursive=True)\n"
   ]
  },
  {
   "cell_type": "code",
   "execution_count": 527,
   "metadata": {
    "collapsed": false
   },
   "outputs": [],
   "source": [
    "export_contour('23_polygon',contour)"
   ]
  },
  {
   "cell_type": "code",
   "execution_count": 54,
   "metadata": {
    "collapsed": false
   },
   "outputs": [],
   "source": []
  },
  {
   "cell_type": "code",
   "execution_count": null,
   "metadata": {
    "collapsed": false
   },
   "outputs": [],
   "source": [
    "\n"
   ]
  },
  {
   "cell_type": "code",
   "execution_count": 41,
   "metadata": {
    "collapsed": true
   },
   "outputs": [],
   "source": []
  },
  {
   "cell_type": "code",
   "execution_count": null,
   "metadata": {
    "collapsed": false
   },
   "outputs": [],
   "source": []
  },
  {
   "cell_type": "code",
   "execution_count": null,
   "metadata": {
    "collapsed": false,
    "scrolled": true
   },
   "outputs": [],
   "source": []
  },
  {
   "cell_type": "code",
   "execution_count": null,
   "metadata": {
    "collapsed": false
   },
   "outputs": [],
   "source": []
  },
  {
   "cell_type": "code",
   "execution_count": 155,
   "metadata": {
    "collapsed": false
   },
   "outputs": [],
   "source": []
  },
  {
   "cell_type": "code",
   "execution_count": 731,
   "metadata": {
    "collapsed": false,
    "scrolled": true
   },
   "outputs": [],
   "source": []
  },
  {
   "cell_type": "code",
   "execution_count": 367,
   "metadata": {
    "collapsed": false
   },
   "outputs": [],
   "source": []
  },
  {
   "cell_type": "code",
   "execution_count": 369,
   "metadata": {
    "collapsed": false
   },
   "outputs": [],
   "source": []
  },
  {
   "cell_type": "code",
   "execution_count": null,
   "metadata": {
    "collapsed": false
   },
   "outputs": [],
   "source": []
  },
  {
   "cell_type": "code",
   "execution_count": 739,
   "metadata": {
    "collapsed": false
   },
   "outputs": [],
   "source": []
  },
  {
   "cell_type": "code",
   "execution_count": null,
   "metadata": {
    "collapsed": false,
    "scrolled": false
   },
   "outputs": [],
   "source": []
  },
  {
   "cell_type": "code",
   "execution_count": null,
   "metadata": {
    "collapsed": false,
    "scrolled": false
   },
   "outputs": [],
   "source": []
  },
  {
   "cell_type": "code",
   "execution_count": null,
   "metadata": {
    "collapsed": false
   },
   "outputs": [],
   "source": []
  },
  {
   "cell_type": "code",
   "execution_count": null,
   "metadata": {
    "collapsed": false
   },
   "outputs": [],
   "source": []
  },
  {
   "cell_type": "code",
   "execution_count": 743,
   "metadata": {
    "collapsed": true
   },
   "outputs": [],
   "source": []
  },
  {
   "cell_type": "code",
   "execution_count": 744,
   "metadata": {
    "collapsed": false
   },
   "outputs": [
    {
     "ename": "NameError",
     "evalue": "name 'plot_contour' is not defined",
     "output_type": "error",
     "traceback": [
      "\u001b[0;31m---------------------------------------------------------------------------\u001b[0m",
      "\u001b[0;31mNameError\u001b[0m                                 Traceback (most recent call last)",
      "\u001b[0;32m<ipython-input-744-1bf40519fa33>\u001b[0m in \u001b[0;36m<module>\u001b[0;34m()\u001b[0m\n\u001b[0;32m----> 1\u001b[0;31m \u001b[0mplot_contour\u001b[0m\u001b[1;33m(\u001b[0m\u001b[0mcontour\u001b[0m\u001b[1;33m)\u001b[0m\u001b[1;33m\u001b[0m\u001b[0m\n\u001b[0m",
      "\u001b[0;31mNameError\u001b[0m: name 'plot_contour' is not defined"
     ]
    }
   ],
   "source": []
  },
  {
   "cell_type": "code",
   "execution_count": null,
   "metadata": {
    "collapsed": false
   },
   "outputs": [],
   "source": []
  },
  {
   "cell_type": "code",
   "execution_count": null,
   "metadata": {
    "collapsed": false
   },
   "outputs": [],
   "source": []
  },
  {
   "cell_type": "code",
   "execution_count": null,
   "metadata": {
    "collapsed": false
   },
   "outputs": [],
   "source": []
  },
  {
   "cell_type": "code",
   "execution_count": null,
   "metadata": {
    "collapsed": true
   },
   "outputs": [],
   "source": []
  }
 ],
 "metadata": {
  "kernelspec": {
   "display_name": "Python 3",
   "language": "python",
   "name": "python3"
  },
  "language_info": {
   "codemirror_mode": {
    "name": "ipython",
    "version": 3
   },
   "file_extension": ".py",
   "mimetype": "text/x-python",
   "name": "python",
   "nbconvert_exporter": "python",
   "pygments_lexer": "ipython3",
   "version": "3.6.1"
  }
 },
 "nbformat": 4,
 "nbformat_minor": 2
}
