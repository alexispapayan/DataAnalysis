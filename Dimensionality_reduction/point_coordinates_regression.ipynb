{
 "cells": [
  {
   "cell_type": "code",
   "execution_count": 9,
   "metadata": {},
   "outputs": [],
   "source": [
    "from Triangulation import *\n",
    "\n",
    "import torch\n",
    "import torch.optim as optim\n",
    "\n",
    "\n",
    "\n",
    "from matplotlib import pyplot as plt\n",
    "\n",
    "import torch.nn as nn\n",
    "from torch.autograd import Variable\n",
    "\n",
    "from  Neural_network import *\n",
    "\n",
    "%matplotlib qt\n"
   ]
  },
  {
   "cell_type": "code",
   "execution_count": 10,
   "metadata": {},
   "outputs": [],
   "source": [
    "def get_set_nb_of_points(point_coordinates):\n",
    "    set_of_numbers=set()\n",
    "    for index,_ in enumerate(point_coordinates):\n",
    "        set_of_numbers.add(len(point_coordinates[index][0]))\n",
    "    return set_of_numbers\n",
    "\n",
    "\n",
    "def get_indices_nb_of_points(set_of_numbers,number_of_points,point_coordinates):\n",
    "    indices=[]\n",
    "    if number_of_points not in set_of_numbers:\n",
    "        return \"No such number of points for sample\"\n",
    "    else:\n",
    "        for index,_ in enumerate(point_coordinates):\n",
    "            if len(point_coordinates[index][0])==number_of_points:\n",
    "                indices.append(index)\n",
    "        return indices\n",
    "    \n",
    "def get_polygons_nb_of_points(indices):\n",
    "    pass\n",
    "\n"
   ]
  },
  {
   "cell_type": "code",
   "execution_count": 11,
   "metadata": {},
   "outputs": [],
   "source": [
    "polygons=load_dataset('12_polygons.pkl')\n",
    "polygons=[i for i in polygons for j in range(10)]\n",
    "polygons_reshaped=[]\n",
    "for polygon in polygons:\n",
    "    polygons_reshaped.append(polygon.reshape(2,12))\n",
    "\n",
    "polygons_reshaped=np.array(polygons_reshaped)\n",
    "#polygons_reshaped=polygons_reshaped.reshape(60000,24)"
   ]
  },
  {
   "cell_type": "code",
   "execution_count": 12,
   "metadata": {},
   "outputs": [],
   "source": [
    "point_coordinates=load_dataset('12_point_coordinates')\n",
    "number_of_insertion_points=load_dataset('12_nb_of_points.pkl')\n",
    "centers_of_mass=load_dataset('12_centers_of_mass')"
   ]
  },
  {
   "cell_type": "code",
   "execution_count": 13,
   "metadata": {},
   "outputs": [],
   "source": [
    "set_of_points=get_set_nb_of_points(point_coordinates)        \n",
    "indices=get_indices_nb_of_points(set_of_points,1,point_coordinates)\n",
    "indices=np.asarray(indices)\n",
    "number_of_insertion_points=np.array(number_of_insertion_points)"
   ]
  },
  {
   "cell_type": "code",
   "execution_count": 18,
   "metadata": {},
   "outputs": [],
   "source": [
    "polygons_reshaped.resize(len(point_coordinates),2*12)\n",
    "\n",
    "polygons_reshaped=np.hstack([polygons_reshaped[indices],number_of_insertion_points[indices,1].reshape(len(indices),1) ])\n",
    "#polygons_reshaped=polygons_reshaped[indices]\n"
   ]
  },
  {
   "cell_type": "code",
   "execution_count": 19,
   "metadata": {},
   "outputs": [],
   "source": [
    "point_coordinates=[ point_coordinates[i][0] for i in indices]\n",
    "point_coordinates=np.array(point_coordinates)\n",
    "#barycenters,point_coordinates"
   ]
  },
  {
   "cell_type": "code",
   "execution_count": 20,
   "metadata": {},
   "outputs": [],
   "source": [
    "#len(polygons_reshaped),len(indices)\n",
    "#point_coordinates.shape\n",
    "#centers_of_mass=centers_of_mass.reshape(60000,2)"
   ]
  },
  {
   "cell_type": "code",
   "execution_count": 21,
   "metadata": {},
   "outputs": [],
   "source": [
    "nb_of_test_data=int(len(polygons_reshaped)*0.2)\n",
    "nb_of_training_data=int(len(polygons_reshaped)-nb_of_test_data)\n"
   ]
  },
  {
   "cell_type": "code",
   "execution_count": 22,
   "metadata": {},
   "outputs": [],
   "source": [
    "x_tensor=torch.from_numpy(polygons_reshaped[:nb_of_training_data]).type(torch.FloatTensor)\n",
    "x_tensor_test=torch.from_numpy(polygons_reshaped[nb_of_training_data:]).type(torch.FloatTensor)\n",
    "x_variable,x_variable_test=Variable(x_tensor),Variable(x_tensor_test)\n",
    "\n",
    "y_tensor=torch.from_numpy(point_coordinates[:nb_of_training_data]).type(torch.FloatTensor)\n",
    "y_tensor_test=torch.from_numpy(point_coordinates[nb_of_training_data:]).type(torch.FloatTensor)\n",
    "y_variable,y_variable_test=Variable(y_tensor),Variable(y_tensor_test)\n",
    "\n",
    "\n",
    "\n",
    "shuffle=torch.randperm(x_variable.shape[0])\n",
    "x_variable = x_variable[shuffle]\n",
    "y_variable=y_variable[shuffle]"
   ]
  },
  {
   "cell_type": "code",
   "execution_count": 27,
   "metadata": {},
   "outputs": [
    {
     "name": "stdout",
     "output_type": "stream",
     "text": [
      "Training data length: 174978\n"
     ]
    }
   ],
   "source": [
    "my_net=Net(2*12+1,1*2,nb_of_hidden_layers=3, nb_of_hidden_nodes=40,batch_normalization=True)\n",
    "print(\"Training data length:\",x_variable.size()[0])"
   ]
  },
  {
   "cell_type": "code",
   "execution_count": 28,
   "metadata": {},
   "outputs": [],
   "source": [
    "optimizer = torch.optim.Adam(my_net.parameters(), lr=1e-3,weight_decay=0)\n",
    "#optimizer = torch.optim.SGD(my_net.parameters(), lr=1e-5,weight_decay=.5,momentum=0.9)\n",
    "max_distance=0.6108970818704328\n",
    "loss_func =torch.nn.MSELoss(size_average=False) \n",
    "#loss_func=myLossfunction()\n"
   ]
  },
  {
   "cell_type": "code",
   "execution_count": 29,
   "metadata": {},
   "outputs": [
    {
     "name": "stdout",
     "output_type": "stream",
     "text": [
      "cuda activated\n"
     ]
    }
   ],
   "source": [
    "if  torch.cuda.is_available():\n",
    "    loss_func.cuda()\n",
    "    x_variable , y_variable=x_variable.cuda(), y_variable.cuda()\n",
    "    x_variable_test,y_variable_test= Variable(x_tensor_test.cuda(),volatile=True),Variable(y_tensor_test.cuda(),volatile=True)\n",
    "    print(\"cuda activated\")\n"
   ]
  },
  {
   "cell_type": "code",
   "execution_count": 30,
   "metadata": {
    "scrolled": true
   },
   "outputs": [
    {
     "name": "stdout",
     "output_type": "stream",
     "text": [
      "Epoch: 0 Training Loss: 0.39317632520231116 Test Loss: 0.17085867758292567\n",
      "Epoch: 10 Training Loss: 0.14491973633828253 Test Loss: 0.12781880175709812\n",
      "Epoch: 20 Training Loss: 0.11138427603220119 Test Loss: 0.10534570857217561\n",
      "Epoch: 30 Training Loss: 0.10730795442855673 Test Loss: 0.10512591280375594\n",
      "Epoch: 40 Training Loss: 0.10602773768345164 Test Loss: 0.1050891108816352\n",
      "Epoch: 50 Training Loss: 0.1053702833802678 Test Loss: 0.10508067222433362\n",
      "Epoch: 60 Training Loss: 0.10495881982306347 Test Loss: 0.10506405164136796\n",
      "Epoch: 70 Training Loss: 0.10467170783612798 Test Loss: 0.10507635243547686\n",
      "Epoch: 80 Training Loss: 0.10446492402794923 Test Loss: 0.10508016992330377\n",
      "Epoch: 90 Training Loss: 0.10430646660758781 Test Loss: 0.10508041549269614\n",
      "Epoch: 100 Training Loss: 0.10418070861051104 Test Loss: 0.10508390927541492\n",
      "Epoch: 110 Training Loss: 0.10407956308257324 Test Loss: 0.10508714632649621\n",
      "Epoch: 120 Training Loss: 0.10399854285253003 Test Loss: 0.1050882737132521\n",
      "Epoch: 130 Training Loss: 0.10393084460975094 Test Loss: 0.10508945691123354\n",
      "Epoch: 140 Training Loss: 0.10387309181368515 Test Loss: 0.10509094148983289\n",
      "Epoch: 150 Training Loss: 0.10382248835389306 Test Loss: 0.10509161122453936\n",
      "Epoch: 160 Training Loss: 0.10377831985485318 Test Loss: 0.10509270512455994\n",
      "Epoch: 170 Training Loss: 0.10373970450928116 Test Loss: 0.10509283907150123\n",
      "Epoch: 180 Training Loss: 0.1037051298502526 Test Loss: 0.10509358694192346\n",
      "Epoch: 190 Training Loss: 0.10367363593566048 Test Loss: 0.10509379902458052\n",
      "Epoch: 200 Training Loss: 0.10364515021174091 Test Loss: 0.10509426783887504\n",
      "Epoch: 210 Training Loss: 0.10361862343944667 Test Loss: 0.10509399994499245\n",
      "Epoch: 220 Training Loss: 0.1035945914004189 Test Loss: 0.1050918009827062\n",
      "Epoch: 230 Training Loss: 0.10357237878654744 Test Loss: 0.1050912205459606\n",
      "Epoch: 240 Training Loss: 0.10355177909865812 Test Loss: 0.10509257117761865\n",
      "Epoch: 250 Training Loss: 0.10353311045710033 Test Loss: 0.10509351996845281\n",
      "Epoch: 260 Training Loss: 0.10351551337882477 Test Loss: 0.10509296185619742\n",
      "Epoch: 270 Training Loss: 0.10349864183818823 Test Loss: 0.10509375437560008\n",
      "Epoch: 280 Training Loss: 0.10348262419954223 Test Loss: 0.10509339718375663\n",
      "Epoch: 290 Training Loss: 0.1034675274355919 Test Loss: 0.10509357577967836\n",
      "Epoch: 300 Training Loss: 0.10345314504716308 Test Loss: 0.10509322975008001\n",
      "Epoch: 310 Training Loss: 0.10343900822531975 Test Loss: 0.1050956184705331\n",
      "Epoch: 320 Training Loss: 0.1034251671995908 Test Loss: 0.10509372088886476\n",
      "Epoch: 330 Training Loss: 0.1034113484980969 Test Loss: 0.10509807416445684\n",
      "Epoch: 340 Training Loss: 0.10339829440165335 Test Loss: 0.10509459154398318\n",
      "Epoch: 350 Training Loss: 0.1033854747096778 Test Loss: 0.10509594217564124\n",
      "Epoch: 360 Training Loss: 0.10337287826005269 Test Loss: 0.10509443527255166\n",
      "Epoch: 370 Training Loss: 0.10336063899818834 Test Loss: 0.10509464735520871\n",
      "Epoch: 380 Training Loss: 0.1033482546287962 Test Loss: 0.10509484827562066\n",
      "Epoch: 390 Training Loss: 0.10333622744716478 Test Loss: 0.10509637750320044\n",
      "Epoch: 400 Training Loss: 0.10332457977752918 Test Loss: 0.10509639982769066\n",
      "Epoch: 410 Training Loss: 0.10331354602435734 Test Loss: 0.10509509384501303\n",
      "Epoch: 420 Training Loss: 0.1033028192294174 Test Loss: 0.105096745857289\n",
      "Epoch: 430 Training Loss: 0.10329207011024243 Test Loss: 0.1050967346950439\n",
      "Epoch: 440 Training Loss: 0.10328157771977048 Test Loss: 0.10509766116138784\n",
      "Epoch: 450 Training Loss: 0.10327105184294597 Test Loss: 0.10509629936748469\n",
      "Epoch: 460 Training Loss: 0.10326057619565031 Test Loss: 0.10509709188688734\n",
      "Epoch: 470 Training Loss: 0.10325016194000103 Test Loss: 0.10509796254200576\n",
      "Epoch: 480 Training Loss: 0.10323999325093726 Test Loss: 0.10509817462466281\n",
      "Epoch: 490 Training Loss: 0.10323015942539919 Test Loss: 0.10509820811139814\n",
      "Epoch: 500 Training Loss: 0.10322049861268273 Test Loss: 0.10509734861852482\n",
      "Epoch: 510 Training Loss: 0.10321079315149619 Test Loss: 0.10509757186342698\n",
      "Epoch: 520 Training Loss: 0.10320100955548697 Test Loss: 0.10509856530324159\n",
      "Epoch: 530 Training Loss: 0.1031911757299489 Test Loss: 0.10509877738589864\n",
      "Epoch: 540 Training Loss: 0.10318126935064693 Test Loss: 0.10509733745627972\n",
      "Epoch: 550 Training Loss: 0.10317153040310782 Test Loss: 0.10509735978076994\n",
      "Epoch: 560 Training Loss: 0.10316183052298003 Test Loss: 0.10509752721444655\n",
      "Epoch: 570 Training Loss: 0.10315233156096766 Test Loss: 0.10509624355625914\n",
      "Epoch: 580 Training Loss: 0.10314306142236453 Test Loss: 0.10509555149706246\n",
      "Epoch: 590 Training Loss: 0.10313383035117273 Test Loss: 0.10509577474196462\n",
      "Epoch: 600 Training Loss: 0.10312472764433243 Test Loss: 0.10509500454705217\n",
      "Epoch: 610 Training Loss: 0.10311545750572929 Test Loss: 0.10509864343895735\n",
      "Epoch: 620 Training Loss: 0.10310621527241996 Test Loss: 0.1050984425185454\n",
      "Epoch: 630 Training Loss: 0.10309712930875596 Test Loss: 0.10509794021751555\n",
      "Epoch: 640 Training Loss: 0.10308802660191567 Test Loss: 0.10509792905527043\n",
      "Epoch: 650 Training Loss: 0.10307868949060739 Test Loss: 0.10509846484303562\n",
      "Epoch: 660 Training Loss: 0.10306934679824035 Test Loss: 0.10509783975730957\n",
      "Epoch: 670 Training Loss: 0.10306026641563511 Test Loss: 0.10509831973384921\n",
      "Epoch: 680 Training Loss: 0.10305128091102882 Test Loss: 0.10509894481957525\n",
      "Epoch: 690 Training Loss: 0.10304225075795242 Test Loss: 0.10510028428898821\n",
      "Epoch: 700 Training Loss: 0.10303317037534719 Test Loss: 0.10510134470227346\n",
      "Epoch: 710 Training Loss: 0.1030236881565111 Test Loss: 0.10510639003706222\n",
      "Epoch: 720 Training Loss: 0.10301420593767502 Test Loss: 0.10510419107477596\n",
      "Epoch: 730 Training Loss: 0.10300467907036885 Test Loss: 0.10509953641856598\n",
      "Epoch: 740 Training Loss: 0.10299504058188744 Test Loss: 0.10509983779918389\n",
      "Epoch: 750 Training Loss: 0.10298547464716994 Test Loss: 0.1051022488441272\n",
      "Epoch: 760 Training Loss: 0.10297602591468642 Test Loss: 0.10510092053695935\n",
      "Epoch: 770 Training Loss: 0.10296657718220291 Test Loss: 0.10509722583382863\n",
      "Epoch: 780 Training Loss: 0.10295675451878236 Test Loss: 0.10510022847776267\n",
      "Epoch: 790 Training Loss: 0.10294684813948039 Test Loss: 0.10509988244816432\n",
      "Epoch: 800 Training Loss: 0.10293693617911966 Test Loss: 0.10510059683185123\n",
      "Epoch: 810 Training Loss: 0.10292744837922482 Test Loss: 0.10510344320435373\n",
      "Epoch: 820 Training Loss: 0.10291794941721245 Test Loss: 0.10510314182373583\n",
      "Epoch: 830 Training Loss: 0.10290807094320428 Test Loss: 0.10510009453082136\n",
      "Epoch: 840 Training Loss: 0.10289801387531576 Test Loss: 0.10510144516247942\n",
      "Epoch: 850 Training Loss: 0.10288769449766542 Test Loss: 0.10510026196449798\n",
      "Epoch: 860 Training Loss: 0.1028772858230749 Test Loss: 0.10509975966346813\n",
      "Epoch: 870 Training Loss: 0.10286638601531335 Test Loss: 0.10510069729205719\n",
      "Epoch: 880 Training Loss: 0.102855458302258 Test Loss: 0.10510241627780381\n",
      "Epoch: 890 Training Loss: 0.10284437990061608 Test Loss: 0.10510188049003863\n",
      "Epoch: 900 Training Loss: 0.10283311174297625 Test Loss: 0.10510355482680482\n",
      "Epoch: 910 Training Loss: 0.10282192730121786 Test Loss: 0.10510503940540417\n",
      "Epoch: 920 Training Loss: 0.10281088796698727 Test Loss: 0.10510415758804065\n",
      "Epoch: 930 Training Loss: 0.10279985979487422 Test Loss: 0.1051028292808728\n",
      "Epoch: 940 Training Loss: 0.10278865302888078 Test Loss: 0.10510555286867913\n",
      "Epoch: 950 Training Loss: 0.10277747416818114 Test Loss: 0.10510675839115079\n",
      "Epoch: 960 Training Loss: 0.10276611113254237 Test Loss: 0.10510505056764928\n",
      "Epoch: 970 Training Loss: 0.10275462531361085 Test Loss: 0.10510483848499223\n",
      "Epoch: 980 Training Loss: 0.10274338506126485 Test Loss: 0.10510683652686655\n",
      "Epoch: 990 Training Loss: 0.10273158670304267 Test Loss: 0.10510835459220122\n",
      "Epoch: 1000 Training Loss: 0.10271959300776383 Test Loss: 0.10510092053695935\n",
      "Epoch: 1010 Training Loss: 0.10270785604118804 Test Loss: 0.1051113014249097\n",
      "Epoch: 1020 Training Loss: 0.10269629766849261 Test Loss: 0.10511414779741221\n",
      "Epoch: 1030 Training Loss: 0.1026848676601487 Test Loss: 0.10510301903903964\n",
      "Epoch: 1040 Training Loss: 0.10267304139663272 Test Loss: 0.105109470816712\n",
      "Epoch: 1050 Training Loss: 0.10266125420052806 Test Loss: 0.10509748256546612\n",
      "Epoch: 1060 Training Loss: 0.10264972931418521 Test Loss: 0.10510899084017236\n"
     ]
    },
    {
     "name": "stdout",
     "output_type": "stream",
     "text": [
      "Epoch: 1070 Training Loss: 0.10263838302172273 Test Loss: 0.10511232835145963\n",
      "Epoch: 1080 Training Loss: 0.10262715951255301 Test Loss: 0.10511414779741221\n",
      "Epoch: 1090 Training Loss: 0.10261576299056167 Test Loss: 0.1051097498728397\n",
      "Epoch: 1100 Training Loss: 0.10260493015550526 Test Loss: 0.105114125472922\n",
      "Epoch: 1110 Training Loss: 0.10259386291598087 Test Loss: 0.10510909130037834\n",
      "Epoch: 1120 Training Loss: 0.10258247197504829 Test Loss: 0.10511366782087257\n",
      "Epoch: 1130 Training Loss: 0.10257077407588383 Test Loss: 0.10511226137798899\n",
      "Epoch: 1140 Training Loss: 0.10255897571766165 Test Loss: 0.10510584308705194\n",
      "Epoch: 1150 Training Loss: 0.10254750664190641 Test Loss: 0.10510993963100654\n",
      "Epoch: 1160 Training Loss: 0.10253664032049743 Test Loss: 0.10511433755557906\n",
      "Epoch: 1170 Training Loss: 0.10252620374061311 Test Loss: 0.10510491662070798\n",
      "Epoch: 1180 Training Loss: 0.10251594575460915 Test Loss: 0.1051064904972682\n",
      "Epoch: 1190 Training Loss: 0.10250614541542365 Test Loss: 0.10510924757180985\n",
      "Epoch: 1200 Training Loss: 0.10249665761552881 Test Loss: 0.10510492778295309\n",
      "Epoch: 1210 Training Loss: 0.10248718655881026 Test Loss: 0.10509960339203663\n",
      "Epoch: 1220 Training Loss: 0.10247798339291225 Test Loss: 0.10511000660447718\n",
      "Epoch: 1230 Training Loss: 0.10246919322536262 Test Loss: 0.1051089015422115\n",
      "Epoch: 1240 Training Loss: 0.1024597444928791 Test Loss: 0.1051041017768151\n",
      "Epoch: 1250 Training Loss: 0.10245045761109968 Test Loss: 0.10510026196449798\n",
      "Epoch: 1260 Training Loss: 0.10244102004073369 Test Loss: 0.10509945828285022\n",
      "Epoch: 1270 Training Loss: 0.1024318894285996 Test Loss: 0.10511179256369445\n",
      "Epoch: 1280 Training Loss: 0.10242241279082227 Test Loss: 0.10509916806447742\n",
      "Epoch: 1290 Training Loss: 0.1024130310310439 Test Loss: 0.10511352271168617\n",
      "Epoch: 1300 Training Loss: 0.10240338696150374 Test Loss: 0.10511268554330308\n",
      "Epoch: 1310 Training Loss: 0.10239379312149241 Test Loss: 0.10510010569306648\n",
      "Epoch: 1320 Training Loss: 0.10238397045807188 Test Loss: 0.10509846484303562\n",
      "Epoch: 1330 Training Loss: 0.10237393013335962 Test Loss: 0.10509904527978123\n",
      "Epoch: 1340 Training Loss: 0.10236382283594224 Test Loss: 0.10508447854991541\n"
     ]
    },
    {
     "ename": "KeyboardInterrupt",
     "evalue": "",
     "output_type": "error",
     "traceback": [
      "\u001b[1;31m---------------------------------------------------------------------------\u001b[0m",
      "\u001b[1;31mKeyboardInterrupt\u001b[0m                         Traceback (most recent call last)",
      "\u001b[1;32m<ipython-input-30-0ea4af3e8d5b>\u001b[0m in \u001b[0;36m<module>\u001b[1;34m()\u001b[0m\n\u001b[0;32m      9\u001b[0m     \u001b[1;32mfor\u001b[0m \u001b[0mb\u001b[0m \u001b[1;32min\u001b[0m \u001b[0mrange\u001b[0m\u001b[1;33m(\u001b[0m\u001b[1;36m0\u001b[0m\u001b[1;33m,\u001b[0m\u001b[0mx_variable\u001b[0m\u001b[1;33m.\u001b[0m\u001b[0msize\u001b[0m\u001b[1;33m(\u001b[0m\u001b[1;36m0\u001b[0m\u001b[1;33m)\u001b[0m\u001b[1;33m,\u001b[0m\u001b[0mbatch_size\u001b[0m\u001b[1;33m)\u001b[0m\u001b[1;33m:\u001b[0m\u001b[1;33m\u001b[0m\u001b[0m\n\u001b[0;32m     10\u001b[0m         \u001b[0mout\u001b[0m \u001b[1;33m=\u001b[0m \u001b[0mmy_net\u001b[0m\u001b[1;33m(\u001b[0m\u001b[0mx_variable\u001b[0m\u001b[1;33m.\u001b[0m\u001b[0mnarrow\u001b[0m\u001b[1;33m(\u001b[0m\u001b[1;36m0\u001b[0m\u001b[1;33m,\u001b[0m\u001b[0mb\u001b[0m\u001b[1;33m,\u001b[0m\u001b[0mbatch_size\u001b[0m\u001b[1;33m)\u001b[0m\u001b[1;33m)\u001b[0m                 \u001b[1;31m# input x and predict based on x\u001b[0m\u001b[1;33m\u001b[0m\u001b[0m\n\u001b[1;32m---> 11\u001b[1;33m         \u001b[0mloss\u001b[0m \u001b[1;33m=\u001b[0m \u001b[0mloss_func\u001b[0m\u001b[1;33m(\u001b[0m\u001b[0mout\u001b[0m\u001b[1;33m,\u001b[0m \u001b[0my_variable\u001b[0m\u001b[1;33m.\u001b[0m\u001b[0mnarrow\u001b[0m\u001b[1;33m(\u001b[0m\u001b[1;36m0\u001b[0m\u001b[1;33m,\u001b[0m\u001b[0mb\u001b[0m\u001b[1;33m,\u001b[0m\u001b[0mbatch_size\u001b[0m\u001b[1;33m)\u001b[0m\u001b[1;33m)\u001b[0m     \u001b[1;31m# must be (1. nn output, 2. target), the target label is NOT one-hotted\u001b[0m\u001b[1;33m\u001b[0m\u001b[0m\n\u001b[0m\u001b[0;32m     12\u001b[0m         \u001b[1;31m#loss=loss_func.apply(out, y_variable.narrow(0,b,batch_size).resize(batch_size,2))\u001b[0m\u001b[1;33m\u001b[0m\u001b[1;33m\u001b[0m\u001b[0m\n\u001b[0;32m     13\u001b[0m \u001b[1;33m\u001b[0m\u001b[0m\n",
      "\u001b[1;32m~\\AppData\\Local\\Continuum\\Anaconda3\\lib\\site-packages\\torch\\nn\\modules\\module.py\u001b[0m in \u001b[0;36m__call__\u001b[1;34m(self, *input, **kwargs)\u001b[0m\n\u001b[0;32m    355\u001b[0m             \u001b[0mresult\u001b[0m \u001b[1;33m=\u001b[0m \u001b[0mself\u001b[0m\u001b[1;33m.\u001b[0m\u001b[0m_slow_forward\u001b[0m\u001b[1;33m(\u001b[0m\u001b[1;33m*\u001b[0m\u001b[0minput\u001b[0m\u001b[1;33m,\u001b[0m \u001b[1;33m**\u001b[0m\u001b[0mkwargs\u001b[0m\u001b[1;33m)\u001b[0m\u001b[1;33m\u001b[0m\u001b[0m\n\u001b[0;32m    356\u001b[0m         \u001b[1;32melse\u001b[0m\u001b[1;33m:\u001b[0m\u001b[1;33m\u001b[0m\u001b[0m\n\u001b[1;32m--> 357\u001b[1;33m             \u001b[0mresult\u001b[0m \u001b[1;33m=\u001b[0m \u001b[0mself\u001b[0m\u001b[1;33m.\u001b[0m\u001b[0mforward\u001b[0m\u001b[1;33m(\u001b[0m\u001b[1;33m*\u001b[0m\u001b[0minput\u001b[0m\u001b[1;33m,\u001b[0m \u001b[1;33m**\u001b[0m\u001b[0mkwargs\u001b[0m\u001b[1;33m)\u001b[0m\u001b[1;33m\u001b[0m\u001b[0m\n\u001b[0m\u001b[0;32m    358\u001b[0m         \u001b[1;32mfor\u001b[0m \u001b[0mhook\u001b[0m \u001b[1;32min\u001b[0m \u001b[0mself\u001b[0m\u001b[1;33m.\u001b[0m\u001b[0m_forward_hooks\u001b[0m\u001b[1;33m.\u001b[0m\u001b[0mvalues\u001b[0m\u001b[1;33m(\u001b[0m\u001b[1;33m)\u001b[0m\u001b[1;33m:\u001b[0m\u001b[1;33m\u001b[0m\u001b[0m\n\u001b[0;32m    359\u001b[0m             \u001b[0mhook_result\u001b[0m \u001b[1;33m=\u001b[0m \u001b[0mhook\u001b[0m\u001b[1;33m(\u001b[0m\u001b[0mself\u001b[0m\u001b[1;33m,\u001b[0m \u001b[0minput\u001b[0m\u001b[1;33m,\u001b[0m \u001b[0mresult\u001b[0m\u001b[1;33m)\u001b[0m\u001b[1;33m\u001b[0m\u001b[0m\n",
      "\u001b[1;32m~\\AppData\\Local\\Continuum\\Anaconda3\\lib\\site-packages\\torch\\nn\\modules\\loss.py\u001b[0m in \u001b[0;36mforward\u001b[1;34m(self, input, target)\u001b[0m\n\u001b[0;32m    377\u001b[0m     \u001b[1;32mdef\u001b[0m \u001b[0mforward\u001b[0m\u001b[1;33m(\u001b[0m\u001b[0mself\u001b[0m\u001b[1;33m,\u001b[0m \u001b[0minput\u001b[0m\u001b[1;33m,\u001b[0m \u001b[0mtarget\u001b[0m\u001b[1;33m)\u001b[0m\u001b[1;33m:\u001b[0m\u001b[1;33m\u001b[0m\u001b[0m\n\u001b[0;32m    378\u001b[0m         \u001b[0m_assert_no_grad\u001b[0m\u001b[1;33m(\u001b[0m\u001b[0mtarget\u001b[0m\u001b[1;33m)\u001b[0m\u001b[1;33m\u001b[0m\u001b[0m\n\u001b[1;32m--> 379\u001b[1;33m         \u001b[1;32mreturn\u001b[0m \u001b[0mF\u001b[0m\u001b[1;33m.\u001b[0m\u001b[0mmse_loss\u001b[0m\u001b[1;33m(\u001b[0m\u001b[0minput\u001b[0m\u001b[1;33m,\u001b[0m \u001b[0mtarget\u001b[0m\u001b[1;33m,\u001b[0m \u001b[0msize_average\u001b[0m\u001b[1;33m=\u001b[0m\u001b[0mself\u001b[0m\u001b[1;33m.\u001b[0m\u001b[0msize_average\u001b[0m\u001b[1;33m,\u001b[0m \u001b[0mreduce\u001b[0m\u001b[1;33m=\u001b[0m\u001b[0mself\u001b[0m\u001b[1;33m.\u001b[0m\u001b[0mreduce\u001b[0m\u001b[1;33m)\u001b[0m\u001b[1;33m\u001b[0m\u001b[0m\n\u001b[0m\u001b[0;32m    380\u001b[0m \u001b[1;33m\u001b[0m\u001b[0m\n\u001b[0;32m    381\u001b[0m \u001b[1;33m\u001b[0m\u001b[0m\n",
      "\u001b[1;32m~\\AppData\\Local\\Continuum\\Anaconda3\\lib\\site-packages\\torch\\nn\\functional.py\u001b[0m in \u001b[0;36mmse_loss\u001b[1;34m(input, target, size_average, reduce)\u001b[0m\n\u001b[0;32m   1280\u001b[0m     \"\"\"\n\u001b[0;32m   1281\u001b[0m     return _pointwise_loss(lambda a, b: (a - b) ** 2, torch._C._nn.mse_loss,\n\u001b[1;32m-> 1282\u001b[1;33m                            input, target, size_average, reduce)\n\u001b[0m\u001b[0;32m   1283\u001b[0m \u001b[1;33m\u001b[0m\u001b[0m\n\u001b[0;32m   1284\u001b[0m \u001b[1;33m\u001b[0m\u001b[0m\n",
      "\u001b[1;32m~\\AppData\\Local\\Continuum\\Anaconda3\\lib\\site-packages\\torch\\nn\\functional.py\u001b[0m in \u001b[0;36m_pointwise_loss\u001b[1;34m(lambd, lambd_optimized, input, target, size_average, reduce)\u001b[0m\n\u001b[0;32m   1246\u001b[0m         \u001b[1;32mreturn\u001b[0m \u001b[0mtorch\u001b[0m\u001b[1;33m.\u001b[0m\u001b[0mmean\u001b[0m\u001b[1;33m(\u001b[0m\u001b[0md\u001b[0m\u001b[1;33m)\u001b[0m \u001b[1;32mif\u001b[0m \u001b[0msize_average\u001b[0m \u001b[1;32melse\u001b[0m \u001b[0mtorch\u001b[0m\u001b[1;33m.\u001b[0m\u001b[0msum\u001b[0m\u001b[1;33m(\u001b[0m\u001b[0md\u001b[0m\u001b[1;33m)\u001b[0m\u001b[1;33m\u001b[0m\u001b[0m\n\u001b[0;32m   1247\u001b[0m     \u001b[1;32melse\u001b[0m\u001b[1;33m:\u001b[0m\u001b[1;33m\u001b[0m\u001b[0m\n\u001b[1;32m-> 1248\u001b[1;33m         \u001b[1;32mreturn\u001b[0m \u001b[0mlambd_optimized\u001b[0m\u001b[1;33m(\u001b[0m\u001b[0minput\u001b[0m\u001b[1;33m,\u001b[0m \u001b[0mtarget\u001b[0m\u001b[1;33m,\u001b[0m \u001b[0msize_average\u001b[0m\u001b[1;33m,\u001b[0m \u001b[0mreduce\u001b[0m\u001b[1;33m)\u001b[0m\u001b[1;33m\u001b[0m\u001b[0m\n\u001b[0m\u001b[0;32m   1249\u001b[0m \u001b[1;33m\u001b[0m\u001b[0m\n\u001b[0;32m   1250\u001b[0m \u001b[1;33m\u001b[0m\u001b[0m\n",
      "\u001b[1;31mKeyboardInterrupt\u001b[0m: "
     ]
    }
   ],
   "source": [
    "batch_size=int(x_variable.size()[0]/2 )\n",
    "nb_of_epochs=13000\n",
    "my_net.cuda()\n",
    "\n",
    "# Train the network #\n",
    "my_net.train()\n",
    "for t in range(nb_of_epochs):\n",
    "    sum_loss=0\n",
    "    for b in range(0,x_variable.size(0),batch_size):\n",
    "        out = my_net(x_variable.narrow(0,b,batch_size))                 # input x and predict based on x\n",
    "        loss = loss_func(out, y_variable.narrow(0,b,batch_size))     # must be (1. nn output, 2. target), the target label is NOT one-hotted\n",
    "        #loss=loss_func.apply(out, y_variable.narrow(0,b,batch_size).resize(batch_size,2))\n",
    "\n",
    "        sum_loss+=loss.data[0]\n",
    "        optimizer.zero_grad()   # clear gradients for next train\n",
    "        loss.backward()         # backpropagation, compute gradients\n",
    "        #print(t,loss.data[0])\n",
    "        optimizer.step()        # apply gradients\n",
    "    if t%10==0:\n",
    "        my_net.eval()\n",
    "        test_loss=loss_func(my_net(x_variable_test),y_variable_test).data[0]\n",
    "        my_net.train()\n",
    "        print(\"Epoch:\",t,\"Training Loss:\",sum_loss/(x_variable.size(0)),\"Test Loss:\",test_loss/x_variable_test.size(0))"
   ]
  },
  {
   "cell_type": "code",
   "execution_count": null,
   "metadata": {},
   "outputs": [],
   "source": []
  },
  {
   "cell_type": "code",
   "execution_count": 31,
   "metadata": {},
   "outputs": [],
   "source": [
    "contour1=np.delete(polygons_reshaped[311],24)\n",
    "\n",
    "contour1=polygons[10].reshape(12,2)"
   ]
  },
  {
   "cell_type": "code",
   "execution_count": 32,
   "metadata": {},
   "outputs": [
    {
     "name": "stdout",
     "output_type": "stream",
     "text": [
      "13 0.00646368949978321 -0.1199108451461814 0\n"
     ]
    }
   ],
   "source": [
    "\n",
    "\n",
    "nb_of_inserted_points,inserted_point_coordinates=get_extrapoints_target_length(contour1,.9)\n",
    "inserted_point_coordinates=np.array(inserted_point_coordinates)\n",
    "\n"
   ]
  },
  {
   "cell_type": "code",
   "execution_count": 34,
   "metadata": {},
   "outputs": [
    {
     "data": {
      "text/plain": [
       "<matplotlib.collections.PathCollection at 0x1946bb8b668>"
      ]
     },
     "execution_count": 34,
     "metadata": {},
     "output_type": "execute_result"
    }
   ],
   "source": [
    "plot_contour(contour1)\n",
    "plt.scatter(inserted_point_coordinates[:,0],inserted_point_coordinates[:,1])"
   ]
  },
  {
   "cell_type": "code",
   "execution_count": 250,
   "metadata": {},
   "outputs": [
    {
     "data": {
      "text/plain": [
       "Net(\n",
       "  (bn_input): BatchNorm1d(25, eps=1e-05, momentum=0.5, affine=True)\n",
       "  (fc0): Linear(in_features=25, out_features=40, bias=True)\n",
       "  (bn0): BatchNorm1d(40, eps=1e-05, momentum=0.5, affine=True)\n",
       "  (predict): Linear(in_features=40, out_features=2, bias=True)\n",
       "  (fc1): Linear(in_features=40, out_features=40, bias=True)\n",
       "  (bn1): BatchNorm1d(40, eps=1e-05, momentum=0.5, affine=True)\n",
       ")"
      ]
     },
     "execution_count": 250,
     "metadata": {},
     "output_type": "execute_result"
    }
   ],
   "source": [
    "my_net.eval()\n",
    "#torch.cuda.empty_cache()"
   ]
  },
  {
   "cell_type": "code",
   "execution_count": 35,
   "metadata": {},
   "outputs": [],
   "source": [
    "predictions=my_net(x_variable).cpu()"
   ]
  },
  {
   "cell_type": "code",
   "execution_count": 37,
   "metadata": {},
   "outputs": [],
   "source": [
    "predicted_inserted_points=predictions.data.numpy()[10]"
   ]
  },
  {
   "cell_type": "code",
   "execution_count": 38,
   "metadata": {},
   "outputs": [],
   "source": [
    "predicted_inserted_points=predicted_inserted_points.reshape(1,2)"
   ]
  },
  {
   "cell_type": "code",
   "execution_count": 42,
   "metadata": {},
   "outputs": [],
   "source": [
    "plt.scatter(predicted_inserted_points[:,0],predicted_inserted_points[:,1],label='Predicted points')\n",
    "plt.scatter(inserted_point_coordinates[:,0],inserted_point_coordinates[:,1],label='Original points')\n",
    "#plt.scatter(polygons_reshaped[3112][0::2].sum()/12,polygons_reshaped[312][1::2].sum()/12,label='Original points')\n",
    "plot_contour(contour1)\n",
    "plt.legend()\n",
    "original_points=point_coordinates.reshape(218722,2)\n",
    "#plt.scatter(original_points[:,0],original_points[:,1],label='Original points')\n"
   ]
  },
  {
   "cell_type": "raw",
   "metadata": {
    "scrolled": false
   },
   "source": [
    "plt.scatter(centers_of_mass[10][0],centers_of_mass[10][1],label='Original points'\n",
    "           )\n",
    "plot_contour(polygons[2])\n",
    "plt.legend()\n",
    "\n",
    "\n",
    "from scipy.spatial import ConvexHull\n",
    "points=centers_of_mass\n",
    "hull=ConvexHull(points)\n",
    "hull2=ConvexHull(original_points)\n",
    "\n",
    "import matplotlib.pyplot as plt\n",
    "#plt.plot(points[:,0], points[:,1], 'o')\n",
    "for simplex in hull.simplices:\n",
    "    plt.plot(points[simplex, 0], points[simplex, 1], 'k-')\n",
    "for simplex in hull2.simplices:\n",
    "    plt.plot(original_points[simplex, 0], original_points[simplex, 1], 'k-')\n",
    "\n",
    "    \n",
    "    \n",
    "convex_points=centers_of_mass[hull.vertices]\n",
    "convex_points2=original_points[hull2.vertices]\n",
    "\n",
    "distances=np.empty([convex_points.shape[0],convex_points.shape[0]])    \n",
    "distances2=np.empty([convex_points2.shape[0],convex_points2.shape[0]])    \n",
    "\n",
    "    \n",
    "for i,point_i in enumerate(convex_points):\n",
    "    for j,point_j in enumerate(convex_points):\n",
    "        distances[i][j]=np.linalg.norm(point_i-point_j)\n",
    "for i,point_i in enumerate(convex_points2):\n",
    "    for j,point_j in enumerate(convex_points2):\n",
    "        distances2[i][j]=np.linalg.norm(point_i-point_j)\n",
    "        \n",
    "def max_element(A):\n",
    "    r, (c, l) = max(map(lambda t: (t[0], max(enumerate(t[1]), key=lambda v: v[1])), enumerate(A)), key=lambda v: v[1][1])\n",
    "    return (l, r, c)\n",
    "\n",
    "print(max_element(distances))\n",
    "print(max_element(distances2))\n",
    "\n",
    "maximum_distance_points=convex_points[[0,11]]\n",
    "maximum_distance_points2=convex_points2[[3,11]]\n",
    "\n",
    "plt.plot(maximum_distance_points[:,0],maximum_distance_points[:,1])\n",
    "plt.plot(maximum_distance_points2[:,0],maximum_distance_points2[:,1])\n",
    "1.8508252250365/0.6108970818704328"
   ]
  },
  {
   "cell_type": "markdown",
   "metadata": {},
   "source": [
    "distances=[np.linalg.norm(i-j) for i in centers_of_mass for j in predicted_inserted_points]\n",
    "distances=np.array(distances)\n",
    "100*distances.sum()/(x_variable.size(0) *max_distance)"
   ]
  },
  {
   "cell_type": "code",
   "execution_count": null,
   "metadata": {},
   "outputs": [],
   "source": []
  },
  {
   "cell_type": "code",
   "execution_count": 44,
   "metadata": {},
   "outputs": [],
   "source": [
    "x_variable,x_variable_test=x_variable.resize(x_variable.size()[0],1,25),Variable(x_tensor_test.view(x_variable_test.size()[0],1,25),volatile=True)"
   ]
  },
  {
   "cell_type": "code",
   "execution_count": 58,
   "metadata": {},
   "outputs": [],
   "source": [
    "# Using convolution network\n",
    "# O: output dimension\n",
    "# I: Input dimensiion\n",
    "# S: Stride\n",
    "# P: padding\n",
    "# w: kernel size\n",
    "# O=(I-w-2*P)/S+1\n",
    "\n",
    "\n",
    "class Conv_net(nn.Module):\n",
    "    \n",
    "    def __init__(self):\n",
    "        super(Conv_net,self).__init__()\n",
    "        self.conv1=nn.Conv1d(1,140,kernel_size=3,stride=2)\n",
    "        self.conv2=nn.Conv1d(140,280,kernel_size=2,stride=1)\n",
    "\n",
    "        self.bn1=nn.BatchNorm1d(num_features=280*10)\n",
    "        self.fc1=nn.Linear(280*10,12)\n",
    "        \n",
    "        self.bn2=nn.BatchNorm1d(num_features=12)\n",
    "        self.fc2=nn.Linear(12,12)\n",
    "        \n",
    "        self.bn3=nn.BatchNorm1d(num_features=12)\n",
    "        self.fc3=nn.Linear(12,12)\n",
    "        \n",
    "        \n",
    "        self.bn4=nn.BatchNorm1d(num_features=12)\n",
    "        self.fc4=nn.Linear(12,2)\n",
    "        \n",
    "    def forward(self,x):\n",
    "        x=self.conv1(x)\n",
    "\n",
    "        x=F.relu(x)\n",
    "        #x=self.conv2(x)\n",
    "\n",
    "        x=F.relu(F.max_pool1d(self.conv2(x),kernel_size=2,stride=1))\n",
    "        x=F.relu(self.fc1(self.bn1(x.view(-1,280*10))))\n",
    "        x=F.relu(self.fc2(self.bn2(x)))\n",
    "        x=F.relu(self.fc3(self.bn3(x)))\n",
    "\n",
    "        x=self.fc4(self.bn4(x))\n",
    "\n",
    "        return x\n",
    "    \n",
    "        "
   ]
  },
  {
   "cell_type": "code",
   "execution_count": 59,
   "metadata": {},
   "outputs": [],
   "source": [
    "torch.cuda.empty_cache()\n",
    "my_conv_net=Conv_net()\n"
   ]
  },
  {
   "cell_type": "code",
   "execution_count": 60,
   "metadata": {},
   "outputs": [],
   "source": [
    "optimizer = torch.optim.Adam(my_conv_net.parameters(), lr=1e-3,weight_decay=0)\n",
    "\n",
    "#optimizer = torch.optim.SGD(my_net.parameters(), lr=1e-5,weight_decay=.5,momentum=0.9)\n",
    "\n",
    "#loss_func = torch.nn.MSELoss(size_average=False) \n",
    "#loss_func=torch.nn.SmoothL1Loss()\n"
   ]
  },
  {
   "cell_type": "code",
   "execution_count": 61,
   "metadata": {},
   "outputs": [
    {
     "name": "stdout",
     "output_type": "stream",
     "text": [
      "cuda activated\n"
     ]
    }
   ],
   "source": [
    "if  torch.cuda.is_available():\n",
    "    loss_func.cuda()\n",
    "    my_conv_net.cuda()\n",
    "    x_variable , y_variable,x_variable_test,y_variable_test= x_variable.cuda(), y_variable.cuda(),x_variable_test.cuda(),y_variable_test.cuda()\n",
    "    print(\"cuda activated\")\n"
   ]
  },
  {
   "cell_type": "code",
   "execution_count": null,
   "metadata": {
    "scrolled": true
   },
   "outputs": [
    {
     "name": "stdout",
     "output_type": "stream",
     "text": [
      "Epoch: 0 Training Loss: 0.1868208081705718 Test Loss: 0.11212024256183706\n",
      "Epoch: 10 Training Loss: 0.10370551250159395 Test Loss: 0.10662627481768928\n"
     ]
    }
   ],
   "source": [
    "\n",
    "batch_size=int(x_variable.size()[0]/18 )\n",
    "nb_of_epochs=13000\n",
    "# Train the network #\n",
    "my_conv_net.train()\n",
    "for t in range(nb_of_epochs):\n",
    "    sum_loss=0\n",
    "    for b in range(0,x_variable.size(0),batch_size):\n",
    "        out = my_conv_net(x_variable.narrow(0,b,batch_size))                 # input x and predict based on x\n",
    "        loss = loss_func(out, y_variable.narrow(0,b,batch_size))     # must be (1. nn output, 2. target), the target label is NOT one-hotted\n",
    "        #loss=loss_func.apply(out, y_variable.narrow(0,b,batch_size))\n",
    "        #loss=torch.sqrt((out[0]-y_variable.narrow(0,b,batch_size)[0]).pow(2)+(out[1]-y_variable.narrow(0,b,batch_size)[1]).pow(2)) \n",
    "        sum_loss+=loss.data[0]\n",
    "        optimizer.zero_grad()   # clear gradients for next train\n",
    "        loss.backward()         # backpropagation, compute gradients\n",
    "        #print(t,loss.data[0])\n",
    "        optimizer.step()        # apply gradients\n",
    "    if t%10==0:\n",
    "        my_conv_net.eval()\n",
    "        test_loss=loss_func(my_conv_net(x_variable_test),y_variable_test).data[0]\n",
    "        my_conv_net.train()\n",
    "        print(\"Epoch:\",t,\"Training Loss:\",sum_loss/x_variable.size(0),\"Test Loss:\",test_loss/x_variable_test.size(0))"
   ]
  },
  {
   "cell_type": "code",
   "execution_count": 50,
   "metadata": {},
   "outputs": [],
   "source": [
    "x_variable=x_variable.cpu()\n",
    "my_conv_net=my_conv_net.cpu()"
   ]
  },
  {
   "cell_type": "code",
   "execution_count": null,
   "metadata": {},
   "outputs": [],
   "source": []
  },
  {
   "cell_type": "code",
   "execution_count": 53,
   "metadata": {},
   "outputs": [
    {
     "name": "stdout",
     "output_type": "stream",
     "text": [
      "found 1 extra points\n",
      "13 -0.1925145994756827 -0.0867447465103373 0\n"
     ]
    },
    {
     "data": {
      "text/plain": [
       "<matplotlib.legend.Legend at 0x1f958d13940>"
      ]
     },
     "execution_count": 53,
     "metadata": {},
     "output_type": "execute_result"
    },
    {
     "data": {
      "image/png": "[encoded data removed]",
      "text/plain": [
       "<Figure size 432x288 with 1 Axes>"
      ]
     },
     "metadata": {},
     "output_type": "display_data"
    }
   ],
   "source": [
    "contour1=np.delete(polygons_reshaped[15],24)\n",
    "contour1=contour1.reshape(12,2)\n",
    "nb_of_inserted_points,inserted_point_coordinates=get_extrapoints_target_length(contour1,.4\n",
    "                                                                              )\n",
    "inserted_point_coordinates=np.array(inserted_point_coordinates)\n",
    "my_conv_net.eval()\n",
    "predictions=my_conv_net(x_variable).cpu()\n",
    "predicted_inserted_points=predictions.data.numpy()[15]\n",
    "predicted_inserted_points=predicted_inserted_points.reshape(1,2)\n",
    "plt.scatter(predicted_inserted_points[:,0],predicted_inserted_points[:,1],label='Predicted points')\n",
    "plt.scatter(inserted_point_coordinates[:,0],inserted_point_coordinates[:,1],label='Original points')\n",
    "\n",
    "plot_contour(contour1)\n",
    "plt.legend()"
   ]
  },
  {
   "cell_type": "code",
   "execution_count": 462,
   "metadata": {},
   "outputs": [
    {
     "data": {
      "text/plain": [
       "array([[ 0.09719837, -0.23911646]], dtype=float32)"
      ]
     },
     "execution_count": 462,
     "metadata": {},
     "output_type": "execute_result"
    }
   ],
   "source": [
    "predicted_inserted_points"
   ]
  },
  {
   "cell_type": "code",
   "execution_count": 747,
   "metadata": {},
   "outputs": [],
   "source": [
    "d_tensor=torch.FloatTensor([2.2,1.2])\n",
    "a_tensor=torch.FloatTensor([1,2])"
   ]
  },
  {
   "cell_type": "code",
   "execution_count": 748,
   "metadata": {},
   "outputs": [],
   "source": [
    "d_variable=Variable(d_tensor)\n",
    "\n",
    "a_variable=Variable(a_tensor)"
   ]
  },
  {
   "cell_type": "code",
   "execution_count": 749,
   "metadata": {},
   "outputs": [],
   "source": [
    "d_variable.requires_grad=False\n",
    "a_variable.requires_grad=True"
   ]
  },
  {
   "cell_type": "code",
   "execution_count": 750,
   "metadata": {},
   "outputs": [
    {
     "data": {
      "text/plain": [
       "Variable containing:\n",
       " 1.4422\n",
       "[torch.FloatTensor of size 1]"
      ]
     },
     "execution_count": 750,
     "metadata": {},
     "output_type": "execute_result"
    }
   ],
   "source": [
    "fun=torch.sqrt((a_variable[0]-d_variable[0]).pow(2)+(a_variable[1]-d_variable[1]).pow(2))\n",
    "fun"
   ]
  },
  {
   "cell_type": "code",
   "execution_count": 692,
   "metadata": {},
   "outputs": [],
   "source": [
    "fun.backward()"
   ]
  },
  {
   "cell_type": "code",
   "execution_count": 693,
   "metadata": {},
   "outputs": [
    {
     "data": {
      "text/plain": [
       "Variable containing:\n",
       "-0.8321\n",
       " 0.5547\n",
       "[torch.FloatTensor of size 2]"
      ]
     },
     "execution_count": 693,
     "metadata": {},
     "output_type": "execute_result"
    }
   ],
   "source": [
    "a_variable.grad"
   ]
  },
  {
   "cell_type": "code",
   "execution_count": 694,
   "metadata": {},
   "outputs": [
    {
     "data": {
      "text/plain": [
       "Variable containing:\n",
       " 0\n",
       " 0\n",
       "[torch.FloatTensor of size 2]"
      ]
     },
     "execution_count": 694,
     "metadata": {},
     "output_type": "execute_result"
    }
   ],
   "source": [
    "a_variable.grad.zero_()"
   ]
  },
  {
   "cell_type": "code",
   "execution_count": 812,
   "metadata": {},
   "outputs": [],
   "source": [
    "from torch.autograd.function import Function\n",
    "from math import pow\n",
    "\n",
    "class myLossfunction(Function):\n",
    "    \n",
    "    @staticmethod\n",
    "    def forward(self,output,target):\n",
    "        self.save_for_backward(output,target) \n",
    "\n",
    "                        \n",
    "       # output=output.view(int(output.size()[0]/2),2)\n",
    "\n",
    "        #target=target.view(int(target.size()[0]/2),2)\n",
    "        distance=torch.nn.PairwiseDistance()\n",
    "        result=distance(output,target)\n",
    "\n",
    "        result=torch.FloatTensor(result)\n",
    "        #self.save_for_backward(result)\n",
    "\n",
    "\n",
    "        return  result \n",
    "    \n",
    "    \n",
    "    @staticmethod\n",
    "    def backward(self,grad_output1):\n",
    "        input1,target=self.saved_variables\n",
    "        \n",
    "        print(input1)\n",
    "        #distance=torch.nn.PairwiseDistance()(input1.view(int(input1.size()[0]/2),2),target.view(int(target.size()[0]/2),2))\n",
    "        distance=torch.nn.PairwiseDistance()(input1,target)\n",
    "\n",
    "        grad_output1=(input1-target)/distance\n",
    "\n",
    "        \n",
    "        return grad_output1,None\n",
    "    "
   ]
  },
  {
   "cell_type": "code",
   "execution_count": 813,
   "metadata": {
    "scrolled": true
   },
   "outputs": [
    {
     "data": {
      "text/plain": [
       "Variable containing:\n",
       " 0.2042\n",
       " 0.4508\n",
       " 0.6575\n",
       "   ⋮    \n",
       " 0.3220\n",
       " 0.1622\n",
       " 1.0774\n",
       "[torch.FloatTensor of size 9721x1]"
      ]
     },
     "execution_count": 813,
     "metadata": {},
     "output_type": "execute_result"
    }
   ],
   "source": [
    "myloss=myLossfunction().apply(out,y_variable.narrow(0,b,batch_size).resize(batch_size,2))\n",
    "myloss"
   ]
  },
  {
   "cell_type": "code",
   "execution_count": 814,
   "metadata": {
    "scrolled": true
   },
   "outputs": [
    {
     "name": "stdout",
     "output_type": "stream",
     "text": [
      "Variable containing:\n",
      "-2.3953e-01 -1.6375e-01\n",
      "-1.9727e-01 -3.8089e-01\n",
      "-4.1456e-01 -9.3787e-02\n",
      "           ⋮            \n",
      "-7.2860e-02 -6.4023e-02\n",
      "-1.8527e-01 -2.7595e-01\n",
      "-2.6488e-01 -8.1565e-01\n",
      "[torch.FloatTensor of size 9721x2]\n",
      "\n"
     ]
    }
   ],
   "source": [
    "myloss.backward(torch.Tensor([1, 1]))\n"
   ]
  },
  {
   "cell_type": "code",
   "execution_count": 754,
   "metadata": {},
   "outputs": [
    {
     "data": {
      "text/plain": [
       "Variable containing:\n",
       "-0.8320  0.5547\n",
       "[torch.FloatTensor of size 1x2]"
      ]
     },
     "execution_count": 754,
     "metadata": {},
     "output_type": "execute_result"
    }
   ],
   "source": [
    "a_variable.grad"
   ]
  },
  {
   "cell_type": "code",
   "execution_count": 634,
   "metadata": {},
   "outputs": [
    {
     "ename": "TypeError",
     "evalue": "backward() missing 2 required positional arguments: 'self' and 'grad_output1'",
     "output_type": "error",
     "traceback": [
      "\u001b[1;31m---------------------------------------------------------------------------\u001b[0m",
      "\u001b[1;31mTypeError\u001b[0m                                 Traceback (most recent call last)",
      "\u001b[1;32m<ipython-input-634-fd86ffc8917c>\u001b[0m in \u001b[0;36m<module>\u001b[1;34m()\u001b[0m\n\u001b[1;32m----> 1\u001b[1;33m \u001b[0mmyLossfunction\u001b[0m\u001b[1;33m.\u001b[0m\u001b[0mbackward\u001b[0m\u001b[1;33m(\u001b[0m\u001b[1;33m)\u001b[0m\u001b[1;33m\u001b[0m\u001b[0m\n\u001b[0m",
      "\u001b[1;31mTypeError\u001b[0m: backward() missing 2 required positional arguments: 'self' and 'grad_output1'"
     ]
    }
   ],
   "source": [
    "myLossfunction.backward()"
   ]
  },
  {
   "cell_type": "code",
   "execution_count": 635,
   "metadata": {},
   "outputs": [
    {
     "data": {
      "text/plain": [
       "Variable containing:\n",
       " 0\n",
       " 0\n",
       "[torch.FloatTensor of size 2]"
      ]
     },
     "execution_count": 635,
     "metadata": {},
     "output_type": "execute_result"
    }
   ],
   "source": [
    "a_variable.grad"
   ]
  },
  {
   "cell_type": "code",
   "execution_count": 636,
   "metadata": {},
   "outputs": [],
   "source": [
    "# Flush all variables in GPU\n",
    "del my_conv_net,my_net,x_variable_test,x_variable,y_variable,y_variable_test,loss_func\n",
    "torch.cuda.empty_cache()\n"
   ]
  },
  {
   "cell_type": "code",
   "execution_count": null,
   "metadata": {},
   "outputs": [],
   "source": [
    "point_coordinates"
   ]
  },
  {
   "cell_type": "code",
   "execution_count": 68,
   "metadata": {},
   "outputs": [],
   "source": [
    "p2dust=torch.nn.PairwiseDistance(p=2)"
   ]
  },
  {
   "cell_type": "code",
   "execution_count": 69,
   "metadata": {},
   "outputs": [
    {
     "data": {
      "text/plain": [
       "Variable containing:\n",
       " 1.4422\n",
       " 2.2472\n",
       "[torch.FloatTensor of size 2x1]"
      ]
     },
     "execution_count": 69,
     "metadata": {},
     "output_type": "execute_result"
    }
   ],
   "source": [
    "p2dust(a_variable.resize(2,2),d_variable.resize(2,2))"
   ]
  },
  {
   "cell_type": "code",
   "execution_count": 70,
   "metadata": {},
   "outputs": [
    {
     "data": {
      "text/plain": [
       "array([[[ 0.09185446,  0.06111541]],\n",
       "\n",
       "       [[ 0.09185446,  0.06111541]],\n",
       "\n",
       "       [[ 0.09185446,  0.06111541]],\n",
       "\n",
       "       ...,\n",
       "\n",
       "       [[ 0.29833109, -0.19828089]],\n",
       "\n",
       "       [[ 0.29833109, -0.19828089]],\n",
       "\n",
       "       [[ 0.29833109, -0.19828089]]])"
      ]
     },
     "execution_count": 70,
     "metadata": {},
     "output_type": "execute_result"
    }
   ],
   "source": [
    "point_coordinates"
   ]
  },
  {
   "cell_type": "code",
   "execution_count": 71,
   "metadata": {},
   "outputs": [
    {
     "data": {
      "text/plain": [
       "Variable containing:\n",
       "(  0   ,.,.) = \n",
       "  5.4394e-01 -1.2854e-01  1.2081e+00  ...   8.7166e-01 -3.9516e-01  4.0000e-01\n",
       "\n",
       "(  1   ,.,.) = \n",
       "  8.0653e-01 -7.0666e-02  7.9998e-01  ...   1.0453e+00 -4.1684e-01  4.0000e-01\n",
       "\n",
       "(  2   ,.,.) = \n",
       "  5.0649e-01  6.8832e-02  9.6722e-01  ...   8.5345e-01 -5.3134e-01  3.0000e-01\n",
       "  ...  \n",
       "\n",
       "(174975,.,.) = \n",
       "  1.1163e+00 -3.1378e-02  7.0993e-01  ...   7.3510e-01 -6.3782e-01  5.0000e-01\n",
       "\n",
       "(174976,.,.) = \n",
       "  7.6960e-01 -4.1094e-02  7.8531e-01  ...   9.1110e-01 -3.1011e-01  9.0000e-01\n",
       "\n",
       "(174977,.,.) = \n",
       "  1.2754e+00 -3.7225e-01  7.9667e-01  ...   5.6758e-01 -2.6036e-01  5.0000e-01\n",
       "[torch.FloatTensor of size 174978x1x25]"
      ]
     },
     "execution_count": 71,
     "metadata": {},
     "output_type": "execute_result"
    }
   ],
   "source": [
    "x_variable"
   ]
  },
  {
   "cell_type": "code",
   "execution_count": null,
   "metadata": {},
   "outputs": [],
   "source": [
    "'''\n",
    "Should I order the interior points ?\n",
    "\n",
    "For each interior point calculate distance with points of the polygon\n",
    "\n",
    "find which ti which point it is closer and sort it according to the index.\n",
    "\n",
    "If multiple points are closer to the same point of the contour then take into\n",
    "\n",
    "account the distance to the point.\n",
    "\n",
    "'''"
   ]
  },
  {
   "cell_type": "code",
   "execution_count": 768,
   "metadata": {},
   "outputs": [
    {
     "ename": "RuntimeError",
     "evalue": "invalid argument 2: size '[4860 x 2]' is invalid for input with 19442 elements at C:\\Anaconda2\\conda-bld\\pytorch_1519501749874\\work\\torch\\lib\\TH\\THStorage.c:41",
     "output_type": "error",
     "traceback": [
      "\u001b[1;31m---------------------------------------------------------------------------\u001b[0m",
      "\u001b[1;31mRuntimeError\u001b[0m                              Traceback (most recent call last)",
      "\u001b[1;32m<ipython-input-768-8090ffc56ab5>\u001b[0m in \u001b[0;36m<module>\u001b[1;34m()\u001b[0m\n\u001b[1;32m----> 1\u001b[1;33m \u001b[0moutput_reshaped\u001b[0m\u001b[1;33m=\u001b[0m\u001b[0mout\u001b[0m\u001b[1;33m.\u001b[0m\u001b[0mview\u001b[0m\u001b[1;33m(\u001b[0m\u001b[0mint\u001b[0m\u001b[1;33m(\u001b[0m\u001b[0mout\u001b[0m\u001b[1;33m.\u001b[0m\u001b[0msize\u001b[0m\u001b[1;33m(\u001b[0m\u001b[1;33m)\u001b[0m\u001b[1;33m[\u001b[0m\u001b[1;36m0\u001b[0m\u001b[1;33m]\u001b[0m\u001b[1;33m/\u001b[0m\u001b[1;36m2\u001b[0m\u001b[1;33m)\u001b[0m\u001b[1;33m,\u001b[0m\u001b[1;36m2\u001b[0m\u001b[1;33m)\u001b[0m\u001b[1;33m\u001b[0m\u001b[0m\n\u001b[0m",
      "\u001b[1;31mRuntimeError\u001b[0m: invalid argument 2: size '[4860 x 2]' is invalid for input with 19442 elements at C:\\Anaconda2\\conda-bld\\pytorch_1519501749874\\work\\torch\\lib\\TH\\THStorage.c:41"
     ]
    }
   ],
   "source": [
    " output_reshaped=out.view(int(out.size()[0]/2),2)"
   ]
  },
  {
   "cell_type": "code",
   "execution_count": 790,
   "metadata": {},
   "outputs": [
    {
     "data": {
      "text/plain": [
       "(Variable containing:\n",
       " -1.4947e-01 -2.7472e-01\n",
       " -1.9165e-01 -2.2482e-01\n",
       " -1.3642e-01 -3.2461e-01\n",
       "            ⋮            \n",
       " -3.8810e-02 -2.6062e-01\n",
       " -1.4880e-01 -2.9060e-01\n",
       " -1.3283e-01 -3.1349e-01\n",
       " [torch.FloatTensor of size 9721x2], Variable containing:\n",
       " -0.2311  0.0403\n",
       "  0.1704 -0.1201\n",
       "  0.2371 -0.1810\n",
       "        ⋮        \n",
       " -0.0681  0.2579\n",
       " -0.1204 -0.1273\n",
       " -0.0528  0.2407\n",
       " [torch.FloatTensor of size 9721x2])"
      ]
     },
     "execution_count": 790,
     "metadata": {},
     "output_type": "execute_result"
    }
   ],
   "source": [
    "out,y_variable.narrow(0,b,batch_size).resize(batch_size,2)"
   ]
  },
  {
   "cell_type": "code",
   "execution_count": 789,
   "metadata": {},
   "outputs": [
    {
     "data": {
      "text/plain": [
       "(Variable containing:\n",
       " (  0   ,.,.) = \n",
       "  -0.2311  0.0403\n",
       " \n",
       " (  1   ,.,.) = \n",
       "   0.1704 -0.1201\n",
       " \n",
       " (  2   ,.,.) = \n",
       "   0.2371 -0.1810\n",
       "   ...  \n",
       " \n",
       " (174975,.,.) = \n",
       "  -0.1804  0.0393\n",
       " \n",
       " (174976,.,.) = \n",
       "   0.2417  0.0188\n",
       " \n",
       " (174977,.,.) = \n",
       "   0.2496 -0.1190\n",
       " [torch.FloatTensor of size 174978x1x2], Variable containing:\n",
       " -1.4947e-01 -2.7472e-01\n",
       " -1.9165e-01 -2.2482e-01\n",
       " -1.3642e-01 -3.2461e-01\n",
       "            ⋮            \n",
       " -3.8810e-02 -2.6062e-01\n",
       " -1.4880e-01 -2.9060e-01\n",
       " -1.3283e-01 -3.1349e-01\n",
       " [torch.FloatTensor of size 9721x2])"
      ]
     },
     "execution_count": 789,
     "metadata": {},
     "output_type": "execute_result"
    }
   ],
   "source": [
    "y_variable,out"
   ]
  },
  {
   "cell_type": "code",
   "execution_count": 839,
   "metadata": {},
   "outputs": [
    {
     "data": {
      "text/plain": [
       "-1.0177044392397268e-16"
      ]
     },
     "execution_count": 839,
     "metadata": {},
     "output_type": "execute_result"
    }
   ],
   "source": [
    "polygons[0][:,0].sum()/12"
   ]
  },
  {
   "cell_type": "code",
   "execution_count": 826,
   "metadata": {},
   "outputs": [
    {
     "ename": "SyntaxError",
     "evalue": "invalid syntax (<ipython-input-826-db58e474dc7f>, line 2)",
     "output_type": "error",
     "traceback": [
      "\u001b[1;36m  File \u001b[1;32m\"<ipython-input-826-db58e474dc7f>\"\u001b[1;36m, line \u001b[1;32m2\u001b[0m\n\u001b[1;33m    for polygon\u001b[0m\n\u001b[1;37m                ^\u001b[0m\n\u001b[1;31mSyntaxError\u001b[0m\u001b[1;31m:\u001b[0m invalid syntax\n"
     ]
    }
   ],
   "source": [
    "def get_barycenters(polygons):\n",
    "    \n",
    "    for polygon "
   ]
  },
  {
   "cell_type": "code",
   "execution_count": 864,
   "metadata": {},
   "outputs": [
    {
     "data": {
      "text/plain": [
       "array([ 0.72589751,  0.84207899,  0.71337615,  0.16721335, -0.53593486,\n",
       "       -1.19396456, -0.99666214, -0.86514855, -0.06646145,  0.05744332,\n",
       "        0.52287723,  0.62928501])"
      ]
     },
     "execution_count": 864,
     "metadata": {},
     "output_type": "execute_result"
    }
   ],
   "source": [
    "polygons_reshaped[0][0::2].sum()"
   ]
  },
  {
   "cell_type": "code",
   "execution_count": 865,
   "metadata": {},
   "outputs": [
    {
     "data": {
      "text/plain": [
       "array([ 0.17159901,  0.40510667,  0.63783057,  0.58156785,  0.85478697,\n",
       "        0.50564378,  0.37817729, -0.73118862, -0.53079973, -1.1159677 ,\n",
       "       -0.86178872, -0.29496737])"
      ]
     },
     "execution_count": 865,
     "metadata": {},
     "output_type": "execute_result"
    }
   ],
   "source": [
    "polygons_reshaped[0][1::2]"
   ]
  },
  {
   "cell_type": "code",
   "execution_count": 19,
   "metadata": {},
   "outputs": [
    {
     "data": {
      "text/plain": [
       "array([[ 0.72589751,  0.17159901,  0.84207899, ..., -0.86178872,\n",
       "         0.62928501, -0.29496737],\n",
       "       [ 0.72589751,  0.17159901,  0.84207899, ..., -0.86178872,\n",
       "         0.62928501, -0.29496737],\n",
       "       [ 0.72589751,  0.17159901,  0.84207899, ..., -0.86178872,\n",
       "         0.62928501, -0.29496737],\n",
       "       ...,\n",
       "       [ 0.94168403, -0.21109   ,  0.66819129, ..., -0.98049631,\n",
       "         0.94108807, -0.3414368 ],\n",
       "       [ 0.94168403, -0.21109   ,  0.66819129, ..., -0.98049631,\n",
       "         0.94108807, -0.3414368 ],\n",
       "       [ 0.94168403, -0.21109   ,  0.66819129, ..., -0.98049631,\n",
       "         0.94108807, -0.3414368 ]])"
      ]
     },
     "execution_count": 19,
     "metadata": {},
     "output_type": "execute_result"
    }
   ],
   "source": [
    "polygons_reshaped"
   ]
  },
  {
   "cell_type": "code",
   "execution_count": 7,
   "metadata": {},
   "outputs": [],
   "source": [
    "barycenters=[np.array([i[0::2].sum()/12,i[1::2].sum()/12]) for i in polygons_reshaped]"
   ]
  },
  {
   "cell_type": "code",
   "execution_count": 8,
   "metadata": {},
   "outputs": [],
   "source": [
    "barycenters=np.array(barycenters)"
   ]
  },
  {
   "cell_type": "code",
   "execution_count": 12,
   "metadata": {},
   "outputs": [
    {
     "data": {
      "text/plain": [
       "218722"
      ]
     },
     "execution_count": 12,
     "metadata": {},
     "output_type": "execute_result"
    }
   ],
   "source": [
    "len(point_coordinates)"
   ]
  },
  {
   "cell_type": "code",
   "execution_count": 26,
   "metadata": {},
   "outputs": [
    {
     "data": {
      "text/plain": [
       "(218722, 24)"
      ]
     },
     "execution_count": 26,
     "metadata": {},
     "output_type": "execute_result"
    }
   ],
   "source": [
    "polygons_reshaped.shape"
   ]
  },
  {
   "cell_type": "code",
   "execution_count": 43,
   "metadata": {},
   "outputs": [],
   "source": [
    "point_coordinates=point_coordinates.reshape(len(point_coordinates),2)"
   ]
  },
  {
   "cell_type": "code",
   "execution_count": 45,
   "metadata": {},
   "outputs": [],
   "source": [
    "polygons_with_points=np.hstack([polygons_reshaped,point_coordinates])\n"
   ]
  },
  {
   "cell_type": "code",
   "execution_count": 48,
   "metadata": {},
   "outputs": [],
   "source": [
    "polygons_with_points=polygons_with_points.reshape(len(polygons_with_points),13,2)"
   ]
  },
  {
   "cell_type": "code",
   "execution_count": 49,
   "metadata": {},
   "outputs": [
    {
     "data": {
      "text/plain": [
       "array([[[ 0.72589751,  0.17159901],\n",
       "        [ 0.84207899,  0.40510667],\n",
       "        [ 0.71337615,  0.63783057],\n",
       "        ...,\n",
       "        [ 0.52287723, -0.86178872],\n",
       "        [ 0.62928501, -0.29496737],\n",
       "        [ 0.09185446,  0.06111541]],\n",
       "\n",
       "       [[ 0.72589751,  0.17159901],\n",
       "        [ 0.84207899,  0.40510667],\n",
       "        [ 0.71337615,  0.63783057],\n",
       "        ...,\n",
       "        [ 0.52287723, -0.86178872],\n",
       "        [ 0.62928501, -0.29496737],\n",
       "        [ 0.09185446,  0.06111541]],\n",
       "\n",
       "       [[ 0.72589751,  0.17159901],\n",
       "        [ 0.84207899,  0.40510667],\n",
       "        [ 0.71337615,  0.63783057],\n",
       "        ...,\n",
       "        [ 0.52287723, -0.86178872],\n",
       "        [ 0.62928501, -0.29496737],\n",
       "        [ 0.09185446,  0.06111541]],\n",
       "\n",
       "       ...,\n",
       "\n",
       "       [[ 0.94168403, -0.21109   ],\n",
       "        [ 0.66819129,  0.35508194],\n",
       "        [ 0.41427257,  0.62051448],\n",
       "        ...,\n",
       "        [ 0.46430839, -0.98049631],\n",
       "        [ 0.94108807, -0.3414368 ],\n",
       "        [ 0.29833109, -0.19828089]],\n",
       "\n",
       "       [[ 0.94168403, -0.21109   ],\n",
       "        [ 0.66819129,  0.35508194],\n",
       "        [ 0.41427257,  0.62051448],\n",
       "        ...,\n",
       "        [ 0.46430839, -0.98049631],\n",
       "        [ 0.94108807, -0.3414368 ],\n",
       "        [ 0.29833109, -0.19828089]],\n",
       "\n",
       "       [[ 0.94168403, -0.21109   ],\n",
       "        [ 0.66819129,  0.35508194],\n",
       "        [ 0.41427257,  0.62051448],\n",
       "        ...,\n",
       "        [ 0.46430839, -0.98049631],\n",
       "        [ 0.94108807, -0.3414368 ],\n",
       "        [ 0.29833109, -0.19828089]]])"
      ]
     },
     "execution_count": 49,
     "metadata": {},
     "output_type": "execute_result"
    }
   ],
   "source": [
    "polygons_with_points"
   ]
  },
  {
   "cell_type": "code",
   "execution_count": 52,
   "metadata": {},
   "outputs": [
    {
     "ename": "TypeError",
     "evalue": "unhashable type: 'numpy.ndarray'",
     "output_type": "error",
     "traceback": [
      "\u001b[1;31m---------------------------------------------------------------------------\u001b[0m",
      "\u001b[1;31mTypeError\u001b[0m                                 Traceback (most recent call last)",
      "\u001b[1;32m<ipython-input-52-cd78c0aa7e0b>\u001b[0m in \u001b[0;36m<module>\u001b[1;34m()\u001b[0m\n\u001b[1;32m----> 1\u001b[1;33m \u001b[0mpolygons_with_points_unique\u001b[0m\u001b[1;33m=\u001b[0m\u001b[0mlist\u001b[0m\u001b[1;33m(\u001b[0m\u001b[0mset\u001b[0m\u001b[1;33m(\u001b[0m\u001b[0mpolygons_with_points\u001b[0m\u001b[1;33m)\u001b[0m\u001b[1;33m)\u001b[0m\u001b[1;33m\u001b[0m\u001b[0m\n\u001b[0m",
      "\u001b[1;31mTypeError\u001b[0m: unhashable type: 'numpy.ndarray'"
     ]
    }
   ],
   "source": [
    "polygons_with_points_unique=list(set(polygons_with_points))"
   ]
  },
  {
   "cell_type": "code",
   "execution_count": 105,
   "metadata": {},
   "outputs": [
    {
     "data": {
      "text/plain": [
       "(60000, 2, 12)"
      ]
     },
     "execution_count": 105,
     "metadata": {},
     "output_type": "execute_result"
    }
   ],
   "source": []
  },
  {
   "cell_type": "code",
   "execution_count": 68,
   "metadata": {},
   "outputs": [],
   "source": [
    "centers_of_mass=np.array(centers_of_mass)\n"
   ]
  },
  {
   "cell_type": "code",
   "execution_count": 106,
   "metadata": {},
   "outputs": [
    {
     "data": {
      "text/plain": [
       "(60000, 2)"
      ]
     },
     "execution_count": 106,
     "metadata": {},
     "output_type": "execute_result"
    }
   ],
   "source": [
    "centers_of_mass.shape"
   ]
  },
  {
   "cell_type": "code",
   "execution_count": 107,
   "metadata": {},
   "outputs": [
    {
     "data": {
      "text/plain": [
       "Variable containing:\n",
       "(  0  ,.,.) = \n",
       "  1.0804e+00  3.6440e-01  6.1404e-01  ...   4.9729e-01 -1.0542e+00  8.4189e-01\n",
       " -1.1037e+00 -1.0409e-01 -5.6104e-01  ...  -1.1438e+00  7.8898e-01 -5.4535e-01\n",
       "\n",
       "(  1  ,.,.) = \n",
       "  8.2030e-01 -9.6631e-02  1.1965e+00  ...   7.3245e-01 -1.1246e+00  6.5850e-01\n",
       " -9.8128e-01 -1.1748e-01 -4.0551e-01  ...  -7.3543e-01  5.2845e-01 -3.5533e-01\n",
       "\n",
       "(  2  ,.,.) = \n",
       "  8.8570e-01 -9.5701e-02  1.2094e+00  ...   5.8753e-01 -7.4392e-01  6.8171e-01\n",
       " -1.2722e+00 -1.4492e-01 -1.0465e+00  ...  -5.5213e-01  6.8863e-01 -5.0008e-01\n",
       " ...  \n",
       "\n",
       "(47997,.,.) = \n",
       "  1.0355e+00 -1.4388e-01  8.2466e-01  ...   7.1425e-01 -8.3453e-01  3.6346e-01\n",
       " -7.5888e-01  6.7694e-02 -8.8216e-01  ...  -1.0865e+00  3.7439e-01 -3.2188e-01\n",
       "\n",
       "(47998,.,.) = \n",
       "  6.8633e-01  5.9241e-02  9.9623e-01  ...   1.1396e+00 -7.3713e-01  8.0244e-02\n",
       " -8.3097e-01 -2.3101e-01 -8.2566e-01  ...  -7.4034e-01  6.7384e-01 -5.5374e-01\n",
       "\n",
       "(47999,.,.) = \n",
       "  8.7795e-01  6.0293e-02  8.4823e-01  ...   7.8716e-01 -7.3494e-01  3.3091e-01\n",
       " -1.1220e+00  3.2642e-01 -9.8364e-01  ...  -7.1744e-01  1.1813e+00 -3.0074e-01\n",
       "[torch.cuda.FloatTensor of size 48000x2x12 (GPU 0)]"
      ]
     },
     "execution_count": 107,
     "metadata": {},
     "output_type": "execute_result"
    }
   ],
   "source": [
    "x_variable"
   ]
  },
  {
   "cell_type": "code",
   "execution_count": 77,
   "metadata": {},
   "outputs": [],
   "source": [
    "contour3=apply_procrustes(generate_contour(12))\n",
    "plot_contour(contour3)"
   ]
  },
  {
   "cell_type": "code",
   "execution_count": null,
   "metadata": {},
   "outputs": [],
   "source": []
  },
  {
   "cell_type": "code",
   "execution_count": 100,
   "metadata": {
    "scrolled": true
   },
   "outputs": [
    {
     "name": "stdout",
     "output_type": "stream",
     "text": [
      "13 -0.1397529684620565 -0.03668817911622362 0\n",
      "14 -0.5556838673885416 0.006489134426013973 0\n",
      "13 -0.1506273310219623 -0.02890481750650344 0\n",
      "14 -0.5584024580285181 0.008434974828444014 0\n",
      "13 -0.1355795824036162 -0.0391512743253334 0\n",
      "14 -0.5546405208739316 0.005873360623736529 0\n",
      "13 -0.1606318248853285 -0.1507826396315696 0\n",
      "13 -0.1029359385443222 -0.01988941712108101 0\n",
      "14 -0.546479609909108 0.01068882492479963 0\n",
      "13 -0.1469844471794247 -0.05733317507392088 0\n",
      "14 0.7059926839926042 0.1405732385547066 0\n",
      "15 -0.5574917370678837 0.001327885436589659 0\n",
      "13 -0.06406265062238639 -0.0485721250445643 0\n",
      "13 -0.1236015407066197 -0.04107046060343363 0\n",
      "14 -0.5516460104496824 0.00539356405421147 0\n",
      "13 -0.14404267783239 -0.03219865149111428 0\n",
      "14 -0.556756294731125 0.00761151633229131 0\n",
      "13 -0.1415910047281703 -0.02934662034552328 0\n",
      "14 -0.5561433764550701 0.008324524118689058 0\n",
      "13 -0.1393203257012531 -0.04295809812348142 0\n",
      "14 -0.5555757066983406 0.004921654674199518 0\n",
      "13 -0.05551841490555372 -0.04630404540602545 0\n",
      "13 -0.1152941486290197 -0.03570669163350242 0\n",
      "14 -0.5495691624302824 0.006734506296694273 0\n",
      "13 -0.1481990857572459 -0.04522022789034128 0\n",
      "14 0.6966692085386884 0.2002444115280739 0\n",
      "15 -0.5577953967123389 0.00435612223248456 0\n",
      "13 -0.07055101030846371 -0.06536714467005897 0\n",
      "14 0.7254559917690627 0.1782028488186872 0\n",
      "13 0.668636742504867 0.1730424300096725 0\n",
      "14 -0.3420547800645272 -0.1011080068174328 0\n",
      "13 -0.2207103626209955 -0.1180203033517528 0\n",
      "14 -0.5759232159282763 -0.01384389663286831 0\n",
      "13 -0.05923516989966464 -0.05308195828137971 0\n",
      "13 -0.1290742129902545 -0.01990870138843091 0\n",
      "14 -0.5530141785205911 0.01068400385796215 0\n",
      "13 -0.06150263613039254 -0.02419357870215745 0\n",
      "13 -0.1118374092753558 -0.02796508085981035 0\n",
      "14 -0.5487049775918664 0.008669908990117291 0\n",
      "13 -0.06851715015816352 -0.03510044619353291 0\n",
      "13 -0.05297605435286387 -0.03865576811700715 0\n",
      "13 -0.3399600547589283 -0.09338459917915261 0\n",
      "13 -0.1467402633727014 -0.02403623576471525 0\n",
      "14 -0.5574306911162028 0.00965212026389106 0\n",
      "13 -0.06130916081936404 -0.03530915509763472 0\n",
      "13 -0.131623347546258 -0.01892871825386482 0\n",
      "14 -0.5536514621595919 0.01092899964160368 0\n",
      "13 -0.1358796847893088 -0.02270373409710344 0\n",
      "14 -0.5547155464703547 0.009985245680794019 0\n",
      "13 -0.1267787163622686 -0.01536690253090524 0\n",
      "14 -0.5524403043635946 0.01181945357234357 0\n",
      "13 -0.131539460607141 -0.0267662067652194 0\n",
      "14 -0.5536304904248127 0.008969627513765028 0\n",
      "13 -0.1365378918460694 -0.04084007827572396 0\n",
      "14 -0.5548800982345449 0.005451159636138889 0\n",
      "13 -0.3301168705830743 -0.08407409346101147 0\n",
      "13 -0.05559670217067636 -0.03394052144826785 0\n",
      "13 -0.04427075026552559 -0.01020100824648889 0\n",
      "13 -0.05258371292902656 -0.07324115685308397 0\n",
      "14 0.7498154331000679 0.1680858372150571 0\n",
      "13 -0.327337823060125 -0.08280235421318367 0\n",
      "13 -0.2280980501718821 -0.12173847705694 0\n",
      "14 -0.577770137815998 -0.01477344005916512 0\n",
      "13 -0.1474131678571638 -0.04244606622435481 0\n",
      "14 -0.5575989172373185 0.005049662648981176 0\n",
      "13 -0.03956674944986851 -0.02710795433156328 0\n",
      "13 -0.0668955770514985 -0.04266069365978505 0\n",
      "13 -0.132949276301365 -0.0122946015815628 0\n",
      "14 -0.5539829443483685 0.01258752880967917 0\n",
      "13 -0.1403216370137341 -0.047837722399509 0\n",
      "14 -0.555826034526461 0.003701748605192623 0\n",
      "13 -0.07562338668806432 -0.05991482889543128 0\n",
      "14 0.7265490209758726 0.1622457298735304 0\n",
      "13 -0.1468261710666018 -0.03980637410123573 0\n",
      "14 -0.5574521680396779 0.005709585679760947 0\n",
      "13 -0.2197673007388687 -0.09477857564662642 0\n",
      "14 -0.5756874504577447 -0.008033464706586727 0\n",
      "13 -0.140856607160155 -0.1568805282005062 0\n",
      "13 -0.05612086084599307 -0.02274351477224481 0\n",
      "13 -0.1306790362512654 -0.02395026286339837 0\n",
      "14 -0.5534153843358438 0.009673613489220287 0\n",
      "13 -0.1466484840583014 -0.03078314879845298 0\n",
      "14 -0.5574077462876028 0.007965392005456633 0\n",
      "13 0.6781525585907586 0.1781686756011178 0\n",
      "14 -0.3398428873609275 -0.1112426127964096 0\n",
      "13 -0.1286765556329334 -0.03834700299175541 0\n",
      "14 -0.5529147641812608 0.006074428457131026 0\n",
      "13 -0.1425208477071837 -0.1480949726841848 0\n",
      "13 -0.2295247198802254 -0.122490114835207 0\n",
      "14 -0.5781268052430838 -0.01496134950373186 0\n",
      "15 0.6657881575066984 0.2005219709940744 0\n",
      "13 -0.1401382249124987 -0.04438696191526676 0\n",
      "14 -0.5557801815011522 0.004564438726253188 0\n",
      "13 -0.3331606528800971 -0.07990415180608197 0\n",
      "13 -0.1526067429149884 -0.04102509893687514 0\n",
      "14 0.6797516074813463 0.2115398151852108 0\n",
      "15 -0.5588973110017745 0.005404904470851093 0\n",
      "13 -0.1366886318782331 -0.01417230109403478 0\n",
      "14 -0.5549177832425858 0.01211810393156118 0\n",
      "13 -0.05981068413271194 -0.04720046188510983 0\n",
      "13 -0.2125650283954261 -0.1049708062633488 0\n",
      "14 -0.573886882371884 -0.01058152236076733 0\n",
      "13 -0.1500018396124621 -0.03656289705671551 0\n",
      "14 -0.5582460851761431 0.006520454940891001 0\n",
      "13 -0.1289985351318677 -0.02400084491377941 0\n",
      "14 -0.5529952590559945 0.009660967976625027 0\n",
      "13 -0.1394876835303045 -0.03746581650992508 0\n",
      "14 -0.5556175461556037 0.006294725077588608 0\n",
      "13 -0.118664770504445 -0.0127507651422367 0\n",
      "14 -0.5504118178991387 0.0124734879195107 0\n",
      "13 -0.1341437017418671 -0.01698123672938327 0\n",
      "14 -0.5542815507084941 0.01141587002272406 0\n",
      "13 -0.1478384116236053 -0.05920448952487276 0\n",
      "14 0.6838935371480942 0.1919000591336481 0\n",
      "15 -0.5577052281789288 0.0008600568238516897 0\n",
      "13 -0.1413124189310576 -0.03188163586906931 0\n",
      "14 -0.5560737300057919 0.007690770237802545 0\n",
      "13 -0.2242051176715144 -0.08375400982115525 0\n",
      "14 -0.5767969046909061 -0.005277323250218933 0\n",
      "13 -0.1515301104572981 -0.05879096046795171 0\n",
      "14 0.689944160006159 0.1719409864438256 0\n",
      "15 -0.558628152887352 0.0009634390880819514 0\n",
      "13 -0.1614356047742784 -0.1424951007962882 0\n",
      "13 -0.1524243529220074 -0.1699834645643355 0\n",
      "14 0.7252994759466482 0.2092065714876347 0\n",
      "13 -0.03151777023174163 -0.05092264937644676 0\n",
      "13 -0.189640727251055 -0.02570138845168707 0\n",
      "13 -0.07358253211827795 -0.06678878014543131 0\n",
      "14 0.7294955491776982 0.1763605516738522 0\n",
      "13 -0.1232421838936155 -0.01819063288795197 0\n",
      "14 -0.5515561712464313 0.01111352098308189 0\n",
      "13 -0.1408574837019793 -0.1242156432237974 0\n",
      "13 -0.1480153563676902 -0.1428787241247025 0\n",
      "13 -0.03666884231416678 -0.03799211108395292 0\n",
      "13 -0.2247757957830015 -0.1238216139338256 0\n",
      "14 -0.5769395742187778 -0.01529422427838652 0\n",
      "13 -0.2167594209378544 -0.1056574500741192 0\n",
      "14 -0.5749354805074911 -0.01075318331345993 0\n",
      "13 -0.1249749877229445 -0.03861279751962351 0\n",
      "14 -0.5519893722037637 0.006007979825164002 0\n",
      "13 -0.06750263578351787 -0.03580310179476102 0\n",
      "13 -0.1345067389077143 -0.1404675268215443 0\n",
      "13 -0.1264632831340571 -0.04099417656393815 0\n",
      "14 -0.5523614460565417 0.005412635064085342 0\n",
      "13 -0.1464945834086179 -0.05695040544565277 0\n",
      "14 0.6905684970705867 0.187069267302955 0\n",
      "15 -0.557369271125182 0.001423577843656685 0\n",
      "13 -0.1487693391512562 -0.1419271050077581 0\n",
      "13 -0.1234861307451766 -0.02284691760734195 0\n",
      "14 -0.5516171579593217 0.009949449803234391 0\n",
      "13 0.6848397681433996 0.1766069557976743 0\n",
      "14 -0.1742528694427543 -0.1793763288269057 0\n",
      "13 -0.1317130355441832 -0.01877169288191783 0\n",
      "14 -0.5536738841590733 0.01096825598459042 0\n",
      "13 -0.2259633919170091 -0.119115970462218 0\n",
      "14 -0.5772364732522796 -0.01411781341048462 0\n",
      "13 -0.04801941787163085 -0.05048921835696252 0\n",
      "13 -0.1305435506635666 -0.02483942972507727 0\n",
      "14 -0.5533815129389191 0.009451321773800561 0\n",
      "13 -0.05310040463287966 -0.04999466596033805 0\n",
      "13 -0.1270756280915445 -0.03395358713439253 0\n",
      "14 -0.5525145322959136 0.007172782421471739 0\n",
      "13 -0.1428323311334145 -0.1547412602474058 0\n",
      "13 -0.1336810424955752 -0.0412095563716969 0\n",
      "14 -0.5541658858969213 0.005358790112145654 0\n",
      "13 -0.2177818512972035 -0.09961526651157587 0\n",
      "14 -0.5751910880973283 -0.00924263742282409 0\n",
      "13 -0.1450776076669155 -0.1407926389674559 0\n",
      "13 -0.1309676650605889 -0.02008444381223736 0\n",
      "14 -0.5534875415381747 0.01064006825201053 0\n",
      "13 -0.2172699141104487 -0.1033083044113232 0\n",
      "14 -0.5750631038006396 -0.01016589689776093 0\n",
      "13 -0.07739642030705787 -0.04701983303141259 0\n",
      "14 0.7058805647781584 0.1897875196112926 0\n"
     ]
    },
    {
     "data": {
      "text/plain": [
       "<matplotlib.collections.PathCollection at 0x1bd48fd9630>"
      ]
     },
     "execution_count": 100,
     "metadata": {},
     "output_type": "execute_result"
    }
   ],
   "source": [
    "inserted_points=[]\n",
    "nb_of_sampling=100\n",
    "contour=contour3.copy()\n",
    "plot_contour(contour3)\n",
    "\n",
    "for i in range(0,nb_of_sampling):\n",
    "    contour[0]=np.random.normal(contour3[0],0.08)\n",
    "    contour[11]=np.random.normal(contour3[11],0.08)\n",
    "\n",
    "    nb_of_points,point_coords=get_extrapoints_target_length(contour,0.2)\n",
    "    inserted_points.append(point_coords)\n",
    "    plt.scatter(contour[0][0],contour[0][1])\n",
    "    plt.scatter(contour[11][0],contour[11][1])\n",
    "\n",
    "\n",
    "inserted_points=[i for i in inserted_points if len(i)==1]\n",
    "inserted_points=np.array(inserted_points)\n",
    "inserted_points=inserted_points.reshape(len(inserted_points),2)\n",
    "\n",
    "plt.scatter(inserted_points[:,0],inserted_points[:,1])"
   ]
  },
  {
   "cell_type": "code",
   "execution_count": 6,
   "metadata": {},
   "outputs": [],
   "source": []
  },
  {
   "cell_type": "code",
   "execution_count": null,
   "metadata": {
    "scrolled": true
   },
   "outputs": [],
   "source": []
  },
  {
   "cell_type": "code",
   "execution_count": null,
   "metadata": {},
   "outputs": [],
   "source": []
  },
  {
   "cell_type": "code",
   "execution_count": null,
   "metadata": {
    "scrolled": true
   },
   "outputs": [],
   "source": []
  },
  {
   "cell_type": "code",
   "execution_count": null,
   "metadata": {
    "scrolled": true
   },
   "outputs": [],
   "source": []
  },
  {
   "cell_type": "code",
   "execution_count": null,
   "metadata": {},
   "outputs": [],
   "source": []
  },
  {
   "cell_type": "code",
   "execution_count": null,
   "metadata": {},
   "outputs": [],
   "source": []
  }
 ],
 "metadata": {
  "kernelspec": {
   "display_name": "Python 3",
   "language": "python",
   "name": "python3"
  },
  "language_info": {
   "codemirror_mode": {
    "name": "ipython",
    "version": 3
   },
   "file_extension": ".py",
   "mimetype": "text/x-python",
   "name": "python",
   "nbconvert_exporter": "python",
   "pygments_lexer": "ipython3",
   "version": "3.6.5"
  }
 },
 "nbformat": 4,
 "nbformat_minor": 2
}
