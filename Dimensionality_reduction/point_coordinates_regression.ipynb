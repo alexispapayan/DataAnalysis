{
 "cells": [
  {
   "cell_type": "code",
   "execution_count": 41,
   "metadata": {},
   "outputs": [],
   "source": [
    "from Triangulation import *\n",
    "\n",
    "import torch\n",
    "import torch.optim as optim\n",
    "\n",
    "\n",
    "\n",
    "from matplotlib import pyplot as plt\n",
    "\n",
    "import torch.nn as nn\n",
    "from torch.autograd import Variable\n",
    "\n",
    "from  Neural_network import *\n",
    "\n",
    "%matplotlib qt\n"
   ]
  },
  {
   "cell_type": "code",
   "execution_count": 42,
   "metadata": {},
   "outputs": [],
   "source": [
    "def get_set_nb_of_points(point_coordinates):\n",
    "    set_of_numbers=set()\n",
    "    for index,_ in enumerate(point_coordinates):\n",
    "        set_of_numbers.add(len(point_coordinates[index][0]))\n",
    "    return set_of_numbers\n",
    "\n",
    "\n",
    "def get_indices_nb_of_points(set_of_numbers,number_of_points,point_coordinates):\n",
    "    indices=[]\n",
    "    if number_of_points not in set_of_numbers:\n",
    "        return \"No such number of points for sample\"\n",
    "    else:\n",
    "        for index,_ in enumerate(point_coordinates):\n",
    "            if len(point_coordinates[index][0])==number_of_points:\n",
    "                indices.append(index)\n",
    "        return indices\n",
    "    \n",
    "def get_polygons_nb_of_points(indices):\n",
    "    pass\n",
    "\n"
   ]
  },
  {
   "cell_type": "code",
   "execution_count": 43,
   "metadata": {},
   "outputs": [],
   "source": [
    "polygons=load_dataset('12_polygons.pkl')\n",
    "polygons=[i for i in polygons for j in range(10)]\n",
    "polygons_reshaped=[]\n",
    "for polygon in polygons:\n",
    "    polygons_reshaped.append(polygon.reshape(2,12))\n",
    "\n",
    "polygons_reshaped=np.array(polygons_reshaped)\n",
    "#polygons_reshaped=polygons_reshaped.reshape(60000,24)"
   ]
  },
  {
   "cell_type": "code",
   "execution_count": 6,
   "metadata": {},
   "outputs": [],
   "source": [
    "point_coordinates=load_dataset('12_point_coordinates')\n",
    "number_of_insertion_points=load_dataset('12_nb_of_points.pkl')\n",
    "centers_of_mass=load_dataset('12_centers_of_mass')"
   ]
  },
  {
   "cell_type": "code",
   "execution_count": 7,
   "metadata": {},
   "outputs": [],
   "source": [
    "set_of_points=get_set_nb_of_points(point_coordinates)        \n",
    "indices=get_indices_nb_of_points(set_of_points,1,point_coordinates)\n",
    "indices=np.asarray(indices)\n",
    "number_of_insertion_points=np.array(number_of_insertion_points)"
   ]
  },
  {
   "cell_type": "code",
   "execution_count": 8,
   "metadata": {},
   "outputs": [],
   "source": [
    "polygons_reshaped.resize(len(point_coordinates),2*12)\n",
    "\n",
    "polygons_reshaped=np.hstack([polygons_reshaped[indices],number_of_insertion_points[indices,1].reshape(len(indices),1) ])\n",
    "#polygons_reshaped=polygons_reshaped[indices]\n"
   ]
  },
  {
   "cell_type": "code",
   "execution_count": 9,
   "metadata": {},
   "outputs": [],
   "source": [
    "point_coordinates=[ point_coordinates[i][0] for i in indices]\n",
    "point_coordinates=np.array(point_coordinates)\n",
    "#barycenters,point_coordinates"
   ]
  },
  {
   "cell_type": "code",
   "execution_count": 20,
   "metadata": {},
   "outputs": [],
   "source": [
    "#len(polygons_reshaped),len(indices)\n",
    "#point_coordinates.shape\n",
    "#centers_of_mass=centers_of_mass.reshape(60000,2)"
   ]
  },
  {
   "cell_type": "code",
   "execution_count": 10,
   "metadata": {},
   "outputs": [
    {
     "name": "stdout",
     "output_type": "stream",
     "text": [
      "22\n"
     ]
    }
   ],
   "source": [
    "# Project set of polygons in 2d and 3d space #\n",
    "# Dimensionality reduction using Isomap, PCA, kernel PCA ... #\n",
    "from sklearn.decomposition import PCA,KernelPCA\n",
    "\n",
    "Polygons_reshaped=[]\n",
    "\n",
    "\n",
    "\n",
    "\n",
    "\n",
    "                        # Isomap #\n",
    "#nb_components=8\n",
    "#iso=manifold.Isomap(n_neighbors=8,n_components=nb_components,n_jobs=-1)\n",
    "#iso.fit(Polygons_reshaped)\n",
    "#Polygons_projected=iso.transform(Polygons_reshaped)\n",
    "\n",
    "\n",
    "                        # PCA   #\n",
    "pca=PCA(.999)\n",
    "pca.fit(polygons_reshaped)\n",
    "Polygons_projected=pca.transform(polygons_reshaped)\n",
    "nb_components=int(pca.n_components_)\n",
    "print(nb_components)\n",
    "# Fitting into lesser dimension\n",
    "\n",
    "#Polygons_projected=iso.fit_transform(Polygons_reshaped)\n",
    "#Polygons_projected=iso.transform(Polygons_reshaped)\n",
    "\n",
    "#iso = KernelPCA(n_components=2,kernel=\"rbf\", fit_inverse_transform=True, gamma=1e-1)\n",
    "\n",
    "\n",
    "\n",
    "\n",
    "\n"
   ]
  },
  {
   "cell_type": "code",
   "execution_count": 17,
   "metadata": {},
   "outputs": [],
   "source": [
    "nb_of_test_data=int(len(polygons_reshaped)*0.2)\n",
    "nb_of_training_data=int(len(polygons_reshaped)-nb_of_test_data)\n"
   ]
  },
  {
   "cell_type": "code",
   "execution_count": 18,
   "metadata": {},
   "outputs": [],
   "source": [
    "x_tensor=torch.from_numpy(Polygons_projected[:nb_of_training_data]).type(torch.FloatTensor)\n",
    "x_tensor_test=torch.from_numpy(Polygons_projected[nb_of_training_data:]).type(torch.FloatTensor)\n",
    "x_variable,x_variable_test=Variable(x_tensor),Variable(x_tensor_test)\n",
    "\n",
    "y_tensor=torch.from_numpy(point_coordinates[:nb_of_training_data]).type(torch.FloatTensor)\n",
    "y_tensor_test=torch.from_numpy(point_coordinates[nb_of_training_data:]).type(torch.FloatTensor)\n",
    "y_variable,y_variable_test=Variable(y_tensor),Variable(y_tensor_test)\n",
    "\n",
    "\n",
    "\n",
    "shuffle=torch.randperm(x_variable.shape[0])\n",
    "x_variable = x_variable[shuffle]\n",
    "y_variable=y_variable[shuffle]"
   ]
  },
  {
   "cell_type": "code",
   "execution_count": 23,
   "metadata": {},
   "outputs": [
    {
     "name": "stdout",
     "output_type": "stream",
     "text": [
      "Training data length: 174978\n"
     ]
    }
   ],
   "source": [
    "my_net=Net(nb_components,1*2,nb_of_hidden_layers=2, nb_of_hidden_nodes=20,batch_normalization=True)\n",
    "\n",
    "print(\"Training data length:\",x_variable.size()[0])"
   ]
  },
  {
   "cell_type": "code",
   "execution_count": 24,
   "metadata": {},
   "outputs": [],
   "source": [
    "optimizer = torch.optim.Adam(my_net.parameters(), lr=1e-3,weight_decay=0)\n",
    "#optimizer = torch.optim.SGD(my_net.parameters(), lr=1e-5,weight_decay=.5,momentum=0.9)\n",
    "max_distance=0.6108970818704328\n",
    "loss_func =torch.nn.MSELoss(size_average=False) \n",
    "#loss_func=myLossfunction()\n"
   ]
  },
  {
   "cell_type": "code",
   "execution_count": 25,
   "metadata": {},
   "outputs": [
    {
     "name": "stdout",
     "output_type": "stream",
     "text": [
      "cuda activated\n"
     ]
    }
   ],
   "source": [
    "if  torch.cuda.is_available():\n",
    "    loss_func.cuda()\n",
    "    x_variable , y_variable=x_variable.cuda(), y_variable.cuda()\n",
    "    x_variable_test,y_variable_test= Variable(x_tensor_test.cuda(),volatile=True),Variable(y_tensor_test.cuda(),volatile=True)\n",
    "    print(\"cuda activated\")\n"
   ]
  },
  {
   "cell_type": "code",
   "execution_count": 26,
   "metadata": {
    "scrolled": true
   },
   "outputs": [
    {
     "name": "stdout",
     "output_type": "stream",
     "text": [
      "Epoch: 0 Training Loss: 0.19334205139360378 Test Loss: 0.18400412994139195\n",
      "Epoch: 10 Training Loss: 0.11567720410744493 Test Loss: 0.1155488824181602\n",
      "Epoch: 20 Training Loss: 0.10219234480548983 Test Loss: 0.10353034800129732\n",
      "Epoch: 30 Training Loss: 0.09842879689696704 Test Loss: 0.09985638432199273\n",
      "Epoch: 40 Training Loss: 0.09415261757906708 Test Loss: 0.09543940579708074\n",
      "Epoch: 50 Training Loss: 0.08902548865071609 Test Loss: 0.09023040458941511\n",
      "Epoch: 60 Training Loss: 0.0835252157146184 Test Loss: 0.08468092700034577\n",
      "Epoch: 70 Training Loss: 0.0781463029012933 Test Loss: 0.07947207090186655\n",
      "Epoch: 80 Training Loss: 0.07287419201896095 Test Loss: 0.07417404520834286\n",
      "Epoch: 90 Training Loss: 0.06853561925463487 Test Loss: 0.0698091776247171\n",
      "Epoch: 100 Training Loss: 0.06563329289521397 Test Loss: 0.06715303768445387\n",
      "Epoch: 110 Training Loss: 0.0633043421887323 Test Loss: 0.06487926603148432\n",
      "Epoch: 120 Training Loss: 0.06125940319104402 Test Loss: 0.06298593717852734\n",
      "Epoch: 130 Training Loss: 0.059603363529986624 Test Loss: 0.06148280692780724\n",
      "Epoch: 140 Training Loss: 0.05824541379844895 Test Loss: 0.06022077000917268\n",
      "Epoch: 150 Training Loss: 0.05700666711047246 Test Loss: 0.059080708523954716\n",
      "Epoch: 160 Training Loss: 0.0558443502317077 Test Loss: 0.058079968601051\n",
      "Epoch: 170 Training Loss: 0.054827447838978326 Test Loss: 0.057204826260101385\n",
      "Epoch: 180 Training Loss: 0.05392254055241945 Test Loss: 0.05650019837542006\n",
      "Epoch: 190 Training Loss: 0.05313008043779075 Test Loss: 0.055892726672157896\n",
      "Epoch: 200 Training Loss: 0.052421090638001634 Test Loss: 0.055281270047392216\n",
      "Epoch: 210 Training Loss: 0.05174276038451977 Test Loss: 0.0546318338836469\n",
      "Epoch: 220 Training Loss: 0.0511341375549712 Test Loss: 0.05402649416920035\n",
      "Epoch: 230 Training Loss: 0.05057760274684532 Test Loss: 0.05358565804203148\n",
      "Epoch: 240 Training Loss: 0.050122210676127855 Test Loss: 0.053133045746273776\n",
      "Epoch: 250 Training Loss: 0.04977053421090794 Test Loss: 0.052762838725025143\n",
      "Epoch: 260 Training Loss: 0.04945275151554767 Test Loss: 0.05243434501374474\n",
      "Epoch: 270 Training Loss: 0.04916339315246059 Test Loss: 0.052148061332339866\n",
      "Epoch: 280 Training Loss: 0.04887850521744162 Test Loss: 0.05188089857680482\n",
      "Epoch: 290 Training Loss: 0.04858809482477797 Test Loss: 0.051634073431856366\n",
      "Epoch: 300 Training Loss: 0.048301390255132075 Test Loss: 0.051396937115661574\n",
      "Epoch: 310 Training Loss: 0.04802633614565117 Test Loss: 0.05109280500432917\n",
      "Epoch: 320 Training Loss: 0.04775063742388329 Test Loss: 0.050783549422492226\n",
      "Epoch: 330 Training Loss: 0.047503251413213377 Test Loss: 0.05054729492366096\n",
      "Epoch: 340 Training Loss: 0.047273853154932335 Test Loss: 0.050318792604057125\n",
      "Epoch: 350 Training Loss: 0.04706637729546714 Test Loss: 0.050133744904658356\n",
      "Epoch: 360 Training Loss: 0.04686305374372064 Test Loss: 0.04998815016059345\n",
      "Epoch: 370 Training Loss: 0.04666990167156728 Test Loss: 0.049869785713469277\n",
      "Epoch: 380 Training Loss: 0.046489937641267756 Test Loss: 0.04975886090270951\n",
      "Epoch: 390 Training Loss: 0.04632066971008498 Test Loss: 0.04961285315557562\n",
      "Epoch: 400 Training Loss: 0.04615829159594349 Test Loss: 0.04952362216818307\n",
      "Epoch: 410 Training Loss: 0.04601386914310299 Test Loss: 0.049446089213663585\n",
      "Epoch: 420 Training Loss: 0.04588987615585959 Test Loss: 0.04939901802604357\n",
      "Epoch: 430 Training Loss: 0.04577418499352419 Test Loss: 0.049316473223470644\n",
      "Epoch: 440 Training Loss: 0.045672592980885454 Test Loss: 0.04924446558027958\n",
      "Epoch: 450 Training Loss: 0.04557910606083336 Test Loss: 0.049131196698047164\n",
      "Epoch: 460 Training Loss: 0.04549377027710269 Test Loss: 0.049057576110438005\n",
      "Epoch: 470 Training Loss: 0.04541395136995794 Test Loss: 0.048966497771480086\n",
      "Epoch: 480 Training Loss: 0.045335255650888966 Test Loss: 0.04889187816293377\n",
      "Epoch: 490 Training Loss: 0.04525685293740499 Test Loss: 0.04883012304187431\n",
      "Epoch: 500 Training Loss: 0.04517946737188032 Test Loss: 0.04878167889810603\n",
      "Epoch: 510 Training Loss: 0.045102905012523 Test Loss: 0.0487173508795492\n",
      "Epoch: 520 Training Loss: 0.045021291794986366 Test Loss: 0.04863195970447376\n",
      "Epoch: 530 Training Loss: 0.0449354034864383 Test Loss: 0.04855287519788428\n",
      "Epoch: 540 Training Loss: 0.044845425657082605 Test Loss: 0.04849821368359089\n",
      "Epoch: 550 Training Loss: 0.044755982214103346 Test Loss: 0.04840922826559071\n",
      "Epoch: 560 Training Loss: 0.044672620729909615 Test Loss: 0.04831837875265751\n",
      "Epoch: 570 Training Loss: 0.044584613014296795 Test Loss: 0.04822344385801482\n",
      "Epoch: 580 Training Loss: 0.04449063496107368 Test Loss: 0.0481634523716824\n",
      "Epoch: 590 Training Loss: 0.04439670155632065 Test Loss: 0.04805672456508321\n",
      "Epoch: 600 Training Loss: 0.04430539683024437 Test Loss: 0.04800006500891551\n",
      "Epoch: 610 Training Loss: 0.04422182466108239 Test Loss: 0.04789547477225448\n",
      "Epoch: 620 Training Loss: 0.044137822750395767 Test Loss: 0.04780129891027912\n",
      "Epoch: 630 Training Loss: 0.04404668824661172 Test Loss: 0.04769376184090961\n",
      "Epoch: 640 Training Loss: 0.043943463774285194 Test Loss: 0.04761453222513373\n",
      "Epoch: 650 Training Loss: 0.043849482930532695 Test Loss: 0.047526104919388946\n",
      "Epoch: 660 Training Loss: 0.04376519080479046 Test Loss: 0.04745266850882407\n",
      "Epoch: 670 Training Loss: 0.04368789593147067 Test Loss: 0.04743757715343819\n",
      "Epoch: 680 Training Loss: 0.043608873720464146 Test Loss: 0.04737169758281136\n",
      "Epoch: 690 Training Loss: 0.04353431356593757 Test Loss: 0.04732175769819861\n",
      "Epoch: 700 Training Loss: 0.04345890788100861 Test Loss: 0.047213796463515\n",
      "Epoch: 710 Training Loss: 0.04338146371436695 Test Loss: 0.04715342546084891\n",
      "Epoch: 720 Training Loss: 0.04330884995408351 Test Loss: 0.04713173163748171\n",
      "Epoch: 730 Training Loss: 0.04325120459339889 Test Loss: 0.047055019107977665\n",
      "Epoch: 740 Training Loss: 0.0431994360875903 Test Loss: 0.046992884470584535\n",
      "Epoch: 750 Training Loss: 0.043145193777485595 Test Loss: 0.04693111260615741\n",
      "Epoch: 760 Training Loss: 0.04309007245062593 Test Loss: 0.046875061392348094\n",
      "Epoch: 770 Training Loss: 0.04303311076963961 Test Loss: 0.04677200038326685\n",
      "Epoch: 780 Training Loss: 0.0429803558116949 Test Loss: 0.04672528917805156\n",
      "Epoch: 790 Training Loss: 0.04293734259181869 Test Loss: 0.04667182202398472\n",
      "Epoch: 800 Training Loss: 0.04290472688441547 Test Loss: 0.04660348396887287\n",
      "Epoch: 810 Training Loss: 0.042877523408746385 Test Loss: 0.04656836196464086\n",
      "Epoch: 820 Training Loss: 0.04285201936547023 Test Loss: 0.04654254369170629\n",
      "Epoch: 830 Training Loss: 0.042825718626055845 Test Loss: 0.04653752347196901\n",
      "Epoch: 840 Training Loss: 0.042798452363475695 Test Loss: 0.04650938624261327\n",
      "Epoch: 850 Training Loss: 0.04276664451432823 Test Loss: 0.04648057927855106\n",
      "Epoch: 860 Training Loss: 0.042732060088446835 Test Loss: 0.04645431451581217\n",
      "Epoch: 870 Training Loss: 0.04269719242383328 Test Loss: 0.0464594491485618\n",
      "Epoch: 880 Training Loss: 0.04266499111004312 Test Loss: 0.046458014800065436\n",
      "Epoch: 890 Training Loss: 0.042632904207957574 Test Loss: 0.04643853668235215\n",
      "Epoch: 900 Training Loss: 0.04260314181684626 Test Loss: 0.046407541918248786\n",
      "Epoch: 910 Training Loss: 0.04257592438853027 Test Loss: 0.04637096603159147\n",
      "Epoch: 920 Training Loss: 0.042550735675074156 Test Loss: 0.04637427563726597\n",
      "Epoch: 930 Training Loss: 0.04252719337395273 Test Loss: 0.046367840602961265\n",
      "Epoch: 940 Training Loss: 0.04250604116124598 Test Loss: 0.0463752048941712\n",
      "Epoch: 950 Training Loss: 0.04248437270060379 Test Loss: 0.04636998933514454\n",
      "Epoch: 960 Training Loss: 0.04246752487946699 Test Loss: 0.046383476117796155\n",
      "Epoch: 970 Training Loss: 0.04245397406879365 Test Loss: 0.046378690305206145\n",
      "Epoch: 980 Training Loss: 0.042440975782937714 Test Loss: 0.046390455311549866\n",
      "Epoch: 990 Training Loss: 0.042429167657862706 Test Loss: 0.046402488211776186\n",
      "Epoch: 1000 Training Loss: 0.04241884967547706 Test Loss: 0.046419678069242354\n",
      "Epoch: 1010 Training Loss: 0.042408587503679034 Test Loss: 0.04641720842251223\n",
      "Epoch: 1020 Training Loss: 0.042398559736349 Test Loss: 0.04642119334401575\n",
      "Epoch: 1030 Training Loss: 0.0423873320413852 Test Loss: 0.04642015525522072\n",
      "Epoch: 1040 Training Loss: 0.04237821398663332 Test Loss: 0.04639175571310494\n",
      "Epoch: 1050 Training Loss: 0.042370093546135086 Test Loss: 0.04640198870130761\n"
     ]
    },
    {
     "name": "stdout",
     "output_type": "stream",
     "text": [
      "Epoch: 1060 Training Loss: 0.042362782359157296 Test Loss: 0.04639402164886185\n",
      "Epoch: 1070 Training Loss: 0.04235579766411706 Test Loss: 0.04638987487480426\n",
      "Epoch: 1080 Training Loss: 0.04234849903452148 Test Loss: 0.04637795080646774\n",
      "Epoch: 1090 Training Loss: 0.04234091995672313 Test Loss: 0.04637704945517528\n",
      "Epoch: 1100 Training Loss: 0.04233297252904651 Test Loss: 0.04636428263733312\n",
      "Epoch: 1110 Training Loss: 0.042324249334202015 Test Loss: 0.04637321243341944\n",
      "Epoch: 1120 Training Loss: 0.04231662839846295 Test Loss: 0.04636910472721973\n",
      "Epoch: 1130 Training Loss: 0.042309237681397806 Test Loss: 0.04635572119533536\n",
      "Epoch: 1140 Training Loss: 0.042300373564819575 Test Loss: 0.04633287207959949\n",
      "Epoch: 1150 Training Loss: 0.04229117458471565 Test Loss: 0.04630713194238067\n",
      "Epoch: 1160 Training Loss: 0.04228304577262927 Test Loss: 0.046316491484903646\n",
      "Epoch: 1170 Training Loss: 0.04227484580204369 Test Loss: 0.046305256685202544\n",
      "Epoch: 1180 Training Loss: 0.042266663969899074 Test Loss: 0.04630371350481637\n",
      "Epoch: 1190 Training Loss: 0.04225842074610808 Test Loss: 0.0463035293277721\n",
      "Epoch: 1200 Training Loss: 0.04224937664038479 Test Loss: 0.04631360604454325\n",
      "Epoch: 1210 Training Loss: 0.04223969908449205 Test Loss: 0.04629799564475985\n",
      "Epoch: 1220 Training Loss: 0.04222882160096555 Test Loss: 0.046316340794594686\n",
      "Epoch: 1230 Training Loss: 0.042216914412097524 Test Loss: 0.04629883002258167\n",
      "Epoch: 1240 Training Loss: 0.04220478258561433 Test Loss: 0.04629737614015637\n",
      "Epoch: 1250 Training Loss: 0.042192017308961695 Test Loss: 0.046279890483194835\n",
      "Epoch: 1260 Training Loss: 0.04217958550057007 Test Loss: 0.04626061607645477\n",
      "Epoch: 1270 Training Loss: 0.04216724159385394 Test Loss: 0.04624433036084234\n",
      "Epoch: 1280 Training Loss: 0.04215553671836602 Test Loss: 0.04620498065627572\n",
      "Epoch: 1290 Training Loss: 0.04214337001026558 Test Loss: 0.04618530998983432\n",
      "Epoch: 1300 Training Loss: 0.04212983175697445 Test Loss: 0.046186811311801336\n",
      "Epoch: 1310 Training Loss: 0.04211523031198922 Test Loss: 0.046150620522600244\n",
      "Epoch: 1320 Training Loss: 0.042098854090317786 Test Loss: 0.0461424330158136\n",
      "Epoch: 1330 Training Loss: 0.042082913191229754 Test Loss: 0.04611085223384207\n",
      "Epoch: 1340 Training Loss: 0.042069443305908456 Test Loss: 0.04610692312356409\n",
      "Epoch: 1350 Training Loss: 0.042055532516944986 Test Loss: 0.046080259310562595\n",
      "Epoch: 1360 Training Loss: 0.04204319419128762 Test Loss: 0.04607326058287994\n",
      "Epoch: 1370 Training Loss: 0.04203299480640066 Test Loss: 0.04605780924508933\n",
      "Epoch: 1380 Training Loss: 0.04202325446359685 Test Loss: 0.0460451959081174\n",
      "Epoch: 1390 Training Loss: 0.04201158586499088 Test Loss: 0.04602474667507973\n",
      "Epoch: 1400 Training Loss: 0.042001791106864146 Test Loss: 0.04600354119993599\n",
      "Epoch: 1410 Training Loss: 0.04199215122311805 Test Loss: 0.046002597990224374\n",
      "Epoch: 1420 Training Loss: 0.04198325222492256 Test Loss: 0.04597399752769665\n",
      "Epoch: 1430 Training Loss: 0.04197376302976303 Test Loss: 0.04597832847879852\n",
      "Epoch: 1440 Training Loss: 0.04196667229460632 Test Loss: 0.045955144495709414\n",
      "Epoch: 1450 Training Loss: 0.04196137028878273 Test Loss: 0.04595964008992662\n",
      "Epoch: 1460 Training Loss: 0.04195704357297775 Test Loss: 0.045932828377177444\n",
      "Epoch: 1470 Training Loss: 0.04195362377922153 Test Loss: 0.045941367494684984\n",
      "Epoch: 1480 Training Loss: 0.041949763081823147 Test Loss: 0.04592647426914977\n",
      "Epoch: 1490 Training Loss: 0.04194618283262753 Test Loss: 0.04590096853907822\n",
      "Epoch: 1500 Training Loss: 0.04194292349431071 Test Loss: 0.04591123222345493\n",
      "Epoch: 1510 Training Loss: 0.041939253948174916 Test Loss: 0.04591222008214698\n",
      "Epoch: 1520 Training Loss: 0.04193533185913015 Test Loss: 0.04591428788805322\n",
      "Epoch: 1530 Training Loss: 0.04193061307394715 Test Loss: 0.045882140622142464\n",
      "Epoch: 1540 Training Loss: 0.041926314263435974 Test Loss: 0.04589191316773443\n",
      "Epoch: 1550 Training Loss: 0.04192183127798566 Test Loss: 0.045902291265123504\n",
      "Epoch: 1560 Training Loss: 0.041916963199480795 Test Loss: 0.0458937102891968\n",
      "Epoch: 1570 Training Loss: 0.04191272857114537 Test Loss: 0.045912677734196404\n",
      "Epoch: 1580 Training Loss: 0.04190878415786556 Test Loss: 0.04590303355442318\n",
      "Epoch: 1590 Training Loss: 0.04190411978800549 Test Loss: 0.045901562928630214\n",
      "Epoch: 1600 Training Loss: 0.041899728890024746 Test Loss: 0.04590226056894946\n",
      "Epoch: 1610 Training Loss: 0.041894982199547945 Test Loss: 0.04590555343125629\n",
      "Epoch: 1620 Training Loss: 0.041890552234155866 Test Loss: 0.04592360278159576\n",
      "Epoch: 1630 Training Loss: 0.04188653805764153 Test Loss: 0.04592625102424761\n",
      "Epoch: 1640 Training Loss: 0.0418832075608255 Test Loss: 0.04593081917305802\n",
      "Epoch: 1650 Training Loss: 0.04188011984006561 Test Loss: 0.04595368224160028\n",
      "Epoch: 1660 Training Loss: 0.04187709909201085 Test Loss: 0.0459466863044789\n",
      "Epoch: 1670 Training Loss: 0.04187314072608413 Test Loss: 0.04593252699655953\n",
      "Epoch: 1680 Training Loss: 0.0418685740247524 Test Loss: 0.04595778715723871\n",
      "Epoch: 1690 Training Loss: 0.04186456403403214 Test Loss: 0.04596812897733118\n",
      "Epoch: 1700 Training Loss: 0.041860801005162075 Test Loss: 0.04598084556507035\n",
      "Epoch: 1710 Training Loss: 0.041857262613907174 Test Loss: 0.04598174970692409\n",
      "Epoch: 1720 Training Loss: 0.041852761490015884 Test Loss: 0.04600098225524501\n",
      "Epoch: 1730 Training Loss: 0.041847618544367006 Test Loss: 0.04599365424133167\n",
      "Epoch: 1740 Training Loss: 0.04184288022547834 Test Loss: 0.04598966652926687\n",
      "Epoch: 1750 Training Loss: 0.04183682338145724 Test Loss: 0.046002623105275864\n",
      "Epoch: 1760 Training Loss: 0.04182958056244928 Test Loss: 0.04602392066894174\n",
      "Epoch: 1770 Training Loss: 0.04182180754285896 Test Loss: 0.04601833954638779\n",
      "Epoch: 1780 Training Loss: 0.04181476564196642 Test Loss: 0.04603805486180962\n",
      "Epoch: 1790 Training Loss: 0.0418086669400046 Test Loss: 0.046041844444023754\n",
      "Epoch: 1800 Training Loss: 0.04180411419131977 Test Loss: 0.046042117919028895\n",
      "Epoch: 1810 Training Loss: 0.04180059533377053 Test Loss: 0.04606354384851351\n",
      "Epoch: 1820 Training Loss: 0.041797368086541595 Test Loss: 0.04606729715343104\n",
      "Epoch: 1830 Training Loss: 0.04179301904650156 Test Loss: 0.04605136304853951\n",
      "Epoch: 1840 Training Loss: 0.04178895184992899 Test Loss: 0.04605591445398226\n",
      "Epoch: 1850 Training Loss: 0.0417854260160563 Test Loss: 0.04606312247376069\n",
      "Epoch: 1860 Training Loss: 0.04178284477637903 Test Loss: 0.04606798921262773\n",
      "Epoch: 1870 Training Loss: 0.041779560323297785 Test Loss: 0.04606288248549087\n",
      "Epoch: 1880 Training Loss: 0.04177602332730757 Test Loss: 0.046065031217674135\n",
      "Epoch: 1890 Training Loss: 0.04177264539149207 Test Loss: 0.046045363341794016\n",
      "Epoch: 1900 Training Loss: 0.04176948372170359 Test Loss: 0.046071296027740946\n",
      "Epoch: 1910 Training Loss: 0.041765780689215215 Test Loss: 0.04608159319885299\n",
      "Epoch: 1920 Training Loss: 0.041761483273968725 Test Loss: 0.04611549293724568\n",
      "Epoch: 1930 Training Loss: 0.04175689006260787 Test Loss: 0.0461040014059071\n",
      "Epoch: 1940 Training Loss: 0.041752503350421195 Test Loss: 0.04611941646640111\n",
      "Epoch: 1950 Training Loss: 0.04174850591708315 Test Loss: 0.04610911650472779\n",
      "Epoch: 1960 Training Loss: 0.04174532610885368 Test Loss: 0.046130679171714976\n",
      "Epoch: 1970 Training Loss: 0.0417426011569133 Test Loss: 0.046143172514551994\n",
      "Epoch: 1980 Training Loss: 0.04173943669659543 Test Loss: 0.0461331488184451\n",
      "Epoch: 1990 Training Loss: 0.0417360475986624 Test Loss: 0.046130684752837534\n",
      "Epoch: 2000 Training Loss: 0.0417339365631858 Test Loss: 0.04613554591058202\n",
      "Epoch: 2010 Training Loss: 0.04173172088285742 Test Loss: 0.04615134606853226\n",
      "Epoch: 2020 Training Loss: 0.041730038193640774 Test Loss: 0.046145430078625066\n",
      "Epoch: 2030 Training Loss: 0.04172831504174811 Test Loss: 0.04614400131125126\n",
      "Epoch: 2040 Training Loss: 0.041727071860908946 Test Loss: 0.046148376911333555\n",
      "Epoch: 2050 Training Loss: 0.04172605471294963 Test Loss: 0.04614385341150358\n",
      "Epoch: 2060 Training Loss: 0.04172452271231955 Test Loss: 0.046150054038661015\n",
      "Epoch: 2070 Training Loss: 0.04172382228944496 Test Loss: 0.046159575433738054\n",
      "Epoch: 2080 Training Loss: 0.04172294048216062 Test Loss: 0.04614597981919663\n",
      "Epoch: 2090 Training Loss: 0.041722040536435294 Test Loss: 0.04615590026453628\n",
      "Epoch: 2100 Training Loss: 0.041720455515746976 Test Loss: 0.04614484127019563\n"
     ]
    },
    {
     "name": "stdout",
     "output_type": "stream",
     "text": [
      "Epoch: 2110 Training Loss: 0.04171917187223179 Test Loss: 0.046133137656199995\n",
      "Epoch: 2120 Training Loss: 0.041718368199770116 Test Loss: 0.046139276891009336\n",
      "Epoch: 2130 Training Loss: 0.04171665760525966 Test Loss: 0.04613840344532964\n",
      "Epoch: 2140 Training Loss: 0.041714938639161064 Test Loss: 0.04611666497298201\n",
      "Epoch: 2150 Training Loss: 0.04171356569870569 Test Loss: 0.046117404471720407\n",
      "Epoch: 2160 Training Loss: 0.04171236577107194 Test Loss: 0.04612324232591184\n",
      "Epoch: 2170 Training Loss: 0.04171094260108771 Test Loss: 0.04612422181292006\n",
      "Epoch: 2180 Training Loss: 0.0417098961525699 Test Loss: 0.0461353784769054\n",
      "Epoch: 2190 Training Loss: 0.04170851344526169 Test Loss: 0.04611576083112827\n",
      "Epoch: 2200 Training Loss: 0.0417073470039805 Test Loss: 0.046110269006535184\n",
      "Epoch: 2210 Training Loss: 0.041706502868842796 Test Loss: 0.04611966203579348\n",
      "Epoch: 2220 Training Loss: 0.041705647571587574 Test Loss: 0.04612406275092727\n",
      "Epoch: 2230 Training Loss: 0.04170504760777069 Test Loss: 0.04611768631840938\n",
      "Epoch: 2240 Training Loss: 0.04170427602639689 Test Loss: 0.04612805604411462\n",
      "Epoch: 2250 Training Loss: 0.041703083075086585 Test Loss: 0.04612781884640608\n",
      "Epoch: 2260 Training Loss: 0.04170193198171699 Test Loss: 0.046126191949181605\n",
      "Epoch: 2270 Training Loss: 0.041700189296118656 Test Loss: 0.04613371251182305\n",
      "Epoch: 2280 Training Loss: 0.04169889030469188 Test Loss: 0.0461316949360198\n",
      "Epoch: 2290 Training Loss: 0.04169753410741279 Test Loss: 0.04613297580364593\n",
      "Epoch: 2300 Training Loss: 0.041697284355033205 Test Loss: 0.0461321916559271\n",
      "Epoch: 2310 Training Loss: 0.04169615698116334 Test Loss: 0.046138191362672595\n",
      "Epoch: 2320 Training Loss: 0.0416951593669097 Test Loss: 0.04612907738954199\n",
      "Epoch: 2330 Training Loss: 0.041694255235390304 Test Loss: 0.046148988044253214\n",
      "Epoch: 2340 Training Loss: 0.041693571555692 Test Loss: 0.04615400826399049\n",
      "Epoch: 2350 Training Loss: 0.04169297019661043 Test Loss: 0.04615288087723459\n",
      "Epoch: 2360 Training Loss: 0.04169228372638274 Test Loss: 0.04613733745092184\n",
      "Epoch: 2370 Training Loss: 0.04169200885923873 Test Loss: 0.04614997590294526\n",
      "Epoch: 2380 Training Loss: 0.04169137680433398 Test Loss: 0.04612714911169961\n",
      "Epoch: 2390 Training Loss: 0.041690409885903515 Test Loss: 0.04613674306136985\n",
      "Epoch: 2400 Training Loss: 0.04168959365605962 Test Loss: 0.046129741543125914\n",
      "Epoch: 2410 Training Loss: 0.041688969972743004 Test Loss: 0.04614411851482489\n",
      "Epoch: 2420 Training Loss: 0.04168819699610451 Test Loss: 0.046128265336210394\n",
      "Epoch: 2430 Training Loss: 0.0416870193927058 Test Loss: 0.046121807977415476\n",
      "Epoch: 2440 Training Loss: 0.041685441348340936 Test Loss: 0.04612383392490256\n",
      "Epoch: 2450 Training Loss: 0.04168399306359228 Test Loss: 0.04610976391494405\n",
      "Epoch: 2460 Training Loss: 0.04168310707051386 Test Loss: 0.04610440603729226\n",
      "Epoch: 2470 Training Loss: 0.04168262291366629 Test Loss: 0.04610302470946016\n",
      "Epoch: 2480 Training Loss: 0.041681879237586296 Test Loss: 0.046096383173620956\n",
      "Epoch: 2490 Training Loss: 0.041681311364857296 Test Loss: 0.046103680491360245\n",
      "Epoch: 2500 Training Loss: 0.041680636056747135 Test Loss: 0.0460881845045892\n",
      "Epoch: 2510 Training Loss: 0.04167902034023563 Test Loss: 0.04607778129214864\n",
      "Epoch: 2520 Training Loss: 0.041677228820373134 Test Loss: 0.04605557121494519\n",
      "Epoch: 2530 Training Loss: 0.0416752531255715 Test Loss: 0.04607462795790566\n",
      "Epoch: 2540 Training Loss: 0.041672624446894756 Test Loss: 0.046088725873476934\n",
      "Epoch: 2550 Training Loss: 0.04166993995763039 Test Loss: 0.04608555579586629\n",
      "Epoch: 2560 Training Loss: 0.041667503825480914 Test Loss: 0.046078021280418456\n",
      "Epoch: 2570 Training Loss: 0.04166597880117429 Test Loss: 0.04610995367311088\n",
      "Epoch: 2580 Training Loss: 0.041664395175750664 Test Loss: 0.046079692826623365\n",
      "Epoch: 2590 Training Loss: 0.04166291479991413 Test Loss: 0.046069610528729654\n",
      "Epoch: 2600 Training Loss: 0.04166153906892938 Test Loss: 0.04606860871723122\n",
      "Epoch: 2610 Training Loss: 0.041660293097560835 Test Loss: 0.04606474378986261\n",
      "Epoch: 2620 Training Loss: 0.04165927176380745 Test Loss: 0.04608085090955331\n",
      "Epoch: 2630 Training Loss: 0.0416587401679604 Test Loss: 0.046078437074048725\n",
      "Epoch: 2640 Training Loss: 0.04165785696541137 Test Loss: 0.04606095699820975\n",
      "Epoch: 2650 Training Loss: 0.04165678819265851 Test Loss: 0.04603988547000731\n",
      "Epoch: 2660 Training Loss: 0.04165518363826452 Test Loss: 0.046062729004620634\n",
      "Epoch: 2670 Training Loss: 0.04165404091648307 Test Loss: 0.0460480925107229\n",
      "Epoch: 2680 Training Loss: 0.04165323305822732 Test Loss: 0.04605538982846219\n",
      "Epoch: 2690 Training Loss: 0.041651804307184334 Test Loss: 0.04603136309586743\n",
      "Epoch: 2700 Training Loss: 0.04165076762551935 Test Loss: 0.04603701677301458\n",
      "Epoch: 2710 Training Loss: 0.04165003371629219 Test Loss: 0.04604430571907005\n",
      "Epoch: 2720 Training Loss: 0.041648946805098355 Test Loss: 0.04603536197017734\n",
      "Epoch: 2730 Training Loss: 0.04164835242234024 Test Loss: 0.04604443687545006\n",
      "Epoch: 2740 Training Loss: 0.04164605581665981 Test Loss: 0.046043393205532475\n",
      "Epoch: 2750 Training Loss: 0.041644308945267404 Test Loss: 0.04601664288513139\n",
      "Epoch: 2760 Training Loss: 0.04164312436554524 Test Loss: 0.046021188709451585\n",
      "Epoch: 2770 Training Loss: 0.04164228860199568 Test Loss: 0.04601615174634664\n",
      "Epoch: 2780 Training Loss: 0.041641200295537154 Test Loss: 0.04602140358266991\n",
      "Epoch: 2790 Training Loss: 0.04164007431693199 Test Loss: 0.04602632892332377\n",
      "Epoch: 2800 Training Loss: 0.04163832325974551 Test Loss: 0.046023354185002516\n",
      "Epoch: 2810 Training Loss: 0.041636028049329775 Test Loss: 0.04600303610834486\n",
      "Epoch: 2820 Training Loss: 0.04163452255872881 Test Loss: 0.04600573737166097\n",
      "Epoch: 2830 Training Loss: 0.04163327519209558 Test Loss: 0.04602343232071827\n",
      "Epoch: 2840 Training Loss: 0.04163133856470528 Test Loss: 0.04600129200754675\n",
      "Epoch: 2850 Training Loss: 0.04162943960946162 Test Loss: 0.04601368209961652\n",
      "Epoch: 2860 Training Loss: 0.041628327583503356 Test Loss: 0.046015886643025326\n",
      "Epoch: 2870 Training Loss: 0.04162745972886592 Test Loss: 0.04601685217722716\n",
      "Epoch: 2880 Training Loss: 0.041626064464175494 Test Loss: 0.046011594759781345\n",
      "Epoch: 2890 Training Loss: 0.04162490499921776 Test Loss: 0.04600392071626966\n",
      "Epoch: 2900 Training Loss: 0.04162410969834422 Test Loss: 0.046020438048468074\n",
      "Epoch: 2910 Training Loss: 0.04162297534815091 Test Loss: 0.04601069898961143\n",
      "Epoch: 2920 Training Loss: 0.041622029358690804 Test Loss: 0.04601269145036319\n",
      "Epoch: 2930 Training Loss: 0.04162024900094583 Test Loss: 0.04601306259501303\n",
      "Epoch: 2940 Training Loss: 0.04161883420254975 Test Loss: 0.04602900228102711\n",
      "Epoch: 2950 Training Loss: 0.04161737336041888 Test Loss: 0.046035144306397734\n",
      "Epoch: 2960 Training Loss: 0.04161678316345484 Test Loss: 0.046030143620589395\n",
      "Epoch: 2970 Training Loss: 0.041615650208526214 Test Loss: 0.04605175372711829\n",
      "Epoch: 2980 Training Loss: 0.041615260929677586 Test Loss: 0.04606036539921904\n",
      "Epoch: 2990 Training Loss: 0.04161459538842026 Test Loss: 0.04606592140672149\n",
      "Epoch: 3000 Training Loss: 0.04161367451372458 Test Loss: 0.046069507277962406\n",
      "Epoch: 3010 Training Loss: 0.04161287921285104 Test Loss: 0.04607385776299321\n",
      "Epoch: 3020 Training Loss: 0.041611855088568274 Test Loss: 0.04607534234159256\n",
      "Epoch: 3030 Training Loss: 0.04161126489160423 Test Loss: 0.04607106441115496\n",
      "Epoch: 3040 Training Loss: 0.04161063562722885 Test Loss: 0.0460593635877206\n",
      "Epoch: 3050 Training Loss: 0.041609416165889423 Test Loss: 0.046046150280074125\n",
      "Epoch: 3060 Training Loss: 0.041608746438838023 Test Loss: 0.04607302896629395\n",
      "Epoch: 3070 Training Loss: 0.04160759395020374 Test Loss: 0.04603898690927613\n",
      "Epoch: 3080 Training Loss: 0.0416066967950078 Test Loss: 0.046038085557983666\n",
      "Epoch: 3090 Training Loss: 0.04160575778187115 Test Loss: 0.046053955479965825\n",
      "Epoch: 3100 Training Loss: 0.041604961085732924 Test Loss: 0.046035412200280325\n",
      "Epoch: 3110 Training Loss: 0.0416039885862437 Test Loss: 0.04602790279988398\n",
      "Epoch: 3120 Training Loss: 0.041603203052222995 Test Loss: 0.04605182070058894\n",
      "Epoch: 3130 Training Loss: 0.04160200591511862 Test Loss: 0.046057092070841146\n",
      "Epoch: 3140 Training Loss: 0.04160159431203494 Test Loss: 0.04607970677942975\n",
      "Epoch: 3150 Training Loss: 0.04160115619892215 Test Loss: 0.04607256573312197\n"
     ]
    },
    {
     "name": "stdout",
     "output_type": "stream",
     "text": [
      "Epoch: 3160 Training Loss: 0.04160073064319157 Test Loss: 0.046081364372828275\n",
      "Epoch: 3170 Training Loss: 0.04159921817626716 Test Loss: 0.046089593738034076\n",
      "Epoch: 3180 Training Loss: 0.04159813545086739 Test Loss: 0.04607538978113427\n",
      "Epoch: 3190 Training Loss: 0.04159664670344272 Test Loss: 0.046083217305516185\n",
      "Epoch: 3200 Training Loss: 0.0415953100398693 Test Loss: 0.046077488283214556\n",
      "Epoch: 3210 Training Loss: 0.041593860359855954 Test Loss: 0.046080309540665575\n",
      "Epoch: 3220 Training Loss: 0.04159144934247091 Test Loss: 0.04609105878270448\n",
      "Epoch: 3230 Training Loss: 0.041589461090287064 Test Loss: 0.046090788098260616\n",
      "Epoch: 3240 Training Loss: 0.041586704047258796 Test Loss: 0.04607558512042366\n",
      "Epoch: 3250 Training Loss: 0.04158470323769274 Test Loss: 0.04607887798273049\n",
      "Epoch: 3260 Training Loss: 0.04158285590724262 Test Loss: 0.04607386613467704\n",
      "Epoch: 3270 Training Loss: 0.04158138111246485 Test Loss: 0.04608109368838441\n",
      "Epoch: 3280 Training Loss: 0.04157972493327733 Test Loss: 0.04606814548405924\n",
      "Epoch: 3290 Training Loss: 0.041578448266085595 Test Loss: 0.046078657528389605\n",
      "Epoch: 3300 Training Loss: 0.04157591725593718 Test Loss: 0.046069429142246654\n",
      "Epoch: 3310 Training Loss: 0.04157167844180768 Test Loss: 0.04604863387961063\n",
      "Epoch: 3320 Training Loss: 0.04156515976517405 Test Loss: 0.04603272768033188\n",
      "Epoch: 3330 Training Loss: 0.04155795461831273 Test Loss: 0.04602883205678922\n",
      "Epoch: 3340 Training Loss: 0.04155080528203903 Test Loss: 0.04599400864261385\n",
      "Epoch: 3350 Training Loss: 0.04154634183029438 Test Loss: 0.04600229660960646\n",
      "Epoch: 3360 Training Loss: 0.04154213510725277 Test Loss: 0.04601326630598625\n",
      "Epoch: 3370 Training Loss: 0.041535776886058536 Test Loss: 0.04600623688212955\n",
      "Epoch: 3380 Training Loss: 0.041526148164429955 Test Loss: 0.04599887538148089\n",
      "Epoch: 3390 Training Loss: 0.041515901340543525 Test Loss: 0.04597267480165137\n",
      "Epoch: 3400 Training Loss: 0.04150742650281392 Test Loss: 0.04598737547845847\n",
      "Epoch: 3410 Training Loss: 0.04150167522176002 Test Loss: 0.045937817900740675\n",
      "Epoch: 3420 Training Loss: 0.04149711549675173 Test Loss: 0.04593240421186334\n",
      "Epoch: 3430 Training Loss: 0.04149138793519757 Test Loss: 0.045907437060118246\n",
      "Epoch: 3440 Training Loss: 0.04148546224605736 Test Loss: 0.04591389720947444\n",
      "Epoch: 3450 Training Loss: 0.04147752318996888 Test Loss: 0.045909594163985344\n",
      "Epoch: 3460 Training Loss: 0.041470020851728503 Test Loss: 0.04587317454875955\n",
      "Epoch: 3470 Training Loss: 0.04146342962133097 Test Loss: 0.04586592746112324\n",
      "Epoch: 3480 Training Loss: 0.04145780251883451 Test Loss: 0.04584373970841001\n",
      "Epoch: 3490 Training Loss: 0.04145360835317511 Test Loss: 0.04583759768303939\n",
      "Epoch: 3500 Training Loss: 0.04144891607802124 Test Loss: 0.045815753169363226\n",
      "Epoch: 3510 Training Loss: 0.04144418473545603 Test Loss: 0.045807082895475665\n",
      "Epoch: 3520 Training Loss: 0.04143866367307605 Test Loss: 0.045795856467458394\n",
      "Epoch: 3530 Training Loss: 0.04143294029731595 Test Loss: 0.04578436493611981\n",
      "Epoch: 3540 Training Loss: 0.04142742342073003 Test Loss: 0.04578918702600642\n",
      "Epoch: 3550 Training Loss: 0.04142134006667981 Test Loss: 0.04579658201339041\n",
      "Epoch: 3560 Training Loss: 0.041414215845170535 Test Loss: 0.04576898894348368\n",
      "Epoch: 3570 Training Loss: 0.041407729259624784 Test Loss: 0.045789932105867376\n",
      "Epoch: 3580 Training Loss: 0.04140201565071752 Test Loss: 0.04578740106678916\n",
      "Epoch: 3590 Training Loss: 0.041397101528477864 Test Loss: 0.045785495113436984\n",
      "Epoch: 3600 Training Loss: 0.04139299665975866 Test Loss: 0.04582846696654112\n",
      "Epoch: 3610 Training Loss: 0.0413887383119235 Test Loss: 0.04582582430501183\n",
      "Epoch: 3620 Training Loss: 0.04138438787661877 Test Loss: 0.04581722100459491\n",
      "Epoch: 3630 Training Loss: 0.04137628417929683 Test Loss: 0.04583161471966155\n",
      "Epoch: 3640 Training Loss: 0.04136734053263125 Test Loss: 0.04580419187399272\n",
      "Epoch: 3650 Training Loss: 0.04136181807498657 Test Loss: 0.04579946466318952\n",
      "Epoch: 3660 Training Loss: 0.041356390495340845 Test Loss: 0.045787322931073404\n",
      "Epoch: 3670 Training Loss: 0.04134937929027149 Test Loss: 0.04575504729934391\n",
      "Epoch: 3680 Training Loss: 0.041343591732335636 Test Loss: 0.04574553148538942\n",
      "Epoch: 3690 Training Loss: 0.041335881499656384 Test Loss: 0.045748455993607696\n",
      "Epoch: 3700 Training Loss: 0.04133041345733464 Test Loss: 0.04573621659184688\n",
      "Epoch: 3710 Training Loss: 0.04132669507693467 Test Loss: 0.045728408601393905\n",
      "Epoch: 3720 Training Loss: 0.04132277298788991 Test Loss: 0.04572672310238261\n",
      "Epoch: 3730 Training Loss: 0.04132032848415229 Test Loss: 0.04573374415455548\n",
      "Epoch: 3740 Training Loss: 0.041317743058680946 Test Loss: 0.04572784211745468\n",
      "Epoch: 3750 Training Loss: 0.041313205657907706 Test Loss: 0.045745495208092825\n",
      "Epoch: 3760 Training Loss: 0.041306647913862744 Test Loss: 0.04576062005021403\n",
      "Epoch: 3770 Training Loss: 0.04130206865514879 Test Loss: 0.045753261340126646\n",
      "Epoch: 3780 Training Loss: 0.0412982958594259 Test Loss: 0.04574843925024003\n",
      "Epoch: 3790 Training Loss: 0.04129514395649025 Test Loss: 0.04574793694921018\n",
      "Epoch: 3800 Training Loss: 0.04129201019199556 Test Loss: 0.04571688916444255\n",
      "Epoch: 3810 Training Loss: 0.04128998984872384 Test Loss: 0.04575150328652215\n",
      "Epoch: 3820 Training Loss: 0.041287631851397034 Test Loss: 0.045742565118752\n",
      "Epoch: 3830 Training Loss: 0.041284796673546106 Test Loss: 0.04572826907333006\n",
      "Epoch: 3840 Training Loss: 0.04128170476699214 Test Loss: 0.0457169561379132\n",
      "Epoch: 3850 Training Loss: 0.04127955326883951 Test Loss: 0.045696395282424446\n",
      "Epoch: 3860 Training Loss: 0.04127742549018662 Test Loss: 0.04569234617801156\n",
      "Epoch: 3870 Training Loss: 0.041275233529357976 Test Loss: 0.04567388661516437\n",
      "Epoch: 3880 Training Loss: 0.04127324388190944 Test Loss: 0.04563901297088601\n",
      "Epoch: 3890 Training Loss: 0.041270917975670514 Test Loss: 0.04563888739562855\n",
      "Epoch: 3900 Training Loss: 0.041269578521567714 Test Loss: 0.04561936183837355\n",
      "Epoch: 3910 Training Loss: 0.04126834929337545 Test Loss: 0.04560118970333789\n",
      "Epoch: 3920 Training Loss: 0.041267456323973585 Test Loss: 0.04561163477419761\n",
      "Epoch: 3930 Training Loss: 0.041266080592988835 Test Loss: 0.045618611177390044\n",
      "Epoch: 3940 Training Loss: 0.0412650801882058 Test Loss: 0.04562036364987198\n",
      "Epoch: 3950 Training Loss: 0.04126468532829841 Test Loss: 0.045601856647483084\n",
      "Epoch: 3960 Training Loss: 0.041265060654500134 Test Loss: 0.04559602437441421\n",
      "Epoch: 3970 Training Loss: 0.04126481229738524 Test Loss: 0.04559517883434728\n",
      "Epoch: 3980 Training Loss: 0.04126333610734278 Test Loss: 0.0455966550412628\n",
      "Epoch: 3990 Training Loss: 0.041262591035998095 Test Loss: 0.04560420909063957\n",
      "Epoch: 4000 Training Loss: 0.04126215710867938 Test Loss: 0.04560879398281764\n",
      "Epoch: 4010 Training Loss: 0.041262482205352245 Test Loss: 0.04559827077624217\n",
      "Epoch: 4020 Training Loss: 0.04126189619418227 Test Loss: 0.045614520214557995\n",
      "Epoch: 4030 Training Loss: 0.0412615417969509 Test Loss: 0.04560659502053139\n",
      "Epoch: 4040 Training Loss: 0.041261186004454845 Test Loss: 0.04560366214062929\n",
      "Epoch: 4050 Training Loss: 0.04126048976737433 Test Loss: 0.04558059536111381\n",
      "Epoch: 4060 Training Loss: 0.041260259548700405 Test Loss: 0.045595996468801435\n",
      "Epoch: 4070 Training Loss: 0.04125966795647167 Test Loss: 0.04558315151524352\n",
      "Epoch: 4080 Training Loss: 0.04125954517317892 Test Loss: 0.04560861259633464\n",
      "Epoch: 4090 Training Loss: 0.04125938332247483 Test Loss: 0.04560136550869834\n",
      "Epoch: 4100 Training Loss: 0.04125932472135783 Test Loss: 0.045591450644481245\n",
      "Epoch: 4110 Training Loss: 0.04125937634615137 Test Loss: 0.045612946337997784\n",
      "Epoch: 4120 Training Loss: 0.041259386113004205 Test Loss: 0.04560157480079411\n",
      "Epoch: 4130 Training Loss: 0.04125891032774477 Test Loss: 0.04559415469835863\n",
      "Epoch: 4140 Training Loss: 0.04125862848427731 Test Loss: 0.045570150290254095\n",
      "Epoch: 4150 Training Loss: 0.04125852662995491 Test Loss: 0.045586274153312456\n",
      "Epoch: 4160 Training Loss: 0.04125850570098455 Test Loss: 0.04559459002591784\n",
      "Epoch: 4170 Training Loss: 0.041258015963078216 Test Loss: 0.04560846190602568\n",
      "Epoch: 4180 Training Loss: 0.04125786108869758 Test Loss: 0.04560065112501143\n",
      "Epoch: 4190 Training Loss: 0.04125772574802261 Test Loss: 0.04557980005114987\n",
      "Epoch: 4200 Training Loss: 0.041257280658586366 Test Loss: 0.04556412267789583\n"
     ]
    },
    {
     "name": "stdout",
     "output_type": "stream",
     "text": [
      "Epoch: 4210 Training Loss: 0.04125718159479334 Test Loss: 0.045591671098822124\n",
      "Epoch: 4220 Training Loss: 0.041257174618469894 Test Loss: 0.0455875773454288\n",
      "Epoch: 4230 Training Loss: 0.04125650628668318 Test Loss: 0.04558798755793652\n",
      "Epoch: 4240 Training Loss: 0.04125622165268634 Test Loss: 0.045579476346041745\n",
      "Epoch: 4250 Training Loss: 0.041256504891418494 Test Loss: 0.045577804799836835\n",
      "Epoch: 4260 Training Loss: 0.04125654814462389 Test Loss: 0.045585537445135334\n",
      "Epoch: 4270 Training Loss: 0.041255966319247994 Test Loss: 0.04558001213380692\n",
      "Epoch: 4280 Training Loss: 0.04125564819889858 Test Loss: 0.04558809638982632\n",
      "Epoch: 4290 Training Loss: 0.04125573610057407 Test Loss: 0.04558347801091293\n",
      "Epoch: 4300 Training Loss: 0.041255285430079065 Test Loss: 0.04559219572434219\n",
      "Epoch: 4310 Training Loss: 0.04125541239916589 Test Loss: 0.0456001823107169\n",
      "Epoch: 4320 Training Loss: 0.04125505381614046 Test Loss: 0.04559022279751938\n",
      "Epoch: 4330 Training Loss: 0.04125510404566931 Test Loss: 0.04557976098329199\n",
      "Epoch: 4340 Training Loss: 0.04125486824593663 Test Loss: 0.04559005257328148\n",
      "Epoch: 4350 Training Loss: 0.041254866850671944 Test Loss: 0.04558271897824559\n",
      "Epoch: 4360 Training Loss: 0.04125476081055547 Test Loss: 0.04559023675032576\n",
      "Epoch: 4370 Training Loss: 0.04125483475958406 Test Loss: 0.04559684758999091\n",
      "Epoch: 4380 Training Loss: 0.041254251538943465 Test Loss: 0.0455959880971176\n",
      "Epoch: 4390 Training Loss: 0.04125478173952583 Test Loss: 0.04558566022983152\n",
      "Epoch: 4400 Training Loss: 0.041254597564586694 Test Loss: 0.04558506584027953\n",
      "Epoch: 4410 Training Loss: 0.0412550328871701 Test Loss: 0.04561030367646849\n",
      "Epoch: 4420 Training Loss: 0.04125397109074069 Test Loss: 0.045603673302874397\n",
      "Epoch: 4430 Training Loss: 0.04125394318544688 Test Loss: 0.04559044604242153\n",
      "Epoch: 4440 Training Loss: 0.04125416224200328 Test Loss: 0.04558897541662857\n",
      "Epoch: 4450 Training Loss: 0.041253718547831726 Test Loss: 0.04559637598513511\n",
      "Epoch: 4460 Training Loss: 0.04125364599406783 Test Loss: 0.04559902422778695\n",
      "Epoch: 4470 Training Loss: 0.04125442873755915 Test Loss: 0.04561066086831194\n",
      "Epoch: 4480 Training Loss: 0.04125389574644741 Test Loss: 0.04562854836609735\n",
      "Epoch: 4490 Training Loss: 0.04125427944423728 Test Loss: 0.04559748662852334\n",
      "Epoch: 4500 Training Loss: 0.041254568264028194 Test Loss: 0.04562454670122617\n",
      "Epoch: 4510 Training Loss: 0.04125467709467404 Test Loss: 0.045620985945036746\n",
      "Epoch: 4520 Training Loss: 0.04125423060997311 Test Loss: 0.04561949299475357\n",
      "Epoch: 4530 Training Loss: 0.04125394318544688 Test Loss: 0.04558439610557305\n",
      "Epoch: 4540 Training Loss: 0.041253749243654915 Test Loss: 0.045618092132992526\n",
      "Epoch: 4550 Training Loss: 0.04125384830744794 Test Loss: 0.04558255712569152\n",
      "Epoch: 4560 Training Loss: 0.04125380365897784 Test Loss: 0.04559806985583023\n",
      "Epoch: 4570 Training Loss: 0.041253436704364266 Test Loss: 0.04559940095355935\n",
      "Epoch: 4580 Training Loss: 0.04125353018709852 Test Loss: 0.04559128879192718\n",
      "Epoch: 4590 Training Loss: 0.04125379807791908 Test Loss: 0.04559338171288491\n",
      "Epoch: 4600 Training Loss: 0.041253694828331994 Test Loss: 0.045604086305943384\n",
      "Epoch: 4610 Training Loss: 0.041253611112450565 Test Loss: 0.045576094185774046\n",
      "Epoch: 4620 Training Loss: 0.041253736686272705 Test Loss: 0.04558121207515602\n",
      "Epoch: 4630 Training Loss: 0.04125347577177559 Test Loss: 0.045602604517905314\n",
      "Epoch: 4640 Training Loss: 0.04125316602301432 Test Loss: 0.04559352124094876\n",
      "Epoch: 4650 Training Loss: 0.04125344228542303 Test Loss: 0.045602169190346105\n",
      "Epoch: 4660 Training Loss: 0.04125327345839548 Test Loss: 0.04560413932660765\n",
      "Epoch: 4670 Training Loss: 0.041253486933893115 Test Loss: 0.04558730945154621\n",
      "Epoch: 4680 Training Loss: 0.04125394458071158 Test Loss: 0.045579515413899624\n",
      "Epoch: 4690 Training Loss: 0.041253682270949776 Test Loss: 0.04558443517343093\n",
      "Epoch: 4700 Training Loss: 0.041253647389332515 Test Loss: 0.04559911631630909\n",
      "Epoch: 4710 Training Loss: 0.04125377435841934 Test Loss: 0.04558544814717447\n",
      "Epoch: 4720 Training Loss: 0.041253616693509326 Test Loss: 0.04559525697006304\n",
      "Epoch: 4730 Training Loss: 0.04125304044919218 Test Loss: 0.045564647303415896\n",
      "Epoch: 4740 Training Loss: 0.04125329299210115 Test Loss: 0.04560061763827611\n",
      "Epoch: 4750 Training Loss: 0.041253281829983626 Test Loss: 0.045567047186114096\n",
      "Epoch: 4760 Training Loss: 0.04125329578263053 Test Loss: 0.04559225990725157\n",
      "Epoch: 4770 Training Loss: 0.04125336415060036 Test Loss: 0.045611871971906144\n",
      "Epoch: 4780 Training Loss: 0.04125345763333462 Test Loss: 0.04559889865252949\n",
      "Epoch: 4790 Training Loss: 0.04125360274086242 Test Loss: 0.045606974536865054\n",
      "Epoch: 4800 Training Loss: 0.04125363901774437 Test Loss: 0.04560085483598465\n",
      "Epoch: 4810 Training Loss: 0.04125368506147916 Test Loss: 0.04559128321080463\n",
      "Epoch: 4820 Training Loss: 0.041253479957569665 Test Loss: 0.04560395514956337\n",
      "Epoch: 4830 Training Loss: 0.041253210671484415 Test Loss: 0.045600386021690115\n",
      "Epoch: 4840 Training Loss: 0.041253276248924865 Test Loss: 0.04558286408743199\n",
      "Epoch: 4850 Training Loss: 0.041252972081222354 Test Loss: 0.04559224037332263\n",
      "Epoch: 4860 Training Loss: 0.04125293161854633 Test Loss: 0.04557461239773598\n",
      "Epoch: 4870 Training Loss: 0.041252951152252 Test Loss: 0.04556711695014602\n",
      "Epoch: 4880 Training Loss: 0.041253048820780326 Test Loss: 0.04558727038368834\n",
      "Epoch: 4890 Training Loss: 0.04125305719236847 Test Loss: 0.04560652525649946\n",
      "Epoch: 4900 Training Loss: 0.04125296231436952 Test Loss: 0.04560815494428522\n",
      "Epoch: 4910 Training Loss: 0.04125306835448599 Test Loss: 0.04558042234631464\n",
      "Epoch: 4920 Training Loss: 0.04125325392468982 Test Loss: 0.04559400958917223\n",
      "Epoch: 4930 Training Loss: 0.041253269272601416 Test Loss: 0.045587158761237256\n",
      "Epoch: 4940 Training Loss: 0.04125325113416044 Test Loss: 0.045589539110006516\n",
      "Epoch: 4950 Training Loss: 0.04125360274086242 Test Loss: 0.045584984914002494\n"
     ]
    },
    {
     "ename": "KeyboardInterrupt",
     "evalue": "",
     "output_type": "error",
     "traceback": [
      "\u001b[1;31m---------------------------------------------------------------------------\u001b[0m",
      "\u001b[1;31mKeyboardInterrupt\u001b[0m                         Traceback (most recent call last)",
      "\u001b[1;32m<ipython-input-26-0ea4af3e8d5b>\u001b[0m in \u001b[0;36m<module>\u001b[1;34m()\u001b[0m\n\u001b[0;32m      9\u001b[0m     \u001b[1;32mfor\u001b[0m \u001b[0mb\u001b[0m \u001b[1;32min\u001b[0m \u001b[0mrange\u001b[0m\u001b[1;33m(\u001b[0m\u001b[1;36m0\u001b[0m\u001b[1;33m,\u001b[0m\u001b[0mx_variable\u001b[0m\u001b[1;33m.\u001b[0m\u001b[0msize\u001b[0m\u001b[1;33m(\u001b[0m\u001b[1;36m0\u001b[0m\u001b[1;33m)\u001b[0m\u001b[1;33m,\u001b[0m\u001b[0mbatch_size\u001b[0m\u001b[1;33m)\u001b[0m\u001b[1;33m:\u001b[0m\u001b[1;33m\u001b[0m\u001b[0m\n\u001b[0;32m     10\u001b[0m         \u001b[0mout\u001b[0m \u001b[1;33m=\u001b[0m \u001b[0mmy_net\u001b[0m\u001b[1;33m(\u001b[0m\u001b[0mx_variable\u001b[0m\u001b[1;33m.\u001b[0m\u001b[0mnarrow\u001b[0m\u001b[1;33m(\u001b[0m\u001b[1;36m0\u001b[0m\u001b[1;33m,\u001b[0m\u001b[0mb\u001b[0m\u001b[1;33m,\u001b[0m\u001b[0mbatch_size\u001b[0m\u001b[1;33m)\u001b[0m\u001b[1;33m)\u001b[0m                 \u001b[1;31m# input x and predict based on x\u001b[0m\u001b[1;33m\u001b[0m\u001b[0m\n\u001b[1;32m---> 11\u001b[1;33m         \u001b[0mloss\u001b[0m \u001b[1;33m=\u001b[0m \u001b[0mloss_func\u001b[0m\u001b[1;33m(\u001b[0m\u001b[0mout\u001b[0m\u001b[1;33m,\u001b[0m \u001b[0my_variable\u001b[0m\u001b[1;33m.\u001b[0m\u001b[0mnarrow\u001b[0m\u001b[1;33m(\u001b[0m\u001b[1;36m0\u001b[0m\u001b[1;33m,\u001b[0m\u001b[0mb\u001b[0m\u001b[1;33m,\u001b[0m\u001b[0mbatch_size\u001b[0m\u001b[1;33m)\u001b[0m\u001b[1;33m)\u001b[0m     \u001b[1;31m# must be (1. nn output, 2. target), the target label is NOT one-hotted\u001b[0m\u001b[1;33m\u001b[0m\u001b[0m\n\u001b[0m\u001b[0;32m     12\u001b[0m         \u001b[1;31m#loss=loss_func.apply(out, y_variable.narrow(0,b,batch_size).resize(batch_size,2))\u001b[0m\u001b[1;33m\u001b[0m\u001b[1;33m\u001b[0m\u001b[0m\n\u001b[0;32m     13\u001b[0m \u001b[1;33m\u001b[0m\u001b[0m\n",
      "\u001b[1;32m~\\AppData\\Local\\Continuum\\Anaconda3\\lib\\site-packages\\torch\\nn\\modules\\module.py\u001b[0m in \u001b[0;36m__call__\u001b[1;34m(self, *input, **kwargs)\u001b[0m\n\u001b[0;32m    355\u001b[0m             \u001b[0mresult\u001b[0m \u001b[1;33m=\u001b[0m \u001b[0mself\u001b[0m\u001b[1;33m.\u001b[0m\u001b[0m_slow_forward\u001b[0m\u001b[1;33m(\u001b[0m\u001b[1;33m*\u001b[0m\u001b[0minput\u001b[0m\u001b[1;33m,\u001b[0m \u001b[1;33m**\u001b[0m\u001b[0mkwargs\u001b[0m\u001b[1;33m)\u001b[0m\u001b[1;33m\u001b[0m\u001b[0m\n\u001b[0;32m    356\u001b[0m         \u001b[1;32melse\u001b[0m\u001b[1;33m:\u001b[0m\u001b[1;33m\u001b[0m\u001b[0m\n\u001b[1;32m--> 357\u001b[1;33m             \u001b[0mresult\u001b[0m \u001b[1;33m=\u001b[0m \u001b[0mself\u001b[0m\u001b[1;33m.\u001b[0m\u001b[0mforward\u001b[0m\u001b[1;33m(\u001b[0m\u001b[1;33m*\u001b[0m\u001b[0minput\u001b[0m\u001b[1;33m,\u001b[0m \u001b[1;33m**\u001b[0m\u001b[0mkwargs\u001b[0m\u001b[1;33m)\u001b[0m\u001b[1;33m\u001b[0m\u001b[0m\n\u001b[0m\u001b[0;32m    358\u001b[0m         \u001b[1;32mfor\u001b[0m \u001b[0mhook\u001b[0m \u001b[1;32min\u001b[0m \u001b[0mself\u001b[0m\u001b[1;33m.\u001b[0m\u001b[0m_forward_hooks\u001b[0m\u001b[1;33m.\u001b[0m\u001b[0mvalues\u001b[0m\u001b[1;33m(\u001b[0m\u001b[1;33m)\u001b[0m\u001b[1;33m:\u001b[0m\u001b[1;33m\u001b[0m\u001b[0m\n\u001b[0;32m    359\u001b[0m             \u001b[0mhook_result\u001b[0m \u001b[1;33m=\u001b[0m \u001b[0mhook\u001b[0m\u001b[1;33m(\u001b[0m\u001b[0mself\u001b[0m\u001b[1;33m,\u001b[0m \u001b[0minput\u001b[0m\u001b[1;33m,\u001b[0m \u001b[0mresult\u001b[0m\u001b[1;33m)\u001b[0m\u001b[1;33m\u001b[0m\u001b[0m\n",
      "\u001b[1;32m~\\AppData\\Local\\Continuum\\Anaconda3\\lib\\site-packages\\torch\\nn\\modules\\loss.py\u001b[0m in \u001b[0;36mforward\u001b[1;34m(self, input, target)\u001b[0m\n\u001b[0;32m    377\u001b[0m     \u001b[1;32mdef\u001b[0m \u001b[0mforward\u001b[0m\u001b[1;33m(\u001b[0m\u001b[0mself\u001b[0m\u001b[1;33m,\u001b[0m \u001b[0minput\u001b[0m\u001b[1;33m,\u001b[0m \u001b[0mtarget\u001b[0m\u001b[1;33m)\u001b[0m\u001b[1;33m:\u001b[0m\u001b[1;33m\u001b[0m\u001b[0m\n\u001b[0;32m    378\u001b[0m         \u001b[0m_assert_no_grad\u001b[0m\u001b[1;33m(\u001b[0m\u001b[0mtarget\u001b[0m\u001b[1;33m)\u001b[0m\u001b[1;33m\u001b[0m\u001b[0m\n\u001b[1;32m--> 379\u001b[1;33m         \u001b[1;32mreturn\u001b[0m \u001b[0mF\u001b[0m\u001b[1;33m.\u001b[0m\u001b[0mmse_loss\u001b[0m\u001b[1;33m(\u001b[0m\u001b[0minput\u001b[0m\u001b[1;33m,\u001b[0m \u001b[0mtarget\u001b[0m\u001b[1;33m,\u001b[0m \u001b[0msize_average\u001b[0m\u001b[1;33m=\u001b[0m\u001b[0mself\u001b[0m\u001b[1;33m.\u001b[0m\u001b[0msize_average\u001b[0m\u001b[1;33m,\u001b[0m \u001b[0mreduce\u001b[0m\u001b[1;33m=\u001b[0m\u001b[0mself\u001b[0m\u001b[1;33m.\u001b[0m\u001b[0mreduce\u001b[0m\u001b[1;33m)\u001b[0m\u001b[1;33m\u001b[0m\u001b[0m\n\u001b[0m\u001b[0;32m    380\u001b[0m \u001b[1;33m\u001b[0m\u001b[0m\n\u001b[0;32m    381\u001b[0m \u001b[1;33m\u001b[0m\u001b[0m\n",
      "\u001b[1;32m~\\AppData\\Local\\Continuum\\Anaconda3\\lib\\site-packages\\torch\\nn\\functional.py\u001b[0m in \u001b[0;36mmse_loss\u001b[1;34m(input, target, size_average, reduce)\u001b[0m\n\u001b[0;32m   1280\u001b[0m     \"\"\"\n\u001b[0;32m   1281\u001b[0m     return _pointwise_loss(lambda a, b: (a - b) ** 2, torch._C._nn.mse_loss,\n\u001b[1;32m-> 1282\u001b[1;33m                            input, target, size_average, reduce)\n\u001b[0m\u001b[0;32m   1283\u001b[0m \u001b[1;33m\u001b[0m\u001b[0m\n\u001b[0;32m   1284\u001b[0m \u001b[1;33m\u001b[0m\u001b[0m\n",
      "\u001b[1;32m~\\AppData\\Local\\Continuum\\Anaconda3\\lib\\site-packages\\torch\\nn\\functional.py\u001b[0m in \u001b[0;36m_pointwise_loss\u001b[1;34m(lambd, lambd_optimized, input, target, size_average, reduce)\u001b[0m\n\u001b[0;32m   1246\u001b[0m         \u001b[1;32mreturn\u001b[0m \u001b[0mtorch\u001b[0m\u001b[1;33m.\u001b[0m\u001b[0mmean\u001b[0m\u001b[1;33m(\u001b[0m\u001b[0md\u001b[0m\u001b[1;33m)\u001b[0m \u001b[1;32mif\u001b[0m \u001b[0msize_average\u001b[0m \u001b[1;32melse\u001b[0m \u001b[0mtorch\u001b[0m\u001b[1;33m.\u001b[0m\u001b[0msum\u001b[0m\u001b[1;33m(\u001b[0m\u001b[0md\u001b[0m\u001b[1;33m)\u001b[0m\u001b[1;33m\u001b[0m\u001b[0m\n\u001b[0;32m   1247\u001b[0m     \u001b[1;32melse\u001b[0m\u001b[1;33m:\u001b[0m\u001b[1;33m\u001b[0m\u001b[0m\n\u001b[1;32m-> 1248\u001b[1;33m         \u001b[1;32mreturn\u001b[0m \u001b[0mlambd_optimized\u001b[0m\u001b[1;33m(\u001b[0m\u001b[0minput\u001b[0m\u001b[1;33m,\u001b[0m \u001b[0mtarget\u001b[0m\u001b[1;33m,\u001b[0m \u001b[0msize_average\u001b[0m\u001b[1;33m,\u001b[0m \u001b[0mreduce\u001b[0m\u001b[1;33m)\u001b[0m\u001b[1;33m\u001b[0m\u001b[0m\n\u001b[0m\u001b[0;32m   1249\u001b[0m \u001b[1;33m\u001b[0m\u001b[0m\n\u001b[0;32m   1250\u001b[0m \u001b[1;33m\u001b[0m\u001b[0m\n",
      "\u001b[1;31mKeyboardInterrupt\u001b[0m: "
     ]
    }
   ],
   "source": [
    "batch_size=int(x_variable.size()[0]/2 )\n",
    "nb_of_epochs=13000\n",
    "my_net.cuda()\n",
    "\n",
    "# Train the network #\n",
    "my_net.train()\n",
    "for t in range(nb_of_epochs):\n",
    "    sum_loss=0\n",
    "    for b in range(0,x_variable.size(0),batch_size):\n",
    "        out = my_net(x_variable.narrow(0,b,batch_size))                 # input x and predict based on x\n",
    "        loss = loss_func(out, y_variable.narrow(0,b,batch_size))     # must be (1. nn output, 2. target), the target label is NOT one-hotted\n",
    "        #loss=loss_func.apply(out, y_variable.narrow(0,b,batch_size).resize(batch_size,2))\n",
    "\n",
    "        sum_loss+=loss.data[0]\n",
    "        optimizer.zero_grad()   # clear gradients for next train\n",
    "        loss.backward()         # backpropagation, compute gradients\n",
    "        #print(t,loss.data[0])\n",
    "        optimizer.step()        # apply gradients\n",
    "    if t%10==0:\n",
    "        my_net.eval()\n",
    "        test_loss=loss_func(my_net(x_variable_test),y_variable_test).data[0]\n",
    "        my_net.train()\n",
    "        print(\"Epoch:\",t,\"Training Loss:\",sum_loss/(x_variable.size(0)),\"Test Loss:\",test_loss/x_variable_test.size(0))"
   ]
  },
  {
   "cell_type": "code",
   "execution_count": null,
   "metadata": {},
   "outputs": [],
   "source": []
  },
  {
   "cell_type": "code",
   "execution_count": 27,
   "metadata": {},
   "outputs": [],
   "source": [
    "contour1=np.delete(polygons_reshaped[311],24)\n",
    "\n",
    "contour1=polygons[10].reshape(12,2)"
   ]
  },
  {
   "cell_type": "code",
   "execution_count": 28,
   "metadata": {},
   "outputs": [
    {
     "name": "stdout",
     "output_type": "stream",
     "text": [
      "13 0.00646368949978321 -0.1199108451461814 0\n"
     ]
    }
   ],
   "source": [
    "\n",
    "\n",
    "nb_of_inserted_points,inserted_point_coordinates=get_extrapoints_target_length(contour1,.9)\n",
    "inserted_point_coordinates=np.array(inserted_point_coordinates)\n",
    "\n"
   ]
  },
  {
   "cell_type": "code",
   "execution_count": 29,
   "metadata": {},
   "outputs": [
    {
     "data": {
      "text/plain": [
       "<matplotlib.collections.PathCollection at 0x24214519c88>"
      ]
     },
     "execution_count": 29,
     "metadata": {},
     "output_type": "execute_result"
    },
    {
     "data": {
      "image/png": "[encoded data removed]",
      "text/plain": [
       "<Figure size 432x288 with 1 Axes>"
      ]
     },
     "metadata": {},
     "output_type": "display_data"
    }
   ],
   "source": [
    "plot_contour(contour1)\n",
    "plt.scatter(inserted_point_coordinates[:,0],inserted_point_coordinates[:,1])"
   ]
  },
  {
   "cell_type": "code",
   "execution_count": 30,
   "metadata": {},
   "outputs": [
    {
     "data": {
      "text/plain": [
       "Net(\n",
       "  (bn_input): BatchNorm1d(22, eps=1e-05, momentum=0.5, affine=True)\n",
       "  (fc0): Linear(in_features=22, out_features=20, bias=True)\n",
       "  (bn0): BatchNorm1d(20, eps=1e-05, momentum=0.5, affine=True)\n",
       "  (predict): Linear(in_features=20, out_features=2, bias=True)\n",
       "  (fc1): Linear(in_features=20, out_features=20, bias=True)\n",
       "  (bn1): BatchNorm1d(20, eps=1e-05, momentum=0.5, affine=True)\n",
       ")"
      ]
     },
     "execution_count": 30,
     "metadata": {},
     "output_type": "execute_result"
    }
   ],
   "source": [
    "my_net.eval()\n",
    "#torch.cuda.empty_cache()"
   ]
  },
  {
   "cell_type": "code",
   "execution_count": 31,
   "metadata": {},
   "outputs": [],
   "source": [
    "predictions=my_net(x_variable).cpu()"
   ]
  },
  {
   "cell_type": "code",
   "execution_count": 32,
   "metadata": {},
   "outputs": [],
   "source": [
    "predicted_inserted_points=predictions.data.numpy()[10]"
   ]
  },
  {
   "cell_type": "code",
   "execution_count": 33,
   "metadata": {},
   "outputs": [],
   "source": [
    "predicted_inserted_points=predicted_inserted_points.reshape(1,2)"
   ]
  },
  {
   "cell_type": "code",
   "execution_count": 34,
   "metadata": {},
   "outputs": [
    {
     "data": {
      "image/png": "[encoded data removed]",
      "text/plain": [
       "<Figure size 432x288 with 1 Axes>"
      ]
     },
     "metadata": {},
     "output_type": "display_data"
    }
   ],
   "source": [
    "plt.scatter(predicted_inserted_points[:,0],predicted_inserted_points[:,1],label='Predicted points')\n",
    "plt.scatter(inserted_point_coordinates[:,0],inserted_point_coordinates[:,1],label='Original points')\n",
    "#plt.scatter(polygons_reshaped[3112][0::2].sum()/12,polygons_reshaped[312][1::2].sum()/12,label='Original points')\n",
    "plot_contour(contour1)\n",
    "plt.legend()\n",
    "original_points=point_coordinates.reshape(218722,2)\n",
    "#plt.scatter(original_points[:,0],original_points[:,1],label='Original points')\n"
   ]
  },
  {
   "cell_type": "raw",
   "metadata": {
    "scrolled": false
   },
   "source": [
    "plt.scatter(centers_of_mass[10][0],centers_of_mass[10][1],label='Original points'\n",
    "           )\n",
    "plot_contour(polygons[2])\n",
    "plt.legend()\n",
    "\n",
    "\n",
    "from scipy.spatial import ConvexHull\n",
    "points=centers_of_mass\n",
    "hull=ConvexHull(points)\n",
    "hull2=ConvexHull(original_points)\n",
    "\n",
    "import matplotlib.pyplot as plt\n",
    "#plt.plot(points[:,0], points[:,1], 'o')\n",
    "for simplex in hull.simplices:\n",
    "    plt.plot(points[simplex, 0], points[simplex, 1], 'k-')\n",
    "for simplex in hull2.simplices:\n",
    "    plt.plot(original_points[simplex, 0], original_points[simplex, 1], 'k-')\n",
    "\n",
    "    \n",
    "    \n",
    "convex_points=centers_of_mass[hull.vertices]\n",
    "convex_points2=original_points[hull2.vertices]\n",
    "\n",
    "distances=np.empty([convex_points.shape[0],convex_points.shape[0]])    \n",
    "distances2=np.empty([convex_points2.shape[0],convex_points2.shape[0]])    \n",
    "\n",
    "    \n",
    "for i,point_i in enumerate(convex_points):\n",
    "    for j,point_j in enumerate(convex_points):\n",
    "        distances[i][j]=np.linalg.norm(point_i-point_j)\n",
    "for i,point_i in enumerate(convex_points2):\n",
    "    for j,point_j in enumerate(convex_points2):\n",
    "        distances2[i][j]=np.linalg.norm(point_i-point_j)\n",
    "        \n",
    "def max_element(A):\n",
    "    r, (c, l) = max(map(lambda t: (t[0], max(enumerate(t[1]), key=lambda v: v[1])), enumerate(A)), key=lambda v: v[1][1])\n",
    "    return (l, r, c)\n",
    "\n",
    "print(max_element(distances))\n",
    "print(max_element(distances2))\n",
    "\n",
    "maximum_distance_points=convex_points[[0,11]]\n",
    "maximum_distance_points2=convex_points2[[3,11]]\n",
    "\n",
    "plt.plot(maximum_distance_points[:,0],maximum_distance_points[:,1])\n",
    "plt.plot(maximum_distance_points2[:,0],maximum_distance_points2[:,1])\n",
    "1.8508252250365/0.6108970818704328"
   ]
  },
  {
   "cell_type": "markdown",
   "metadata": {},
   "source": [
    "distances=[np.linalg.norm(i-j) for i in centers_of_mass for j in predicted_inserted_points]\n",
    "distances=np.array(distances)\n",
    "100*distances.sum()/(x_variable.size(0) *max_distance)"
   ]
  },
  {
   "cell_type": "code",
   "execution_count": null,
   "metadata": {},
   "outputs": [],
   "source": []
  },
  {
   "cell_type": "code",
   "execution_count": 35,
   "metadata": {},
   "outputs": [],
   "source": [
    "x_variable,x_variable_test=x_variable.resize(x_variable.size()[0],1,25),Variable(x_tensor_test.view(x_variable_test.size()[0],1,25),volatile=True)"
   ]
  },
  {
   "cell_type": "code",
   "execution_count": 36,
   "metadata": {},
   "outputs": [],
   "source": [
    "# Using convolution network\n",
    "# O: output dimension\n",
    "# I: Input dimensiion\n",
    "# S: Stride\n",
    "# P: padding\n",
    "# w: kernel size\n",
    "# O=(I-w-2*P)/S+1\n",
    "\n",
    "\n",
    "class Conv_net(nn.Module):\n",
    "    \n",
    "    def __init__(self):\n",
    "        super(Conv_net,self).__init__()\n",
    "        self.conv1=nn.Conv1d(1,14,kernel_size=14,stride=1)\n",
    "        self.conv2=nn.Conv1d(14,28,kernel_size=2,stride=1)\n",
    "\n",
    "        self.bn1=nn.BatchNorm1d(num_features=28*10)\n",
    "        self.fc1=nn.Linear(28*10,12)\n",
    "        \n",
    "        self.bn2=nn.BatchNorm1d(num_features=12)\n",
    "        self.fc2=nn.Linear(12,12)\n",
    "        \n",
    "        self.bn3=nn.BatchNorm1d(num_features=12)\n",
    "        self.fc3=nn.Linear(12,12)\n",
    "        \n",
    "        \n",
    "        self.bn4=nn.BatchNorm1d(num_features=12)\n",
    "        self.fc4=nn.Linear(12,2)\n",
    "        \n",
    "    def forward(self,x):\n",
    "        x=self.conv1(x)\n",
    "\n",
    "        x=F.relu(x)\n",
    "        #x=self.conv2(x)\n",
    "\n",
    "        x=F.relu(F.max_pool1d(self.conv2(x),kernel_size=2,stride=1))\n",
    "        x=F.relu(self.fc1(self.bn1(x.view(-1,28*10))))\n",
    "        x=F.relu(self.fc2(self.bn2(x)))\n",
    "        x=F.relu(self.fc3(self.bn3(x)))\n",
    "\n",
    "        x=self.fc4(self.bn4(x))\n",
    "\n",
    "        return x\n",
    "    \n",
    "        "
   ]
  },
  {
   "cell_type": "code",
   "execution_count": 37,
   "metadata": {},
   "outputs": [],
   "source": [
    "torch.cuda.empty_cache()\n",
    "my_conv_net=Conv_net()\n"
   ]
  },
  {
   "cell_type": "code",
   "execution_count": 38,
   "metadata": {},
   "outputs": [],
   "source": [
    "optimizer = torch.optim.Adam(my_conv_net.parameters(), lr=1e-3,weight_decay=0)\n",
    "\n",
    "#optimizer = torch.optim.SGD(my_net.parameters(), lr=1e-5,weight_decay=.5,momentum=0.9)\n",
    "\n",
    "#loss_func = torch.nn.MSELoss(size_average=False) \n",
    "#loss_func=torch.nn.SmoothL1Loss()\n"
   ]
  },
  {
   "cell_type": "code",
   "execution_count": 39,
   "metadata": {},
   "outputs": [
    {
     "name": "stdout",
     "output_type": "stream",
     "text": [
      "cuda activated\n"
     ]
    }
   ],
   "source": [
    "if  torch.cuda.is_available():\n",
    "    loss_func.cuda()\n",
    "    my_conv_net.cuda()\n",
    "    x_variable , y_variable,x_variable_test,y_variable_test= x_variable.cuda(), y_variable.cuda(),x_variable_test.cuda(),y_variable_test.cuda()\n",
    "    print(\"cuda activated\")\n"
   ]
  },
  {
   "cell_type": "code",
   "execution_count": 40,
   "metadata": {
    "scrolled": true
   },
   "outputs": [
    {
     "ename": "RuntimeError",
     "evalue": "invalid argument 2: size '[-1 x 280]' is invalid for input with 1905316 elements at C:\\Anaconda2\\conda-bld\\pytorch_1519501749874\\work\\torch\\lib\\TH\\THStorage.c:37",
     "output_type": "error",
     "traceback": [
      "\u001b[1;31m---------------------------------------------------------------------------\u001b[0m",
      "\u001b[1;31mRuntimeError\u001b[0m                              Traceback (most recent call last)",
      "\u001b[1;32m<ipython-input-40-930af165e887>\u001b[0m in \u001b[0;36m<module>\u001b[1;34m()\u001b[0m\n\u001b[0;32m      7\u001b[0m     \u001b[0msum_loss\u001b[0m\u001b[1;33m=\u001b[0m\u001b[1;36m0\u001b[0m\u001b[1;33m\u001b[0m\u001b[0m\n\u001b[0;32m      8\u001b[0m     \u001b[1;32mfor\u001b[0m \u001b[0mb\u001b[0m \u001b[1;32min\u001b[0m \u001b[0mrange\u001b[0m\u001b[1;33m(\u001b[0m\u001b[1;36m0\u001b[0m\u001b[1;33m,\u001b[0m\u001b[0mx_variable\u001b[0m\u001b[1;33m.\u001b[0m\u001b[0msize\u001b[0m\u001b[1;33m(\u001b[0m\u001b[1;36m0\u001b[0m\u001b[1;33m)\u001b[0m\u001b[1;33m,\u001b[0m\u001b[0mbatch_size\u001b[0m\u001b[1;33m)\u001b[0m\u001b[1;33m:\u001b[0m\u001b[1;33m\u001b[0m\u001b[0m\n\u001b[1;32m----> 9\u001b[1;33m         \u001b[0mout\u001b[0m \u001b[1;33m=\u001b[0m \u001b[0mmy_conv_net\u001b[0m\u001b[1;33m(\u001b[0m\u001b[0mx_variable\u001b[0m\u001b[1;33m.\u001b[0m\u001b[0mnarrow\u001b[0m\u001b[1;33m(\u001b[0m\u001b[1;36m0\u001b[0m\u001b[1;33m,\u001b[0m\u001b[0mb\u001b[0m\u001b[1;33m,\u001b[0m\u001b[0mbatch_size\u001b[0m\u001b[1;33m)\u001b[0m\u001b[1;33m)\u001b[0m                 \u001b[1;31m# input x and predict based on x\u001b[0m\u001b[1;33m\u001b[0m\u001b[0m\n\u001b[0m\u001b[0;32m     10\u001b[0m         \u001b[0mloss\u001b[0m \u001b[1;33m=\u001b[0m \u001b[0mloss_func\u001b[0m\u001b[1;33m(\u001b[0m\u001b[0mout\u001b[0m\u001b[1;33m,\u001b[0m \u001b[0my_variable\u001b[0m\u001b[1;33m.\u001b[0m\u001b[0mnarrow\u001b[0m\u001b[1;33m(\u001b[0m\u001b[1;36m0\u001b[0m\u001b[1;33m,\u001b[0m\u001b[0mb\u001b[0m\u001b[1;33m,\u001b[0m\u001b[0mbatch_size\u001b[0m\u001b[1;33m)\u001b[0m\u001b[1;33m)\u001b[0m     \u001b[1;31m# must be (1. nn output, 2. target), the target label is NOT one-hotted\u001b[0m\u001b[1;33m\u001b[0m\u001b[0m\n\u001b[0;32m     11\u001b[0m         \u001b[1;31m#loss=loss_func.apply(out, y_variable.narrow(0,b,batch_size))\u001b[0m\u001b[1;33m\u001b[0m\u001b[1;33m\u001b[0m\u001b[0m\n",
      "\u001b[1;32m~\\AppData\\Local\\Continuum\\Anaconda3\\lib\\site-packages\\torch\\nn\\modules\\module.py\u001b[0m in \u001b[0;36m__call__\u001b[1;34m(self, *input, **kwargs)\u001b[0m\n\u001b[0;32m    355\u001b[0m             \u001b[0mresult\u001b[0m \u001b[1;33m=\u001b[0m \u001b[0mself\u001b[0m\u001b[1;33m.\u001b[0m\u001b[0m_slow_forward\u001b[0m\u001b[1;33m(\u001b[0m\u001b[1;33m*\u001b[0m\u001b[0minput\u001b[0m\u001b[1;33m,\u001b[0m \u001b[1;33m**\u001b[0m\u001b[0mkwargs\u001b[0m\u001b[1;33m)\u001b[0m\u001b[1;33m\u001b[0m\u001b[0m\n\u001b[0;32m    356\u001b[0m         \u001b[1;32melse\u001b[0m\u001b[1;33m:\u001b[0m\u001b[1;33m\u001b[0m\u001b[0m\n\u001b[1;32m--> 357\u001b[1;33m             \u001b[0mresult\u001b[0m \u001b[1;33m=\u001b[0m \u001b[0mself\u001b[0m\u001b[1;33m.\u001b[0m\u001b[0mforward\u001b[0m\u001b[1;33m(\u001b[0m\u001b[1;33m*\u001b[0m\u001b[0minput\u001b[0m\u001b[1;33m,\u001b[0m \u001b[1;33m**\u001b[0m\u001b[0mkwargs\u001b[0m\u001b[1;33m)\u001b[0m\u001b[1;33m\u001b[0m\u001b[0m\n\u001b[0m\u001b[0;32m    358\u001b[0m         \u001b[1;32mfor\u001b[0m \u001b[0mhook\u001b[0m \u001b[1;32min\u001b[0m \u001b[0mself\u001b[0m\u001b[1;33m.\u001b[0m\u001b[0m_forward_hooks\u001b[0m\u001b[1;33m.\u001b[0m\u001b[0mvalues\u001b[0m\u001b[1;33m(\u001b[0m\u001b[1;33m)\u001b[0m\u001b[1;33m:\u001b[0m\u001b[1;33m\u001b[0m\u001b[0m\n\u001b[0;32m    359\u001b[0m             \u001b[0mhook_result\u001b[0m \u001b[1;33m=\u001b[0m \u001b[0mhook\u001b[0m\u001b[1;33m(\u001b[0m\u001b[0mself\u001b[0m\u001b[1;33m,\u001b[0m \u001b[0minput\u001b[0m\u001b[1;33m,\u001b[0m \u001b[0mresult\u001b[0m\u001b[1;33m)\u001b[0m\u001b[1;33m\u001b[0m\u001b[0m\n",
      "\u001b[1;32m<ipython-input-36-25cc40eabcd0>\u001b[0m in \u001b[0;36mforward\u001b[1;34m(self, x)\u001b[0m\n\u001b[0;32m     35\u001b[0m \u001b[1;33m\u001b[0m\u001b[0m\n\u001b[0;32m     36\u001b[0m         \u001b[0mx\u001b[0m\u001b[1;33m=\u001b[0m\u001b[0mF\u001b[0m\u001b[1;33m.\u001b[0m\u001b[0mrelu\u001b[0m\u001b[1;33m(\u001b[0m\u001b[0mF\u001b[0m\u001b[1;33m.\u001b[0m\u001b[0mmax_pool1d\u001b[0m\u001b[1;33m(\u001b[0m\u001b[0mself\u001b[0m\u001b[1;33m.\u001b[0m\u001b[0mconv2\u001b[0m\u001b[1;33m(\u001b[0m\u001b[0mx\u001b[0m\u001b[1;33m)\u001b[0m\u001b[1;33m,\u001b[0m\u001b[0mkernel_size\u001b[0m\u001b[1;33m=\u001b[0m\u001b[1;36m2\u001b[0m\u001b[1;33m,\u001b[0m\u001b[0mstride\u001b[0m\u001b[1;33m=\u001b[0m\u001b[1;36m1\u001b[0m\u001b[1;33m)\u001b[0m\u001b[1;33m)\u001b[0m\u001b[1;33m\u001b[0m\u001b[0m\n\u001b[1;32m---> 37\u001b[1;33m         \u001b[0mx\u001b[0m\u001b[1;33m=\u001b[0m\u001b[0mF\u001b[0m\u001b[1;33m.\u001b[0m\u001b[0mrelu\u001b[0m\u001b[1;33m(\u001b[0m\u001b[0mself\u001b[0m\u001b[1;33m.\u001b[0m\u001b[0mfc1\u001b[0m\u001b[1;33m(\u001b[0m\u001b[0mself\u001b[0m\u001b[1;33m.\u001b[0m\u001b[0mbn1\u001b[0m\u001b[1;33m(\u001b[0m\u001b[0mx\u001b[0m\u001b[1;33m.\u001b[0m\u001b[0mview\u001b[0m\u001b[1;33m(\u001b[0m\u001b[1;33m-\u001b[0m\u001b[1;36m1\u001b[0m\u001b[1;33m,\u001b[0m\u001b[1;36m28\u001b[0m\u001b[1;33m*\u001b[0m\u001b[1;36m10\u001b[0m\u001b[1;33m)\u001b[0m\u001b[1;33m)\u001b[0m\u001b[1;33m)\u001b[0m\u001b[1;33m)\u001b[0m\u001b[1;33m\u001b[0m\u001b[0m\n\u001b[0m\u001b[0;32m     38\u001b[0m         \u001b[0mx\u001b[0m\u001b[1;33m=\u001b[0m\u001b[0mF\u001b[0m\u001b[1;33m.\u001b[0m\u001b[0mrelu\u001b[0m\u001b[1;33m(\u001b[0m\u001b[0mself\u001b[0m\u001b[1;33m.\u001b[0m\u001b[0mfc2\u001b[0m\u001b[1;33m(\u001b[0m\u001b[0mself\u001b[0m\u001b[1;33m.\u001b[0m\u001b[0mbn2\u001b[0m\u001b[1;33m(\u001b[0m\u001b[0mx\u001b[0m\u001b[1;33m)\u001b[0m\u001b[1;33m)\u001b[0m\u001b[1;33m)\u001b[0m\u001b[1;33m\u001b[0m\u001b[0m\n\u001b[0;32m     39\u001b[0m         \u001b[0mx\u001b[0m\u001b[1;33m=\u001b[0m\u001b[0mF\u001b[0m\u001b[1;33m.\u001b[0m\u001b[0mrelu\u001b[0m\u001b[1;33m(\u001b[0m\u001b[0mself\u001b[0m\u001b[1;33m.\u001b[0m\u001b[0mfc3\u001b[0m\u001b[1;33m(\u001b[0m\u001b[0mself\u001b[0m\u001b[1;33m.\u001b[0m\u001b[0mbn3\u001b[0m\u001b[1;33m(\u001b[0m\u001b[0mx\u001b[0m\u001b[1;33m)\u001b[0m\u001b[1;33m)\u001b[0m\u001b[1;33m)\u001b[0m\u001b[1;33m\u001b[0m\u001b[0m\n",
      "\u001b[1;31mRuntimeError\u001b[0m: invalid argument 2: size '[-1 x 280]' is invalid for input with 1905316 elements at C:\\Anaconda2\\conda-bld\\pytorch_1519501749874\\work\\torch\\lib\\TH\\THStorage.c:37"
     ]
    }
   ],
   "source": [
    "\n",
    "batch_size=int(x_variable.size()[0]/18 )\n",
    "nb_of_epochs=13000\n",
    "# Train the network #\n",
    "my_conv_net.train()\n",
    "for t in range(nb_of_epochs):\n",
    "    sum_loss=0\n",
    "    for b in range(0,x_variable.size(0),batch_size):\n",
    "        out = my_conv_net(x_variable.narrow(0,b,batch_size))                 # input x and predict based on x\n",
    "        loss = loss_func(out, y_variable.narrow(0,b,batch_size))     # must be (1. nn output, 2. target), the target label is NOT one-hotted\n",
    "        #loss=loss_func.apply(out, y_variable.narrow(0,b,batch_size))\n",
    "        #loss=torch.sqrt((out[0]-y_variable.narrow(0,b,batch_size)[0]).pow(2)+(out[1]-y_variable.narrow(0,b,batch_size)[1]).pow(2)) \n",
    "        sum_loss+=loss.data[0]\n",
    "        optimizer.zero_grad()   # clear gradients for next train\n",
    "        loss.backward()         # backpropagation, compute gradients\n",
    "        #print(t,loss.data[0])\n",
    "        optimizer.step()        # apply gradients\n",
    "    if t%10==0:\n",
    "        my_conv_net.eval()\n",
    "        test_loss=loss_func(my_conv_net(x_variable_test),y_variable_test).data[0]\n",
    "        my_conv_net.train()\n",
    "        print(\"Epoch:\",t,\"Training Loss:\",sum_loss/x_variable.size(0),\"Test Loss:\",test_loss/x_variable_test.size(0))"
   ]
  },
  {
   "cell_type": "code",
   "execution_count": 50,
   "metadata": {},
   "outputs": [],
   "source": [
    "x_variable=x_variable.cpu()\n",
    "my_conv_net=my_conv_net.cpu()"
   ]
  },
  {
   "cell_type": "code",
   "execution_count": null,
   "metadata": {},
   "outputs": [],
   "source": []
  },
  {
   "cell_type": "code",
   "execution_count": 53,
   "metadata": {},
   "outputs": [
    {
     "name": "stdout",
     "output_type": "stream",
     "text": [
      "found 1 extra points\n",
      "13 -0.1925145994756827 -0.0867447465103373 0\n"
     ]
    },
    {
     "data": {
      "text/plain": [
       "<matplotlib.legend.Legend at 0x1f958d13940>"
      ]
     },
     "execution_count": 53,
     "metadata": {},
     "output_type": "execute_result"
    },
    {
     "data": {
      "image/png": "[encoded data removed]",
      "text/plain": [
       "<Figure size 432x288 with 1 Axes>"
      ]
     },
     "metadata": {},
     "output_type": "display_data"
    }
   ],
   "source": [
    "contour1=np.delete(polygons_reshaped[15],24)\n",
    "contour1=contour1.reshape(12,2)\n",
    "nb_of_inserted_points,inserted_point_coordinates=get_extrapoints_target_length(contour1,.4\n",
    "                                                                              )\n",
    "inserted_point_coordinates=np.array(inserted_point_coordinates)\n",
    "my_conv_net.eval()\n",
    "predictions=my_conv_net(x_variable).cpu()\n",
    "predicted_inserted_points=predictions.data.numpy()[15]\n",
    "predicted_inserted_points=predicted_inserted_points.reshape(1,2)\n",
    "plt.scatter(predicted_inserted_points[:,0],predicted_inserted_points[:,1],label='Predicted points')\n",
    "plt.scatter(inserted_point_coordinates[:,0],inserted_point_coordinates[:,1],label='Original points')\n",
    "\n",
    "plot_contour(contour1)\n",
    "plt.legend()"
   ]
  },
  {
   "cell_type": "code",
   "execution_count": 462,
   "metadata": {},
   "outputs": [
    {
     "data": {
      "text/plain": [
       "array([[ 0.09719837, -0.23911646]], dtype=float32)"
      ]
     },
     "execution_count": 462,
     "metadata": {},
     "output_type": "execute_result"
    }
   ],
   "source": [
    "predicted_inserted_points"
   ]
  },
  {
   "cell_type": "code",
   "execution_count": 747,
   "metadata": {},
   "outputs": [],
   "source": [
    "d_tensor=torch.FloatTensor([2.2,1.2])\n",
    "a_tensor=torch.FloatTensor([1,2])"
   ]
  },
  {
   "cell_type": "code",
   "execution_count": 748,
   "metadata": {},
   "outputs": [],
   "source": [
    "d_variable=Variable(d_tensor)\n",
    "\n",
    "a_variable=Variable(a_tensor)"
   ]
  },
  {
   "cell_type": "code",
   "execution_count": 749,
   "metadata": {},
   "outputs": [],
   "source": [
    "d_variable.requires_grad=False\n",
    "a_variable.requires_grad=True"
   ]
  },
  {
   "cell_type": "code",
   "execution_count": 750,
   "metadata": {},
   "outputs": [
    {
     "data": {
      "text/plain": [
       "Variable containing:\n",
       " 1.4422\n",
       "[torch.FloatTensor of size 1]"
      ]
     },
     "execution_count": 750,
     "metadata": {},
     "output_type": "execute_result"
    }
   ],
   "source": [
    "fun=torch.sqrt((a_variable[0]-d_variable[0]).pow(2)+(a_variable[1]-d_variable[1]).pow(2))\n",
    "fun"
   ]
  },
  {
   "cell_type": "code",
   "execution_count": 692,
   "metadata": {},
   "outputs": [],
   "source": [
    "fun.backward()"
   ]
  },
  {
   "cell_type": "code",
   "execution_count": 693,
   "metadata": {},
   "outputs": [
    {
     "data": {
      "text/plain": [
       "Variable containing:\n",
       "-0.8321\n",
       " 0.5547\n",
       "[torch.FloatTensor of size 2]"
      ]
     },
     "execution_count": 693,
     "metadata": {},
     "output_type": "execute_result"
    }
   ],
   "source": [
    "a_variable.grad"
   ]
  },
  {
   "cell_type": "code",
   "execution_count": 694,
   "metadata": {},
   "outputs": [
    {
     "data": {
      "text/plain": [
       "Variable containing:\n",
       " 0\n",
       " 0\n",
       "[torch.FloatTensor of size 2]"
      ]
     },
     "execution_count": 694,
     "metadata": {},
     "output_type": "execute_result"
    }
   ],
   "source": [
    "a_variable.grad.zero_()"
   ]
  },
  {
   "cell_type": "code",
   "execution_count": 812,
   "metadata": {},
   "outputs": [],
   "source": [
    "from torch.autograd.function import Function\n",
    "from math import pow\n",
    "\n",
    "class myLossfunction(Function):\n",
    "    \n",
    "    @staticmethod\n",
    "    def forward(self,output,target):\n",
    "        self.save_for_backward(output,target) \n",
    "\n",
    "                        \n",
    "       # output=output.view(int(output.size()[0]/2),2)\n",
    "\n",
    "        #target=target.view(int(target.size()[0]/2),2)\n",
    "        distance=torch.nn.PairwiseDistance()\n",
    "        result=distance(output,target)\n",
    "\n",
    "        result=torch.FloatTensor(result)\n",
    "        #self.save_for_backward(result)\n",
    "\n",
    "\n",
    "        return  result \n",
    "    \n",
    "    \n",
    "    @staticmethod\n",
    "    def backward(self,grad_output1):\n",
    "        input1,target=self.saved_variables\n",
    "        \n",
    "        print(input1)\n",
    "        #distance=torch.nn.PairwiseDistance()(input1.view(int(input1.size()[0]/2),2),target.view(int(target.size()[0]/2),2))\n",
    "        distance=torch.nn.PairwiseDistance()(input1,target)\n",
    "\n",
    "        grad_output1=(input1-target)/distance\n",
    "\n",
    "        \n",
    "        return grad_output1,None\n",
    "    "
   ]
  },
  {
   "cell_type": "code",
   "execution_count": 813,
   "metadata": {
    "scrolled": true
   },
   "outputs": [
    {
     "data": {
      "text/plain": [
       "Variable containing:\n",
       " 0.2042\n",
       " 0.4508\n",
       " 0.6575\n",
       "   ⋮    \n",
       " 0.3220\n",
       " 0.1622\n",
       " 1.0774\n",
       "[torch.FloatTensor of size 9721x1]"
      ]
     },
     "execution_count": 813,
     "metadata": {},
     "output_type": "execute_result"
    }
   ],
   "source": [
    "myloss=myLossfunction().apply(out,y_variable.narrow(0,b,batch_size).resize(batch_size,2))\n",
    "myloss"
   ]
  },
  {
   "cell_type": "code",
   "execution_count": 814,
   "metadata": {
    "scrolled": true
   },
   "outputs": [
    {
     "name": "stdout",
     "output_type": "stream",
     "text": [
      "Variable containing:\n",
      "-2.3953e-01 -1.6375e-01\n",
      "-1.9727e-01 -3.8089e-01\n",
      "-4.1456e-01 -9.3787e-02\n",
      "           ⋮            \n",
      "-7.2860e-02 -6.4023e-02\n",
      "-1.8527e-01 -2.7595e-01\n",
      "-2.6488e-01 -8.1565e-01\n",
      "[torch.FloatTensor of size 9721x2]\n",
      "\n"
     ]
    }
   ],
   "source": [
    "myloss.backward(torch.Tensor([1, 1]))\n"
   ]
  },
  {
   "cell_type": "code",
   "execution_count": 754,
   "metadata": {},
   "outputs": [
    {
     "data": {
      "text/plain": [
       "Variable containing:\n",
       "-0.8320  0.5547\n",
       "[torch.FloatTensor of size 1x2]"
      ]
     },
     "execution_count": 754,
     "metadata": {},
     "output_type": "execute_result"
    }
   ],
   "source": [
    "a_variable.grad"
   ]
  },
  {
   "cell_type": "code",
   "execution_count": 634,
   "metadata": {},
   "outputs": [
    {
     "ename": "TypeError",
     "evalue": "backward() missing 2 required positional arguments: 'self' and 'grad_output1'",
     "output_type": "error",
     "traceback": [
      "\u001b[1;31m---------------------------------------------------------------------------\u001b[0m",
      "\u001b[1;31mTypeError\u001b[0m                                 Traceback (most recent call last)",
      "\u001b[1;32m<ipython-input-634-fd86ffc8917c>\u001b[0m in \u001b[0;36m<module>\u001b[1;34m()\u001b[0m\n\u001b[1;32m----> 1\u001b[1;33m \u001b[0mmyLossfunction\u001b[0m\u001b[1;33m.\u001b[0m\u001b[0mbackward\u001b[0m\u001b[1;33m(\u001b[0m\u001b[1;33m)\u001b[0m\u001b[1;33m\u001b[0m\u001b[0m\n\u001b[0m",
      "\u001b[1;31mTypeError\u001b[0m: backward() missing 2 required positional arguments: 'self' and 'grad_output1'"
     ]
    }
   ],
   "source": [
    "myLossfunction.backward()"
   ]
  },
  {
   "cell_type": "code",
   "execution_count": 635,
   "metadata": {},
   "outputs": [
    {
     "data": {
      "text/plain": [
       "Variable containing:\n",
       " 0\n",
       " 0\n",
       "[torch.FloatTensor of size 2]"
      ]
     },
     "execution_count": 635,
     "metadata": {},
     "output_type": "execute_result"
    }
   ],
   "source": [
    "a_variable.grad"
   ]
  },
  {
   "cell_type": "code",
   "execution_count": 636,
   "metadata": {},
   "outputs": [],
   "source": [
    "# Flush all variables in GPU\n",
    "del my_conv_net,my_net,x_variable_test,x_variable,y_variable,y_variable_test,loss_func\n",
    "torch.cuda.empty_cache()\n"
   ]
  },
  {
   "cell_type": "code",
   "execution_count": null,
   "metadata": {},
   "outputs": [],
   "source": [
    "point_coordinates"
   ]
  },
  {
   "cell_type": "code",
   "execution_count": 68,
   "metadata": {},
   "outputs": [],
   "source": [
    "p2dust=torch.nn.PairwiseDistance(p=2)"
   ]
  },
  {
   "cell_type": "code",
   "execution_count": 69,
   "metadata": {},
   "outputs": [
    {
     "data": {
      "text/plain": [
       "Variable containing:\n",
       " 1.4422\n",
       " 2.2472\n",
       "[torch.FloatTensor of size 2x1]"
      ]
     },
     "execution_count": 69,
     "metadata": {},
     "output_type": "execute_result"
    }
   ],
   "source": [
    "p2dust(a_variable.resize(2,2),d_variable.resize(2,2))"
   ]
  },
  {
   "cell_type": "code",
   "execution_count": 70,
   "metadata": {},
   "outputs": [
    {
     "data": {
      "text/plain": [
       "array([[[ 0.09185446,  0.06111541]],\n",
       "\n",
       "       [[ 0.09185446,  0.06111541]],\n",
       "\n",
       "       [[ 0.09185446,  0.06111541]],\n",
       "\n",
       "       ...,\n",
       "\n",
       "       [[ 0.29833109, -0.19828089]],\n",
       "\n",
       "       [[ 0.29833109, -0.19828089]],\n",
       "\n",
       "       [[ 0.29833109, -0.19828089]]])"
      ]
     },
     "execution_count": 70,
     "metadata": {},
     "output_type": "execute_result"
    }
   ],
   "source": [
    "point_coordinates"
   ]
  },
  {
   "cell_type": "code",
   "execution_count": 71,
   "metadata": {},
   "outputs": [
    {
     "data": {
      "text/plain": [
       "Variable containing:\n",
       "(  0   ,.,.) = \n",
       "  5.4394e-01 -1.2854e-01  1.2081e+00  ...   8.7166e-01 -3.9516e-01  4.0000e-01\n",
       "\n",
       "(  1   ,.,.) = \n",
       "  8.0653e-01 -7.0666e-02  7.9998e-01  ...   1.0453e+00 -4.1684e-01  4.0000e-01\n",
       "\n",
       "(  2   ,.,.) = \n",
       "  5.0649e-01  6.8832e-02  9.6722e-01  ...   8.5345e-01 -5.3134e-01  3.0000e-01\n",
       "  ...  \n",
       "\n",
       "(174975,.,.) = \n",
       "  1.1163e+00 -3.1378e-02  7.0993e-01  ...   7.3510e-01 -6.3782e-01  5.0000e-01\n",
       "\n",
       "(174976,.,.) = \n",
       "  7.6960e-01 -4.1094e-02  7.8531e-01  ...   9.1110e-01 -3.1011e-01  9.0000e-01\n",
       "\n",
       "(174977,.,.) = \n",
       "  1.2754e+00 -3.7225e-01  7.9667e-01  ...   5.6758e-01 -2.6036e-01  5.0000e-01\n",
       "[torch.FloatTensor of size 174978x1x25]"
      ]
     },
     "execution_count": 71,
     "metadata": {},
     "output_type": "execute_result"
    }
   ],
   "source": [
    "x_variable"
   ]
  },
  {
   "cell_type": "code",
   "execution_count": null,
   "metadata": {},
   "outputs": [],
   "source": [
    "'''\n",
    "Should I order the interior points ?\n",
    "\n",
    "For each interior point calculate distance with points of the polygon\n",
    "\n",
    "find which ti which point it is closer and sort it according to the index.\n",
    "\n",
    "If multiple points are closer to the same point of the contour then take into\n",
    "\n",
    "account the distance to the point.\n",
    "\n",
    "'''"
   ]
  },
  {
   "cell_type": "code",
   "execution_count": 768,
   "metadata": {},
   "outputs": [
    {
     "ename": "RuntimeError",
     "evalue": "invalid argument 2: size '[4860 x 2]' is invalid for input with 19442 elements at C:\\Anaconda2\\conda-bld\\pytorch_1519501749874\\work\\torch\\lib\\TH\\THStorage.c:41",
     "output_type": "error",
     "traceback": [
      "\u001b[1;31m---------------------------------------------------------------------------\u001b[0m",
      "\u001b[1;31mRuntimeError\u001b[0m                              Traceback (most recent call last)",
      "\u001b[1;32m<ipython-input-768-8090ffc56ab5>\u001b[0m in \u001b[0;36m<module>\u001b[1;34m()\u001b[0m\n\u001b[1;32m----> 1\u001b[1;33m \u001b[0moutput_reshaped\u001b[0m\u001b[1;33m=\u001b[0m\u001b[0mout\u001b[0m\u001b[1;33m.\u001b[0m\u001b[0mview\u001b[0m\u001b[1;33m(\u001b[0m\u001b[0mint\u001b[0m\u001b[1;33m(\u001b[0m\u001b[0mout\u001b[0m\u001b[1;33m.\u001b[0m\u001b[0msize\u001b[0m\u001b[1;33m(\u001b[0m\u001b[1;33m)\u001b[0m\u001b[1;33m[\u001b[0m\u001b[1;36m0\u001b[0m\u001b[1;33m]\u001b[0m\u001b[1;33m/\u001b[0m\u001b[1;36m2\u001b[0m\u001b[1;33m)\u001b[0m\u001b[1;33m,\u001b[0m\u001b[1;36m2\u001b[0m\u001b[1;33m)\u001b[0m\u001b[1;33m\u001b[0m\u001b[0m\n\u001b[0m",
      "\u001b[1;31mRuntimeError\u001b[0m: invalid argument 2: size '[4860 x 2]' is invalid for input with 19442 elements at C:\\Anaconda2\\conda-bld\\pytorch_1519501749874\\work\\torch\\lib\\TH\\THStorage.c:41"
     ]
    }
   ],
   "source": [
    " output_reshaped=out.view(int(out.size()[0]/2),2)"
   ]
  },
  {
   "cell_type": "code",
   "execution_count": 790,
   "metadata": {},
   "outputs": [
    {
     "data": {
      "text/plain": [
       "(Variable containing:\n",
       " -1.4947e-01 -2.7472e-01\n",
       " -1.9165e-01 -2.2482e-01\n",
       " -1.3642e-01 -3.2461e-01\n",
       "            ⋮            \n",
       " -3.8810e-02 -2.6062e-01\n",
       " -1.4880e-01 -2.9060e-01\n",
       " -1.3283e-01 -3.1349e-01\n",
       " [torch.FloatTensor of size 9721x2], Variable containing:\n",
       " -0.2311  0.0403\n",
       "  0.1704 -0.1201\n",
       "  0.2371 -0.1810\n",
       "        ⋮        \n",
       " -0.0681  0.2579\n",
       " -0.1204 -0.1273\n",
       " -0.0528  0.2407\n",
       " [torch.FloatTensor of size 9721x2])"
      ]
     },
     "execution_count": 790,
     "metadata": {},
     "output_type": "execute_result"
    }
   ],
   "source": [
    "out,y_variable.narrow(0,b,batch_size).resize(batch_size,2)"
   ]
  },
  {
   "cell_type": "code",
   "execution_count": 789,
   "metadata": {},
   "outputs": [
    {
     "data": {
      "text/plain": [
       "(Variable containing:\n",
       " (  0   ,.,.) = \n",
       "  -0.2311  0.0403\n",
       " \n",
       " (  1   ,.,.) = \n",
       "   0.1704 -0.1201\n",
       " \n",
       " (  2   ,.,.) = \n",
       "   0.2371 -0.1810\n",
       "   ...  \n",
       " \n",
       " (174975,.,.) = \n",
       "  -0.1804  0.0393\n",
       " \n",
       " (174976,.,.) = \n",
       "   0.2417  0.0188\n",
       " \n",
       " (174977,.,.) = \n",
       "   0.2496 -0.1190\n",
       " [torch.FloatTensor of size 174978x1x2], Variable containing:\n",
       " -1.4947e-01 -2.7472e-01\n",
       " -1.9165e-01 -2.2482e-01\n",
       " -1.3642e-01 -3.2461e-01\n",
       "            ⋮            \n",
       " -3.8810e-02 -2.6062e-01\n",
       " -1.4880e-01 -2.9060e-01\n",
       " -1.3283e-01 -3.1349e-01\n",
       " [torch.FloatTensor of size 9721x2])"
      ]
     },
     "execution_count": 789,
     "metadata": {},
     "output_type": "execute_result"
    }
   ],
   "source": [
    "y_variable,out"
   ]
  },
  {
   "cell_type": "code",
   "execution_count": 839,
   "metadata": {},
   "outputs": [
    {
     "data": {
      "text/plain": [
       "-1.0177044392397268e-16"
      ]
     },
     "execution_count": 839,
     "metadata": {},
     "output_type": "execute_result"
    }
   ],
   "source": [
    "polygons[0][:,0].sum()/12"
   ]
  },
  {
   "cell_type": "code",
   "execution_count": 826,
   "metadata": {},
   "outputs": [
    {
     "ename": "SyntaxError",
     "evalue": "invalid syntax (<ipython-input-826-db58e474dc7f>, line 2)",
     "output_type": "error",
     "traceback": [
      "\u001b[1;36m  File \u001b[1;32m\"<ipython-input-826-db58e474dc7f>\"\u001b[1;36m, line \u001b[1;32m2\u001b[0m\n\u001b[1;33m    for polygon\u001b[0m\n\u001b[1;37m                ^\u001b[0m\n\u001b[1;31mSyntaxError\u001b[0m\u001b[1;31m:\u001b[0m invalid syntax\n"
     ]
    }
   ],
   "source": [
    "def get_barycenters(polygons):\n",
    "    \n",
    "    for polygon "
   ]
  },
  {
   "cell_type": "code",
   "execution_count": 864,
   "metadata": {},
   "outputs": [
    {
     "data": {
      "text/plain": [
       "array([ 0.72589751,  0.84207899,  0.71337615,  0.16721335, -0.53593486,\n",
       "       -1.19396456, -0.99666214, -0.86514855, -0.06646145,  0.05744332,\n",
       "        0.52287723,  0.62928501])"
      ]
     },
     "execution_count": 864,
     "metadata": {},
     "output_type": "execute_result"
    }
   ],
   "source": [
    "polygons_reshaped[0][0::2].sum()"
   ]
  },
  {
   "cell_type": "code",
   "execution_count": 865,
   "metadata": {},
   "outputs": [
    {
     "data": {
      "text/plain": [
       "array([ 0.17159901,  0.40510667,  0.63783057,  0.58156785,  0.85478697,\n",
       "        0.50564378,  0.37817729, -0.73118862, -0.53079973, -1.1159677 ,\n",
       "       -0.86178872, -0.29496737])"
      ]
     },
     "execution_count": 865,
     "metadata": {},
     "output_type": "execute_result"
    }
   ],
   "source": [
    "polygons_reshaped[0][1::2]"
   ]
  },
  {
   "cell_type": "code",
   "execution_count": 19,
   "metadata": {},
   "outputs": [
    {
     "data": {
      "text/plain": [
       "array([[ 0.72589751,  0.17159901,  0.84207899, ..., -0.86178872,\n",
       "         0.62928501, -0.29496737],\n",
       "       [ 0.72589751,  0.17159901,  0.84207899, ..., -0.86178872,\n",
       "         0.62928501, -0.29496737],\n",
       "       [ 0.72589751,  0.17159901,  0.84207899, ..., -0.86178872,\n",
       "         0.62928501, -0.29496737],\n",
       "       ...,\n",
       "       [ 0.94168403, -0.21109   ,  0.66819129, ..., -0.98049631,\n",
       "         0.94108807, -0.3414368 ],\n",
       "       [ 0.94168403, -0.21109   ,  0.66819129, ..., -0.98049631,\n",
       "         0.94108807, -0.3414368 ],\n",
       "       [ 0.94168403, -0.21109   ,  0.66819129, ..., -0.98049631,\n",
       "         0.94108807, -0.3414368 ]])"
      ]
     },
     "execution_count": 19,
     "metadata": {},
     "output_type": "execute_result"
    }
   ],
   "source": [
    "polygons_reshaped"
   ]
  },
  {
   "cell_type": "code",
   "execution_count": 7,
   "metadata": {},
   "outputs": [],
   "source": [
    "barycenters=[np.array([i[0::2].sum()/12,i[1::2].sum()/12]) for i in polygons_reshaped]"
   ]
  },
  {
   "cell_type": "code",
   "execution_count": 8,
   "metadata": {},
   "outputs": [],
   "source": [
    "barycenters=np.array(barycenters)"
   ]
  },
  {
   "cell_type": "code",
   "execution_count": 12,
   "metadata": {},
   "outputs": [
    {
     "data": {
      "text/plain": [
       "218722"
      ]
     },
     "execution_count": 12,
     "metadata": {},
     "output_type": "execute_result"
    }
   ],
   "source": [
    "len(point_coordinates)"
   ]
  },
  {
   "cell_type": "code",
   "execution_count": 26,
   "metadata": {},
   "outputs": [
    {
     "data": {
      "text/plain": [
       "(218722, 24)"
      ]
     },
     "execution_count": 26,
     "metadata": {},
     "output_type": "execute_result"
    }
   ],
   "source": [
    "polygons_reshaped.shape"
   ]
  },
  {
   "cell_type": "code",
   "execution_count": 43,
   "metadata": {},
   "outputs": [],
   "source": [
    "point_coordinates=point_coordinates.reshape(len(point_coordinates),2)"
   ]
  },
  {
   "cell_type": "code",
   "execution_count": 45,
   "metadata": {},
   "outputs": [],
   "source": [
    "polygons_with_points=np.hstack([polygons_reshaped,point_coordinates])\n"
   ]
  },
  {
   "cell_type": "code",
   "execution_count": 48,
   "metadata": {},
   "outputs": [],
   "source": [
    "polygons_with_points=polygons_with_points.reshape(len(polygons_with_points),13,2)"
   ]
  },
  {
   "cell_type": "code",
   "execution_count": 49,
   "metadata": {},
   "outputs": [
    {
     "data": {
      "text/plain": [
       "array([[[ 0.72589751,  0.17159901],\n",
       "        [ 0.84207899,  0.40510667],\n",
       "        [ 0.71337615,  0.63783057],\n",
       "        ...,\n",
       "        [ 0.52287723, -0.86178872],\n",
       "        [ 0.62928501, -0.29496737],\n",
       "        [ 0.09185446,  0.06111541]],\n",
       "\n",
       "       [[ 0.72589751,  0.17159901],\n",
       "        [ 0.84207899,  0.40510667],\n",
       "        [ 0.71337615,  0.63783057],\n",
       "        ...,\n",
       "        [ 0.52287723, -0.86178872],\n",
       "        [ 0.62928501, -0.29496737],\n",
       "        [ 0.09185446,  0.06111541]],\n",
       "\n",
       "       [[ 0.72589751,  0.17159901],\n",
       "        [ 0.84207899,  0.40510667],\n",
       "        [ 0.71337615,  0.63783057],\n",
       "        ...,\n",
       "        [ 0.52287723, -0.86178872],\n",
       "        [ 0.62928501, -0.29496737],\n",
       "        [ 0.09185446,  0.06111541]],\n",
       "\n",
       "       ...,\n",
       "\n",
       "       [[ 0.94168403, -0.21109   ],\n",
       "        [ 0.66819129,  0.35508194],\n",
       "        [ 0.41427257,  0.62051448],\n",
       "        ...,\n",
       "        [ 0.46430839, -0.98049631],\n",
       "        [ 0.94108807, -0.3414368 ],\n",
       "        [ 0.29833109, -0.19828089]],\n",
       "\n",
       "       [[ 0.94168403, -0.21109   ],\n",
       "        [ 0.66819129,  0.35508194],\n",
       "        [ 0.41427257,  0.62051448],\n",
       "        ...,\n",
       "        [ 0.46430839, -0.98049631],\n",
       "        [ 0.94108807, -0.3414368 ],\n",
       "        [ 0.29833109, -0.19828089]],\n",
       "\n",
       "       [[ 0.94168403, -0.21109   ],\n",
       "        [ 0.66819129,  0.35508194],\n",
       "        [ 0.41427257,  0.62051448],\n",
       "        ...,\n",
       "        [ 0.46430839, -0.98049631],\n",
       "        [ 0.94108807, -0.3414368 ],\n",
       "        [ 0.29833109, -0.19828089]]])"
      ]
     },
     "execution_count": 49,
     "metadata": {},
     "output_type": "execute_result"
    }
   ],
   "source": [
    "polygons_with_points"
   ]
  },
  {
   "cell_type": "code",
   "execution_count": 52,
   "metadata": {},
   "outputs": [
    {
     "ename": "TypeError",
     "evalue": "unhashable type: 'numpy.ndarray'",
     "output_type": "error",
     "traceback": [
      "\u001b[1;31m---------------------------------------------------------------------------\u001b[0m",
      "\u001b[1;31mTypeError\u001b[0m                                 Traceback (most recent call last)",
      "\u001b[1;32m<ipython-input-52-cd78c0aa7e0b>\u001b[0m in \u001b[0;36m<module>\u001b[1;34m()\u001b[0m\n\u001b[1;32m----> 1\u001b[1;33m \u001b[0mpolygons_with_points_unique\u001b[0m\u001b[1;33m=\u001b[0m\u001b[0mlist\u001b[0m\u001b[1;33m(\u001b[0m\u001b[0mset\u001b[0m\u001b[1;33m(\u001b[0m\u001b[0mpolygons_with_points\u001b[0m\u001b[1;33m)\u001b[0m\u001b[1;33m)\u001b[0m\u001b[1;33m\u001b[0m\u001b[0m\n\u001b[0m",
      "\u001b[1;31mTypeError\u001b[0m: unhashable type: 'numpy.ndarray'"
     ]
    }
   ],
   "source": [
    "polygons_with_points_unique=list(set(polygons_with_points))"
   ]
  },
  {
   "cell_type": "code",
   "execution_count": 105,
   "metadata": {},
   "outputs": [
    {
     "data": {
      "text/plain": [
       "(60000, 2, 12)"
      ]
     },
     "execution_count": 105,
     "metadata": {},
     "output_type": "execute_result"
    }
   ],
   "source": []
  },
  {
   "cell_type": "code",
   "execution_count": 68,
   "metadata": {},
   "outputs": [],
   "source": [
    "centers_of_mass=np.array(centers_of_mass)\n"
   ]
  },
  {
   "cell_type": "code",
   "execution_count": 106,
   "metadata": {},
   "outputs": [
    {
     "data": {
      "text/plain": [
       "(60000, 2)"
      ]
     },
     "execution_count": 106,
     "metadata": {},
     "output_type": "execute_result"
    }
   ],
   "source": [
    "centers_of_mass.shape"
   ]
  },
  {
   "cell_type": "code",
   "execution_count": 107,
   "metadata": {},
   "outputs": [
    {
     "data": {
      "text/plain": [
       "Variable containing:\n",
       "(  0  ,.,.) = \n",
       "  1.0804e+00  3.6440e-01  6.1404e-01  ...   4.9729e-01 -1.0542e+00  8.4189e-01\n",
       " -1.1037e+00 -1.0409e-01 -5.6104e-01  ...  -1.1438e+00  7.8898e-01 -5.4535e-01\n",
       "\n",
       "(  1  ,.,.) = \n",
       "  8.2030e-01 -9.6631e-02  1.1965e+00  ...   7.3245e-01 -1.1246e+00  6.5850e-01\n",
       " -9.8128e-01 -1.1748e-01 -4.0551e-01  ...  -7.3543e-01  5.2845e-01 -3.5533e-01\n",
       "\n",
       "(  2  ,.,.) = \n",
       "  8.8570e-01 -9.5701e-02  1.2094e+00  ...   5.8753e-01 -7.4392e-01  6.8171e-01\n",
       " -1.2722e+00 -1.4492e-01 -1.0465e+00  ...  -5.5213e-01  6.8863e-01 -5.0008e-01\n",
       " ...  \n",
       "\n",
       "(47997,.,.) = \n",
       "  1.0355e+00 -1.4388e-01  8.2466e-01  ...   7.1425e-01 -8.3453e-01  3.6346e-01\n",
       " -7.5888e-01  6.7694e-02 -8.8216e-01  ...  -1.0865e+00  3.7439e-01 -3.2188e-01\n",
       "\n",
       "(47998,.,.) = \n",
       "  6.8633e-01  5.9241e-02  9.9623e-01  ...   1.1396e+00 -7.3713e-01  8.0244e-02\n",
       " -8.3097e-01 -2.3101e-01 -8.2566e-01  ...  -7.4034e-01  6.7384e-01 -5.5374e-01\n",
       "\n",
       "(47999,.,.) = \n",
       "  8.7795e-01  6.0293e-02  8.4823e-01  ...   7.8716e-01 -7.3494e-01  3.3091e-01\n",
       " -1.1220e+00  3.2642e-01 -9.8364e-01  ...  -7.1744e-01  1.1813e+00 -3.0074e-01\n",
       "[torch.cuda.FloatTensor of size 48000x2x12 (GPU 0)]"
      ]
     },
     "execution_count": 107,
     "metadata": {},
     "output_type": "execute_result"
    }
   ],
   "source": [
    "x_variable"
   ]
  },
  {
   "cell_type": "code",
   "execution_count": 77,
   "metadata": {},
   "outputs": [],
   "source": [
    "contour3=apply_procrustes(generate_contour(12))\n",
    "plot_contour(contour3)"
   ]
  },
  {
   "cell_type": "code",
   "execution_count": null,
   "metadata": {},
   "outputs": [],
   "source": []
  },
  {
   "cell_type": "code",
   "execution_count": 100,
   "metadata": {
    "scrolled": true
   },
   "outputs": [
    {
     "name": "stdout",
     "output_type": "stream",
     "text": [
      "13 -0.1397529684620565 -0.03668817911622362 0\n",
      "14 -0.5556838673885416 0.006489134426013973 0\n",
      "13 -0.1506273310219623 -0.02890481750650344 0\n",
      "14 -0.5584024580285181 0.008434974828444014 0\n",
      "13 -0.1355795824036162 -0.0391512743253334 0\n",
      "14 -0.5546405208739316 0.005873360623736529 0\n",
      "13 -0.1606318248853285 -0.1507826396315696 0\n",
      "13 -0.1029359385443222 -0.01988941712108101 0\n",
      "14 -0.546479609909108 0.01068882492479963 0\n",
      "13 -0.1469844471794247 -0.05733317507392088 0\n",
      "14 0.7059926839926042 0.1405732385547066 0\n",
      "15 -0.5574917370678837 0.001327885436589659 0\n",
      "13 -0.06406265062238639 -0.0485721250445643 0\n",
      "13 -0.1236015407066197 -0.04107046060343363 0\n",
      "14 -0.5516460104496824 0.00539356405421147 0\n",
      "13 -0.14404267783239 -0.03219865149111428 0\n",
      "14 -0.556756294731125 0.00761151633229131 0\n",
      "13 -0.1415910047281703 -0.02934662034552328 0\n",
      "14 -0.5561433764550701 0.008324524118689058 0\n",
      "13 -0.1393203257012531 -0.04295809812348142 0\n",
      "14 -0.5555757066983406 0.004921654674199518 0\n",
      "13 -0.05551841490555372 -0.04630404540602545 0\n",
      "13 -0.1152941486290197 -0.03570669163350242 0\n",
      "14 -0.5495691624302824 0.006734506296694273 0\n",
      "13 -0.1481990857572459 -0.04522022789034128 0\n",
      "14 0.6966692085386884 0.2002444115280739 0\n",
      "15 -0.5577953967123389 0.00435612223248456 0\n",
      "13 -0.07055101030846371 -0.06536714467005897 0\n",
      "14 0.7254559917690627 0.1782028488186872 0\n",
      "13 0.668636742504867 0.1730424300096725 0\n",
      "14 -0.3420547800645272 -0.1011080068174328 0\n",
      "13 -0.2207103626209955 -0.1180203033517528 0\n",
      "14 -0.5759232159282763 -0.01384389663286831 0\n",
      "13 -0.05923516989966464 -0.05308195828137971 0\n",
      "13 -0.1290742129902545 -0.01990870138843091 0\n",
      "14 -0.5530141785205911 0.01068400385796215 0\n",
      "13 -0.06150263613039254 -0.02419357870215745 0\n",
      "13 -0.1118374092753558 -0.02796508085981035 0\n",
      "14 -0.5487049775918664 0.008669908990117291 0\n",
      "13 -0.06851715015816352 -0.03510044619353291 0\n",
      "13 -0.05297605435286387 -0.03865576811700715 0\n",
      "13 -0.3399600547589283 -0.09338459917915261 0\n",
      "13 -0.1467402633727014 -0.02403623576471525 0\n",
      "14 -0.5574306911162028 0.00965212026389106 0\n",
      "13 -0.06130916081936404 -0.03530915509763472 0\n",
      "13 -0.131623347546258 -0.01892871825386482 0\n",
      "14 -0.5536514621595919 0.01092899964160368 0\n",
      "13 -0.1358796847893088 -0.02270373409710344 0\n",
      "14 -0.5547155464703547 0.009985245680794019 0\n",
      "13 -0.1267787163622686 -0.01536690253090524 0\n",
      "14 -0.5524403043635946 0.01181945357234357 0\n",
      "13 -0.131539460607141 -0.0267662067652194 0\n",
      "14 -0.5536304904248127 0.008969627513765028 0\n",
      "13 -0.1365378918460694 -0.04084007827572396 0\n",
      "14 -0.5548800982345449 0.005451159636138889 0\n",
      "13 -0.3301168705830743 -0.08407409346101147 0\n",
      "13 -0.05559670217067636 -0.03394052144826785 0\n",
      "13 -0.04427075026552559 -0.01020100824648889 0\n",
      "13 -0.05258371292902656 -0.07324115685308397 0\n",
      "14 0.7498154331000679 0.1680858372150571 0\n",
      "13 -0.327337823060125 -0.08280235421318367 0\n",
      "13 -0.2280980501718821 -0.12173847705694 0\n",
      "14 -0.577770137815998 -0.01477344005916512 0\n",
      "13 -0.1474131678571638 -0.04244606622435481 0\n",
      "14 -0.5575989172373185 0.005049662648981176 0\n",
      "13 -0.03956674944986851 -0.02710795433156328 0\n",
      "13 -0.0668955770514985 -0.04266069365978505 0\n",
      "13 -0.132949276301365 -0.0122946015815628 0\n",
      "14 -0.5539829443483685 0.01258752880967917 0\n",
      "13 -0.1403216370137341 -0.047837722399509 0\n",
      "14 -0.555826034526461 0.003701748605192623 0\n",
      "13 -0.07562338668806432 -0.05991482889543128 0\n",
      "14 0.7265490209758726 0.1622457298735304 0\n",
      "13 -0.1468261710666018 -0.03980637410123573 0\n",
      "14 -0.5574521680396779 0.005709585679760947 0\n",
      "13 -0.2197673007388687 -0.09477857564662642 0\n",
      "14 -0.5756874504577447 -0.008033464706586727 0\n",
      "13 -0.140856607160155 -0.1568805282005062 0\n",
      "13 -0.05612086084599307 -0.02274351477224481 0\n",
      "13 -0.1306790362512654 -0.02395026286339837 0\n",
      "14 -0.5534153843358438 0.009673613489220287 0\n",
      "13 -0.1466484840583014 -0.03078314879845298 0\n",
      "14 -0.5574077462876028 0.007965392005456633 0\n",
      "13 0.6781525585907586 0.1781686756011178 0\n",
      "14 -0.3398428873609275 -0.1112426127964096 0\n",
      "13 -0.1286765556329334 -0.03834700299175541 0\n",
      "14 -0.5529147641812608 0.006074428457131026 0\n",
      "13 -0.1425208477071837 -0.1480949726841848 0\n",
      "13 -0.2295247198802254 -0.122490114835207 0\n",
      "14 -0.5781268052430838 -0.01496134950373186 0\n",
      "15 0.6657881575066984 0.2005219709940744 0\n",
      "13 -0.1401382249124987 -0.04438696191526676 0\n",
      "14 -0.5557801815011522 0.004564438726253188 0\n",
      "13 -0.3331606528800971 -0.07990415180608197 0\n",
      "13 -0.1526067429149884 -0.04102509893687514 0\n",
      "14 0.6797516074813463 0.2115398151852108 0\n",
      "15 -0.5588973110017745 0.005404904470851093 0\n",
      "13 -0.1366886318782331 -0.01417230109403478 0\n",
      "14 -0.5549177832425858 0.01211810393156118 0\n",
      "13 -0.05981068413271194 -0.04720046188510983 0\n",
      "13 -0.2125650283954261 -0.1049708062633488 0\n",
      "14 -0.573886882371884 -0.01058152236076733 0\n",
      "13 -0.1500018396124621 -0.03656289705671551 0\n",
      "14 -0.5582460851761431 0.006520454940891001 0\n",
      "13 -0.1289985351318677 -0.02400084491377941 0\n",
      "14 -0.5529952590559945 0.009660967976625027 0\n",
      "13 -0.1394876835303045 -0.03746581650992508 0\n",
      "14 -0.5556175461556037 0.006294725077588608 0\n",
      "13 -0.118664770504445 -0.0127507651422367 0\n",
      "14 -0.5504118178991387 0.0124734879195107 0\n",
      "13 -0.1341437017418671 -0.01698123672938327 0\n",
      "14 -0.5542815507084941 0.01141587002272406 0\n",
      "13 -0.1478384116236053 -0.05920448952487276 0\n",
      "14 0.6838935371480942 0.1919000591336481 0\n",
      "15 -0.5577052281789288 0.0008600568238516897 0\n",
      "13 -0.1413124189310576 -0.03188163586906931 0\n",
      "14 -0.5560737300057919 0.007690770237802545 0\n",
      "13 -0.2242051176715144 -0.08375400982115525 0\n",
      "14 -0.5767969046909061 -0.005277323250218933 0\n",
      "13 -0.1515301104572981 -0.05879096046795171 0\n",
      "14 0.689944160006159 0.1719409864438256 0\n",
      "15 -0.558628152887352 0.0009634390880819514 0\n",
      "13 -0.1614356047742784 -0.1424951007962882 0\n",
      "13 -0.1524243529220074 -0.1699834645643355 0\n",
      "14 0.7252994759466482 0.2092065714876347 0\n",
      "13 -0.03151777023174163 -0.05092264937644676 0\n",
      "13 -0.189640727251055 -0.02570138845168707 0\n",
      "13 -0.07358253211827795 -0.06678878014543131 0\n",
      "14 0.7294955491776982 0.1763605516738522 0\n",
      "13 -0.1232421838936155 -0.01819063288795197 0\n",
      "14 -0.5515561712464313 0.01111352098308189 0\n",
      "13 -0.1408574837019793 -0.1242156432237974 0\n",
      "13 -0.1480153563676902 -0.1428787241247025 0\n",
      "13 -0.03666884231416678 -0.03799211108395292 0\n",
      "13 -0.2247757957830015 -0.1238216139338256 0\n",
      "14 -0.5769395742187778 -0.01529422427838652 0\n",
      "13 -0.2167594209378544 -0.1056574500741192 0\n",
      "14 -0.5749354805074911 -0.01075318331345993 0\n",
      "13 -0.1249749877229445 -0.03861279751962351 0\n",
      "14 -0.5519893722037637 0.006007979825164002 0\n",
      "13 -0.06750263578351787 -0.03580310179476102 0\n",
      "13 -0.1345067389077143 -0.1404675268215443 0\n",
      "13 -0.1264632831340571 -0.04099417656393815 0\n",
      "14 -0.5523614460565417 0.005412635064085342 0\n",
      "13 -0.1464945834086179 -0.05695040544565277 0\n",
      "14 0.6905684970705867 0.187069267302955 0\n",
      "15 -0.557369271125182 0.001423577843656685 0\n",
      "13 -0.1487693391512562 -0.1419271050077581 0\n",
      "13 -0.1234861307451766 -0.02284691760734195 0\n",
      "14 -0.5516171579593217 0.009949449803234391 0\n",
      "13 0.6848397681433996 0.1766069557976743 0\n",
      "14 -0.1742528694427543 -0.1793763288269057 0\n",
      "13 -0.1317130355441832 -0.01877169288191783 0\n",
      "14 -0.5536738841590733 0.01096825598459042 0\n",
      "13 -0.2259633919170091 -0.119115970462218 0\n",
      "14 -0.5772364732522796 -0.01411781341048462 0\n",
      "13 -0.04801941787163085 -0.05048921835696252 0\n",
      "13 -0.1305435506635666 -0.02483942972507727 0\n",
      "14 -0.5533815129389191 0.009451321773800561 0\n",
      "13 -0.05310040463287966 -0.04999466596033805 0\n",
      "13 -0.1270756280915445 -0.03395358713439253 0\n",
      "14 -0.5525145322959136 0.007172782421471739 0\n",
      "13 -0.1428323311334145 -0.1547412602474058 0\n",
      "13 -0.1336810424955752 -0.0412095563716969 0\n",
      "14 -0.5541658858969213 0.005358790112145654 0\n",
      "13 -0.2177818512972035 -0.09961526651157587 0\n",
      "14 -0.5751910880973283 -0.00924263742282409 0\n",
      "13 -0.1450776076669155 -0.1407926389674559 0\n",
      "13 -0.1309676650605889 -0.02008444381223736 0\n",
      "14 -0.5534875415381747 0.01064006825201053 0\n",
      "13 -0.2172699141104487 -0.1033083044113232 0\n",
      "14 -0.5750631038006396 -0.01016589689776093 0\n",
      "13 -0.07739642030705787 -0.04701983303141259 0\n",
      "14 0.7058805647781584 0.1897875196112926 0\n"
     ]
    },
    {
     "data": {
      "text/plain": [
       "<matplotlib.collections.PathCollection at 0x1bd48fd9630>"
      ]
     },
     "execution_count": 100,
     "metadata": {},
     "output_type": "execute_result"
    }
   ],
   "source": [
    "inserted_points=[]\n",
    "nb_of_sampling=100\n",
    "contour=contour3.copy()\n",
    "plot_contour(contour3)\n",
    "\n",
    "for i in range(0,nb_of_sampling):\n",
    "    contour[0]=np.random.normal(contour3[0],0.08)\n",
    "    contour[11]=np.random.normal(contour3[11],0.08)\n",
    "\n",
    "    nb_of_points,point_coords=get_extrapoints_target_length(contour,0.2)\n",
    "    inserted_points.append(point_coords)\n",
    "    plt.scatter(contour[0][0],contour[0][1])\n",
    "    plt.scatter(contour[11][0],contour[11][1])\n",
    "\n",
    "\n",
    "inserted_points=[i for i in inserted_points if len(i)==1]\n",
    "inserted_points=np.array(inserted_points)\n",
    "inserted_points=inserted_points.reshape(len(inserted_points),2)\n",
    "\n",
    "plt.scatter(inserted_points[:,0],inserted_points[:,1])"
   ]
  },
  {
   "cell_type": "code",
   "execution_count": 6,
   "metadata": {},
   "outputs": [],
   "source": []
  },
  {
   "cell_type": "code",
   "execution_count": null,
   "metadata": {
    "scrolled": true
   },
   "outputs": [],
   "source": []
  },
  {
   "cell_type": "code",
   "execution_count": null,
   "metadata": {},
   "outputs": [],
   "source": []
  },
  {
   "cell_type": "code",
   "execution_count": null,
   "metadata": {
    "scrolled": true
   },
   "outputs": [],
   "source": []
  },
  {
   "cell_type": "code",
   "execution_count": null,
   "metadata": {
    "scrolled": true
   },
   "outputs": [],
   "source": []
  },
  {
   "cell_type": "code",
   "execution_count": null,
   "metadata": {},
   "outputs": [],
   "source": []
  },
  {
   "cell_type": "code",
   "execution_count": null,
   "metadata": {},
   "outputs": [],
   "source": []
  }
 ],
 "metadata": {
  "kernelspec": {
   "display_name": "Python 3",
   "language": "python",
   "name": "python3"
  },
  "language_info": {
   "codemirror_mode": {
    "name": "ipython",
    "version": 3
   },
   "file_extension": ".py",
   "mimetype": "text/x-python",
   "name": "python",
   "nbconvert_exporter": "python",
   "pygments_lexer": "ipython3",
   "version": "3.6.5"
  }
 },
 "nbformat": 4,
 "nbformat_minor": 2
}
